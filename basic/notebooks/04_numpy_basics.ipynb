{
  "nbformat": 4,
  "nbformat_minor": 0,
  "metadata": {
    "colab": {
      "name": "04_numpy_basics.ipynb",
      "provenance": [],
      "include_colab_link": true
    },
    "kernelspec": {
      "name": "python3",
      "display_name": "Python 3"
    }
  },
  "cells": [
    {
      "cell_type": "markdown",
      "metadata": {
        "id": "view-in-github",
        "colab_type": "text"
      },
      "source": [
        "<a href=\"https://colab.research.google.com/github/psygrammer/psypy/blob/master/basic/notebooks/04_numpy_basics.ipynb\" target=\"_parent\"><img src=\"https://colab.research.google.com/assets/colab-badge.svg\" alt=\"Open In Colab\"/></a>"
      ]
    },
    {
      "cell_type": "markdown",
      "metadata": {
        "id": "TcTNTRuQ6LlD",
        "colab_type": "text"
      },
      "source": [
        "# 4 NumPy 기본: 배열과 벡터 연산"
      ]
    },
    {
      "cell_type": "markdown",
      "metadata": {
        "id": "rg-IJQuE6IQG",
        "colab_type": "text"
      },
      "source": [
        "* 싸이그래머 / PsyPy [1]\n",
        "* 김무성"
      ]
    },
    {
      "cell_type": "code",
      "metadata": {
        "id": "QHE4MrIt5KVQ",
        "colab_type": "code",
        "outputId": "353797c7-b97c-4dfe-e98f-cb53a4135cf9",
        "colab": {
          "base_uri": "https://localhost:8080/",
          "height": 34
        }
      },
      "source": [
        "!python -V"
      ],
      "execution_count": 0,
      "outputs": [
        {
          "output_type": "stream",
          "text": [
            "Python 3.6.8\n"
          ],
          "name": "stdout"
        }
      ]
    },
    {
      "cell_type": "markdown",
      "metadata": {
        "id": "Q-U8T-Y960v9",
        "colab_type": "text"
      },
      "source": [
        "# 차례\n",
        "* NumPy란?\n",
        "* NumPy ndarray : 다차원 배열 객체\n",
        "  - ndarray 생성하기\n",
        "  - ndarray의 dtype\n",
        "  - NumPy 배열의 산술 연산\n",
        "  - 색인과 슬라이싱 기초\n",
        "  - 불리언 값으로 선택하기\n",
        "  - 팬시 색인\n",
        "  - 배열 전치와 축 바꾸기\n",
        "* 유니버셜 함수 : 배열의 각 원소를 빠르게 처리하는 함수\n",
        "* 배열을 이용한 배열지향 프로그래밍\n",
        "  - 배열 연산으로 조건절 표현하기\n",
        "  - 수학 메서드와 통계 메서드\n",
        "  - 불리언 배열을 위한 메서드\n",
        "  - 정렬\n",
        "  - 집합 관련 함수\n",
        "* 배열 데이터의 파일 입출력\n",
        "* 선형대수\n",
        "* 난수생성\n",
        "* 계단 오르내리기 예제"
      ]
    },
    {
      "cell_type": "markdown",
      "metadata": {
        "id": "ZDMeqztbO10N",
        "colab_type": "text"
      },
      "source": [
        "----------------------"
      ]
    },
    {
      "cell_type": "markdown",
      "metadata": {
        "id": "_v9obuDpOxV5",
        "colab_type": "text"
      },
      "source": [
        "# NumPy란?"
      ]
    },
    {
      "cell_type": "markdown",
      "metadata": {
        "id": "Tyr6n8GbO8Tf",
        "colab_type": "text"
      },
      "source": [
        "Numercial Python의 줄임말로 고성능의 과학계산 컴퓨팅과 데이터 분석에 필요한 기본 패키지다. 다음과 같은 기능을 제공한다.\n",
        "\n",
        "* 빠르고 메모리를 효율적으로 사용하며 벡터 산술연산과 세련된 브로드캐스팅 기능을 제공하는 다차원 배열인 ndarray\n",
        "* 반복문을 작성할 필요 없이 전체 데이터 배열에 대해 빠른 연산을 제공하는 표준 수학 함수\n",
        "* 배열 데이터를 디스크에 쓰거나 읽을 수 있는 도구와 메모리에 올려진 파일을 사용하는 도구\n",
        "* 선형대수, 난수 발생기, 푸리에 변환 기능\n",
        "* C, C++, 포트란으로 쓰여진 코드를 통합하는 도구"
      ]
    },
    {
      "cell_type": "markdown",
      "metadata": {
        "id": "LUCp1UxePBqB",
        "colab_type": "text"
      },
      "source": [
        "대부분의 데이터 분석 애플리케이션에서 중요하게 사용되는 기능은 다음과 같다\n",
        "\n",
        "* 백터 배열상에서 데이터 개조, 정제, 부분 집합, 필터링, 변형, 다른 종류 연산의 빠른 수행\n",
        "* 정렬, 유일 원소 찾기, 집합연산 같은 일반적인 배열 처리 알고리즘\n",
        "* 통계의 효과적인 표현과 데이터의 수집/요약\n",
        "* 다른 종류의 데이터 묶음을 병합하고 엮기 위한 데이터 정렬과 데이터 간의 관계 조작\n",
        "* if-elif-else를 포함하는 반복문 대신 사용할 수 있는 조건절을 표현할 수 있는 배열 표현\n",
        "* 데이터 그룹 전체에 적용할 수 있는 수집, 변형, 함수 적용 같은 데이터 처리."
      ]
    },
    {
      "cell_type": "code",
      "metadata": {
        "id": "fo0ubL5sPYLw",
        "colab_type": "code",
        "colab": {}
      },
      "source": [
        "import numpy as np"
      ],
      "execution_count": 0,
      "outputs": []
    },
    {
      "cell_type": "code",
      "metadata": {
        "id": "R_LcMicfPcpx",
        "colab_type": "code",
        "colab": {}
      },
      "source": [
        "my_arr = np.arange(1000000)"
      ],
      "execution_count": 0,
      "outputs": []
    },
    {
      "cell_type": "code",
      "metadata": {
        "id": "ZJvUqBcwPhDH",
        "colab_type": "code",
        "colab": {}
      },
      "source": [
        "my_list = list(range(1000000))"
      ],
      "execution_count": 0,
      "outputs": []
    },
    {
      "cell_type": "code",
      "metadata": {
        "id": "Xc2eHS1iPm86",
        "colab_type": "code",
        "outputId": "f45c9a88-c61b-4eb9-8c3e-f7ec4d0d3e2a",
        "colab": {
          "base_uri": "https://localhost:8080/",
          "height": 51
        }
      },
      "source": [
        "%time for _ in range(10): my_arr2 = my_arr * 2"
      ],
      "execution_count": 0,
      "outputs": [
        {
          "output_type": "stream",
          "text": [
            "CPU times: user 17.1 ms, sys: 9.05 ms, total: 26.2 ms\n",
            "Wall time: 32.1 ms\n"
          ],
          "name": "stdout"
        }
      ]
    },
    {
      "cell_type": "code",
      "metadata": {
        "id": "-rnZSgImP6vD",
        "colab_type": "code",
        "outputId": "7144c900-99a1-4bd5-8581-89a3e7fe64d1",
        "colab": {
          "base_uri": "https://localhost:8080/",
          "height": 51
        }
      },
      "source": [
        "%time for _ in range(10): my_list2 = [x*2 for x in my_list]"
      ],
      "execution_count": 0,
      "outputs": [
        {
          "output_type": "stream",
          "text": [
            "CPU times: user 604 ms, sys: 186 ms, total: 791 ms\n",
            "Wall time: 798 ms\n"
          ],
          "name": "stdout"
        }
      ]
    },
    {
      "cell_type": "markdown",
      "metadata": {
        "id": "0lvsv1lVPEPd",
        "colab_type": "text"
      },
      "source": [
        "# NumPy ndarray : 다차원 배열 객체\n",
        "* ndarray 생성하기\n",
        "* ndarray의 dtype\n",
        "* NumPy 배열의 산술 연산\n",
        "* 색인과 슬라이싱 기초\n",
        "* 불리언 값으로 선택하기\n",
        "* 팬시 색인\n",
        "* 배열 전치와 축 바꾸기"
      ]
    },
    {
      "cell_type": "markdown",
      "metadata": {
        "id": "TVsQmL6kRCC6",
        "colab_type": "text"
      },
      "source": [
        "### ndarray 특징"
      ]
    },
    {
      "cell_type": "markdown",
      "metadata": {
        "id": "jqEgCNCuQ3G-",
        "colab_type": "text"
      },
      "source": [
        "* N차원의 배열 객체\n",
        "* 같은 종류의 데이터만 담을 수 있다(원소는 같은 자료형이여야 한다)\n",
        "* 모든 배열은 각 차원의 크기를 알려주는 shape라는 튜플과 배열에 저장된 자료형을 알려주는 dtype이라는 객체를 가지고 있다."
      ]
    },
    {
      "cell_type": "code",
      "metadata": {
        "id": "8kbH-r6lQ-OV",
        "colab_type": "code",
        "colab": {}
      },
      "source": [
        "import numpy as np\n",
        "\n",
        "data = np.array([[0.9526, -0.246, -0.8856],\n",
        "                 [0.5639, 0.2379, 0.9104]])"
      ],
      "execution_count": 0,
      "outputs": []
    },
    {
      "cell_type": "code",
      "metadata": {
        "id": "cUOFbTPyRIgJ",
        "colab_type": "code",
        "outputId": "d2989b5e-b233-42ed-f1c7-aa725ddb897d",
        "colab": {
          "base_uri": "https://localhost:8080/",
          "height": 51
        }
      },
      "source": [
        "data * 10"
      ],
      "execution_count": 0,
      "outputs": [
        {
          "output_type": "execute_result",
          "data": {
            "text/plain": [
              "array([[ 9.526, -2.46 , -8.856],\n",
              "       [ 5.639,  2.379,  9.104]])"
            ]
          },
          "metadata": {
            "tags": []
          },
          "execution_count": 8
        }
      ]
    },
    {
      "cell_type": "code",
      "metadata": {
        "id": "3W0EgWR6RMnp",
        "colab_type": "code",
        "outputId": "9f47a8a9-e84c-4b21-ff1a-cbb132112c50",
        "colab": {
          "base_uri": "https://localhost:8080/",
          "height": 51
        }
      },
      "source": [
        "data + data"
      ],
      "execution_count": 0,
      "outputs": [
        {
          "output_type": "execute_result",
          "data": {
            "text/plain": [
              "array([[ 1.9052, -0.492 , -1.7712],\n",
              "       [ 1.1278,  0.4758,  1.8208]])"
            ]
          },
          "metadata": {
            "tags": []
          },
          "execution_count": 9
        }
      ]
    },
    {
      "cell_type": "code",
      "metadata": {
        "id": "apVHrMTpRRjH",
        "colab_type": "code",
        "outputId": "45ec94c8-9dab-4bf7-99f4-e0153a14368e",
        "colab": {
          "base_uri": "https://localhost:8080/",
          "height": 34
        }
      },
      "source": [
        "data.shape"
      ],
      "execution_count": 0,
      "outputs": [
        {
          "output_type": "execute_result",
          "data": {
            "text/plain": [
              "(2, 3)"
            ]
          },
          "metadata": {
            "tags": []
          },
          "execution_count": 10
        }
      ]
    },
    {
      "cell_type": "code",
      "metadata": {
        "id": "k7NqDHtHRUDf",
        "colab_type": "code",
        "outputId": "98924d71-164f-4920-d105-f2af01d84874",
        "colab": {
          "base_uri": "https://localhost:8080/",
          "height": 34
        }
      },
      "source": [
        "data.dtype"
      ],
      "execution_count": 0,
      "outputs": [
        {
          "output_type": "execute_result",
          "data": {
            "text/plain": [
              "dtype('float64')"
            ]
          },
          "metadata": {
            "tags": []
          },
          "execution_count": 11
        }
      ]
    },
    {
      "cell_type": "markdown",
      "metadata": {
        "id": "0hqef0uxRWa0",
        "colab_type": "text"
      },
      "source": [
        "## ndarray 생성하기"
      ]
    },
    {
      "cell_type": "code",
      "metadata": {
        "id": "25lFoxS6SdpE",
        "colab_type": "code",
        "outputId": "af3e1649-2724-476c-afea-df78a630261c",
        "colab": {
          "base_uri": "https://localhost:8080/",
          "height": 34
        }
      },
      "source": [
        "# 순차적 객체를 넘겨받아, array 함수를 통해 ndarray를 생성하기\n",
        "data1 = [6, 7.5, 8, 0, 1]\n",
        "arr1 = np.array(data1)\n",
        "arr1"
      ],
      "execution_count": 0,
      "outputs": [
        {
          "output_type": "execute_result",
          "data": {
            "text/plain": [
              "array([6. , 7.5, 8. , 0. , 1. ])"
            ]
          },
          "metadata": {
            "tags": []
          },
          "execution_count": 12
        }
      ]
    },
    {
      "cell_type": "code",
      "metadata": {
        "id": "R3r0cfRdSfw2",
        "colab_type": "code",
        "outputId": "c6a3efc5-d377-43c8-af84-a68b220dd209",
        "colab": {
          "base_uri": "https://localhost:8080/",
          "height": 51
        }
      },
      "source": [
        "# 같은 길이를 가지는 리스트를 내포하고 있는 순차 데이터는 다차원 배열로 변환 가능하다\n",
        "data2 = [[1, 2, 3, 4], [5, 6, 7, 8]]\n",
        "arr2 = np.array(data2)\n",
        "arr2"
      ],
      "execution_count": 0,
      "outputs": [
        {
          "output_type": "execute_result",
          "data": {
            "text/plain": [
              "array([[1, 2, 3, 4],\n",
              "       [5, 6, 7, 8]])"
            ]
          },
          "metadata": {
            "tags": []
          },
          "execution_count": 13
        }
      ]
    },
    {
      "cell_type": "code",
      "metadata": {
        "id": "aIF-_J7tSiaR",
        "colab_type": "code",
        "outputId": "c138f3c5-537b-4ff6-acd0-e30cc897b3da",
        "colab": {
          "base_uri": "https://localhost:8080/",
          "height": 51
        }
      },
      "source": [
        "# data2는 리스트를 담고 있는 리스트이므로 \n",
        "# NumPy 배열인 arr2는 해당 데이터로부터 형태를 추론하여 2차원 형태로 생성된다.\n",
        "print(arr2.ndim)\n",
        "print(arr2.shape)"
      ],
      "execution_count": 0,
      "outputs": [
        {
          "output_type": "stream",
          "text": [
            "2\n",
            "(2, 4)\n"
          ],
          "name": "stdout"
        }
      ]
    },
    {
      "cell_type": "code",
      "metadata": {
        "id": "TTBHmuaaSluI",
        "colab_type": "code",
        "outputId": "ef71956e-edd7-43f6-fe14-3b36462a3d59",
        "colab": {
          "base_uri": "https://localhost:8080/",
          "height": 51
        }
      },
      "source": [
        "# 명시적으로 자료형을 지정하지 않는 한 생성될 때 자료형을 추론한다.\n",
        "print(arr1.dtype)\n",
        "print(arr2.dtype)"
      ],
      "execution_count": 0,
      "outputs": [
        {
          "output_type": "stream",
          "text": [
            "float64\n",
            "int64\n"
          ],
          "name": "stdout"
        }
      ]
    },
    {
      "cell_type": "code",
      "metadata": {
        "id": "3OGMR8WxTrmZ",
        "colab_type": "code",
        "outputId": "39c4385e-63db-46fe-a016-d7e536e03d4f",
        "colab": {
          "base_uri": "https://localhost:8080/",
          "height": 34
        }
      },
      "source": [
        "# ndarry를 생성하는 여러 함수와 방식들이 있다.\n",
        "np.zeros(10)"
      ],
      "execution_count": 0,
      "outputs": [
        {
          "output_type": "execute_result",
          "data": {
            "text/plain": [
              "array([0., 0., 0., 0., 0., 0., 0., 0., 0., 0.])"
            ]
          },
          "metadata": {
            "tags": []
          },
          "execution_count": 17
        }
      ]
    },
    {
      "cell_type": "code",
      "metadata": {
        "id": "J6oDJ235Tvxo",
        "colab_type": "code",
        "outputId": "25b1f316-de3d-46fd-83cd-5ec276d454c6",
        "colab": {
          "base_uri": "https://localhost:8080/",
          "height": 68
        }
      },
      "source": [
        "np.zeros((3, 6))"
      ],
      "execution_count": 0,
      "outputs": [
        {
          "output_type": "execute_result",
          "data": {
            "text/plain": [
              "array([[0., 0., 0., 0., 0., 0.],\n",
              "       [0., 0., 0., 0., 0., 0.],\n",
              "       [0., 0., 0., 0., 0., 0.]])"
            ]
          },
          "metadata": {
            "tags": []
          },
          "execution_count": 18
        }
      ]
    },
    {
      "cell_type": "code",
      "metadata": {
        "id": "mUxFX-XkT61v",
        "colab_type": "code",
        "outputId": "19658e02-4b94-430f-c558-de315eb08205",
        "colab": {
          "base_uri": "https://localhost:8080/",
          "height": 136
        }
      },
      "source": [
        "np.empty((2, 3, 2))"
      ],
      "execution_count": 0,
      "outputs": [
        {
          "output_type": "execute_result",
          "data": {
            "text/plain": [
              "array([[[2.43862582e-316, 2.33419537e-312],\n",
              "        [8.48798317e-313, 2.05833592e-312],\n",
              "        [2.18565567e-312, 9.33678149e-313]],\n",
              "\n",
              "       [[8.91238232e-313, 2.27053550e-312],\n",
              "        [2.05833592e-312, 2.18565567e-312],\n",
              "        [8.70018275e-313, 1.46030983e-319]]])"
            ]
          },
          "metadata": {
            "tags": []
          },
          "execution_count": 19
        }
      ]
    },
    {
      "cell_type": "code",
      "metadata": {
        "id": "mo0UtfjIUqux",
        "colab_type": "code",
        "outputId": "9976fb64-a7cd-4d17-9946-1640896e02e9",
        "colab": {
          "base_uri": "https://localhost:8080/",
          "height": 119
        }
      },
      "source": [
        "# 0부터 99까지를 원소로 하는 배열\n",
        "np.arange(100)"
      ],
      "execution_count": 0,
      "outputs": [
        {
          "output_type": "execute_result",
          "data": {
            "text/plain": [
              "array([ 0,  1,  2,  3,  4,  5,  6,  7,  8,  9, 10, 11, 12, 13, 14, 15, 16,\n",
              "       17, 18, 19, 20, 21, 22, 23, 24, 25, 26, 27, 28, 29, 30, 31, 32, 33,\n",
              "       34, 35, 36, 37, 38, 39, 40, 41, 42, 43, 44, 45, 46, 47, 48, 49, 50,\n",
              "       51, 52, 53, 54, 55, 56, 57, 58, 59, 60, 61, 62, 63, 64, 65, 66, 67,\n",
              "       68, 69, 70, 71, 72, 73, 74, 75, 76, 77, 78, 79, 80, 81, 82, 83, 84,\n",
              "       85, 86, 87, 88, 89, 90, 91, 92, 93, 94, 95, 96, 97, 98, 99])"
            ]
          },
          "metadata": {
            "tags": []
          },
          "execution_count": 21
        }
      ]
    },
    {
      "cell_type": "code",
      "metadata": {
        "id": "TG0VQYfPUvVE",
        "colab_type": "code",
        "outputId": "c536f1e7-29ff-48f0-f443-76d0b5b422fe",
        "colab": {
          "base_uri": "https://localhost:8080/",
          "height": 119
        }
      },
      "source": [
        "# 10부터 99\n",
        "np.arange(10,100)"
      ],
      "execution_count": 0,
      "outputs": [
        {
          "output_type": "execute_result",
          "data": {
            "text/plain": [
              "array([10, 11, 12, 13, 14, 15, 16, 17, 18, 19, 20, 21, 22, 23, 24, 25, 26,\n",
              "       27, 28, 29, 30, 31, 32, 33, 34, 35, 36, 37, 38, 39, 40, 41, 42, 43,\n",
              "       44, 45, 46, 47, 48, 49, 50, 51, 52, 53, 54, 55, 56, 57, 58, 59, 60,\n",
              "       61, 62, 63, 64, 65, 66, 67, 68, 69, 70, 71, 72, 73, 74, 75, 76, 77,\n",
              "       78, 79, 80, 81, 82, 83, 84, 85, 86, 87, 88, 89, 90, 91, 92, 93, 94,\n",
              "       95, 96, 97, 98, 99])"
            ]
          },
          "metadata": {
            "tags": []
          },
          "execution_count": 22
        }
      ]
    },
    {
      "cell_type": "code",
      "metadata": {
        "id": "QbiipB43U1rC",
        "colab_type": "code",
        "outputId": "2e918912-4609-49ee-cbec-9efffe558893",
        "colab": {
          "base_uri": "https://localhost:8080/",
          "height": 357
        }
      },
      "source": [
        "# 0부터 1까지 100단계로\n",
        "np.linspace(0, 1, 100)"
      ],
      "execution_count": 0,
      "outputs": [
        {
          "output_type": "execute_result",
          "data": {
            "text/plain": [
              "array([0.        , 0.01010101, 0.02020202, 0.03030303, 0.04040404,\n",
              "       0.05050505, 0.06060606, 0.07070707, 0.08080808, 0.09090909,\n",
              "       0.1010101 , 0.11111111, 0.12121212, 0.13131313, 0.14141414,\n",
              "       0.15151515, 0.16161616, 0.17171717, 0.18181818, 0.19191919,\n",
              "       0.2020202 , 0.21212121, 0.22222222, 0.23232323, 0.24242424,\n",
              "       0.25252525, 0.26262626, 0.27272727, 0.28282828, 0.29292929,\n",
              "       0.3030303 , 0.31313131, 0.32323232, 0.33333333, 0.34343434,\n",
              "       0.35353535, 0.36363636, 0.37373737, 0.38383838, 0.39393939,\n",
              "       0.4040404 , 0.41414141, 0.42424242, 0.43434343, 0.44444444,\n",
              "       0.45454545, 0.46464646, 0.47474747, 0.48484848, 0.49494949,\n",
              "       0.50505051, 0.51515152, 0.52525253, 0.53535354, 0.54545455,\n",
              "       0.55555556, 0.56565657, 0.57575758, 0.58585859, 0.5959596 ,\n",
              "       0.60606061, 0.61616162, 0.62626263, 0.63636364, 0.64646465,\n",
              "       0.65656566, 0.66666667, 0.67676768, 0.68686869, 0.6969697 ,\n",
              "       0.70707071, 0.71717172, 0.72727273, 0.73737374, 0.74747475,\n",
              "       0.75757576, 0.76767677, 0.77777778, 0.78787879, 0.7979798 ,\n",
              "       0.80808081, 0.81818182, 0.82828283, 0.83838384, 0.84848485,\n",
              "       0.85858586, 0.86868687, 0.87878788, 0.88888889, 0.8989899 ,\n",
              "       0.90909091, 0.91919192, 0.92929293, 0.93939394, 0.94949495,\n",
              "       0.95959596, 0.96969697, 0.97979798, 0.98989899, 1.        ])"
            ]
          },
          "metadata": {
            "tags": []
          },
          "execution_count": 23
        }
      ]
    },
    {
      "cell_type": "code",
      "metadata": {
        "id": "I-EPijcQU6d1",
        "colab_type": "code",
        "outputId": "745a11a1-f3b2-4d8b-f5ad-34499a135dfc",
        "colab": {
          "base_uri": "https://localhost:8080/",
          "height": 357
        }
      },
      "source": [
        "# 로그 스케일로 1부터 10까지 100단계로\n",
        "np.logspace(0, 1, 100, base=10.0)"
      ],
      "execution_count": 0,
      "outputs": [
        {
          "output_type": "execute_result",
          "data": {
            "text/plain": [
              "array([ 1.        ,  1.02353102,  1.04761575,  1.07226722,  1.09749877,\n",
              "        1.12332403,  1.149757  ,  1.17681195,  1.20450354,  1.23284674,\n",
              "        1.26185688,  1.29154967,  1.32194115,  1.35304777,  1.38488637,\n",
              "        1.41747416,  1.45082878,  1.48496826,  1.51991108,  1.55567614,\n",
              "        1.59228279,  1.62975083,  1.66810054,  1.70735265,  1.7475284 ,\n",
              "        1.78864953,  1.83073828,  1.87381742,  1.91791026,  1.96304065,\n",
              "        2.009233  ,  2.05651231,  2.10490414,  2.15443469,  2.20513074,\n",
              "        2.25701972,  2.3101297 ,  2.36448941,  2.42012826,  2.47707636,\n",
              "        2.53536449,  2.59502421,  2.65608778,  2.71858824,  2.7825594 ,\n",
              "        2.84803587,  2.91505306,  2.98364724,  3.05385551,  3.12571585,\n",
              "        3.19926714,  3.27454916,  3.35160265,  3.43046929,  3.51119173,\n",
              "        3.59381366,  3.67837977,  3.76493581,  3.85352859,  3.94420606,\n",
              "        4.03701726,  4.1320124 ,  4.22924287,  4.32876128,  4.43062146,\n",
              "        4.53487851,  4.64158883,  4.75081016,  4.86260158,  4.97702356,\n",
              "        5.09413801,  5.21400829,  5.33669923,  5.46227722,  5.59081018,\n",
              "        5.72236766,  5.85702082,  5.9948425 ,  6.13590727,  6.28029144,\n",
              "        6.42807312,  6.57933225,  6.73415066,  6.8926121 ,  7.05480231,\n",
              "        7.22080902,  7.39072203,  7.56463328,  7.74263683,  7.92482898,\n",
              "        8.11130831,  8.30217568,  8.49753436,  8.69749003,  8.90215085,\n",
              "        9.11162756,  9.32603347,  9.54548457,  9.77009957, 10.        ])"
            ]
          },
          "metadata": {
            "tags": []
          },
          "execution_count": 24
        }
      ]
    },
    {
      "cell_type": "code",
      "metadata": {
        "id": "iUYtu7kQU_8N",
        "colab_type": "code",
        "outputId": "a2bfba44-49e9-43f9-b010-21e3055a2666",
        "colab": {
          "base_uri": "https://localhost:8080/",
          "height": 102
        }
      },
      "source": [
        "# 5x5 형식의, 0으로 채워진 배열(이미지) 만들기 \n",
        "np.zeros((5,5))"
      ],
      "execution_count": 0,
      "outputs": [
        {
          "output_type": "execute_result",
          "data": {
            "text/plain": [
              "array([[0., 0., 0., 0., 0.],\n",
              "       [0., 0., 0., 0., 0.],\n",
              "       [0., 0., 0., 0., 0.],\n",
              "       [0., 0., 0., 0., 0.],\n",
              "       [0., 0., 0., 0., 0.]])"
            ]
          },
          "metadata": {
            "tags": []
          },
          "execution_count": 25
        }
      ]
    },
    {
      "cell_type": "code",
      "metadata": {
        "id": "LpCHqA_cVElg",
        "colab_type": "code",
        "outputId": "605568a0-21fd-4df1-dd36-a354ab56bf9a",
        "colab": {
          "base_uri": "https://localhost:8080/",
          "height": 510
        }
      },
      "source": [
        "# 5x5x5 형식의, 1로 채워진 배열을 만든다.\n",
        "# astype() 메서드는 원소들을 정수로 설정한다. \n",
        "np.zeros((5,5,5)).astype(int) + 1"
      ],
      "execution_count": 0,
      "outputs": [
        {
          "output_type": "execute_result",
          "data": {
            "text/plain": [
              "array([[[1, 1, 1, 1, 1],\n",
              "        [1, 1, 1, 1, 1],\n",
              "        [1, 1, 1, 1, 1],\n",
              "        [1, 1, 1, 1, 1],\n",
              "        [1, 1, 1, 1, 1]],\n",
              "\n",
              "       [[1, 1, 1, 1, 1],\n",
              "        [1, 1, 1, 1, 1],\n",
              "        [1, 1, 1, 1, 1],\n",
              "        [1, 1, 1, 1, 1],\n",
              "        [1, 1, 1, 1, 1]],\n",
              "\n",
              "       [[1, 1, 1, 1, 1],\n",
              "        [1, 1, 1, 1, 1],\n",
              "        [1, 1, 1, 1, 1],\n",
              "        [1, 1, 1, 1, 1],\n",
              "        [1, 1, 1, 1, 1]],\n",
              "\n",
              "       [[1, 1, 1, 1, 1],\n",
              "        [1, 1, 1, 1, 1],\n",
              "        [1, 1, 1, 1, 1],\n",
              "        [1, 1, 1, 1, 1],\n",
              "        [1, 1, 1, 1, 1]],\n",
              "\n",
              "       [[1, 1, 1, 1, 1],\n",
              "        [1, 1, 1, 1, 1],\n",
              "        [1, 1, 1, 1, 1],\n",
              "        [1, 1, 1, 1, 1],\n",
              "        [1, 1, 1, 1, 1]]])"
            ]
          },
          "metadata": {
            "tags": []
          },
          "execution_count": 26
        }
      ]
    },
    {
      "cell_type": "code",
      "metadata": {
        "id": "lEe_ukbbVJql",
        "colab_type": "code",
        "outputId": "36f0cb2e-e52b-47ea-f6a0-55d4648b6fa1",
        "colab": {
          "base_uri": "https://localhost:8080/",
          "height": 510
        }
      },
      "source": [
        "# 16비트 부동소수점으로\n",
        "np.ones((5, 5, 5)).astype(np.float16)"
      ],
      "execution_count": 0,
      "outputs": [
        {
          "output_type": "execute_result",
          "data": {
            "text/plain": [
              "array([[[1., 1., 1., 1., 1.],\n",
              "        [1., 1., 1., 1., 1.],\n",
              "        [1., 1., 1., 1., 1.],\n",
              "        [1., 1., 1., 1., 1.],\n",
              "        [1., 1., 1., 1., 1.]],\n",
              "\n",
              "       [[1., 1., 1., 1., 1.],\n",
              "        [1., 1., 1., 1., 1.],\n",
              "        [1., 1., 1., 1., 1.],\n",
              "        [1., 1., 1., 1., 1.],\n",
              "        [1., 1., 1., 1., 1.]],\n",
              "\n",
              "       [[1., 1., 1., 1., 1.],\n",
              "        [1., 1., 1., 1., 1.],\n",
              "        [1., 1., 1., 1., 1.],\n",
              "        [1., 1., 1., 1., 1.],\n",
              "        [1., 1., 1., 1., 1.]],\n",
              "\n",
              "       [[1., 1., 1., 1., 1.],\n",
              "        [1., 1., 1., 1., 1.],\n",
              "        [1., 1., 1., 1., 1.],\n",
              "        [1., 1., 1., 1., 1.],\n",
              "        [1., 1., 1., 1., 1.]],\n",
              "\n",
              "       [[1., 1., 1., 1., 1.],\n",
              "        [1., 1., 1., 1., 1.],\n",
              "        [1., 1., 1., 1., 1.],\n",
              "        [1., 1., 1., 1., 1.],\n",
              "        [1., 1., 1., 1., 1.]]], dtype=float16)"
            ]
          },
          "metadata": {
            "tags": []
          },
          "execution_count": 27
        }
      ]
    },
    {
      "cell_type": "markdown",
      "metadata": {
        "id": "NRaNsyleRksh",
        "colab_type": "text"
      },
      "source": [
        "## ndarray의 dtype"
      ]
    },
    {
      "cell_type": "markdown",
      "metadata": {
        "id": "n2fBvgIVWEjh",
        "colab_type": "text"
      },
      "source": [
        "<img src='https://github.com/psygrammer/psypy/blob/master/notebooks/figures/04/02_fig.12.1.png?raw=1'/>"
      ]
    },
    {
      "cell_type": "code",
      "metadata": {
        "id": "pXsrDdh7WJe2",
        "colab_type": "code",
        "outputId": "0a9d7ff5-751d-4151-af37-45078293db2e",
        "colab": {
          "base_uri": "https://localhost:8080/",
          "height": 187
        }
      },
      "source": [
        "arr = np.ones((10,5))\n",
        "arr"
      ],
      "execution_count": 0,
      "outputs": [
        {
          "output_type": "execute_result",
          "data": {
            "text/plain": [
              "array([[1., 1., 1., 1., 1.],\n",
              "       [1., 1., 1., 1., 1.],\n",
              "       [1., 1., 1., 1., 1.],\n",
              "       [1., 1., 1., 1., 1.],\n",
              "       [1., 1., 1., 1., 1.],\n",
              "       [1., 1., 1., 1., 1.],\n",
              "       [1., 1., 1., 1., 1.],\n",
              "       [1., 1., 1., 1., 1.],\n",
              "       [1., 1., 1., 1., 1.],\n",
              "       [1., 1., 1., 1., 1.]])"
            ]
          },
          "metadata": {
            "tags": []
          },
          "execution_count": 28
        }
      ]
    },
    {
      "cell_type": "code",
      "metadata": {
        "id": "bM2A_4M_WNci",
        "colab_type": "code",
        "outputId": "62e79647-43cd-4253-a2e0-5118e8fc9a0a",
        "colab": {
          "base_uri": "https://localhost:8080/",
          "height": 34
        }
      },
      "source": [
        "# 배열의 형태를 나타내는 튜플\n",
        "arr.shape"
      ],
      "execution_count": 0,
      "outputs": [
        {
          "output_type": "execute_result",
          "data": {
            "text/plain": [
              "(10, 5)"
            ]
          },
          "metadata": {
            "tags": []
          },
          "execution_count": 29
        }
      ]
    },
    {
      "cell_type": "code",
      "metadata": {
        "id": "arLN6WCdWSTF",
        "colab_type": "code",
        "outputId": "68bcece4-e9d5-4c52-818d-56540791622b",
        "colab": {
          "base_uri": "https://localhost:8080/",
          "height": 34
        }
      },
      "source": [
        "# 자료형\n",
        "arr.dtype"
      ],
      "execution_count": 0,
      "outputs": [
        {
          "output_type": "execute_result",
          "data": {
            "text/plain": [
              "dtype('float64')"
            ]
          },
          "metadata": {
            "tags": []
          },
          "execution_count": 30
        }
      ]
    },
    {
      "cell_type": "code",
      "metadata": {
        "id": "HArxc5X5WXpk",
        "colab_type": "code",
        "outputId": "87b66742-b60c-4a98-91b9-bb93bc98ba29",
        "colab": {
          "base_uri": "https://localhost:8080/",
          "height": 34
        }
      },
      "source": [
        "# 하나의 원소에서 다음 원소까지의 너비를 표현한 정수를 담고 있는 stride 튜플\n",
        "# 스트라이드 값은 배열을 복사하지 않고 뷰를 생성하기 위한 필수 값으로 사용된다.\n",
        "arr.strides"
      ],
      "execution_count": 0,
      "outputs": [
        {
          "output_type": "execute_result",
          "data": {
            "text/plain": [
              "(40, 8)"
            ]
          },
          "metadata": {
            "tags": []
          },
          "execution_count": 31
        }
      ]
    },
    {
      "cell_type": "markdown",
      "metadata": {
        "id": "wjLdYJ-EWtpo",
        "colab_type": "text"
      },
      "source": [
        "<img src='https://github.com/psygrammer/psypy/blob/master/notebooks/figures/04/02_fig.12.2.png?raw=1'/>"
      ]
    },
    {
      "cell_type": "markdown",
      "metadata": {
        "id": "l9Kb17EHWwFd",
        "colab_type": "text"
      },
      "source": [
        "<img src='https://github.com/psygrammer/psypy/blob/master/notebooks/figures/04/02_tbl.4.2_1.png?raw=1'/>\n",
        "<img src='https://github.com/psygrammer/psypy/blob/master/notebooks/figures/04/02_tbl.4.2_2.png?raw=1'/>"
      ]
    },
    {
      "cell_type": "code",
      "metadata": {
        "id": "ra8hLnvIW25I",
        "colab_type": "code",
        "outputId": "6e0db9c6-3e8d-453c-f262-9997ac8e9b48",
        "colab": {
          "base_uri": "https://localhost:8080/",
          "height": 51
        }
      },
      "source": [
        "# dtype은 ndarray가 특정 데이터를 메모리에서 해석하기 위해 필요한 정보를 담고 있는 특수한 객체\n",
        "\n",
        "arr1 = np.array([1,2,3], dtype=np.float64)\n",
        "print(arr1)\n",
        "print(arr1.dtype)"
      ],
      "execution_count": 0,
      "outputs": [
        {
          "output_type": "stream",
          "text": [
            "[1. 2. 3.]\n",
            "float64\n"
          ],
          "name": "stdout"
        }
      ]
    },
    {
      "cell_type": "code",
      "metadata": {
        "id": "05dD05lSW-Wn",
        "colab_type": "code",
        "outputId": "a337339c-e08b-4fe8-affc-4dfef83e274b",
        "colab": {
          "base_uri": "https://localhost:8080/",
          "height": 51
        }
      },
      "source": [
        "arr2 = np.array([1,2,3], dtype=np.int32)\n",
        "print(arr2)\n",
        "print(arr2.dtype)"
      ],
      "execution_count": 0,
      "outputs": [
        {
          "output_type": "stream",
          "text": [
            "[1 2 3]\n",
            "int32\n"
          ],
          "name": "stdout"
        }
      ]
    },
    {
      "cell_type": "code",
      "metadata": {
        "id": "N63FcdskX1SP",
        "colab_type": "code",
        "outputId": "4f8af311-b0c4-4fb7-ae9f-91705eb20bc0",
        "colab": {
          "base_uri": "https://localhost:8080/",
          "height": 85
        }
      },
      "source": [
        "# astype 메서드로 배열의 dtype을 다른 형으로 명시적 변경 가능.\n",
        "arr = np.array([1, 2, 3, 4, 5])\n",
        "print(arr)\n",
        "print(arr.dtype)\n",
        "\n",
        "float_arr = arr.astype(np.float64)\n",
        "print(float_arr)\n",
        "print(float_arr.dtype)"
      ],
      "execution_count": 0,
      "outputs": [
        {
          "output_type": "stream",
          "text": [
            "[1 2 3 4 5]\n",
            "int64\n",
            "[1. 2. 3. 4. 5.]\n",
            "float64\n"
          ],
          "name": "stdout"
        }
      ]
    },
    {
      "cell_type": "markdown",
      "metadata": {
        "id": "8P2VP9-qRpJh",
        "colab_type": "text"
      },
      "source": [
        "## NumPy 배열의 산술 연산"
      ]
    },
    {
      "cell_type": "code",
      "metadata": {
        "id": "HyPz8GolZBoW",
        "colab_type": "code",
        "outputId": "22b635d2-a70f-4c64-bb41-5f86d190fea4",
        "colab": {
          "base_uri": "https://localhost:8080/",
          "height": 51
        }
      },
      "source": [
        "# 배열(ndarry)의 중요한 특징은 for문을 작성하지 않고 데이터를 일괄 처리할 수 있다는 것이다.  \n",
        "arr = np.array([[1., 2., 3.], [4., 5., 6.]])\n",
        "arr"
      ],
      "execution_count": 0,
      "outputs": [
        {
          "output_type": "execute_result",
          "data": {
            "text/plain": [
              "array([[1., 2., 3.],\n",
              "       [4., 5., 6.]])"
            ]
          },
          "metadata": {
            "tags": []
          },
          "execution_count": 37
        }
      ]
    },
    {
      "cell_type": "code",
      "metadata": {
        "id": "3AiEKoB4ZYdP",
        "colab_type": "code",
        "outputId": "cb31874d-dfe5-48c2-99ce-73992a820a6f",
        "colab": {
          "base_uri": "https://localhost:8080/",
          "height": 51
        }
      },
      "source": [
        "# 더하기\n",
        "arr + arr"
      ],
      "execution_count": 0,
      "outputs": [
        {
          "output_type": "execute_result",
          "data": {
            "text/plain": [
              "array([[ 2.,  4.,  6.],\n",
              "       [ 8., 10., 12.]])"
            ]
          },
          "metadata": {
            "tags": []
          },
          "execution_count": 38
        }
      ]
    },
    {
      "cell_type": "code",
      "metadata": {
        "id": "PpWhQ2WOZb2s",
        "colab_type": "code",
        "outputId": "2a84797d-01a8-4f15-9d1c-084a16f04d34",
        "colab": {
          "base_uri": "https://localhost:8080/",
          "height": 51
        }
      },
      "source": [
        "# 빼기\n",
        "arr - arr"
      ],
      "execution_count": 0,
      "outputs": [
        {
          "output_type": "execute_result",
          "data": {
            "text/plain": [
              "array([[0., 0., 0.],\n",
              "       [0., 0., 0.]])"
            ]
          },
          "metadata": {
            "tags": []
          },
          "execution_count": 39
        }
      ]
    },
    {
      "cell_type": "code",
      "metadata": {
        "id": "wDebBXb-Zef7",
        "colab_type": "code",
        "outputId": "8d6f9c4b-e818-484c-aa5d-a4a8b3699232",
        "colab": {
          "base_uri": "https://localhost:8080/",
          "height": 51
        }
      },
      "source": [
        "# 곱하기 (개별 원소 곱)\n",
        "arr * arr"
      ],
      "execution_count": 0,
      "outputs": [
        {
          "output_type": "execute_result",
          "data": {
            "text/plain": [
              "array([[ 1.,  4.,  9.],\n",
              "       [16., 25., 36.]])"
            ]
          },
          "metadata": {
            "tags": []
          },
          "execution_count": 40
        }
      ]
    },
    {
      "cell_type": "code",
      "metadata": {
        "id": "OlwqKg-FZh-E",
        "colab_type": "code",
        "outputId": "d590c356-bbdc-42d6-ecc3-be600c9f700a",
        "colab": {
          "base_uri": "https://localhost:8080/",
          "height": 51
        }
      },
      "source": [
        "# 스칼라에 대한 산술 연산은 각 요소로 전달\n",
        "1 / arr"
      ],
      "execution_count": 0,
      "outputs": [
        {
          "output_type": "execute_result",
          "data": {
            "text/plain": [
              "array([[1.        , 0.5       , 0.33333333],\n",
              "       [0.25      , 0.2       , 0.16666667]])"
            ]
          },
          "metadata": {
            "tags": []
          },
          "execution_count": 41
        }
      ]
    },
    {
      "cell_type": "code",
      "metadata": {
        "id": "v353kvruZkVN",
        "colab_type": "code",
        "outputId": "b9adc2d9-bec4-4a57-9cb8-eaf4f14db9aa",
        "colab": {
          "base_uri": "https://localhost:8080/",
          "height": 51
        }
      },
      "source": [
        "arr * 0.5"
      ],
      "execution_count": 0,
      "outputs": [
        {
          "output_type": "execute_result",
          "data": {
            "text/plain": [
              "array([[0.5, 1. , 1.5],\n",
              "       [2. , 2.5, 3. ]])"
            ]
          },
          "metadata": {
            "tags": []
          },
          "execution_count": 42
        }
      ]
    },
    {
      "cell_type": "code",
      "metadata": {
        "id": "nblQyQcsZo-x",
        "colab_type": "code",
        "outputId": "4cf6a62f-d2df-40c0-866a-0fd100d6ad08",
        "colab": {
          "base_uri": "https://localhost:8080/",
          "height": 51
        }
      },
      "source": [
        "arr ** 0.5"
      ],
      "execution_count": 0,
      "outputs": [
        {
          "output_type": "execute_result",
          "data": {
            "text/plain": [
              "array([[1.        , 1.41421356, 1.73205081],\n",
              "       [2.        , 2.23606798, 2.44948974]])"
            ]
          },
          "metadata": {
            "tags": []
          },
          "execution_count": 46
        }
      ]
    },
    {
      "cell_type": "code",
      "metadata": {
        "id": "cLnkARnYZ4Xg",
        "colab_type": "code",
        "outputId": "12bd138b-fc0e-4c0f-b4f3-a606dfb7b40e",
        "colab": {
          "base_uri": "https://localhost:8080/",
          "height": 51
        }
      },
      "source": [
        "# 같은 크기를 가지는 배열 간의 비교 연산은 불리언 배열을 반환한다.\n",
        "arr2 = np.array([[0., 4., 1.], [7., 2., 12.]])\n",
        "arr2"
      ],
      "execution_count": 0,
      "outputs": [
        {
          "output_type": "execute_result",
          "data": {
            "text/plain": [
              "array([[ 0.,  4.,  1.],\n",
              "       [ 7.,  2., 12.]])"
            ]
          },
          "metadata": {
            "tags": []
          },
          "execution_count": 47
        }
      ]
    },
    {
      "cell_type": "code",
      "metadata": {
        "id": "8i_Z2J0waBZA",
        "colab_type": "code",
        "outputId": "088f94ec-b9d5-4718-98e3-78e7048a13aa",
        "colab": {
          "base_uri": "https://localhost:8080/",
          "height": 51
        }
      },
      "source": [
        "arr"
      ],
      "execution_count": 0,
      "outputs": [
        {
          "output_type": "execute_result",
          "data": {
            "text/plain": [
              "array([[1., 2., 3.],\n",
              "       [4., 5., 6.]])"
            ]
          },
          "metadata": {
            "tags": []
          },
          "execution_count": 49
        }
      ]
    },
    {
      "cell_type": "code",
      "metadata": {
        "id": "h7NMQu4mZ_Nl",
        "colab_type": "code",
        "outputId": "69de36ac-d70b-4737-c7d8-9eb963ec0d4d",
        "colab": {
          "base_uri": "https://localhost:8080/",
          "height": 51
        }
      },
      "source": [
        "arr2 > arr"
      ],
      "execution_count": 0,
      "outputs": [
        {
          "output_type": "execute_result",
          "data": {
            "text/plain": [
              "array([[False,  True, False],\n",
              "       [ True, False,  True]])"
            ]
          },
          "metadata": {
            "tags": []
          },
          "execution_count": 48
        }
      ]
    },
    {
      "cell_type": "markdown",
      "metadata": {
        "id": "rZuQ3-vKRt9V",
        "colab_type": "text"
      },
      "source": [
        "## 색인과 슬라이싱 기초\n"
      ]
    },
    {
      "cell_type": "code",
      "metadata": {
        "id": "MQwajdP8aenc",
        "colab_type": "code",
        "outputId": "f0243b18-768f-4a9b-e5d8-d20f7ed1edd8",
        "colab": {
          "base_uri": "https://localhost:8080/",
          "height": 34
        }
      },
      "source": [
        "arr = np.arange(10)\n",
        "arr"
      ],
      "execution_count": 0,
      "outputs": [
        {
          "output_type": "execute_result",
          "data": {
            "text/plain": [
              "array([0, 1, 2, 3, 4, 5, 6, 7, 8, 9])"
            ]
          },
          "metadata": {
            "tags": []
          },
          "execution_count": 65
        }
      ]
    },
    {
      "cell_type": "code",
      "metadata": {
        "id": "Fc6iV1d0ahTL",
        "colab_type": "code",
        "outputId": "412cd409-67f6-4da5-fb81-6b1655887743",
        "colab": {
          "base_uri": "https://localhost:8080/",
          "height": 34
        }
      },
      "source": [
        "arr[5]"
      ],
      "execution_count": 0,
      "outputs": [
        {
          "output_type": "execute_result",
          "data": {
            "text/plain": [
              "5"
            ]
          },
          "metadata": {
            "tags": []
          },
          "execution_count": 66
        }
      ]
    },
    {
      "cell_type": "code",
      "metadata": {
        "id": "1iq0s_dRajX5",
        "colab_type": "code",
        "outputId": "55799d14-df42-4dbc-8a89-0b863d1af0a2",
        "colab": {
          "base_uri": "https://localhost:8080/",
          "height": 34
        }
      },
      "source": [
        "arr[5:8]"
      ],
      "execution_count": 0,
      "outputs": [
        {
          "output_type": "execute_result",
          "data": {
            "text/plain": [
              "array([5, 6, 7])"
            ]
          },
          "metadata": {
            "tags": []
          },
          "execution_count": 67
        }
      ]
    },
    {
      "cell_type": "code",
      "metadata": {
        "id": "xyGHbU-OalpB",
        "colab_type": "code",
        "outputId": "00243894-7cfb-46c3-9196-6e4a97208d47",
        "colab": {
          "base_uri": "https://localhost:8080/",
          "height": 34
        }
      },
      "source": [
        "# 브로드캐스팅. 배열 슬라이스에 스칼라 값을 대입하면, 그 범위에 값이 전파된다.\n",
        "arr[5:8] = 12\n",
        "arr"
      ],
      "execution_count": 0,
      "outputs": [
        {
          "output_type": "execute_result",
          "data": {
            "text/plain": [
              "array([ 0,  1,  2,  3,  4, 12, 12, 12,  8,  9])"
            ]
          },
          "metadata": {
            "tags": []
          },
          "execution_count": 68
        }
      ]
    },
    {
      "cell_type": "code",
      "metadata": {
        "id": "nscErkOoarT6",
        "colab_type": "code",
        "outputId": "5a9b4da9-5e6b-4ddb-8f67-a421718cc01e",
        "colab": {
          "base_uri": "https://localhost:8080/",
          "height": 34
        }
      },
      "source": [
        "# 배열 슬라이스는 값을 복사하는게 아니다. 그러므로 배열 슬라이스의 값을 바꿔도 원본에 반영된다.\n",
        "arr_slice = arr[5:8] # arr_slice로 arr[5:8]의 값이 복사된게 아님. view의 역할을 할뿐.\n",
        "arr_slice"
      ],
      "execution_count": 0,
      "outputs": [
        {
          "output_type": "execute_result",
          "data": {
            "text/plain": [
              "array([12, 12, 12])"
            ]
          },
          "metadata": {
            "tags": []
          },
          "execution_count": 69
        }
      ]
    },
    {
      "cell_type": "code",
      "metadata": {
        "id": "gQ0EErz4bK_h",
        "colab_type": "code",
        "outputId": "e0360546-1ecf-4b56-882a-8b4bf5122429",
        "colab": {
          "base_uri": "https://localhost:8080/",
          "height": 34
        }
      },
      "source": [
        "arr"
      ],
      "execution_count": 0,
      "outputs": [
        {
          "output_type": "execute_result",
          "data": {
            "text/plain": [
              "array([ 0,  1,  2,  3,  4, 12, 12, 12,  8,  9])"
            ]
          },
          "metadata": {
            "tags": []
          },
          "execution_count": 70
        }
      ]
    },
    {
      "cell_type": "code",
      "metadata": {
        "id": "v6HVOsSoa3Ft",
        "colab_type": "code",
        "outputId": "af82f5c3-9845-49d6-e080-b68e706bf691",
        "colab": {
          "base_uri": "https://localhost:8080/",
          "height": 34
        }
      },
      "source": [
        "arr_slice[1] = 12345\n",
        "arr_slice"
      ],
      "execution_count": 0,
      "outputs": [
        {
          "output_type": "execute_result",
          "data": {
            "text/plain": [
              "array([   12, 12345,    12])"
            ]
          },
          "metadata": {
            "tags": []
          },
          "execution_count": 71
        }
      ]
    },
    {
      "cell_type": "code",
      "metadata": {
        "id": "iv2DCI4qbpYz",
        "colab_type": "code",
        "outputId": "c52e290d-7094-4e45-bb62-449c4ebbc355",
        "colab": {
          "base_uri": "https://localhost:8080/",
          "height": 51
        }
      },
      "source": [
        "arr"
      ],
      "execution_count": 0,
      "outputs": [
        {
          "output_type": "execute_result",
          "data": {
            "text/plain": [
              "array([    0,     1,     2,     3,     4,    12, 12345,    12,     8,\n",
              "           9])"
            ]
          },
          "metadata": {
            "tags": []
          },
          "execution_count": 72
        }
      ]
    },
    {
      "cell_type": "code",
      "metadata": {
        "id": "L3vregAHa_QG",
        "colab_type": "code",
        "outputId": "8a96ca87-42fb-4864-8cad-9da9e3094134",
        "colab": {
          "base_uri": "https://localhost:8080/",
          "height": 34
        }
      },
      "source": [
        "arr_slice[:] = 64\n",
        "arr_slice"
      ],
      "execution_count": 0,
      "outputs": [
        {
          "output_type": "execute_result",
          "data": {
            "text/plain": [
              "array([64, 64, 64])"
            ]
          },
          "metadata": {
            "tags": []
          },
          "execution_count": 73
        }
      ]
    },
    {
      "cell_type": "code",
      "metadata": {
        "id": "zL8hg4D6bvUk",
        "colab_type": "code",
        "outputId": "cbc1d673-516c-49e7-d241-6ba914a79669",
        "colab": {
          "base_uri": "https://localhost:8080/",
          "height": 34
        }
      },
      "source": [
        "arr"
      ],
      "execution_count": 0,
      "outputs": [
        {
          "output_type": "execute_result",
          "data": {
            "text/plain": [
              "array([ 0,  1,  2,  3,  4, 64, 64, 64,  8,  9])"
            ]
          },
          "metadata": {
            "tags": []
          },
          "execution_count": 74
        }
      ]
    },
    {
      "cell_type": "code",
      "metadata": {
        "id": "ke3Ims60b1Zx",
        "colab_type": "code",
        "outputId": "a4924618-fb60-4c99-81c2-1a0835f55045",
        "colab": {
          "base_uri": "https://localhost:8080/",
          "height": 51
        }
      },
      "source": [
        "# 뷰 대신에 슬라이스의 복사본을 얻고 싶다면.\n",
        "arr_slice_copy = arr[5:8].copy()\n",
        "print(arr_slice_copy)\n",
        "print(arr)"
      ],
      "execution_count": 0,
      "outputs": [
        {
          "output_type": "stream",
          "text": [
            "[64 64 64]\n",
            "[ 0  1  2  3  4 64 64 64  8  9]\n"
          ],
          "name": "stdout"
        }
      ]
    },
    {
      "cell_type": "code",
      "metadata": {
        "id": "XG-4oluab-yH",
        "colab_type": "code",
        "outputId": "905bdb63-e1b2-4506-cfb4-8627df93af2d",
        "colab": {
          "base_uri": "https://localhost:8080/",
          "height": 51
        }
      },
      "source": [
        "arr_slice_copy[:] = 8\n",
        "print(arr_slice_copy)\n",
        "print(arr)"
      ],
      "execution_count": 0,
      "outputs": [
        {
          "output_type": "stream",
          "text": [
            "[8 8 8]\n",
            "[ 0  1  2  3  4 64 64 64  8  9]\n"
          ],
          "name": "stdout"
        }
      ]
    },
    {
      "cell_type": "markdown",
      "metadata": {
        "id": "6E5WjGwzcOB4",
        "colab_type": "text"
      },
      "source": [
        "### 다차원 배열"
      ]
    },
    {
      "cell_type": "code",
      "metadata": {
        "id": "8f97yddEcQwo",
        "colab_type": "code",
        "outputId": "1774a34f-730e-45aa-eed4-ff512fd28b38",
        "colab": {
          "base_uri": "https://localhost:8080/",
          "height": 68
        }
      },
      "source": [
        "# 2차원 배열\n",
        "arr2d = np.array([[1, 2, 3],\n",
        "                  [4, 5, 6],\n",
        "                  [7, 8, 9]])\n",
        "arr2d"
      ],
      "execution_count": 0,
      "outputs": [
        {
          "output_type": "execute_result",
          "data": {
            "text/plain": [
              "array([[1, 2, 3],\n",
              "       [4, 5, 6],\n",
              "       [7, 8, 9]])"
            ]
          },
          "metadata": {
            "tags": []
          },
          "execution_count": 77
        }
      ]
    },
    {
      "cell_type": "markdown",
      "metadata": {
        "id": "DK7cIRt0ccE5",
        "colab_type": "text"
      },
      "source": [
        "0,0 | 0,1 | 0,2\n",
        "------|--------|--------\n",
        "1,0 | 1,1 | 1,2\n",
        "2,0 | 2,1 | 2,2"
      ]
    },
    {
      "cell_type": "code",
      "metadata": {
        "id": "5DRF6grzcWIh",
        "colab_type": "code",
        "outputId": "0e78ee8b-a93c-4914-e99c-8309c424ad33",
        "colab": {
          "base_uri": "https://localhost:8080/",
          "height": 34
        }
      },
      "source": [
        "# 특정 행에 접근\n",
        "arr2d[2]"
      ],
      "execution_count": 0,
      "outputs": [
        {
          "output_type": "execute_result",
          "data": {
            "text/plain": [
              "array([7, 8, 9])"
            ]
          },
          "metadata": {
            "tags": []
          },
          "execution_count": 78
        }
      ]
    },
    {
      "cell_type": "code",
      "metadata": {
        "id": "fhh-zG4fchoV",
        "colab_type": "code",
        "outputId": "3f61456e-eca2-42b7-919c-d1e4c0b9dcaf",
        "colab": {
          "base_uri": "https://localhost:8080/",
          "height": 34
        }
      },
      "source": [
        "# 특정 원소에 접근\n",
        "arr2d[0][2]"
      ],
      "execution_count": 0,
      "outputs": [
        {
          "output_type": "execute_result",
          "data": {
            "text/plain": [
              "3"
            ]
          },
          "metadata": {
            "tags": []
          },
          "execution_count": 79
        }
      ]
    },
    {
      "cell_type": "code",
      "metadata": {
        "id": "ohw6r5rJckKd",
        "colab_type": "code",
        "outputId": "d0251275-adcd-49c3-cf57-fc755044eab0",
        "colab": {
          "base_uri": "https://localhost:8080/",
          "height": 34
        }
      },
      "source": [
        "# 위의 것은 다음과 같이 쓸 수 있다.\n",
        "arr2d[0,2]"
      ],
      "execution_count": 0,
      "outputs": [
        {
          "output_type": "execute_result",
          "data": {
            "text/plain": [
              "3"
            ]
          },
          "metadata": {
            "tags": []
          },
          "execution_count": 80
        }
      ]
    },
    {
      "cell_type": "code",
      "metadata": {
        "id": "PIfbTg6wcmxq",
        "colab_type": "code",
        "outputId": "25f829e2-c930-4629-97ed-da5b52c4eff7",
        "colab": {
          "base_uri": "https://localhost:8080/",
          "height": 34
        }
      },
      "source": [
        "# 특정 열 추출\n",
        "arr2d[:,0]"
      ],
      "execution_count": 0,
      "outputs": [
        {
          "output_type": "execute_result",
          "data": {
            "text/plain": [
              "array([1, 4, 7])"
            ]
          },
          "metadata": {
            "tags": []
          },
          "execution_count": 81
        }
      ]
    },
    {
      "cell_type": "code",
      "metadata": {
        "id": "B511D42IcpX0",
        "colab_type": "code",
        "outputId": "9cdeb66e-6bd7-4d1e-f6a0-49d609634abd",
        "colab": {
          "base_uri": "https://localhost:8080/",
          "height": 34
        }
      },
      "source": [
        "arr2d[:][2]"
      ],
      "execution_count": 0,
      "outputs": [
        {
          "output_type": "execute_result",
          "data": {
            "text/plain": [
              "array([7, 8, 9])"
            ]
          },
          "metadata": {
            "tags": []
          },
          "execution_count": 82
        }
      ]
    },
    {
      "cell_type": "code",
      "metadata": {
        "id": "CGkw5hsKcsc0",
        "colab_type": "code",
        "outputId": "dc436b0d-1a64-49bd-9151-e36231fc7a6e",
        "colab": {
          "base_uri": "https://localhost:8080/",
          "height": 102
        }
      },
      "source": [
        "# 3차원 배열\n",
        "arr3d = np.array([\n",
        "                  [[1, 2, 3],\n",
        "                   [4, 5, 6]],\n",
        "                  [[7, 8, 9],\n",
        "                   [10, 11, 12]]\n",
        "                 ])\n",
        "\n",
        "arr3d"
      ],
      "execution_count": 0,
      "outputs": [
        {
          "output_type": "execute_result",
          "data": {
            "text/plain": [
              "array([[[ 1,  2,  3],\n",
              "        [ 4,  5,  6]],\n",
              "\n",
              "       [[ 7,  8,  9],\n",
              "        [10, 11, 12]]])"
            ]
          },
          "metadata": {
            "tags": []
          },
          "execution_count": 83
        }
      ]
    },
    {
      "cell_type": "markdown",
      "metadata": {
        "id": "3cCuHZ98dDyK",
        "colab_type": "text"
      },
      "source": [
        "0 |  |  | \n",
        "------|--------|--------\n",
        "0,0 | 0,1 | 0,2\n",
        "1,0 | 1,1 | 1,2\n",
        "1 |  |  \n",
        "0,0 | 0,1 | 0,2\n",
        "1,0 | 1,1 | 1,2"
      ]
    },
    {
      "cell_type": "code",
      "metadata": {
        "id": "jMN9OVRQdCCX",
        "colab_type": "code",
        "outputId": "465c4cef-8a6d-4384-a5c5-a8fc08a39215",
        "colab": {
          "base_uri": "https://localhost:8080/",
          "height": 34
        }
      },
      "source": [
        "arr3d.shape"
      ],
      "execution_count": 0,
      "outputs": [
        {
          "output_type": "execute_result",
          "data": {
            "text/plain": [
              "(2, 2, 3)"
            ]
          },
          "metadata": {
            "tags": []
          },
          "execution_count": 84
        }
      ]
    },
    {
      "cell_type": "code",
      "metadata": {
        "id": "W164QqLWdQBY",
        "colab_type": "code",
        "outputId": "417f16a8-1430-4b5f-b2e3-d990b30b8037",
        "colab": {
          "base_uri": "https://localhost:8080/",
          "height": 51
        }
      },
      "source": [
        "arr3d[0]"
      ],
      "execution_count": 0,
      "outputs": [
        {
          "output_type": "execute_result",
          "data": {
            "text/plain": [
              "array([[1, 2, 3],\n",
              "       [4, 5, 6]])"
            ]
          },
          "metadata": {
            "tags": []
          },
          "execution_count": 85
        }
      ]
    },
    {
      "cell_type": "code",
      "metadata": {
        "id": "YQEumIymdSXG",
        "colab_type": "code",
        "outputId": "8ff00b76-7637-4554-89dc-28f7c0b31f84",
        "colab": {
          "base_uri": "https://localhost:8080/",
          "height": 51
        }
      },
      "source": [
        "arr3d[1]"
      ],
      "execution_count": 0,
      "outputs": [
        {
          "output_type": "execute_result",
          "data": {
            "text/plain": [
              "array([[ 7,  8,  9],\n",
              "       [10, 11, 12]])"
            ]
          },
          "metadata": {
            "tags": []
          },
          "execution_count": 86
        }
      ]
    },
    {
      "cell_type": "code",
      "metadata": {
        "id": "R-uXyzU1dUq5",
        "colab_type": "code",
        "outputId": "266d8332-5015-4f73-8d5c-cd259ad5b59a",
        "colab": {
          "base_uri": "https://localhost:8080/",
          "height": 34
        }
      },
      "source": [
        "arr3d[0][1]"
      ],
      "execution_count": 0,
      "outputs": [
        {
          "output_type": "execute_result",
          "data": {
            "text/plain": [
              "array([4, 5, 6])"
            ]
          },
          "metadata": {
            "tags": []
          },
          "execution_count": 87
        }
      ]
    },
    {
      "cell_type": "code",
      "metadata": {
        "id": "5_HXv-nmdWwi",
        "colab_type": "code",
        "outputId": "3505b8f5-d08f-4d09-f202-be1f358acff8",
        "colab": {
          "base_uri": "https://localhost:8080/",
          "height": 34
        }
      },
      "source": [
        "arr3d[0, 1]"
      ],
      "execution_count": 0,
      "outputs": [
        {
          "output_type": "execute_result",
          "data": {
            "text/plain": [
              "array([4, 5, 6])"
            ]
          },
          "metadata": {
            "tags": []
          },
          "execution_count": 88
        }
      ]
    },
    {
      "cell_type": "code",
      "metadata": {
        "id": "QD_bMtNBdY0s",
        "colab_type": "code",
        "outputId": "3bf5a6df-29e4-4527-bcee-11558406c27b",
        "colab": {
          "base_uri": "https://localhost:8080/",
          "height": 34
        }
      },
      "source": [
        "arr3d[1][1][2]"
      ],
      "execution_count": 0,
      "outputs": [
        {
          "output_type": "execute_result",
          "data": {
            "text/plain": [
              "12"
            ]
          },
          "metadata": {
            "tags": []
          },
          "execution_count": 89
        }
      ]
    },
    {
      "cell_type": "code",
      "metadata": {
        "id": "lpkE6YH5dbps",
        "colab_type": "code",
        "outputId": "f1e6c204-007d-42af-d3ca-7beeb8a9e70b",
        "colab": {
          "base_uri": "https://localhost:8080/",
          "height": 34
        }
      },
      "source": [
        "arr3d[1, 1, 2]"
      ],
      "execution_count": 0,
      "outputs": [
        {
          "output_type": "execute_result",
          "data": {
            "text/plain": [
              "12"
            ]
          },
          "metadata": {
            "tags": []
          },
          "execution_count": 90
        }
      ]
    },
    {
      "cell_type": "code",
      "metadata": {
        "id": "qEMa2dQXdd_M",
        "colab_type": "code",
        "outputId": "f71c6e4f-9630-4f49-8cbe-d98149ab1fa9",
        "colab": {
          "base_uri": "https://localhost:8080/",
          "height": 34
        }
      },
      "source": [
        "arr3d[:, 1, 2]"
      ],
      "execution_count": 0,
      "outputs": [
        {
          "output_type": "execute_result",
          "data": {
            "text/plain": [
              "array([ 6, 12])"
            ]
          },
          "metadata": {
            "tags": []
          },
          "execution_count": 91
        }
      ]
    },
    {
      "cell_type": "markdown",
      "metadata": {
        "id": "JZXU0pyyefgO",
        "colab_type": "text"
      },
      "source": [
        "#### 슬라이스에 값 넣기"
      ]
    },
    {
      "cell_type": "code",
      "metadata": {
        "id": "QBxTYIgCehzA",
        "colab_type": "code",
        "outputId": "fef1ff13-659b-4ae4-fa9e-272297fc48c6",
        "colab": {
          "base_uri": "https://localhost:8080/",
          "height": 102
        }
      },
      "source": [
        "arr3d"
      ],
      "execution_count": 0,
      "outputs": [
        {
          "output_type": "execute_result",
          "data": {
            "text/plain": [
              "array([[[ 1,  2,  3],\n",
              "        [ 4,  5,  6]],\n",
              "\n",
              "       [[ 7,  8,  9],\n",
              "        [10, 11, 12]]])"
            ]
          },
          "metadata": {
            "tags": []
          },
          "execution_count": 92
        }
      ]
    },
    {
      "cell_type": "code",
      "metadata": {
        "id": "FjZ5yQ1_ekQu",
        "colab_type": "code",
        "outputId": "901cefc2-3328-4e86-e71b-1b23c81b1d41",
        "colab": {
          "base_uri": "https://localhost:8080/",
          "height": 51
        }
      },
      "source": [
        "arr3d[0]"
      ],
      "execution_count": 0,
      "outputs": [
        {
          "output_type": "execute_result",
          "data": {
            "text/plain": [
              "array([[1, 2, 3],\n",
              "       [4, 5, 6]])"
            ]
          },
          "metadata": {
            "tags": []
          },
          "execution_count": 93
        }
      ]
    },
    {
      "cell_type": "code",
      "metadata": {
        "id": "Xlv3wVZcenBl",
        "colab_type": "code",
        "outputId": "d7b87d92-7d85-4f80-e757-54efffcaf3e1",
        "colab": {
          "base_uri": "https://localhost:8080/",
          "height": 102
        }
      },
      "source": [
        "old_values = arr3d[0].copy() # 원래의 값을 보존하기 위해 복사.\n",
        "\n",
        "arr3d[0] = 42 # 슬라이스에 스칼라 대입\n",
        "arr3d"
      ],
      "execution_count": 0,
      "outputs": [
        {
          "output_type": "execute_result",
          "data": {
            "text/plain": [
              "array([[[42, 42, 42],\n",
              "        [42, 42, 42]],\n",
              "\n",
              "       [[ 7,  8,  9],\n",
              "        [10, 11, 12]]])"
            ]
          },
          "metadata": {
            "tags": []
          },
          "execution_count": 94
        }
      ]
    },
    {
      "cell_type": "code",
      "metadata": {
        "id": "i4jvxNA8evWN",
        "colab_type": "code",
        "outputId": "2ea3c15d-d4e4-4f98-a01b-bd23f9c58ab8",
        "colab": {
          "base_uri": "https://localhost:8080/",
          "height": 102
        }
      },
      "source": [
        "arr3d[0] = old_values # 슬라이스에 배열 대입 가능(차원이 맞아야 함)\n",
        "arr3d"
      ],
      "execution_count": 0,
      "outputs": [
        {
          "output_type": "execute_result",
          "data": {
            "text/plain": [
              "array([[[ 1,  2,  3],\n",
              "        [ 4,  5,  6]],\n",
              "\n",
              "       [[ 7,  8,  9],\n",
              "        [10, 11, 12]]])"
            ]
          },
          "metadata": {
            "tags": []
          },
          "execution_count": 95
        }
      ]
    },
    {
      "cell_type": "code",
      "metadata": {
        "id": "KH-bUPRcex1m",
        "colab_type": "code",
        "outputId": "5bf50f62-6451-46af-a806-461aad89c810",
        "colab": {
          "base_uri": "https://localhost:8080/",
          "height": 164
        }
      },
      "source": [
        "# 차원이 맞지 않음\n",
        "arr3d[0] = np.array([1,2])"
      ],
      "execution_count": 0,
      "outputs": [
        {
          "output_type": "error",
          "ename": "ValueError",
          "evalue": "ignored",
          "traceback": [
            "\u001b[0;31m---------------------------------------------------------------------------\u001b[0m",
            "\u001b[0;31mValueError\u001b[0m                                Traceback (most recent call last)",
            "\u001b[0;32m<ipython-input-96-395d16c65cc0>\u001b[0m in \u001b[0;36m<module>\u001b[0;34m()\u001b[0m\n\u001b[0;32m----> 1\u001b[0;31m \u001b[0marr3d\u001b[0m\u001b[0;34m[\u001b[0m\u001b[0;36m0\u001b[0m\u001b[0;34m]\u001b[0m \u001b[0;34m=\u001b[0m \u001b[0mnp\u001b[0m\u001b[0;34m.\u001b[0m\u001b[0marray\u001b[0m\u001b[0;34m(\u001b[0m\u001b[0;34m[\u001b[0m\u001b[0;36m1\u001b[0m\u001b[0;34m,\u001b[0m\u001b[0;36m2\u001b[0m\u001b[0;34m]\u001b[0m\u001b[0;34m)\u001b[0m\u001b[0;34m\u001b[0m\u001b[0;34m\u001b[0m\u001b[0m\n\u001b[0m",
            "\u001b[0;31mValueError\u001b[0m: could not broadcast input array from shape (2) into shape (2,3)"
          ]
        }
      ]
    },
    {
      "cell_type": "markdown",
      "metadata": {
        "id": "TG6Ci3zae5HX",
        "colab_type": "text"
      },
      "source": [
        "### 슬라이스 색인"
      ]
    },
    {
      "cell_type": "code",
      "metadata": {
        "id": "UIhmty2Ke4XS",
        "colab_type": "code",
        "outputId": "1c019467-afeb-4893-f0cf-7967d35dfd28",
        "colab": {
          "base_uri": "https://localhost:8080/",
          "height": 34
        }
      },
      "source": [
        "arr[1:6]"
      ],
      "execution_count": 0,
      "outputs": [
        {
          "output_type": "execute_result",
          "data": {
            "text/plain": [
              "array([ 1,  2,  3,  4, 64])"
            ]
          },
          "metadata": {
            "tags": []
          },
          "execution_count": 97
        }
      ]
    },
    {
      "cell_type": "code",
      "metadata": {
        "id": "EMPxkac8e9Gx",
        "colab_type": "code",
        "outputId": "59de12f1-f1af-4d60-ed42-7017ddc0d8e4",
        "colab": {
          "base_uri": "https://localhost:8080/",
          "height": 68
        }
      },
      "source": [
        "arr2d"
      ],
      "execution_count": 0,
      "outputs": [
        {
          "output_type": "execute_result",
          "data": {
            "text/plain": [
              "array([[1, 2, 3],\n",
              "       [4, 5, 6],\n",
              "       [7, 8, 9]])"
            ]
          },
          "metadata": {
            "tags": []
          },
          "execution_count": 98
        }
      ]
    },
    {
      "cell_type": "code",
      "metadata": {
        "id": "lEyzJTl6e_DW",
        "colab_type": "code",
        "outputId": "488d9296-1148-4f34-c7d8-42071a55de3f",
        "colab": {
          "base_uri": "https://localhost:8080/",
          "height": 51
        }
      },
      "source": [
        "arr2d[:2]"
      ],
      "execution_count": 0,
      "outputs": [
        {
          "output_type": "execute_result",
          "data": {
            "text/plain": [
              "array([[1, 2, 3],\n",
              "       [4, 5, 6]])"
            ]
          },
          "metadata": {
            "tags": []
          },
          "execution_count": 99
        }
      ]
    },
    {
      "cell_type": "code",
      "metadata": {
        "id": "_hU6er80fCKq",
        "colab_type": "code",
        "outputId": "33ed49b8-a2d0-4491-f00d-fe5eec546bfb",
        "colab": {
          "base_uri": "https://localhost:8080/",
          "height": 51
        }
      },
      "source": [
        "arr2d[:2]"
      ],
      "execution_count": 0,
      "outputs": [
        {
          "output_type": "execute_result",
          "data": {
            "text/plain": [
              "array([[1, 2, 3],\n",
              "       [4, 5, 6]])"
            ]
          },
          "metadata": {
            "tags": []
          },
          "execution_count": 100
        }
      ]
    },
    {
      "cell_type": "code",
      "metadata": {
        "id": "J9NowPyWfEeU",
        "colab_type": "code",
        "outputId": "d28e4f6b-b4ec-4277-e04a-200834159977",
        "colab": {
          "base_uri": "https://localhost:8080/",
          "height": 51
        }
      },
      "source": [
        "arr2d[:2, 1:]"
      ],
      "execution_count": 0,
      "outputs": [
        {
          "output_type": "execute_result",
          "data": {
            "text/plain": [
              "array([[2, 3],\n",
              "       [5, 6]])"
            ]
          },
          "metadata": {
            "tags": []
          },
          "execution_count": 101
        }
      ]
    },
    {
      "cell_type": "code",
      "metadata": {
        "id": "NJvkinzDfGms",
        "colab_type": "code",
        "outputId": "c027afb4-3e0b-4948-eb75-1a97217cde9a",
        "colab": {
          "base_uri": "https://localhost:8080/",
          "height": 34
        }
      },
      "source": [
        "arr2d[1, :2]"
      ],
      "execution_count": 0,
      "outputs": [
        {
          "output_type": "execute_result",
          "data": {
            "text/plain": [
              "array([4, 5])"
            ]
          },
          "metadata": {
            "tags": []
          },
          "execution_count": 102
        }
      ]
    },
    {
      "cell_type": "code",
      "metadata": {
        "id": "1fqwKJHafI6a",
        "colab_type": "code",
        "outputId": "dc98fbea-5a39-43d9-e1d0-40d4b025e352",
        "colab": {
          "base_uri": "https://localhost:8080/",
          "height": 68
        }
      },
      "source": [
        "# 특정 슬라이스 구분에 값을 대입하면 선택 영역 전체에 값이 할당된다.\n",
        "arr2d[:2, 1:] = 0\n",
        "arr2d"
      ],
      "execution_count": 0,
      "outputs": [
        {
          "output_type": "execute_result",
          "data": {
            "text/plain": [
              "array([[1, 0, 0],\n",
              "       [4, 0, 0],\n",
              "       [7, 8, 9]])"
            ]
          },
          "metadata": {
            "tags": []
          },
          "execution_count": 103
        }
      ]
    },
    {
      "cell_type": "markdown",
      "metadata": {
        "id": "zikeOUo_RzAt",
        "colab_type": "text"
      },
      "source": [
        "## 불리언 값으로 선택하기"
      ]
    },
    {
      "cell_type": "code",
      "metadata": {
        "id": "oZqnMjtAfV46",
        "colab_type": "code",
        "colab": {}
      },
      "source": [
        "names = np.array(['Bob', 'Joe', 'Will', 'Bob', 'Will', 'Joe', 'Joe'])\n",
        "data = np.random.randn(7, 4)"
      ],
      "execution_count": 0,
      "outputs": []
    },
    {
      "cell_type": "code",
      "metadata": {
        "id": "32Tbrwr6fhDM",
        "colab_type": "code",
        "outputId": "dd15ec59-2a68-4f68-fc61-828fe679f832",
        "colab": {
          "base_uri": "https://localhost:8080/",
          "height": 34
        }
      },
      "source": [
        "names"
      ],
      "execution_count": 0,
      "outputs": [
        {
          "output_type": "execute_result",
          "data": {
            "text/plain": [
              "array(['Bob', 'Joe', 'Will', 'Bob', 'Will', 'Joe', 'Joe'], dtype='<U4')"
            ]
          },
          "metadata": {
            "tags": []
          },
          "execution_count": 105
        }
      ]
    },
    {
      "cell_type": "code",
      "metadata": {
        "id": "8JWWLJ0nfiXM",
        "colab_type": "code",
        "outputId": "7e68eaba-563f-4c4a-e31b-7a3c3b3711f4",
        "colab": {
          "base_uri": "https://localhost:8080/",
          "height": 136
        }
      },
      "source": [
        "data"
      ],
      "execution_count": 0,
      "outputs": [
        {
          "output_type": "execute_result",
          "data": {
            "text/plain": [
              "array([[ 0.55134636, -1.29683164,  0.78159493, -0.18943033],\n",
              "       [ 1.67552927, -0.72930364, -0.23399194, -0.3214523 ],\n",
              "       [-0.39469923, -2.62833496, -1.4411159 ,  2.80382059],\n",
              "       [ 0.6091548 , -0.23950068, -0.00625523,  0.32690955],\n",
              "       [-0.2260017 , -0.34822503, -1.9076976 , -0.1885592 ],\n",
              "       [ 0.2086313 , -0.86229641,  0.75277415, -0.86730902],\n",
              "       [-0.53630236,  0.8367051 ,  0.22451007,  0.16734691]])"
            ]
          },
          "metadata": {
            "tags": []
          },
          "execution_count": 106
        }
      ]
    },
    {
      "cell_type": "code",
      "metadata": {
        "id": "TC5Ir8yqfonj",
        "colab_type": "code",
        "outputId": "ade5ee93-ace4-4c37-e47a-31aa6dd36000",
        "colab": {
          "base_uri": "https://localhost:8080/",
          "height": 34
        }
      },
      "source": [
        "names == 'Bob'"
      ],
      "execution_count": 0,
      "outputs": [
        {
          "output_type": "execute_result",
          "data": {
            "text/plain": [
              "array([ True, False, False,  True, False, False, False])"
            ]
          },
          "metadata": {
            "tags": []
          },
          "execution_count": 107
        }
      ]
    },
    {
      "cell_type": "code",
      "metadata": {
        "id": "O8zjzEc-fq2j",
        "colab_type": "code",
        "outputId": "5dd504c3-b2dd-4314-a725-38db74cd9292",
        "colab": {
          "base_uri": "https://localhost:8080/",
          "height": 51
        }
      },
      "source": [
        "data[names == 'Bob']"
      ],
      "execution_count": 0,
      "outputs": [
        {
          "output_type": "execute_result",
          "data": {
            "text/plain": [
              "array([[ 0.55134636, -1.29683164,  0.78159493, -0.18943033],\n",
              "       [ 0.6091548 , -0.23950068, -0.00625523,  0.32690955]])"
            ]
          },
          "metadata": {
            "tags": []
          },
          "execution_count": 108
        }
      ]
    },
    {
      "cell_type": "code",
      "metadata": {
        "id": "E2kNTWuJgADC",
        "colab_type": "code",
        "outputId": "146d4faa-16ad-4d54-b3ad-8f73852ca517",
        "colab": {
          "base_uri": "https://localhost:8080/",
          "height": 51
        }
      },
      "source": [
        "data[names == 'Bob', 2:]"
      ],
      "execution_count": 0,
      "outputs": [
        {
          "output_type": "execute_result",
          "data": {
            "text/plain": [
              "array([[ 0.78159493, -0.18943033],\n",
              "       [-0.00625523,  0.32690955]])"
            ]
          },
          "metadata": {
            "tags": []
          },
          "execution_count": 109
        }
      ]
    },
    {
      "cell_type": "code",
      "metadata": {
        "id": "ElsRg9eNgCfu",
        "colab_type": "code",
        "outputId": "2607c8ff-3c39-415f-d76d-1f26a8ae1c63",
        "colab": {
          "base_uri": "https://localhost:8080/",
          "height": 34
        }
      },
      "source": [
        "data[names == 'Bob', 3]"
      ],
      "execution_count": 0,
      "outputs": [
        {
          "output_type": "execute_result",
          "data": {
            "text/plain": [
              "array([-0.18943033,  0.32690955])"
            ]
          },
          "metadata": {
            "tags": []
          },
          "execution_count": 110
        }
      ]
    },
    {
      "cell_type": "code",
      "metadata": {
        "id": "mfL8yBVOgGIe",
        "colab_type": "code",
        "outputId": "885cb043-f478-4057-fe14-8d69cff4e09c",
        "colab": {
          "base_uri": "https://localhost:8080/",
          "height": 34
        }
      },
      "source": [
        "names != 'Bob'"
      ],
      "execution_count": 0,
      "outputs": [
        {
          "output_type": "execute_result",
          "data": {
            "text/plain": [
              "array([False,  True,  True, False,  True,  True,  True])"
            ]
          },
          "metadata": {
            "tags": []
          },
          "execution_count": 111
        }
      ]
    },
    {
      "cell_type": "code",
      "metadata": {
        "id": "IMz4FdnXgHc1",
        "colab_type": "code",
        "outputId": "276572b3-fda9-456a-9e94-4b29e7b966ef",
        "colab": {
          "base_uri": "https://localhost:8080/",
          "height": 102
        }
      },
      "source": [
        "data[~(names == 'Bob')]"
      ],
      "execution_count": 0,
      "outputs": [
        {
          "output_type": "execute_result",
          "data": {
            "text/plain": [
              "array([[ 1.67552927, -0.72930364, -0.23399194, -0.3214523 ],\n",
              "       [-0.39469923, -2.62833496, -1.4411159 ,  2.80382059],\n",
              "       [-0.2260017 , -0.34822503, -1.9076976 , -0.1885592 ],\n",
              "       [ 0.2086313 , -0.86229641,  0.75277415, -0.86730902],\n",
              "       [-0.53630236,  0.8367051 ,  0.22451007,  0.16734691]])"
            ]
          },
          "metadata": {
            "tags": []
          },
          "execution_count": 112
        }
      ]
    },
    {
      "cell_type": "code",
      "metadata": {
        "id": "GsrCzeNwgM-l",
        "colab_type": "code",
        "outputId": "3065984f-22e9-4323-c552-2c3052309b17",
        "colab": {
          "base_uri": "https://localhost:8080/",
          "height": 102
        }
      },
      "source": [
        "cond = names == 'Bob'\n",
        "data[~cond]"
      ],
      "execution_count": 0,
      "outputs": [
        {
          "output_type": "execute_result",
          "data": {
            "text/plain": [
              "array([[ 1.67552927, -0.72930364, -0.23399194, -0.3214523 ],\n",
              "       [-0.39469923, -2.62833496, -1.4411159 ,  2.80382059],\n",
              "       [-0.2260017 , -0.34822503, -1.9076976 , -0.1885592 ],\n",
              "       [ 0.2086313 , -0.86229641,  0.75277415, -0.86730902],\n",
              "       [-0.53630236,  0.8367051 ,  0.22451007,  0.16734691]])"
            ]
          },
          "metadata": {
            "tags": []
          },
          "execution_count": 113
        }
      ]
    },
    {
      "cell_type": "code",
      "metadata": {
        "id": "Jnx5fNrQgQUI",
        "colab_type": "code",
        "outputId": "63544b34-95e2-422e-b215-53f9d24499f4",
        "colab": {
          "base_uri": "https://localhost:8080/",
          "height": 34
        }
      },
      "source": [
        "mask = (names == 'Bob') | (names == 'Will')\n",
        "mask"
      ],
      "execution_count": 0,
      "outputs": [
        {
          "output_type": "execute_result",
          "data": {
            "text/plain": [
              "array([ True, False,  True,  True,  True, False, False])"
            ]
          },
          "metadata": {
            "tags": []
          },
          "execution_count": 114
        }
      ]
    },
    {
      "cell_type": "code",
      "metadata": {
        "id": "eN_pcvEAgUPl",
        "colab_type": "code",
        "outputId": "62d9f976-a60e-4a03-9da2-903ddb3a17e9",
        "colab": {
          "base_uri": "https://localhost:8080/",
          "height": 85
        }
      },
      "source": [
        "data[mask]"
      ],
      "execution_count": 0,
      "outputs": [
        {
          "output_type": "execute_result",
          "data": {
            "text/plain": [
              "array([[ 0.55134636, -1.29683164,  0.78159493, -0.18943033],\n",
              "       [-0.39469923, -2.62833496, -1.4411159 ,  2.80382059],\n",
              "       [ 0.6091548 , -0.23950068, -0.00625523,  0.32690955],\n",
              "       [-0.2260017 , -0.34822503, -1.9076976 , -0.1885592 ]])"
            ]
          },
          "metadata": {
            "tags": []
          },
          "execution_count": 115
        }
      ]
    },
    {
      "cell_type": "code",
      "metadata": {
        "id": "cjcZqtFJgXVF",
        "colab_type": "code",
        "outputId": "1f3b8789-362b-418a-e3d1-6cc18c8ff750",
        "colab": {
          "base_uri": "https://localhost:8080/",
          "height": 136
        }
      },
      "source": [
        "data[data < 0] = 0\n",
        "data"
      ],
      "execution_count": 0,
      "outputs": [
        {
          "output_type": "execute_result",
          "data": {
            "text/plain": [
              "array([[0.55134636, 0.        , 0.78159493, 0.        ],\n",
              "       [1.67552927, 0.        , 0.        , 0.        ],\n",
              "       [0.        , 0.        , 0.        , 2.80382059],\n",
              "       [0.6091548 , 0.        , 0.        , 0.32690955],\n",
              "       [0.        , 0.        , 0.        , 0.        ],\n",
              "       [0.2086313 , 0.        , 0.75277415, 0.        ],\n",
              "       [0.        , 0.8367051 , 0.22451007, 0.16734691]])"
            ]
          },
          "metadata": {
            "tags": []
          },
          "execution_count": 116
        }
      ]
    },
    {
      "cell_type": "code",
      "metadata": {
        "id": "ybPPYhCiga_t",
        "colab_type": "code",
        "outputId": "19613275-8e4f-4433-9c52-8fc00715eab6",
        "colab": {
          "base_uri": "https://localhost:8080/",
          "height": 136
        }
      },
      "source": [
        "data[names != 'Joe'] = 7\n",
        "data"
      ],
      "execution_count": 0,
      "outputs": [
        {
          "output_type": "execute_result",
          "data": {
            "text/plain": [
              "array([[7.        , 7.        , 7.        , 7.        ],\n",
              "       [1.67552927, 0.        , 0.        , 0.        ],\n",
              "       [7.        , 7.        , 7.        , 7.        ],\n",
              "       [7.        , 7.        , 7.        , 7.        ],\n",
              "       [7.        , 7.        , 7.        , 7.        ],\n",
              "       [0.2086313 , 0.        , 0.75277415, 0.        ],\n",
              "       [0.        , 0.8367051 , 0.22451007, 0.16734691]])"
            ]
          },
          "metadata": {
            "tags": []
          },
          "execution_count": 117
        }
      ]
    },
    {
      "cell_type": "markdown",
      "metadata": {
        "id": "uCzKlCSJR0pk",
        "colab_type": "text"
      },
      "source": [
        "## 팬시 색인"
      ]
    },
    {
      "cell_type": "markdown",
      "metadata": {
        "id": "3iqKs3_SR1wD",
        "colab_type": "text"
      },
      "source": [
        "## 배열 전치와 축 바꾸기"
      ]
    },
    {
      "cell_type": "markdown",
      "metadata": {
        "id": "nGQAah7Y7Opx",
        "colab_type": "text"
      },
      "source": [
        "----------------------------"
      ]
    }
  ]
}