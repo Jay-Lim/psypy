{
  "nbformat": 4,
  "nbformat_minor": 0,
  "metadata": {
    "colab": {
      "name": "02_python_basics.ipynb",
      "provenance": [],
      "include_colab_link": true
    },
    "kernelspec": {
      "display_name": "Python 3",
      "language": "python",
      "name": "python3"
    },
    "language_info": {
      "codemirror_mode": {
        "name": "ipython",
        "version": 3
      },
      "file_extension": ".py",
      "mimetype": "text/x-python",
      "name": "python",
      "nbconvert_exporter": "python",
      "pygments_lexer": "ipython3",
      "version": "3.6.8"
    }
  },
  "cells": [
    {
      "cell_type": "markdown",
      "metadata": {
        "id": "view-in-github",
        "colab_type": "text"
      },
      "source": [
        "<a href=\"https://colab.research.google.com/github/psygrammer/psypy/blob/master/basic/notebooks/02_python_basics.ipynb\" target=\"_parent\"><img src=\"https://colab.research.google.com/assets/colab-badge.svg\" alt=\"Open In Colab\"/></a>"
      ]
    },
    {
      "cell_type": "markdown",
      "metadata": {
        "colab_type": "text",
        "id": "P3-OfUP7WWCH"
      },
      "source": [
        "# 02. Python Language Basics"
      ]
    },
    {
      "cell_type": "markdown",
      "metadata": {
        "colab_type": "text",
        "id": "LYmez5PPWLPd"
      },
      "source": [
        "* 싸이그래머 / PsyPy [1]\n",
        "* 김무성"
      ]
    },
    {
      "cell_type": "code",
      "metadata": {
        "colab_type": "code",
        "id": "zdYGbz9ZWd9x",
        "outputId": "a70499d3-fb3b-492a-9979-f18a92a2ae20",
        "colab": {
          "base_uri": "https://localhost:8080/",
          "height": 35
        }
      },
      "source": [
        "!python -V"
      ],
      "execution_count": 0,
      "outputs": [
        {
          "output_type": "stream",
          "text": [
            "Python 3.6.8\n"
          ],
          "name": "stdout"
        }
      ]
    },
    {
      "cell_type": "markdown",
      "metadata": {
        "colab_type": "text",
        "id": "PW0BQZxVWLPe"
      },
      "source": [
        "# 차례"
      ]
    },
    {
      "cell_type": "markdown",
      "metadata": {
        "colab_type": "text",
        "id": "y1U2wXyFWLPf"
      },
      "source": [
        "파이썬 인터프리터 \n",
        "\n",
        "시멘틱\n",
        "* 들여쓰기\n",
        "* 모든 것은 객체\n",
        "* 주석\n",
        "* 함수와 객체 메서드 호출\n",
        "* 변수와 참조에 의한 전달\n",
        "* 동적 참조와 강한 타입\n",
        "* 속성과 메서드\n",
        "* 덕 타이핑\n",
        "* 모듈 import\n",
        "* 이항연산자와 비교문\n",
        "* 평가 방식\n",
        "* 뮤터블, 이뮤터블 객체\n",
        "\n",
        "스칼라형<br>\n",
        "\n",
        "흐름 제어"
      ]
    },
    {
      "cell_type": "markdown",
      "metadata": {
        "colab_type": "text",
        "id": "nHMNlpWJWLPg"
      },
      "source": [
        "-----------------------"
      ]
    },
    {
      "cell_type": "markdown",
      "metadata": {
        "colab_type": "text",
        "id": "mSwa8VAoWLPg"
      },
      "source": [
        "## 파이썬 인터프리터"
      ]
    },
    {
      "cell_type": "markdown",
      "metadata": {
        "colab_type": "text",
        "id": "rIhO_0niWLPh"
      },
      "source": [
        "* 파이썬은 인터프리터 언어 (한 번에 하나의 명령어만 실행)\n",
        "* 데이터 분석가들은 기본 인터프리터 보다 ipython을 사용하는 경향(그런데 이것도 점점 jupyther notebook 으로 -> 다시 Google Colab으로 이동중)"
      ]
    },
    {
      "cell_type": "markdown",
      "metadata": {
        "colab_type": "text",
        "id": "XIUyuQ0eWLPi"
      },
      "source": [
        "-----------------------"
      ]
    },
    {
      "cell_type": "markdown",
      "metadata": {
        "colab_type": "text",
        "id": "aTEKhunFWLPj"
      },
      "source": [
        "## 시멘틱"
      ]
    },
    {
      "cell_type": "markdown",
      "metadata": {
        "colab_type": "text",
        "id": "FLoAeAY1WLPj"
      },
      "source": [
        "### 들여쓰기"
      ]
    },
    {
      "cell_type": "markdown",
      "metadata": {
        "colab_type": "text",
        "id": "X3_vNTPeWLPk"
      },
      "source": [
        "```python\n",
        "for x in array :\n",
        "    if x < pivot :\n",
        "        less.append(x)\n",
        "    else :\n",
        "        qreater.append(x)\n",
        "```        "
      ]
    },
    {
      "cell_type": "markdown",
      "metadata": {
        "colab_type": "text",
        "id": "UrcI6HUWWLPl"
      },
      "source": [
        "```python\n",
        "a = 5; b = 6; c = 7;  # 한 줄에 문장이 여럿일 때는 구분하기 위해 ;을 쓴다. 하지만 파이썬에서는 가독성 때문에 권하지 않는다.\n",
        "```"
      ]
    },
    {
      "cell_type": "markdown",
      "metadata": {
        "colab_type": "text",
        "id": "4FzfTBChWLPm"
      },
      "source": [
        "### 모든 것은 객체 "
      ]
    },
    {
      "cell_type": "markdown",
      "metadata": {
        "colab_type": "text",
        "id": "qnbCWh5UWLPn"
      },
      "source": [
        "객체 모델의 일관성은 파이썬의 중요한 특징. 모든 숫자, 문자열, 자료 구조, 함수, 클래스, 모듈 등은 파이썬 인터프리터에서 파이썬 객체로 저장된다. 함수마저 하나의 객체로 간주한다."
      ]
    },
    {
      "cell_type": "markdown",
      "metadata": {
        "colab_type": "text",
        "id": "n3nAGEHPWLPo"
      },
      "source": [
        "### 함수와 객체 메서드 호출"
      ]
    },
    {
      "cell_type": "markdown",
      "metadata": {
        "colab_type": "text",
        "id": "HtHBVCQAWLPp"
      },
      "source": [
        "```python\n",
        "# 함수 호출\n",
        "result = f(x, y, z)\n",
        "g()\n",
        "\n",
        "# 메서드 - 객체가 포함하고 있는 함수\n",
        "obj.some_method(x, y, z)\n",
        "\n",
        "# 함수는 순서별(일반) 인자와 키워드 인자를 동시에 받을 수 있다.\n",
        "result = f(a, b, c, d=5, e='foo')\n",
        "```"
      ]
    },
    {
      "cell_type": "markdown",
      "metadata": {
        "colab_type": "text",
        "id": "vhPdV9upWLPp"
      },
      "source": [
        "### 변수와 참조에 의한 전달"
      ]
    },
    {
      "cell_type": "code",
      "metadata": {
        "colab_type": "code",
        "id": "Z68B3tPAWLPq",
        "outputId": "62a1f1ae-a6ec-4322-ebde-1cff13afe872",
        "colab": {
          "base_uri": "https://localhost:8080/",
          "height": 53
        }
      },
      "source": [
        "a = [1, 2, 3]\n",
        "print(a)\n",
        "\n",
        "b = a\n",
        "\n",
        "a.append(4)\n",
        "\n",
        "print(b)"
      ],
      "execution_count": 0,
      "outputs": [
        {
          "output_type": "stream",
          "text": [
            "[1, 2, 3]\n",
            "[1, 2, 3, 4]\n"
          ],
          "name": "stdout"
        }
      ]
    },
    {
      "cell_type": "markdown",
      "metadata": {
        "colab_type": "text",
        "id": "q-qYFs5TWLPu"
      },
      "source": [
        "<img src='https://github.com/psygrammer/psypy/blob/master/notebooks/figures/02/01_fig.a.1.png?raw=1'/>"
      ]
    },
    {
      "cell_type": "code",
      "metadata": {
        "colab_type": "code",
        "id": "PBHzkpXKWLPv",
        "outputId": "f03210f2-019f-4d43-b643-8708ea402010",
        "colab": {}
      },
      "source": [
        "def append_element(some_list, element) :\n",
        "    some_list.append(element)\n",
        "    \n",
        "data = [1, 2, 3]\n",
        "append_element(data, 4)\n",
        "data"
      ],
      "execution_count": 0,
      "outputs": [
        {
          "output_type": "execute_result",
          "data": {
            "text/plain": [
              "[1, 2, 3, 4]"
            ]
          },
          "metadata": {
            "tags": []
          },
          "execution_count": 2
        }
      ]
    },
    {
      "cell_type": "code",
      "metadata": {
        "colab_type": "code",
        "id": "Bsq21K0QWLPx",
        "colab": {}
      },
      "source": [
        "### 동적 참조와 강한 타입"
      ],
      "execution_count": 0,
      "outputs": []
    },
    {
      "cell_type": "code",
      "metadata": {
        "id": "dGmtk7Xvtq9z",
        "colab_type": "code",
        "colab": {},
        "outputId": "6e3fd977-8cce-4c4c-a1c0-5e7b97b80259"
      },
      "source": [
        "a = 5\n",
        "type(a)"
      ],
      "execution_count": 0,
      "outputs": [
        {
          "output_type": "execute_result",
          "data": {
            "text/plain": [
              "int"
            ]
          },
          "metadata": {
            "tags": []
          },
          "execution_count": 3
        }
      ]
    },
    {
      "cell_type": "code",
      "metadata": {
        "id": "6QkRjlkTtq92",
        "colab_type": "code",
        "colab": {},
        "outputId": "c7131c32-aac7-43b9-d722-5279f836e0a6"
      },
      "source": [
        "a = 'foo'\n",
        "type(a)"
      ],
      "execution_count": 0,
      "outputs": [
        {
          "output_type": "execute_result",
          "data": {
            "text/plain": [
              "str"
            ]
          },
          "metadata": {
            "tags": []
          },
          "execution_count": 4
        }
      ]
    },
    {
      "cell_type": "code",
      "metadata": {
        "id": "IETMNbhutq96",
        "colab_type": "code",
        "colab": {},
        "outputId": "6883e456-6f4d-4890-c5ce-65180dc7d52f"
      },
      "source": [
        "'5' + 5  # 파이썬은 자료형이 없는 언어가 아니다. 묵시적 변환이 일어날 뿐. 다음은 묵시적 변환 실패시의 에러를 보여준다."
      ],
      "execution_count": 0,
      "outputs": [
        {
          "output_type": "error",
          "ename": "TypeError",
          "evalue": "must be str, not int",
          "traceback": [
            "\u001b[0;31m---------------------------------------------------------------------------\u001b[0m",
            "\u001b[0;31mTypeError\u001b[0m                                 Traceback (most recent call last)",
            "\u001b[0;32m<ipython-input-5-d2fc33cf6d88>\u001b[0m in \u001b[0;36m<module>\u001b[0;34m()\u001b[0m\n\u001b[0;32m----> 1\u001b[0;31m \u001b[0;34m'5'\u001b[0m \u001b[0;34m+\u001b[0m \u001b[0;36m5\u001b[0m  \u001b[0;31m# 파이썬은 자료형이 없는 언어가 아니다. 묵시적 변환이 일어날 뿐. 다음은 묵시적 변환 실패시의 에러를 보여준다.\u001b[0m\u001b[0;34m\u001b[0m\u001b[0;34m\u001b[0m\u001b[0m\n\u001b[0m",
            "\u001b[0;31mTypeError\u001b[0m: must be str, not int"
          ]
        }
      ]
    },
    {
      "cell_type": "markdown",
      "metadata": {
        "id": "sni4kOUAtq99",
        "colab_type": "text"
      },
      "source": [
        "### 속성과 메서드"
      ]
    },
    {
      "cell_type": "code",
      "metadata": {
        "id": "cSE0gDlntq99",
        "colab_type": "code",
        "colab": {}
      },
      "source": [
        "a = 'foo'"
      ],
      "execution_count": 0,
      "outputs": []
    },
    {
      "cell_type": "markdown",
      "metadata": {
        "id": "LY5FWUgQtq9_",
        "colab_type": "text"
      },
      "source": [
        "a. # .을 찍고 탭키를 누르면 아래 그림과 같이 속성과 메서드들이 선택할 수 있게 나타난다."
      ]
    },
    {
      "cell_type": "markdown",
      "metadata": {
        "id": "pG-k1gvUtq9_",
        "colab_type": "text"
      },
      "source": [
        "<img src='https://github.com/psygrammer/psypy/blob/master/basic/notebooks/figures/02/01_fig.a.3.png?raw=1'/>"
      ]
    },
    {
      "cell_type": "markdown",
      "metadata": {
        "id": "_hvDr36ntq-A",
        "colab_type": "text"
      },
      "source": [
        "### 덕 타이핑"
      ]
    },
    {
      "cell_type": "markdown",
      "metadata": {
        "id": "_griq5DWtq-A",
        "colab_type": "text"
      },
      "source": [
        "덕 타이핑 - http://ko.wikipedia.org/wiki/덕_타이핑"
      ]
    },
    {
      "cell_type": "code",
      "metadata": {
        "id": "ZC0Qsyfktq-B",
        "colab_type": "code",
        "colab": {}
      },
      "source": [
        "def isiterable(obj) :\n",
        "    try :\n",
        "        iter(obj)\n",
        "        return True\n",
        "    except TypeError : # not interable\n",
        "        return False"
      ],
      "execution_count": 0,
      "outputs": []
    },
    {
      "cell_type": "code",
      "metadata": {
        "id": "QjufWidetq-D",
        "colab_type": "code",
        "colab": {},
        "outputId": "e984ae63-7a80-4360-dd9b-f2f2fc001784"
      },
      "source": [
        "isiterable('a string')"
      ],
      "execution_count": 0,
      "outputs": [
        {
          "output_type": "execute_result",
          "data": {
            "text/plain": [
              "True"
            ]
          },
          "metadata": {
            "tags": []
          },
          "execution_count": 9
        }
      ]
    },
    {
      "cell_type": "code",
      "metadata": {
        "id": "r_vePwY_tq-G",
        "colab_type": "code",
        "colab": {},
        "outputId": "4b467c93-79f3-4a86-e979-140d457b4243"
      },
      "source": [
        "isiterable([1, 2, 3])"
      ],
      "execution_count": 0,
      "outputs": [
        {
          "output_type": "execute_result",
          "data": {
            "text/plain": [
              "True"
            ]
          },
          "metadata": {
            "tags": []
          },
          "execution_count": 10
        }
      ]
    },
    {
      "cell_type": "code",
      "metadata": {
        "id": "tfaA9PGitq-J",
        "colab_type": "code",
        "colab": {},
        "outputId": "b3ab50c3-c834-4840-fa82-23cf550a3dd9"
      },
      "source": [
        "isiterable(5)"
      ],
      "execution_count": 0,
      "outputs": [
        {
          "output_type": "execute_result",
          "data": {
            "text/plain": [
              "False"
            ]
          },
          "metadata": {
            "tags": []
          },
          "execution_count": 11
        }
      ]
    },
    {
      "cell_type": "markdown",
      "metadata": {
        "id": "u5K9R7tvtq-L",
        "colab_type": "text"
      },
      "source": [
        "```python\n",
        "# 순차적 자료구조라면, 객체가 리스트인지 검사해서 그렇지 않은 경우 인자를 변환해줄 수 있다.\n",
        "if not isinstance(x, list) and isiterable(x) :\n",
        "    x = list(x)\n",
        "```    "
      ]
    },
    {
      "cell_type": "markdown",
      "metadata": {
        "id": "lMOhvTc9tq-L",
        "colab_type": "text"
      },
      "source": [
        "### 모듈 import"
      ]
    },
    {
      "cell_type": "code",
      "metadata": {
        "id": "Yuzs7lRQtq-L",
        "colab_type": "code",
        "colab": {}
      },
      "source": [
        "# 파이썬에서 모듈은 다른 .py 파일에서 추가해서 사용할 수 있는 함수와 변수 선언을 담고 있는 .py 파일이다. \n",
        "# 다음과 같은 모듈을 가지고 있다고 가정하자."
      ],
      "execution_count": 0,
      "outputs": []
    },
    {
      "cell_type": "code",
      "metadata": {
        "id": "Abc6-rQStq-N",
        "colab_type": "code",
        "colab": {},
        "outputId": "4e949652-17bd-4e29-dc9f-2ebb32bc4544"
      },
      "source": [
        "%ls some_module.py"
      ],
      "execution_count": 0,
      "outputs": [
        {
          "output_type": "stream",
          "text": [
            "ls: some_module.py: No such file or directory\r\n"
          ],
          "name": "stdout"
        }
      ]
    },
    {
      "cell_type": "code",
      "metadata": {
        "id": "rUK8x5HFtq-P",
        "colab_type": "code",
        "colab": {},
        "outputId": "8e8ce448-8980-4285-d976-b9bf2cb0f469"
      },
      "source": [
        "%%writefile some_module.py\n",
        "\n",
        "### some_module.py\n",
        "PI = 3.14159\n",
        "\n",
        "def f(x) : \n",
        "    return 3.14159\n",
        "\n",
        "def g(a, b) : \n",
        "    return a+b"
      ],
      "execution_count": 0,
      "outputs": [
        {
          "output_type": "stream",
          "text": [
            "Writing some_module.py\n"
          ],
          "name": "stdout"
        }
      ]
    },
    {
      "cell_type": "code",
      "metadata": {
        "id": "DILJ1bBNtq-R",
        "colab_type": "code",
        "colab": {},
        "outputId": "010a28c4-e7ff-486c-84e5-61e2602dd132"
      },
      "source": [
        "%ls some_module.py"
      ],
      "execution_count": 0,
      "outputs": [
        {
          "output_type": "stream",
          "text": [
            "some_module.py\r\n"
          ],
          "name": "stdout"
        }
      ]
    },
    {
      "cell_type": "code",
      "metadata": {
        "id": "0hrLkB4Etq-U",
        "colab_type": "code",
        "colab": {},
        "outputId": "d315e87b-fdb1-46b1-ecef-37b2f84e103d"
      },
      "source": [
        "import some_module\n",
        "result = some_module.f(5)\n",
        "pi = some_module.PI\n",
        "print(result)\n",
        "print(pi)"
      ],
      "execution_count": 0,
      "outputs": [
        {
          "output_type": "stream",
          "text": [
            "3.14159\n",
            "3.14159\n"
          ],
          "name": "stdout"
        }
      ]
    },
    {
      "cell_type": "code",
      "metadata": {
        "id": "c3vi-gkNtq-W",
        "colab_type": "code",
        "colab": {},
        "outputId": "76542d8f-cee6-4e00-b981-501500332b09"
      },
      "source": [
        "from some_module import f, g, PI\n",
        "result = g(5, PI)\n",
        "print(result)"
      ],
      "execution_count": 0,
      "outputs": [
        {
          "output_type": "stream",
          "text": [
            "8.14159\n"
          ],
          "name": "stdout"
        }
      ]
    },
    {
      "cell_type": "code",
      "metadata": {
        "id": "OtozF5d-tq-Y",
        "colab_type": "code",
        "colab": {},
        "outputId": "5426a05e-b652-44d0-b0ea-bd5749b9561b"
      },
      "source": [
        "import some_module as sm\n",
        "from some_module import PI as pi, g as gf\n",
        "\n",
        "r1 = sm.f(pi)\n",
        "r2 = gf(6, pi)\n",
        "print(r1)\n",
        "print(r2)"
      ],
      "execution_count": 0,
      "outputs": [
        {
          "output_type": "stream",
          "text": [
            "3.14159\n",
            "9.14159\n"
          ],
          "name": "stdout"
        }
      ]
    },
    {
      "cell_type": "markdown",
      "metadata": {
        "id": "YkPB0A_Htq-a",
        "colab_type": "text"
      },
      "source": [
        "### 이항연산자와 비교문"
      ]
    },
    {
      "cell_type": "markdown",
      "metadata": {
        "id": "wJq-3CARtq-b",
        "colab_type": "text"
      },
      "source": [
        "<img src='https://github.com/psygrammer/psypy/blob/master/basic/notebooks/figures/02/01_tbl.a.1.1.png?raw=1'/>\n",
        "<img src='https://github.com/psygrammer/psypy/blob/master/basic/notebooks/figures/02/01_tbl.a.1.2.png?raw=1'/>"
      ]
    },
    {
      "cell_type": "code",
      "metadata": {
        "id": "NnnXggJWtq-b",
        "colab_type": "code",
        "colab": {},
        "outputId": "7f1a3623-67c4-405a-8141-564db89af137"
      },
      "source": [
        "5 - 7"
      ],
      "execution_count": 0,
      "outputs": [
        {
          "output_type": "execute_result",
          "data": {
            "text/plain": [
              "-2"
            ]
          },
          "metadata": {
            "tags": []
          },
          "execution_count": 18
        }
      ]
    },
    {
      "cell_type": "code",
      "metadata": {
        "id": "u1Dg7txHtq-d",
        "colab_type": "code",
        "colab": {},
        "outputId": "31eecd49-0ca5-4685-9e11-7bf8a3cfe2c6"
      },
      "source": [
        "12 + 21.5"
      ],
      "execution_count": 0,
      "outputs": [
        {
          "output_type": "execute_result",
          "data": {
            "text/plain": [
              "33.5"
            ]
          },
          "metadata": {
            "tags": []
          },
          "execution_count": 19
        }
      ]
    },
    {
      "cell_type": "code",
      "metadata": {
        "id": "UIFcAS0jtq-f",
        "colab_type": "code",
        "colab": {},
        "outputId": "9b1f1b9b-d922-4b8d-958a-c2519f735199"
      },
      "source": [
        "5 <= 2"
      ],
      "execution_count": 0,
      "outputs": [
        {
          "output_type": "execute_result",
          "data": {
            "text/plain": [
              "False"
            ]
          },
          "metadata": {
            "tags": []
          },
          "execution_count": 20
        }
      ]
    },
    {
      "cell_type": "code",
      "metadata": {
        "id": "MVngfaADtq-h",
        "colab_type": "code",
        "colab": {}
      },
      "source": [
        "a = [1, 2, 3]\n",
        "b = a\n",
        "c = list(a)"
      ],
      "execution_count": 0,
      "outputs": []
    },
    {
      "cell_type": "code",
      "metadata": {
        "id": "vnDQv_bUtq-i",
        "colab_type": "code",
        "colab": {},
        "outputId": "8e2ca09e-5b28-4f15-91f9-82ca954e201f"
      },
      "source": [
        "a is b"
      ],
      "execution_count": 0,
      "outputs": [
        {
          "output_type": "execute_result",
          "data": {
            "text/plain": [
              "True"
            ]
          },
          "metadata": {
            "tags": []
          },
          "execution_count": 22
        }
      ]
    },
    {
      "cell_type": "code",
      "metadata": {
        "id": "d_FaZ-9-tq-k",
        "colab_type": "code",
        "colab": {},
        "outputId": "85c1d84d-59f3-459f-8028-a6c9212c1007"
      },
      "source": [
        "a is not c"
      ],
      "execution_count": 0,
      "outputs": [
        {
          "output_type": "execute_result",
          "data": {
            "text/plain": [
              "True"
            ]
          },
          "metadata": {
            "tags": []
          },
          "execution_count": 23
        }
      ]
    },
    {
      "cell_type": "code",
      "metadata": {
        "id": "LBzZAwDVtq-m",
        "colab_type": "code",
        "colab": {},
        "outputId": "21a0e919-0e4d-4f7f-a1a5-80cccb71f467"
      },
      "source": [
        "a is c"
      ],
      "execution_count": 0,
      "outputs": [
        {
          "output_type": "execute_result",
          "data": {
            "text/plain": [
              "False"
            ]
          },
          "metadata": {
            "tags": []
          },
          "execution_count": 24
        }
      ]
    },
    {
      "cell_type": "code",
      "metadata": {
        "id": "de4QVowatq-o",
        "colab_type": "code",
        "colab": {},
        "outputId": "8b3c3a5e-c24e-45ad-a91f-b3a603cbe026"
      },
      "source": [
        "# is 와 ==는 결과가 다르다. is는 두 참조 변수가 같은 객체를 가리키고 있는지 검사할 때 쓴다.\n",
        "a == c"
      ],
      "execution_count": 0,
      "outputs": [
        {
          "output_type": "execute_result",
          "data": {
            "text/plain": [
              "True"
            ]
          },
          "metadata": {
            "tags": []
          },
          "execution_count": 25
        }
      ]
    },
    {
      "cell_type": "markdown",
      "metadata": {
        "id": "ExPskNMwtq-q",
        "colab_type": "text"
      },
      "source": [
        "### 평가 방식"
      ]
    },
    {
      "cell_type": "code",
      "metadata": {
        "id": "c2BuhE3Ltq-q",
        "colab_type": "code",
        "colab": {},
        "outputId": "3ac91ab9-2335-4264-e053-7855e6a35002"
      },
      "source": [
        "# 파이썬은 즉시 수행된다. 게으른 평가(lazy evaluation) 방식이 아니라 문장이 검사되고 나면 즉시 계산이 수행된다.\n",
        "# (이터레이터와 제너레이터를 이용해서 게으른 평가 방식을 구현할 수는 있다.)\n",
        "# print_me 은 절대로 실행되지 않는다. \n",
        "# 파이썬은 0 만나면 전체 표현식을 False로 결정할 수 있기 때문.\n",
        "def print_me():\n",
        "    rint('I am here!')\n",
        "\n",
        "0 and print_me()"
      ],
      "execution_count": 0,
      "outputs": [
        {
          "output_type": "execute_result",
          "data": {
            "text/plain": [
              "0"
            ]
          },
          "metadata": {
            "tags": []
          },
          "execution_count": 26
        }
      ]
    },
    {
      "cell_type": "markdown",
      "metadata": {
        "id": "Pu2RlN6Stq-r",
        "colab_type": "text"
      },
      "source": [
        "### 뮤터블, 이뮤터블 객체"
      ]
    },
    {
      "cell_type": "code",
      "metadata": {
        "id": "Qn6qQ9Gwtq-s",
        "colab_type": "code",
        "colab": {},
        "outputId": "77666a27-5c04-4a2d-a3c7-a6cbdc25f2df"
      },
      "source": [
        "# 리스트는 값을 바꿀 수 있는 자료형이다. \n",
        "a_list = ['foo', 2, [4, 5]]\n",
        "print(a_list)\n",
        "a_list[2] = (3,4)\n",
        "print(a_list)"
      ],
      "execution_count": 0,
      "outputs": [
        {
          "output_type": "stream",
          "text": [
            "['foo', 2, [4, 5]]\n",
            "['foo', 2, (3, 4)]\n"
          ],
          "name": "stdout"
        }
      ]
    },
    {
      "cell_type": "code",
      "metadata": {
        "id": "Na6Q0ah1tq-t",
        "colab_type": "code",
        "colab": {},
        "outputId": "b651e83c-0f3a-4b74-aa50-0cb6321da486"
      },
      "source": [
        "a_tuple = (3, 5, (4, 5))\n",
        "print(a_tuple)\n",
        "a_tuple[1] = 'four'\n",
        "print(a_tuple)  # 튜플은 이뮤터블(값을 바꿀수 없는) 객체이므로 에러가 난다."
      ],
      "execution_count": 0,
      "outputs": [
        {
          "output_type": "stream",
          "text": [
            "(3, 5, (4, 5))\n"
          ],
          "name": "stdout"
        },
        {
          "output_type": "error",
          "ename": "TypeError",
          "evalue": "'tuple' object does not support item assignment",
          "traceback": [
            "\u001b[0;31m---------------------------------------------------------------------------\u001b[0m",
            "\u001b[0;31mTypeError\u001b[0m                                 Traceback (most recent call last)",
            "\u001b[0;32m<ipython-input-28-42c4611190ad>\u001b[0m in \u001b[0;36m<module>\u001b[0;34m()\u001b[0m\n\u001b[1;32m      1\u001b[0m \u001b[0ma_tuple\u001b[0m \u001b[0;34m=\u001b[0m \u001b[0;34m(\u001b[0m\u001b[0;36m3\u001b[0m\u001b[0;34m,\u001b[0m \u001b[0;36m5\u001b[0m\u001b[0;34m,\u001b[0m \u001b[0;34m(\u001b[0m\u001b[0;36m4\u001b[0m\u001b[0;34m,\u001b[0m \u001b[0;36m5\u001b[0m\u001b[0;34m)\u001b[0m\u001b[0;34m)\u001b[0m\u001b[0;34m\u001b[0m\u001b[0;34m\u001b[0m\u001b[0m\n\u001b[1;32m      2\u001b[0m \u001b[0mprint\u001b[0m\u001b[0;34m(\u001b[0m\u001b[0ma_tuple\u001b[0m\u001b[0;34m)\u001b[0m\u001b[0;34m\u001b[0m\u001b[0;34m\u001b[0m\u001b[0m\n\u001b[0;32m----> 3\u001b[0;31m \u001b[0ma_tuple\u001b[0m\u001b[0;34m[\u001b[0m\u001b[0;36m1\u001b[0m\u001b[0;34m]\u001b[0m \u001b[0;34m=\u001b[0m \u001b[0;34m'four'\u001b[0m\u001b[0;34m\u001b[0m\u001b[0;34m\u001b[0m\u001b[0m\n\u001b[0m\u001b[1;32m      4\u001b[0m \u001b[0mprint\u001b[0m\u001b[0;34m(\u001b[0m\u001b[0ma_tuple\u001b[0m\u001b[0;34m)\u001b[0m  \u001b[0;31m# 튜플은 이뮤터블(값을 바꿀수 없는) 객체이므로 에러가 난다.\u001b[0m\u001b[0;34m\u001b[0m\u001b[0;34m\u001b[0m\u001b[0m\n",
            "\u001b[0;31mTypeError\u001b[0m: 'tuple' object does not support item assignment"
          ]
        }
      ]
    },
    {
      "cell_type": "markdown",
      "metadata": {
        "id": "ZWxHmid1tq-v",
        "colab_type": "text"
      },
      "source": [
        "------------------------------"
      ]
    },
    {
      "cell_type": "markdown",
      "metadata": {
        "id": "XNBrSsdXtq-v",
        "colab_type": "text"
      },
      "source": [
        "## 스칼라형"
      ]
    },
    {
      "cell_type": "markdown",
      "metadata": {
        "id": "7CnlByFstq-v",
        "colab_type": "text"
      },
      "source": [
        "* 숫자 자료형\n",
        "* 문자열\n",
        "* 불리언\n",
        "* 형변환\n",
        "* None\n",
        "* 날짜와 시간"
      ]
    },
    {
      "cell_type": "markdown",
      "metadata": {
        "id": "GhR-4Xd1tq-w",
        "colab_type": "text"
      },
      "source": [
        "<img src='https://github.com/psygrammer/psypy/blob/master/basic/notebooks/figures/02/01_tbl.a.2.png?raw=1'/>"
      ]
    },
    {
      "cell_type": "markdown",
      "metadata": {
        "id": "mWtp5DCxtq-w",
        "colab_type": "text"
      },
      "source": [
        "### 숫자 자료형"
      ]
    },
    {
      "cell_type": "code",
      "metadata": {
        "id": "KfYDq7MPtq-w",
        "colab_type": "code",
        "colab": {},
        "outputId": "60caf00e-6fd3-4135-8b32-f3ece7a7a846"
      },
      "source": [
        "ival = 17239871\n",
        "ival ** 6"
      ],
      "execution_count": 0,
      "outputs": [
        {
          "output_type": "execute_result",
          "data": {
            "text/plain": [
              "26254519291092456596965462913230729701102721"
            ]
          },
          "metadata": {
            "tags": []
          },
          "execution_count": 29
        }
      ]
    },
    {
      "cell_type": "code",
      "metadata": {
        "id": "9W164Fy0tq-y",
        "colab_type": "code",
        "colab": {},
        "outputId": "0a146267-6ae0-4037-ef78-f37ef417d45f"
      },
      "source": [
        "fval = 7.243\n",
        "print(fval)\n",
        "\n",
        "fval2 = 6.78e-5\n",
        "print(fval2)"
      ],
      "execution_count": 0,
      "outputs": [
        {
          "output_type": "stream",
          "text": [
            "7.243\n",
            "6.78e-05\n"
          ],
          "name": "stdout"
        }
      ]
    },
    {
      "cell_type": "code",
      "metadata": {
        "id": "6L_shm-rtq-0",
        "colab_type": "code",
        "colab": {},
        "outputId": "95b33973-7352-44ff-fc02-112d5fc1aecb"
      },
      "source": [
        "3 / 2 "
      ],
      "execution_count": 0,
      "outputs": [
        {
          "output_type": "execute_result",
          "data": {
            "text/plain": [
              "1.5"
            ]
          },
          "metadata": {
            "tags": []
          },
          "execution_count": 33
        }
      ]
    },
    {
      "cell_type": "code",
      "metadata": {
        "id": "e2l7RHDZtq-2",
        "colab_type": "code",
        "colab": {},
        "outputId": "b9a6706e-bff4-45a8-9116-5349d847baf2"
      },
      "source": [
        "3 // 2 # 나눗셈 몫"
      ],
      "execution_count": 0,
      "outputs": [
        {
          "output_type": "execute_result",
          "data": {
            "text/plain": [
              "1"
            ]
          },
          "metadata": {
            "tags": []
          },
          "execution_count": 34
        }
      ]
    },
    {
      "cell_type": "code",
      "metadata": {
        "id": "A63E4bybtq-4",
        "colab_type": "code",
        "colab": {},
        "outputId": "dc6482f2-0f14-449a-cf77-3817b32a48df"
      },
      "source": [
        "# 복소수\n",
        "cval = 1 + 2j \n",
        "cval * (1 - 2j)"
      ],
      "execution_count": 0,
      "outputs": [
        {
          "output_type": "execute_result",
          "data": {
            "text/plain": [
              "(5+0j)"
            ]
          },
          "metadata": {
            "tags": []
          },
          "execution_count": 35
        }
      ]
    },
    {
      "cell_type": "markdown",
      "metadata": {
        "id": "AB_wNJxdtq-5",
        "colab_type": "text"
      },
      "source": [
        "### 문자열"
      ]
    },
    {
      "cell_type": "code",
      "metadata": {
        "id": "GoqL_WmYtq-6",
        "colab_type": "code",
        "colab": {},
        "outputId": "98e33fa1-9bff-4fec-f30c-adc423351811"
      },
      "source": [
        "a = 'one way of writing a string'\n",
        "b = \"another way\"\n",
        "print(a)\n",
        "print(b)"
      ],
      "execution_count": 0,
      "outputs": [
        {
          "output_type": "stream",
          "text": [
            "one way of writing a string\n",
            "another way\n"
          ],
          "name": "stdout"
        }
      ]
    },
    {
      "cell_type": "code",
      "metadata": {
        "id": "HfGWuLm5tq-7",
        "colab_type": "code",
        "colab": {},
        "outputId": "690da182-1465-4ac6-9c03-127b7523be7d"
      },
      "source": [
        "c = \"\"\"\n",
        "This is a longer string that\n",
        "spans multiple lines\n",
        "\"\"\"\n",
        "print(c)"
      ],
      "execution_count": 0,
      "outputs": [
        {
          "output_type": "stream",
          "text": [
            "\n",
            "This is a longer string that\n",
            "spans multiple lines\n",
            "\n"
          ],
          "name": "stdout"
        }
      ]
    },
    {
      "cell_type": "code",
      "metadata": {
        "id": "ewvAmazJtq-9",
        "colab_type": "code",
        "colab": {},
        "outputId": "6bd7a39d-271c-49a6-9c56-004ba17dc534"
      },
      "source": [
        "a = 'this is a string'\n",
        "a[10] = f # 문자열은 이뮤터블 객체. 에러가 난다."
      ],
      "execution_count": 0,
      "outputs": [
        {
          "output_type": "error",
          "ename": "TypeError",
          "evalue": "'str' object does not support item assignment",
          "traceback": [
            "\u001b[0;31m---------------------------------------------------------------------------\u001b[0m",
            "\u001b[0;31mTypeError\u001b[0m                                 Traceback (most recent call last)",
            "\u001b[0;32m<ipython-input-38-6b21fde469fa>\u001b[0m in \u001b[0;36m<module>\u001b[0;34m()\u001b[0m\n\u001b[1;32m      1\u001b[0m \u001b[0ma\u001b[0m \u001b[0;34m=\u001b[0m \u001b[0;34m'this is a string'\u001b[0m\u001b[0;34m\u001b[0m\u001b[0;34m\u001b[0m\u001b[0m\n\u001b[0;32m----> 2\u001b[0;31m \u001b[0ma\u001b[0m\u001b[0;34m[\u001b[0m\u001b[0;36m10\u001b[0m\u001b[0;34m]\u001b[0m \u001b[0;34m=\u001b[0m \u001b[0mf\u001b[0m \u001b[0;31m# 문자열은 이뮤터블 객체. 에러가 난다.\u001b[0m\u001b[0;34m\u001b[0m\u001b[0;34m\u001b[0m\u001b[0m\n\u001b[0m",
            "\u001b[0;31mTypeError\u001b[0m: 'str' object does not support item assignment"
          ]
        }
      ]
    },
    {
      "cell_type": "code",
      "metadata": {
        "id": "4S7kDE4ttq-_",
        "colab_type": "code",
        "colab": {},
        "outputId": "8e1c75a1-cea7-4f6d-f470-fc1f63bd8a46"
      },
      "source": [
        "b = a.replace('string', 'longer strng')\n",
        "b"
      ],
      "execution_count": 0,
      "outputs": [
        {
          "output_type": "execute_result",
          "data": {
            "text/plain": [
              "'this is a longer strng'"
            ]
          },
          "metadata": {
            "tags": []
          },
          "execution_count": 39
        }
      ]
    },
    {
      "cell_type": "code",
      "metadata": {
        "id": "5v4BJC7atq_A",
        "colab_type": "code",
        "colab": {},
        "outputId": "2d9318f0-2983-43fd-f757-b2e4e91e0ac2"
      },
      "source": [
        "# str 함수를 쓰면 문자열로 변환가능.\n",
        "a = 5.6\n",
        "print(a)\n",
        "print(type(a))\n",
        "\n",
        "s = str(a)\n",
        "print(s) # 이것은 문자\n",
        "print(type(s))"
      ],
      "execution_count": 0,
      "outputs": [
        {
          "output_type": "stream",
          "text": [
            "5.6\n",
            "<class 'float'>\n",
            "5.6\n",
            "<class 'str'>\n"
          ],
          "name": "stdout"
        }
      ]
    },
    {
      "cell_type": "code",
      "metadata": {
        "id": "-M2TgwXjtq_B",
        "colab_type": "code",
        "colab": {},
        "outputId": "a7932113-87cf-47de-a35e-1182d72b531a"
      },
      "source": [
        "# 문자열은 일련된 글자의 연속. 다른 순차적인 자료형과 같이 취급\n",
        "s = 'python'\n",
        "s[:3]"
      ],
      "execution_count": 0,
      "outputs": [
        {
          "output_type": "execute_result",
          "data": {
            "text/plain": [
              "'pyt'"
            ]
          },
          "metadata": {
            "tags": []
          },
          "execution_count": 42
        }
      ]
    },
    {
      "cell_type": "code",
      "metadata": {
        "id": "LNMgnUB0tq_D",
        "colab_type": "code",
        "colab": {},
        "outputId": "bd04da4b-7d68-46b4-fe8d-ef459505cedd"
      },
      "source": [
        "# 두 문자열을 더하면 이 둘을 이어붙인 새로운 문자열을 생성. \n",
        "a = 'this is the first half'\n",
        "b = 'and this is the second half'\n",
        "a + b"
      ],
      "execution_count": 0,
      "outputs": [
        {
          "output_type": "execute_result",
          "data": {
            "text/plain": [
              "'this is the first halfand this is the second half'"
            ]
          },
          "metadata": {
            "tags": []
          },
          "execution_count": 43
        }
      ]
    },
    {
      "cell_type": "code",
      "metadata": {
        "id": "yNBYgXZOtq_F",
        "colab_type": "code",
        "colab": {},
        "outputId": "a13cf605-b13d-4b76-9f92-fdf583026035"
      },
      "source": [
        "# 포맷팅 1\n",
        "template = '%.2f %s are worth $%d'\n",
        "print(template %(4.5560, 'Argentine Pesos', 1))\n",
        "print('%.2f %s are worth $%d' %(4.5560, 'Argentine Pesos', 1))"
      ],
      "execution_count": 0,
      "outputs": [
        {
          "output_type": "stream",
          "text": [
            "4.56 Argentine Pesos are worth $1\n",
            "4.56 Argentine Pesos are worth $1\n"
          ],
          "name": "stdout"
        }
      ]
    },
    {
      "cell_type": "code",
      "metadata": {
        "id": "C2K6d4sGtq_I",
        "colab_type": "code",
        "colab": {},
        "outputId": "3396589e-9915-4762-fd41-cd20bc061828"
      },
      "source": [
        "# 포맷팅 2\n",
        "template = '{} {} are worth ${}'\n",
        "print(template.format(4.5560, 'Argentine Pesos', 1))\n",
        "print('{} {} are worth ${}'.format(4.5560, 'Argentine Pesos', 1))"
      ],
      "execution_count": 0,
      "outputs": [
        {
          "output_type": "stream",
          "text": [
            "4.556 Argentine Pesos are worth $1\n",
            "4.556 Argentine Pesos are worth $1\n"
          ],
          "name": "stdout"
        }
      ]
    },
    {
      "cell_type": "markdown",
      "metadata": {
        "id": "koNi7Kprtq_J",
        "colab_type": "text"
      },
      "source": [
        "### 불리언"
      ]
    },
    {
      "cell_type": "code",
      "metadata": {
        "id": "aVWOQljstq_J",
        "colab_type": "code",
        "colab": {},
        "outputId": "97bf3924-fed4-4ff4-c883-4be452ee4443"
      },
      "source": [
        "True and True"
      ],
      "execution_count": 0,
      "outputs": [
        {
          "output_type": "execute_result",
          "data": {
            "text/plain": [
              "True"
            ]
          },
          "metadata": {
            "tags": []
          },
          "execution_count": 52
        }
      ]
    },
    {
      "cell_type": "code",
      "metadata": {
        "id": "amMY9dxntq_L",
        "colab_type": "code",
        "colab": {},
        "outputId": "c00bbf0b-9c94-4322-df19-9fb9503f99c3"
      },
      "source": [
        "False or True"
      ],
      "execution_count": 0,
      "outputs": [
        {
          "output_type": "execute_result",
          "data": {
            "text/plain": [
              "True"
            ]
          },
          "metadata": {
            "tags": []
          },
          "execution_count": 53
        }
      ]
    },
    {
      "cell_type": "code",
      "metadata": {
        "id": "49ZIOA5Ctq_M",
        "colab_type": "code",
        "colab": {},
        "outputId": "157c399d-9f35-4184-db60-f8fbc222d6a8"
      },
      "source": [
        "bool([])"
      ],
      "execution_count": 0,
      "outputs": [
        {
          "output_type": "execute_result",
          "data": {
            "text/plain": [
              "False"
            ]
          },
          "metadata": {
            "tags": []
          },
          "execution_count": 55
        }
      ]
    },
    {
      "cell_type": "code",
      "metadata": {
        "id": "VHsKBjWdtq_O",
        "colab_type": "code",
        "colab": {},
        "outputId": "836fd6ae-95e9-4af0-bc78-ec92837c99e9"
      },
      "source": [
        "bool([1,2,3])"
      ],
      "execution_count": 0,
      "outputs": [
        {
          "output_type": "execute_result",
          "data": {
            "text/plain": [
              "True"
            ]
          },
          "metadata": {
            "tags": []
          },
          "execution_count": 56
        }
      ]
    },
    {
      "cell_type": "code",
      "metadata": {
        "id": "-d-aIl1Etq_P",
        "colab_type": "code",
        "colab": {},
        "outputId": "e8d822c4-8aa5-4a67-8c6b-c7eaa1010ffd"
      },
      "source": [
        "bool(0), bool(1)"
      ],
      "execution_count": 0,
      "outputs": [
        {
          "output_type": "execute_result",
          "data": {
            "text/plain": [
              "(False, True)"
            ]
          },
          "metadata": {
            "tags": []
          },
          "execution_count": 57
        }
      ]
    },
    {
      "cell_type": "markdown",
      "metadata": {
        "id": "zm9IV6rXtq_Q",
        "colab_type": "text"
      },
      "source": [
        "### 형변환"
      ]
    },
    {
      "cell_type": "code",
      "metadata": {
        "id": "h6x021kGtq_Q",
        "colab_type": "code",
        "colab": {},
        "outputId": "dedc4d10-2b23-4d54-f99a-2956460792bf"
      },
      "source": [
        "s = '3.14159'\n",
        "print(s)\n",
        "print(type(s))"
      ],
      "execution_count": 0,
      "outputs": [
        {
          "output_type": "stream",
          "text": [
            "3.14159\n",
            "<class 'str'>\n"
          ],
          "name": "stdout"
        }
      ]
    },
    {
      "cell_type": "code",
      "metadata": {
        "id": "BBfnuOrZtq_S",
        "colab_type": "code",
        "colab": {},
        "outputId": "f9ea3e89-e531-492d-fa69-5de51b5bc312"
      },
      "source": [
        "fval = float(s)\n",
        "print(fval)\n",
        "type(fval)"
      ],
      "execution_count": 0,
      "outputs": [
        {
          "output_type": "stream",
          "text": [
            "3.14159\n"
          ],
          "name": "stdout"
        },
        {
          "output_type": "execute_result",
          "data": {
            "text/plain": [
              "float"
            ]
          },
          "metadata": {
            "tags": []
          },
          "execution_count": 61
        }
      ]
    },
    {
      "cell_type": "code",
      "metadata": {
        "id": "xzOSQ0xMtq_T",
        "colab_type": "code",
        "colab": {},
        "outputId": "b1e0a8f5-30fc-4def-cc9b-b0dfd105b6e9"
      },
      "source": [
        "int(fval)"
      ],
      "execution_count": 0,
      "outputs": [
        {
          "output_type": "execute_result",
          "data": {
            "text/plain": [
              "3"
            ]
          },
          "metadata": {
            "tags": []
          },
          "execution_count": 62
        }
      ]
    },
    {
      "cell_type": "code",
      "metadata": {
        "id": "_rVC-Y3Htq_U",
        "colab_type": "code",
        "colab": {},
        "outputId": "c4829822-2c89-44f4-ee64-b554bd2479c9"
      },
      "source": [
        "bool(fval)"
      ],
      "execution_count": 0,
      "outputs": [
        {
          "output_type": "execute_result",
          "data": {
            "text/plain": [
              "True"
            ]
          },
          "metadata": {
            "tags": []
          },
          "execution_count": 63
        }
      ]
    },
    {
      "cell_type": "code",
      "metadata": {
        "id": "tP3-3Nsrtq_W",
        "colab_type": "code",
        "colab": {},
        "outputId": "c6d6193b-24e5-45be-d731-a48b864103d4"
      },
      "source": [
        "bool(0)"
      ],
      "execution_count": 0,
      "outputs": [
        {
          "output_type": "execute_result",
          "data": {
            "text/plain": [
              "False"
            ]
          },
          "metadata": {
            "tags": []
          },
          "execution_count": 64
        }
      ]
    },
    {
      "cell_type": "markdown",
      "metadata": {
        "id": "wpAlrLQHtq_X",
        "colab_type": "text"
      },
      "source": [
        "### None"
      ]
    },
    {
      "cell_type": "code",
      "metadata": {
        "id": "AVuq-5MLtq_X",
        "colab_type": "code",
        "colab": {},
        "outputId": "08fab4fe-3afc-40bf-b5d5-5a257dd7be89"
      },
      "source": [
        "# None은 파이썬에서 사용하는 널(null)값이다. 만약 어떤 함수에서 명시적으로 값을 반환하지 않으면 묵시적으로 None을 반환한다.\n",
        "# None은 예약어가 아니라 NoneType의 유일한 인스턴스이다.\n",
        "a = None\n",
        "a is None"
      ],
      "execution_count": 0,
      "outputs": [
        {
          "output_type": "execute_result",
          "data": {
            "text/plain": [
              "True"
            ]
          },
          "metadata": {
            "tags": []
          },
          "execution_count": 65
        }
      ]
    },
    {
      "cell_type": "code",
      "metadata": {
        "id": "NNLexwL2tq_Y",
        "colab_type": "code",
        "colab": {},
        "outputId": "caddd5d5-da85-476f-8b2c-3deca0a1f17a"
      },
      "source": [
        "b = 5\n",
        "b is None"
      ],
      "execution_count": 0,
      "outputs": [
        {
          "output_type": "execute_result",
          "data": {
            "text/plain": [
              "False"
            ]
          },
          "metadata": {
            "tags": []
          },
          "execution_count": 66
        }
      ]
    },
    {
      "cell_type": "markdown",
      "metadata": {
        "id": "9TeJkMtOtq_Z",
        "colab_type": "text"
      },
      "source": [
        "```python\n",
        "# None은 함수의 옵션 인자의 기본 값으로 흔히 사용되기도 한다.\n",
        "def add_and_maybe_multiply(a, b, c=None) :\n",
        "    result a + b\n",
        "    \n",
        "    if c is not None :\n",
        "        result = result + c\n",
        "        \n",
        "    return result\n",
        "```"
      ]
    },
    {
      "cell_type": "markdown",
      "metadata": {
        "id": "TrBMxSFgtq_a",
        "colab_type": "text"
      },
      "source": [
        "### 날짜와 시간"
      ]
    },
    {
      "cell_type": "code",
      "metadata": {
        "id": "vZIogyb_tq_a",
        "colab_type": "code",
        "colab": {},
        "outputId": "e158959b-aef6-4e01-a32e-23afd1bfd171"
      },
      "source": [
        "from datetime import datetime, date, time\n",
        "\n",
        "dt = datetime(2017, 12, 19, 13, 10, 21)\n",
        "print(dt.day)\n",
        "print(dt.minute)"
      ],
      "execution_count": 0,
      "outputs": [
        {
          "output_type": "stream",
          "text": [
            "19\n",
            "10\n"
          ],
          "name": "stdout"
        }
      ]
    },
    {
      "cell_type": "code",
      "metadata": {
        "id": "TvIPcHultq_b",
        "colab_type": "code",
        "colab": {},
        "outputId": "7b43adc7-e59d-44dd-9f19-95196957ba7a"
      },
      "source": [
        "dt.date()"
      ],
      "execution_count": 0,
      "outputs": [
        {
          "output_type": "execute_result",
          "data": {
            "text/plain": [
              "datetime.date(2017, 12, 19)"
            ]
          },
          "metadata": {
            "tags": []
          },
          "execution_count": 68
        }
      ]
    },
    {
      "cell_type": "code",
      "metadata": {
        "id": "dV5ApHADtq_c",
        "colab_type": "code",
        "colab": {},
        "outputId": "852a6e1d-c8e9-4589-b16c-627f50af5a7e"
      },
      "source": [
        "dt.time()"
      ],
      "execution_count": 0,
      "outputs": [
        {
          "output_type": "execute_result",
          "data": {
            "text/plain": [
              "datetime.time(13, 10, 21)"
            ]
          },
          "metadata": {
            "tags": []
          },
          "execution_count": 69
        }
      ]
    },
    {
      "cell_type": "code",
      "metadata": {
        "id": "Lql_JmXdtq_d",
        "colab_type": "code",
        "colab": {},
        "outputId": "a6dbe16c-494f-46c5-8d67-bbdef1af63ad"
      },
      "source": [
        "# datetime 객체를 문자열로 바꿔준다.\n",
        "dt.strftime('%m/%d/%Y %H:%M')"
      ],
      "execution_count": 0,
      "outputs": [
        {
          "output_type": "execute_result",
          "data": {
            "text/plain": [
              "'12/19/2017 13:10'"
            ]
          },
          "metadata": {
            "tags": []
          },
          "execution_count": 70
        }
      ]
    },
    {
      "cell_type": "code",
      "metadata": {
        "id": "caIzR4YDtq_f",
        "colab_type": "code",
        "colab": {},
        "outputId": "42456323-2ac8-4980-8304-6e49273e4cfd"
      },
      "source": [
        "# 문자열을 datetime 객체로 바꿔준다.\n",
        "datetime.strptime('20171219', '%Y%m%d')"
      ],
      "execution_count": 0,
      "outputs": [
        {
          "output_type": "execute_result",
          "data": {
            "text/plain": [
              "datetime.datetime(2017, 12, 19, 0, 0)"
            ]
          },
          "metadata": {
            "tags": []
          },
          "execution_count": 71
        }
      ]
    },
    {
      "cell_type": "code",
      "metadata": {
        "id": "-5USJZrgtq_g",
        "colab_type": "code",
        "colab": {},
        "outputId": "d09e3366-405c-4640-cc3e-e629113b3c06"
      },
      "source": [
        "# datetime의 특정 필드를 치환\n",
        "dt.replace(minute=0, second=0)"
      ],
      "execution_count": 0,
      "outputs": [
        {
          "output_type": "execute_result",
          "data": {
            "text/plain": [
              "datetime.datetime(2017, 12, 19, 13, 0)"
            ]
          },
          "metadata": {
            "tags": []
          },
          "execution_count": 72
        }
      ]
    },
    {
      "cell_type": "code",
      "metadata": {
        "id": "RiAVuQRItq_h",
        "colab_type": "code",
        "colab": {},
        "outputId": "86be2957-be58-4e22-8c7b-810b242a1d9f"
      },
      "source": [
        "# 두 datetime 객체의 차이는 datetime.timedelta 객체를 반환\n",
        "dt2 = datetime(2017, 12, 19, 22, 30)\n",
        "\n",
        "delta = dt2 - dt\n",
        "delta"
      ],
      "execution_count": 0,
      "outputs": [
        {
          "output_type": "execute_result",
          "data": {
            "text/plain": [
              "datetime.timedelta(0, 33579)"
            ]
          },
          "metadata": {
            "tags": []
          },
          "execution_count": 73
        }
      ]
    },
    {
      "cell_type": "code",
      "metadata": {
        "id": "sXgTnrQEtq_i",
        "colab_type": "code",
        "colab": {},
        "outputId": "d84ceffe-340b-4c67-f7de-8e77f7440843"
      },
      "source": [
        "dt"
      ],
      "execution_count": 0,
      "outputs": [
        {
          "output_type": "execute_result",
          "data": {
            "text/plain": [
              "datetime.datetime(2017, 12, 19, 13, 10, 21)"
            ]
          },
          "metadata": {
            "tags": []
          },
          "execution_count": 74
        }
      ]
    },
    {
      "cell_type": "code",
      "metadata": {
        "id": "vs0L4ANetq_j",
        "colab_type": "code",
        "colab": {},
        "outputId": "6f19d840-1116-4ea5-f01f-08ae21202e56"
      },
      "source": [
        "# datetime 객체에 timedelta 객체를 더하면 그 만큼 시간이 지연된 datetime 객체를 얻는다.\n",
        "dt + delta"
      ],
      "execution_count": 0,
      "outputs": [
        {
          "output_type": "execute_result",
          "data": {
            "text/plain": [
              "datetime.datetime(2017, 12, 19, 22, 30)"
            ]
          },
          "metadata": {
            "tags": []
          },
          "execution_count": 75
        }
      ]
    },
    {
      "cell_type": "code",
      "metadata": {
        "id": "LSsNQrnwtq_l",
        "colab_type": "code",
        "colab": {},
        "outputId": "9cdc9d2f-69da-46ac-d6bd-da4fdcc1bd2a"
      },
      "source": [
        "# 오늘\n",
        "datetime.today()"
      ],
      "execution_count": 0,
      "outputs": [
        {
          "output_type": "execute_result",
          "data": {
            "text/plain": [
              "datetime.datetime(2019, 11, 9, 8, 51, 54, 325181)"
            ]
          },
          "metadata": {
            "tags": []
          },
          "execution_count": 77
        }
      ]
    },
    {
      "cell_type": "markdown",
      "metadata": {
        "id": "qp46HUl1tq_n",
        "colab_type": "text"
      },
      "source": [
        "-------------------"
      ]
    },
    {
      "cell_type": "markdown",
      "metadata": {
        "id": "E-2pzxnetq_n",
        "colab_type": "text"
      },
      "source": [
        "## 흐름 제어"
      ]
    },
    {
      "cell_type": "markdown",
      "metadata": {
        "id": "Eu_gQF47tq_n",
        "colab_type": "text"
      },
      "source": [
        "* if, elif, else\n",
        "* for 반복문\n",
        "* while 반복문\n",
        "* pass\n",
        "* 예외 처리\n",
        "* range와 xrange\n",
        "* 삼단 표현"
      ]
    },
    {
      "cell_type": "markdown",
      "metadata": {
        "id": "S8bQZeHytq_n",
        "colab_type": "text"
      },
      "source": [
        "### if, elif, else"
      ]
    },
    {
      "cell_type": "code",
      "metadata": {
        "id": "LnLd12xDtq_o",
        "colab_type": "code",
        "colab": {},
        "outputId": "c668a80f-4216-4432-e1cd-93d3bac6a637"
      },
      "source": [
        "x = 3\n",
        "\n",
        "if x < 0 :\n",
        "    print(\"It's nagative\")\n",
        "    \n",
        "    \n",
        "if x < 0 : \n",
        "    print('a')\n",
        "elif x == 0 :\n",
        "    print('b')\n",
        "elif 0 < x < 5 :\n",
        "    print('c')\n",
        "else :\n",
        "    print('d')"
      ],
      "execution_count": 0,
      "outputs": [
        {
          "output_type": "stream",
          "text": [
            "c\n"
          ],
          "name": "stdout"
        }
      ]
    },
    {
      "cell_type": "markdown",
      "metadata": {
        "id": "38atZfqCtq_p",
        "colab_type": "text"
      },
      "source": [
        "### for 반복문"
      ]
    },
    {
      "cell_type": "code",
      "metadata": {
        "id": "AYa9X9vptq_p",
        "colab_type": "code",
        "colab": {},
        "outputId": "ae7d67ff-ba5e-415d-e99b-9531b3d64a7e"
      },
      "source": [
        "sequence = [1, 2, None, 4, None, 5]\n",
        "\n",
        "total = 0\n",
        "for value in sequence :\n",
        "    if value is None :\n",
        "        continue\n",
        "    total += value\n",
        "    \n",
        "print(value)"
      ],
      "execution_count": 0,
      "outputs": [
        {
          "output_type": "stream",
          "text": [
            "5\n"
          ],
          "name": "stdout"
        }
      ]
    },
    {
      "cell_type": "code",
      "metadata": {
        "id": "f6JvMvUCtq_r",
        "colab_type": "code",
        "colab": {},
        "outputId": "69ec7bb5-9f73-4365-e08e-955956f2076a"
      },
      "source": [
        "range(5)"
      ],
      "execution_count": 0,
      "outputs": [
        {
          "output_type": "execute_result",
          "data": {
            "text/plain": [
              "range(0, 5)"
            ]
          },
          "metadata": {
            "tags": []
          },
          "execution_count": 80
        }
      ]
    },
    {
      "cell_type": "code",
      "metadata": {
        "id": "5XlopHpltq_s",
        "colab_type": "code",
        "colab": {},
        "outputId": "7efb5c32-9e3b-46bc-bed6-501e8448c053"
      },
      "source": [
        "for i in range(5) :\n",
        "    print(i)"
      ],
      "execution_count": 0,
      "outputs": [
        {
          "output_type": "stream",
          "text": [
            "0\n",
            "1\n",
            "2\n",
            "3\n",
            "4\n"
          ],
          "name": "stdout"
        }
      ]
    },
    {
      "cell_type": "markdown",
      "metadata": {
        "id": "gLURB-hwtq_t",
        "colab_type": "text"
      },
      "source": [
        "### while 반복문"
      ]
    },
    {
      "cell_type": "code",
      "metadata": {
        "id": "rckdt-ZZtq_t",
        "colab_type": "code",
        "colab": {},
        "outputId": "0601b39f-5bbc-4c1f-b663-0690336483a8"
      },
      "source": [
        "x = 256\n",
        "\n",
        "total = 0\n",
        "\n",
        "while x > 0 :\n",
        "    if total > 500 :\n",
        "        break\n",
        "    total += x\n",
        "    x = x // 2\n",
        "\n",
        "print(x)"
      ],
      "execution_count": 0,
      "outputs": [
        {
          "output_type": "stream",
          "text": [
            "4\n"
          ],
          "name": "stdout"
        }
      ]
    },
    {
      "cell_type": "markdown",
      "metadata": {
        "id": "pLA5tTQhtq_v",
        "colab_type": "text"
      },
      "source": [
        "### pass"
      ]
    },
    {
      "cell_type": "code",
      "metadata": {
        "id": "f-16jh6vtq_v",
        "colab_type": "code",
        "colab": {}
      },
      "source": [
        "# pass는 파이썬의 아무것도 하지 않음을 나타냄\n",
        "\n",
        "x = 0\n",
        "\n",
        "if x < 0 :\n",
        "    print('negative!')\n",
        "elif x == 0 :\n",
        "    # TODO : 나중에 뭔가 추가해야 함\n",
        "    pass\n",
        "else :\n",
        "    print('positive!')"
      ],
      "execution_count": 0,
      "outputs": []
    },
    {
      "cell_type": "markdown",
      "metadata": {
        "id": "eUv7JjxVtq_w",
        "colab_type": "text"
      },
      "source": [
        "### 예외 처리"
      ]
    },
    {
      "cell_type": "code",
      "metadata": {
        "id": "KKssHJYhtq_x",
        "colab_type": "code",
        "colab": {},
        "outputId": "29300126-2de9-465a-931c-f9c56d7410de"
      },
      "source": [
        "float('1.2345')"
      ],
      "execution_count": 0,
      "outputs": [
        {
          "output_type": "execute_result",
          "data": {
            "text/plain": [
              "1.2345"
            ]
          },
          "metadata": {
            "tags": []
          },
          "execution_count": 84
        }
      ]
    },
    {
      "cell_type": "code",
      "metadata": {
        "id": "HoeEsUn7tq_y",
        "colab_type": "code",
        "colab": {},
        "outputId": "49431f19-7e57-45fd-f857-9597544ca905"
      },
      "source": [
        "float('something')"
      ],
      "execution_count": 0,
      "outputs": [
        {
          "output_type": "error",
          "ename": "ValueError",
          "evalue": "could not convert string to float: 'something'",
          "traceback": [
            "\u001b[0;31m---------------------------------------------------------------------------\u001b[0m",
            "\u001b[0;31mValueError\u001b[0m                                Traceback (most recent call last)",
            "\u001b[0;32m<ipython-input-85-2649e4ade0e6>\u001b[0m in \u001b[0;36m<module>\u001b[0;34m()\u001b[0m\n\u001b[0;32m----> 1\u001b[0;31m \u001b[0mfloat\u001b[0m\u001b[0;34m(\u001b[0m\u001b[0;34m'something'\u001b[0m\u001b[0;34m)\u001b[0m\u001b[0;34m\u001b[0m\u001b[0;34m\u001b[0m\u001b[0m\n\u001b[0m",
            "\u001b[0;31mValueError\u001b[0m: could not convert string to float: 'something'"
          ]
        }
      ]
    },
    {
      "cell_type": "code",
      "metadata": {
        "id": "P7efkdfptq_z",
        "colab_type": "code",
        "colab": {}
      },
      "source": [
        "def attempt_float(x) :\n",
        "    try :\n",
        "        return float(x)\n",
        "    except :\n",
        "        return x"
      ],
      "execution_count": 0,
      "outputs": []
    },
    {
      "cell_type": "code",
      "metadata": {
        "id": "VOvS609otq_0",
        "colab_type": "code",
        "colab": {},
        "outputId": "8cc51825-8b8e-41ae-a51e-0f662ba739cd"
      },
      "source": [
        "attempt_float('1.2345')"
      ],
      "execution_count": 0,
      "outputs": [
        {
          "output_type": "execute_result",
          "data": {
            "text/plain": [
              "1.2345"
            ]
          },
          "metadata": {
            "tags": []
          },
          "execution_count": 87
        }
      ]
    },
    {
      "cell_type": "code",
      "metadata": {
        "id": "RT9Rut4_tq_2",
        "colab_type": "code",
        "colab": {},
        "outputId": "c5abbbfa-deec-49ec-cb7a-2642697743ca"
      },
      "source": [
        "attempt_float('something')"
      ],
      "execution_count": 0,
      "outputs": [
        {
          "output_type": "execute_result",
          "data": {
            "text/plain": [
              "'something'"
            ]
          },
          "metadata": {
            "tags": []
          },
          "execution_count": 88
        }
      ]
    },
    {
      "cell_type": "markdown",
      "metadata": {
        "id": "Vezf6kIgtq_3",
        "colab_type": "text"
      },
      "source": [
        "### range"
      ]
    },
    {
      "cell_type": "code",
      "metadata": {
        "id": "8U8bCsE_tq_3",
        "colab_type": "code",
        "colab": {},
        "outputId": "06c36c38-71bc-48f5-f455-a9fb92002828"
      },
      "source": [
        "range(10)"
      ],
      "execution_count": 0,
      "outputs": [
        {
          "output_type": "execute_result",
          "data": {
            "text/plain": [
              "range(0, 10)"
            ]
          },
          "metadata": {
            "tags": []
          },
          "execution_count": 89
        }
      ]
    },
    {
      "cell_type": "code",
      "metadata": {
        "id": "gV-KMNUMtq_4",
        "colab_type": "code",
        "colab": {},
        "outputId": "56a5ad2b-485c-4735-d052-c5280d59920a"
      },
      "source": [
        "range(0, 20, 2)"
      ],
      "execution_count": 0,
      "outputs": [
        {
          "output_type": "execute_result",
          "data": {
            "text/plain": [
              "range(0, 20, 2)"
            ]
          },
          "metadata": {
            "tags": []
          },
          "execution_count": 90
        }
      ]
    },
    {
      "cell_type": "code",
      "metadata": {
        "id": "pJCJedeMtq_5",
        "colab_type": "code",
        "colab": {},
        "outputId": "ed33711c-02ef-4a9b-85c2-5bb337733309"
      },
      "source": [
        "seq = [1, 2, 3, 4]\n",
        "for i in range(len(seq)) :\n",
        "    val = seq[i]\n",
        "    print(val)"
      ],
      "execution_count": 0,
      "outputs": [
        {
          "output_type": "stream",
          "text": [
            "1\n",
            "2\n",
            "3\n",
            "4\n"
          ],
          "name": "stdout"
        }
      ]
    },
    {
      "cell_type": "markdown",
      "metadata": {
        "id": "sFEj58JMtq_6",
        "colab_type": "text"
      },
      "source": [
        "### 삼단 표현"
      ]
    },
    {
      "cell_type": "markdown",
      "metadata": {
        "id": "_DirVvlotq_6",
        "colab_type": "text"
      },
      "source": [
        "```python\n",
        "# if-else 블록을 한 줄로 표현 가능\n",
        "value = true-expr if condition else false-expr\n",
        "```"
      ]
    },
    {
      "cell_type": "markdown",
      "metadata": {
        "id": "zpg7bOfptq_7",
        "colab_type": "text"
      },
      "source": [
        "```python\n",
        "# 위 코드는 다음과 동일\n",
        "if condtion :\n",
        "    value = true-expr\n",
        "else :\n",
        "    value = false-expr\n",
        "```    "
      ]
    },
    {
      "cell_type": "code",
      "metadata": {
        "id": "v4h45pc4tq_7",
        "colab_type": "code",
        "colab": {},
        "outputId": "13249205-ec0b-4634-d457-7960fb2e8081"
      },
      "source": [
        "x = 5\n",
        "\n",
        "'Non-negative' if x >=0 else 'Negative'"
      ],
      "execution_count": 0,
      "outputs": [
        {
          "output_type": "execute_result",
          "data": {
            "text/plain": [
              "'Non-negative'"
            ]
          },
          "metadata": {
            "tags": []
          },
          "execution_count": 92
        }
      ]
    },
    {
      "cell_type": "markdown",
      "metadata": {
        "id": "h-ez_KUktq_8",
        "colab_type": "text"
      },
      "source": [
        "-----------------------"
      ]
    },
    {
      "cell_type": "markdown",
      "metadata": {
        "id": "enVnM5lKtq_8",
        "colab_type": "text"
      },
      "source": [
        "# 참고자료 \n",
        "* [1] 파이썬 라이브러리를 활용한 데이터 분석(2판)\n",
        "    - http://www.hanbit.co.kr/store/books/look.php?p_code=B6417848794"
      ]
    }
  ]
}