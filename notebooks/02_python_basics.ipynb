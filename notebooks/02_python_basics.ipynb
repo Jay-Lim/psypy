{
  "nbformat": 4,
  "nbformat_minor": 0,
  "metadata": {
    "colab": {
      "name": "02_python_basics.ipynb",
      "provenance": [],
      "include_colab_link": true
    },
    "kernelspec": {
      "display_name": "Python 3",
      "language": "python",
      "name": "python3"
    },
    "language_info": {
      "codemirror_mode": {
        "name": "ipython",
        "version": 3
      },
      "file_extension": ".py",
      "mimetype": "text/x-python",
      "name": "python",
      "nbconvert_exporter": "python",
      "pygments_lexer": "ipython3",
      "version": "3.6.8"
    }
  },
  "cells": [
    {
      "cell_type": "markdown",
      "metadata": {
        "id": "view-in-github",
        "colab_type": "text"
      },
      "source": [
        "<a href=\"https://colab.research.google.com/github/psygrammer/psypy/blob/master/notebooks/02_python_basics.ipynb\" target=\"_parent\"><img src=\"https://colab.research.google.com/assets/colab-badge.svg\" alt=\"Open In Colab\"/></a>"
      ]
    },
    {
      "cell_type": "markdown",
      "metadata": {
        "id": "P3-OfUP7WWCH",
        "colab_type": "text"
      },
      "source": [
        "# 02. Python Language Basics"
      ]
    },
    {
      "cell_type": "markdown",
      "metadata": {
        "id": "LYmez5PPWLPd",
        "colab_type": "text"
      },
      "source": [
        "* 싸이그래머 / PsyPy [1]\n",
        "* 김무성"
      ]
    },
    {
      "cell_type": "code",
      "metadata": {
        "id": "zdYGbz9ZWd9x",
        "colab_type": "code",
        "colab": {
          "base_uri": "https://localhost:8080/",
          "height": 35
        },
        "outputId": "a70499d3-fb3b-492a-9979-f18a92a2ae20"
      },
      "source": [
        "!python -V"
      ],
      "execution_count": 1,
      "outputs": [
        {
          "output_type": "stream",
          "text": [
            "Python 3.6.8\n"
          ],
          "name": "stdout"
        }
      ]
    },
    {
      "cell_type": "markdown",
      "metadata": {
        "id": "PW0BQZxVWLPe",
        "colab_type": "text"
      },
      "source": [
        "# 차례"
      ]
    },
    {
      "cell_type": "markdown",
      "metadata": {
        "id": "y1U2wXyFWLPf",
        "colab_type": "text"
      },
      "source": [
        "파이썬 인터프리터 \n",
        "\n",
        "시멘틱\n",
        "* 들여쓰기\n",
        "* 모든 것은 객체\n",
        "* 주석\n",
        "* 함수와 객체 메서드 호출\n",
        "* 변수와 참조에 의한 전달\n",
        "* 동적 참조와 강한 타입\n",
        "* 속성과 메서드\n",
        "* 덕 타이핑\n",
        "* 모듈 import\n",
        "* 이항연산자와 비교문\n",
        "* 평가 방식\n",
        "* 뮤터블, 이뮤터블 객체\n",
        "\n",
        "스칼라형<br>\n",
        "\n",
        "흐름 제어"
      ]
    },
    {
      "cell_type": "markdown",
      "metadata": {
        "id": "nHMNlpWJWLPg",
        "colab_type": "text"
      },
      "source": [
        "-----------------------"
      ]
    },
    {
      "cell_type": "markdown",
      "metadata": {
        "id": "mSwa8VAoWLPg",
        "colab_type": "text"
      },
      "source": [
        "## 파이썬 인터프리터"
      ]
    },
    {
      "cell_type": "markdown",
      "metadata": {
        "id": "rIhO_0niWLPh",
        "colab_type": "text"
      },
      "source": [
        "* 파이썬은 인터프리터 언어 (한 번에 하나의 명령어만 실행)\n",
        "* 데이터 분석가들은 기본 인터프리터 보다 ipython을 사용하는 경향(그런데 이것도 점점 jupyther notebook 으로 -> 다시 Google Colab으로 이동중)"
      ]
    },
    {
      "cell_type": "markdown",
      "metadata": {
        "id": "XIUyuQ0eWLPi",
        "colab_type": "text"
      },
      "source": [
        "-----------------------"
      ]
    },
    {
      "cell_type": "markdown",
      "metadata": {
        "id": "aTEKhunFWLPj",
        "colab_type": "text"
      },
      "source": [
        "## 시멘틱"
      ]
    },
    {
      "cell_type": "markdown",
      "metadata": {
        "id": "FLoAeAY1WLPj",
        "colab_type": "text"
      },
      "source": [
        "### 들여쓰기"
      ]
    },
    {
      "cell_type": "markdown",
      "metadata": {
        "id": "X3_vNTPeWLPk",
        "colab_type": "text"
      },
      "source": [
        "```python\n",
        "for x in array :\n",
        "    if x < pivot :\n",
        "        less.append(x)\n",
        "    else :\n",
        "        qreater.append(x)\n",
        "```        "
      ]
    },
    {
      "cell_type": "markdown",
      "metadata": {
        "id": "UrcI6HUWWLPl",
        "colab_type": "text"
      },
      "source": [
        "```python\n",
        "a = 5; b = 6; c = 7;  # 한 줄에 문장이 여럿일 때는 구분하기 위해 ;을 쓴다. 하지만 파이썬에서는 가독성 때문에 권하지 않는다.\n",
        "```"
      ]
    },
    {
      "cell_type": "markdown",
      "metadata": {
        "id": "4FzfTBChWLPm",
        "colab_type": "text"
      },
      "source": [
        "### 모든 것은 객체 "
      ]
    },
    {
      "cell_type": "markdown",
      "metadata": {
        "id": "qnbCWh5UWLPn",
        "colab_type": "text"
      },
      "source": [
        "객체 모델의 일관성은 파이썬의 중요한 특징. 모든 숫자, 문자열, 자료 구조, 함수, 클래스, 모듈 등은 파이썬 인터프리터에서 파이썬 객체로 저장된다. 함수마저 하나의 객체로 간주한다."
      ]
    },
    {
      "cell_type": "markdown",
      "metadata": {
        "id": "n3nAGEHPWLPo",
        "colab_type": "text"
      },
      "source": [
        "### 함수와 객체 메서드 호출"
      ]
    },
    {
      "cell_type": "markdown",
      "metadata": {
        "id": "HtHBVCQAWLPp",
        "colab_type": "text"
      },
      "source": [
        "```python\n",
        "# 함수 호출\n",
        "result = f(x, y, z)\n",
        "g()\n",
        "\n",
        "# 메서드 - 객체가 포함하고 있는 함수\n",
        "obj.some_method(x, y, z)\n",
        "\n",
        "# 함수는 순서별(일반) 인자와 키워드 인자를 동시에 받을 수 있다.\n",
        "result = f(a, b, c, d=5, e='foo')\n",
        "```"
      ]
    },
    {
      "cell_type": "markdown",
      "metadata": {
        "id": "vhPdV9upWLPp",
        "colab_type": "text"
      },
      "source": [
        "### 변수와 참조에 의한 전달"
      ]
    },
    {
      "cell_type": "code",
      "metadata": {
        "id": "Z68B3tPAWLPq",
        "colab_type": "code",
        "colab": {
          "base_uri": "https://localhost:8080/",
          "height": 53
        },
        "outputId": "62a1f1ae-a6ec-4322-ebde-1cff13afe872"
      },
      "source": [
        "a = [1, 2, 3]\n",
        "print(a)\n",
        "\n",
        "b = a\n",
        "\n",
        "a.append(4)\n",
        "\n",
        "print(b)"
      ],
      "execution_count": 2,
      "outputs": [
        {
          "output_type": "stream",
          "text": [
            "[1, 2, 3]\n",
            "[1, 2, 3, 4]\n"
          ],
          "name": "stdout"
        }
      ]
    },
    {
      "cell_type": "markdown",
      "metadata": {
        "id": "q-qYFs5TWLPu",
        "colab_type": "text"
      },
      "source": [
        "<img src='https://github.com/psygrammer/psypy/blob/master/notebooks/figures/02/01_fig.a.1.png?raw=1'/>"
      ]
    },
    {
      "cell_type": "code",
      "metadata": {
        "id": "PBHzkpXKWLPv",
        "colab_type": "code",
        "colab": {},
        "outputId": "f03210f2-019f-4d43-b643-8708ea402010"
      },
      "source": [
        "def append_element(some_list, element) :\n",
        "    some_list.append(element)\n",
        "    \n",
        "data = [1, 2, 3]\n",
        "append_element(data, 4)\n",
        "data"
      ],
      "execution_count": 0,
      "outputs": [
        {
          "output_type": "execute_result",
          "data": {
            "text/plain": [
              "[1, 2, 3, 4]"
            ]
          },
          "metadata": {
            "tags": []
          },
          "execution_count": 2
        }
      ]
    },
    {
      "cell_type": "code",
      "metadata": {
        "id": "Bsq21K0QWLPx",
        "colab_type": "code",
        "colab": {}
      },
      "source": [
        ""
      ],
      "execution_count": 0,
      "outputs": []
    }
  ]
}