{
  "nbformat": 4,
  "nbformat_minor": 0,
  "metadata": {
    "colab": {
      "name": "04_numpy_basics.ipynb",
      "provenance": [],
      "include_colab_link": true
    },
    "kernelspec": {
      "name": "python3",
      "display_name": "Python 3"
    }
  },
  "cells": [
    {
      "cell_type": "markdown",
      "metadata": {
        "id": "view-in-github",
        "colab_type": "text"
      },
      "source": [
        "<a href=\"https://colab.research.google.com/github/psygrammer/psypy/blob/master/notebooks/04_numpy_basics.ipynb\" target=\"_parent\"><img src=\"https://colab.research.google.com/assets/colab-badge.svg\" alt=\"Open In Colab\"/></a>"
      ]
    },
    {
      "cell_type": "markdown",
      "metadata": {
        "id": "TcTNTRuQ6LlD",
        "colab_type": "text"
      },
      "source": [
        "# 4 NumPy 기본: 배열과 벡터 연산"
      ]
    },
    {
      "cell_type": "markdown",
      "metadata": {
        "id": "rg-IJQuE6IQG",
        "colab_type": "text"
      },
      "source": [
        "* 싸이그래머 / PsyPy [1]\n",
        "* 김무성"
      ]
    },
    {
      "cell_type": "code",
      "metadata": {
        "id": "QHE4MrIt5KVQ",
        "colab_type": "code",
        "colab": {
          "base_uri": "https://localhost:8080/",
          "height": 34
        },
        "outputId": "353797c7-b97c-4dfe-e98f-cb53a4135cf9"
      },
      "source": [
        "!python -V"
      ],
      "execution_count": 1,
      "outputs": [
        {
          "output_type": "stream",
          "text": [
            "Python 3.6.8\n"
          ],
          "name": "stdout"
        }
      ]
    },
    {
      "cell_type": "markdown",
      "metadata": {
        "id": "Q-U8T-Y960v9",
        "colab_type": "text"
      },
      "source": [
        "# 차례\n",
        "* NumPy란?\n",
        "* NumPy ndarray : 다차원 배열 객체\n",
        "* ndarray의 자료형\n",
        "* NumPy 기본 연산\n",
        "* NumPy와 선형대수"
      ]
    },
    {
      "cell_type": "markdown",
      "metadata": {
        "id": "nGQAah7Y7Opx",
        "colab_type": "text"
      },
      "source": [
        "----------------------------"
      ]
    }
  ]
}