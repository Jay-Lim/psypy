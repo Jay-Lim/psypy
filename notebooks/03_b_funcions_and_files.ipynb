{
  "nbformat": 4,
  "nbformat_minor": 0,
  "metadata": {
    "colab": {
      "name": "03_b_funcions_and_files.ipynb",
      "provenance": [],
      "include_colab_link": true
    },
    "kernelspec": {
      "display_name": "Python 3",
      "language": "python",
      "name": "python3"
    },
    "language_info": {
      "codemirror_mode": {
        "name": "ipython",
        "version": 3
      },
      "file_extension": ".py",
      "mimetype": "text/x-python",
      "name": "python",
      "nbconvert_exporter": "python",
      "pygments_lexer": "ipython3",
      "version": "3.6.8"
    }
  },
  "cells": [
    {
      "cell_type": "markdown",
      "metadata": {
        "id": "view-in-github",
        "colab_type": "text"
      },
      "source": [
        "<a href=\"https://colab.research.google.com/github/psygrammer/psypy/blob/master/notebooks/03_b_funcions_and_files.ipynb\" target=\"_parent\"><img src=\"https://colab.research.google.com/assets/colab-badge.svg\" alt=\"Open In Colab\"/></a>"
      ]
    },
    {
      "cell_type": "markdown",
      "metadata": {
        "id": "v-I6Tqd9vArs",
        "colab_type": "text"
      },
      "source": [
        "# 03. 내장 자료구조, 함수, 파일 (2)"
      ]
    },
    {
      "cell_type": "markdown",
      "metadata": {
        "id": "pqoPQ4JLu2YV",
        "colab_type": "text"
      },
      "source": [
        "* 싸이그래머 / PsyPy [1]\n",
        "* 김무성"
      ]
    },
    {
      "cell_type": "code",
      "metadata": {
        "id": "THweB5Tzu2YW",
        "colab_type": "code",
        "outputId": "b6d64cac-89e4-4e72-f5f0-b13db3e18f91",
        "colab": {
          "base_uri": "https://localhost:8080/",
          "height": 34
        }
      },
      "source": [
        "!python -V"
      ],
      "execution_count": 1,
      "outputs": [
        {
          "output_type": "stream",
          "text": [
            "Python 3.6.8\n"
          ],
          "name": "stdout"
        }
      ]
    },
    {
      "cell_type": "markdown",
      "metadata": {
        "id": "OkoN1Swsu2YZ",
        "colab_type": "text"
      },
      "source": [
        "# 차례 \n",
        "* 함수\n",
        "    - 네임스페이스, 스코프, 지역 함수\n",
        "    - 여러 값 반환하기\n",
        "    - 함수도 객체다\n",
        "    - 익명 함수\n",
        "    - 클로저 : 함수를 반환하는 함수\n",
        "    - \\*args와  \\*\\*kwargs를 사용해서 호출 문법 확장하기  \n",
        "    - 커링 : 일부 인자만 취하기\n",
        "    - 제너레이터\n",
        "    - 에러와 예외 다루기\n",
        "* 파일과 운영체제\n",
        "    - 바이트와 유니코드 파일\n",
        "* 클래스\n",
        "* 함수형 프로그래밍\n",
        "  - map\n",
        "  - filter\n",
        "  - reduce"
      ]
    },
    {
      "cell_type": "markdown",
      "metadata": {
        "id": "PQGfnCP8u2Ya",
        "colab_type": "text"
      },
      "source": [
        "------------------------"
      ]
    },
    {
      "cell_type": "markdown",
      "metadata": {
        "id": "KOEuB8XCu2Yb",
        "colab_type": "text"
      },
      "source": [
        "# 함수"
      ]
    },
    {
      "cell_type": "markdown",
      "metadata": {
        "id": "dcV0A_DGu2Yd",
        "colab_type": "text"
      },
      "source": [
        "```python\n",
        "def my_function(x, y, z=1.5) :\n",
        "    if z > 1 :\n",
        "        return z * (x + y)\n",
        "    else :\n",
        "        return z / (x + y)\n",
        "    \n",
        "# return문이 몇 개가 되든 상관없다. \n",
        "# 함수 블록이 끝날 때까지 return문이 없다면 None이 반환된다.   \n",
        "```"
      ]
    },
    {
      "cell_type": "markdown",
      "metadata": {
        "id": "p9yu8JPhu2Ye",
        "colab_type": "text"
      },
      "source": [
        "## 네임스페이스, 스코프, 지역 함수"
      ]
    },
    {
      "cell_type": "markdown",
      "metadata": {
        "id": "IACL_twju2Ye",
        "colab_type": "text"
      },
      "source": [
        "```python\n",
        "# 로컬\n",
        "def func() :\n",
        "    a = []  # <- local\n",
        "    for i in range(5) :\n",
        "        a.append(i)\n",
        "```        "
      ]
    },
    {
      "cell_type": "markdown",
      "metadata": {
        "id": "6HbhKQ-yu2Yf",
        "colab_type": "text"
      },
      "source": [
        "```python\n",
        "# 전역 \n",
        "a = []\n",
        "def func() :\n",
        "    for i in range(5) :\n",
        "        a.append(i)\n",
        "        \n",
        "func()\n",
        "a\n",
        "```"
      ]
    },
    {
      "cell_type": "code",
      "metadata": {
        "id": "rxPyir7eu2Yg",
        "colab_type": "code",
        "outputId": "c4db6927-82dd-4b3e-f115-37a1a74c2707",
        "colab": {
          "base_uri": "https://localhost:8080/",
          "height": 34
        }
      },
      "source": [
        "b = None\n",
        "def bind_b_variable() :\n",
        "    b = []\n",
        "    \n",
        "bind_b_variable()    \n",
        "print(b)    "
      ],
      "execution_count": 2,
      "outputs": [
        {
          "output_type": "stream",
          "text": [
            "None\n"
          ],
          "name": "stdout"
        }
      ]
    },
    {
      "cell_type": "code",
      "metadata": {
        "id": "4dxygrahu2Yi",
        "colab_type": "code",
        "outputId": "9ec8ee99-710d-4be7-a268-7b66110db6c3",
        "colab": {
          "base_uri": "https://localhost:8080/",
          "height": 34
        }
      },
      "source": [
        "# global 예약어 사용\n",
        "b = None\n",
        "def bind_b_variable() :\n",
        "    global b\n",
        "    b = []\n",
        "\n",
        "bind_b_variable()\n",
        "print(b)"
      ],
      "execution_count": 3,
      "outputs": [
        {
          "output_type": "stream",
          "text": [
            "[]\n"
          ],
          "name": "stdout"
        }
      ]
    },
    {
      "cell_type": "markdown",
      "metadata": {
        "id": "Q-8jHbo4u2Yl",
        "colab_type": "text"
      },
      "source": [
        "```python\n",
        "# 함수 안에서 함수를 선언할 수 있다.\n",
        "def outer_function(x, y, z) :\n",
        "    def inner_function(a, b, c) :\n",
        "        pass\n",
        "    pass\n",
        "```"
      ]
    },
    {
      "cell_type": "markdown",
      "metadata": {
        "id": "VUu8U8W7u2Yl",
        "colab_type": "text"
      },
      "source": [
        "## 여러 값 반환하기"
      ]
    },
    {
      "cell_type": "code",
      "metadata": {
        "id": "k_l0oLbCu2Ym",
        "colab_type": "code",
        "outputId": "cb3b55f1-8968-43ae-aeb6-bc212a7a7fad",
        "colab": {
          "base_uri": "https://localhost:8080/",
          "height": 34
        }
      },
      "source": [
        "def f() :\n",
        "    a = 5\n",
        "    b = 6\n",
        "    c = 7\n",
        "    return a, b, c\n",
        "\n",
        "a, b, c = f()\n",
        "print(a, b, c)"
      ],
      "execution_count": 4,
      "outputs": [
        {
          "output_type": "stream",
          "text": [
            "5 6 7\n"
          ],
          "name": "stdout"
        }
      ]
    },
    {
      "cell_type": "code",
      "metadata": {
        "id": "gGncnYipu2Yo",
        "colab_type": "code",
        "outputId": "ff5411c2-fc4d-406e-9ac2-b57f3c60b49d",
        "colab": {
          "base_uri": "https://localhost:8080/",
          "height": 34
        }
      },
      "source": [
        "return_value = f()\n",
        "return_value # 여래 개의 값을 하나의 변수에 반환받으면, 그 변수는 튜플 자료형이 된다."
      ],
      "execution_count": 5,
      "outputs": [
        {
          "output_type": "execute_result",
          "data": {
            "text/plain": [
              "(5, 6, 7)"
            ]
          },
          "metadata": {
            "tags": []
          },
          "execution_count": 5
        }
      ]
    },
    {
      "cell_type": "markdown",
      "metadata": {
        "id": "TG7CErDeu2Yr",
        "colab_type": "text"
      },
      "source": [
        "## 함수도 객체다"
      ]
    },
    {
      "cell_type": "code",
      "metadata": {
        "id": "Fag3HE6Ku2Yr",
        "colab_type": "code",
        "colab": {}
      },
      "source": [
        "states = [ '  Alabama ', 'Georgia!', 'Georgia', 'georgia', 'FlOrIda', \n",
        "          'south carolin##', 'West virginaia?']"
      ],
      "execution_count": 0,
      "outputs": []
    },
    {
      "cell_type": "markdown",
      "metadata": {
        "id": "AzfKddqVu2Yu",
        "colab_type": "text"
      },
      "source": [
        "### 문자열을 변형하기 위해 함수를 사용하는 일반적인 패턴"
      ]
    },
    {
      "cell_type": "code",
      "metadata": {
        "id": "wrhEPwb7u2Yu",
        "colab_type": "code",
        "colab": {}
      },
      "source": [
        "import re \n",
        "\n",
        "def clean_strings(strings) :\n",
        "    result = []\n",
        "    for value in strings :\n",
        "        value = value.strip()\n",
        "        value = re.sub('[!#?]', '', value) # 문장 부호 제거\n",
        "        value = value.title()\n",
        "        result.append(value)\n",
        "    return result"
      ],
      "execution_count": 0,
      "outputs": []
    },
    {
      "cell_type": "code",
      "metadata": {
        "id": "fVmHarUuu2Yw",
        "colab_type": "code",
        "outputId": "c9f3b603-6a70-43ab-d4b3-996d5cd0eb46",
        "colab": {
          "base_uri": "https://localhost:8080/",
          "height": 136
        }
      },
      "source": [
        "clean_strings(states)"
      ],
      "execution_count": 8,
      "outputs": [
        {
          "output_type": "execute_result",
          "data": {
            "text/plain": [
              "['Alabama',\n",
              " 'Georgia',\n",
              " 'Georgia',\n",
              " 'Georgia',\n",
              " 'Florida',\n",
              " 'South Carolin',\n",
              " 'West Virginaia']"
            ]
          },
          "metadata": {
            "tags": []
          },
          "execution_count": 8
        }
      ]
    },
    {
      "cell_type": "markdown",
      "metadata": {
        "id": "iCKuxqXOu2Y0",
        "colab_type": "text"
      },
      "source": [
        "### 함수를 객체화하고 인자로 넘겨서 좀 더 유연하게 사용하는 패턴"
      ]
    },
    {
      "cell_type": "code",
      "metadata": {
        "id": "oa4ISPflu2Y1",
        "colab_type": "code",
        "colab": {}
      },
      "source": [
        "def remove_punctuation(value) :\n",
        "    return re.sub('[!#?]', '', value)\n",
        "\n",
        "# 함수도 객체. \n",
        "clean_ops = [str.strip, remove_punctuation, str.title]\n",
        "\n",
        "def clean_strings(strings, ops) :\n",
        "    result = []\n",
        "    for value in strings :\n",
        "        for function in ops :\n",
        "            value = function(value) \n",
        "        result.append(value)\n",
        "    return result"
      ],
      "execution_count": 0,
      "outputs": []
    },
    {
      "cell_type": "code",
      "metadata": {
        "id": "jiScde28u2Y3",
        "colab_type": "code",
        "outputId": "0651a896-b727-403d-8cb5-a11592417f3a",
        "colab": {
          "base_uri": "https://localhost:8080/",
          "height": 136
        }
      },
      "source": [
        "clean_strings(states, clean_ops)"
      ],
      "execution_count": 10,
      "outputs": [
        {
          "output_type": "execute_result",
          "data": {
            "text/plain": [
              "['Alabama',\n",
              " 'Georgia',\n",
              " 'Georgia',\n",
              " 'Georgia',\n",
              " 'Florida',\n",
              " 'South Carolin',\n",
              " 'West Virginaia']"
            ]
          },
          "metadata": {
            "tags": []
          },
          "execution_count": 10
        }
      ]
    },
    {
      "cell_type": "code",
      "metadata": {
        "id": "ammnqhoWu2Y5",
        "colab_type": "code",
        "outputId": "2e5793c6-1008-4a60-8cf2-bd80befaa2fd",
        "colab": {
          "base_uri": "https://localhost:8080/",
          "height": 34
        }
      },
      "source": [
        "# map을 이용해본다. 어떤 컬렉션에 대해 함수를 적용하는 함수다. \n",
        "# 이를 이용해서 함수를 인자로 사용할 수 있다.\n",
        "map(remove_punctuation, states)"
      ],
      "execution_count": 11,
      "outputs": [
        {
          "output_type": "execute_result",
          "data": {
            "text/plain": [
              "<map at 0x7f9591c13ac8>"
            ]
          },
          "metadata": {
            "tags": []
          },
          "execution_count": 11
        }
      ]
    },
    {
      "cell_type": "code",
      "metadata": {
        "id": "GSssdH-0u2Y7",
        "colab_type": "code",
        "outputId": "4011b648-724a-4200-953e-95b7105a872f",
        "colab": {
          "base_uri": "https://localhost:8080/",
          "height": 136
        }
      },
      "source": [
        "for e in map(remove_punctuation, states) :\n",
        "    print(e)"
      ],
      "execution_count": 12,
      "outputs": [
        {
          "output_type": "stream",
          "text": [
            "  Alabama \n",
            "Georgia\n",
            "Georgia\n",
            "georgia\n",
            "FlOrIda\n",
            "south carolin\n",
            "West virginaia\n"
          ],
          "name": "stdout"
        }
      ]
    },
    {
      "cell_type": "markdown",
      "metadata": {
        "id": "Dtae_lMHu2Y9",
        "colab_type": "text"
      },
      "source": [
        "## 익명 함수 "
      ]
    },
    {
      "cell_type": "markdown",
      "metadata": {
        "id": "BnOxWSL2u2Y-",
        "colab_type": "text"
      },
      "source": [
        "```python\n",
        "def short_function(x) :\n",
        "    return x * 2\n",
        "\n",
        "# 위의 함수와 동치인 익명 함수(람다 함수)\n",
        "equiv_anon = lambda x: x * 2\n",
        "```"
      ]
    },
    {
      "cell_type": "code",
      "metadata": {
        "id": "4zjf8Mhru2Y-",
        "colab_type": "code",
        "outputId": "fea251c0-f26e-49d6-8c48-e4919f4cdb9d",
        "colab": {
          "base_uri": "https://localhost:8080/",
          "height": 34
        }
      },
      "source": [
        "# 각 문자열에서 다양한 문자가 포함된 순서로 정렬하는 예제\n",
        "strings = ['foo', 'card', 'bar', 'aaaa', 'abab']\n",
        "strings.sort(key=lambda x: len(set(list(x))))\n",
        "strings"
      ],
      "execution_count": 13,
      "outputs": [
        {
          "output_type": "execute_result",
          "data": {
            "text/plain": [
              "['aaaa', 'foo', 'abab', 'bar', 'card']"
            ]
          },
          "metadata": {
            "tags": []
          },
          "execution_count": 13
        }
      ]
    },
    {
      "cell_type": "markdown",
      "metadata": {
        "id": "yC_4yesw-3Ag",
        "colab_type": "text"
      },
      "source": [
        "## 클로저 : 함수를 반환하는 함수"
      ]
    },
    {
      "cell_type": "code",
      "metadata": {
        "id": "UWtGYbsY-6nt",
        "colab_type": "code",
        "colab": {}
      },
      "source": [
        "# 클로저는 다른 함수에서 반환되는, 동적으로 생성된 함수다. \n",
        "# 핵심은 반환되는 함수는 그 함수가 생성된 시점의 \n",
        "# 지역 네임스페이스의 변수에 접근할 수 있다는 점이다."
      ],
      "execution_count": 0,
      "outputs": []
    },
    {
      "cell_type": "code",
      "metadata": {
        "id": "H39kltIu-3-O",
        "colab_type": "code",
        "colab": {
          "base_uri": "https://localhost:8080/",
          "height": 51
        },
        "outputId": "2fcb0139-e055-4896-ee12-b900371fc3b3"
      },
      "source": [
        "def make_closure(a) :\n",
        "    def closure() :\n",
        "        print(\"I know the secret: %d\", a)\n",
        "    return closure\n",
        "\n",
        "closure = make_closure(5)\n",
        "closure()\n",
        "closure() # 클로저를 생성하는 함수가 끝나더라도 생성된 시점의 네임스페이스에 여전히 접근할 수 있다.\n"
      ],
      "execution_count": 15,
      "outputs": [
        {
          "output_type": "stream",
          "text": [
            "I know the secret: %d 5\n",
            "I know the secret: %d 5\n"
          ],
          "name": "stdout"
        }
      ]
    },
    {
      "cell_type": "code",
      "metadata": {
        "id": "g2rk1UDg_C75",
        "colab_type": "code",
        "colab": {}
      },
      "source": [
        "# 클로져가 변경 가능한 객체를 가질 수도 있다.\n",
        "def make_watcher() :\n",
        "    have_seen = {}\n",
        "    \n",
        "    def has_been_seen(x) :\n",
        "        if x in have_seen :\n",
        "            return True\n",
        "        else :\n",
        "            have_seen[x] = True\n",
        "            return False\n",
        "        \n",
        "    return has_been_seen"
      ],
      "execution_count": 0,
      "outputs": []
    },
    {
      "cell_type": "code",
      "metadata": {
        "id": "Gj2zPwmc_Ex9",
        "colab_type": "code",
        "colab": {
          "base_uri": "https://localhost:8080/",
          "height": 34
        },
        "outputId": "62f785a2-ca52-4d53-b9ec-2180877ee872"
      },
      "source": [
        "watcher = make_watcher()\n",
        "vals = [5, 6, 1, 5, 1, 6, 3, 5]\n",
        "[watcher(x) for x in vals]"
      ],
      "execution_count": 17,
      "outputs": [
        {
          "output_type": "execute_result",
          "data": {
            "text/plain": [
              "[False, False, False, True, True, True, False, True]"
            ]
          },
          "metadata": {
            "tags": []
          },
          "execution_count": 17
        }
      ]
    },
    {
      "cell_type": "markdown",
      "metadata": {
        "id": "msl10kGu_GSK",
        "colab_type": "text"
      },
      "source": [
        "## \\*args와  \\*\\*kwargs를 사용해서 호출 문법 확장하기  "
      ]
    },
    {
      "cell_type": "markdown",
      "metadata": {
        "id": "pWffYxVB_K-W",
        "colab_type": "text"
      },
      "source": [
        "```python\n",
        "# 파이썬에서 함수 인자가 동작하는 방식은, \n",
        "# 만약 func(a, b, c, d=some, e= value) 라고 코드를 작성하면\n",
        "# 일반 인자와 키워드 인자는 \n",
        "# 각각 튜플 args와\n",
        "# 사전 kwargs에 저장된다.\n",
        "# 내부적으로 다음과 같은 과정을 거친다\n",
        "a, b, c = args\n",
        "d = kwargs.get('d', d_default_value)\n",
        "e = kwargs.get('e', e_defaulT_value)\n",
        "```"
      ]
    },
    {
      "cell_type": "code",
      "metadata": {
        "id": "Ux2jknJ-_NV7",
        "colab_type": "code",
        "colab": {
          "base_uri": "https://localhost:8080/",
          "height": 85
        },
        "outputId": "fc2450cd-91b8-44ee-99a3-1f68e7e08514"
      },
      "source": [
        "# 예제\n",
        "def say_hello_then_call_f(f, *args, **kwargs) :\n",
        "    print('args is', args)\n",
        "    print('kwargs is', kwargs)\n",
        "    print(\"Hello! Now I'm going to call %s\" %(f))\n",
        "    return f(*args, **kwargs)\n",
        "\n",
        "def g(x, y, z=1) :\n",
        "    return (x+y)/z\n",
        "\n",
        "say_hello_then_call_f(g, 1, 2, z=5.)"
      ],
      "execution_count": 18,
      "outputs": [
        {
          "output_type": "stream",
          "text": [
            "args is (1, 2)\n",
            "kwargs is {'z': 5.0}\n",
            "Hello! Now I'm going to call <function g at 0x7f9591c278c8>\n"
          ],
          "name": "stdout"
        },
        {
          "output_type": "execute_result",
          "data": {
            "text/plain": [
              "0.6"
            ]
          },
          "metadata": {
            "tags": []
          },
          "execution_count": 18
        }
      ]
    },
    {
      "cell_type": "markdown",
      "metadata": {
        "id": "n2WgLUMP_QcX",
        "colab_type": "text"
      },
      "source": [
        "## 커링 : 일부 인자만 취하기"
      ]
    },
    {
      "cell_type": "code",
      "metadata": {
        "id": "0XcNNgKr_RN6",
        "colab_type": "code",
        "colab": {}
      },
      "source": [
        "# 함수에서 일부 인자를 고정해 새로운 함수를 만드는 기법을 커링이라고 한다.\n",
        "\n",
        "def add_numbers(x, y) :\n",
        "    return x + y\n",
        "\n",
        "# 여기서 add_numbers의 두 번째 인자가 '커리되었다'라고 한다.\n",
        "add_five = lambda y: add_numbers(5, y) \n",
        "\n",
        "\n",
        "# 다음 방식으로 더 단순하게 만들 수 있다.\n",
        "from functools import partial\n",
        "add_five = partial(add_numbers, 5)"
      ],
      "execution_count": 0,
      "outputs": []
    },
    {
      "cell_type": "markdown",
      "metadata": {
        "id": "3UWwBgYb_WW_",
        "colab_type": "text"
      },
      "source": [
        "## 제너레이터"
      ]
    },
    {
      "cell_type": "markdown",
      "metadata": {
        "id": "zAu33M9t_ZL_",
        "colab_type": "text"
      },
      "source": [
        "* 이터레이터 프로토콜\n",
        "* 제너레이터\n",
        "* 제너레이터 표현식\n",
        "* itertoos 모듈"
      ]
    },
    {
      "cell_type": "markdown",
      "metadata": {
        "id": "KgRm9Xai_bX-",
        "colab_type": "text"
      },
      "source": [
        "### 이터레이터 프로토콜"
      ]
    },
    {
      "cell_type": "code",
      "metadata": {
        "id": "CuQC5Z58_IT4",
        "colab_type": "code",
        "colab": {
          "base_uri": "https://localhost:8080/",
          "height": 68
        },
        "outputId": "f2ba4f46-8496-47c0-96c1-9cdb9355e07a"
      },
      "source": [
        "# 파이썬은 리스트 내의 객체나 파일의 각 행 같은 순차적인 자료를 순회하는 일관적인 방법을 제공한다.\n",
        "# 이터레이터 프로토콜을 이용해서 순회가 가능한 객체를 만들 수 있다.\n",
        "\n",
        "some_dict = {'a':1, 'b':2, 'c':3}\n",
        " \n",
        "# for key in some_dict 라고 작성하면 \n",
        "# 파이썬 인터프리터는 some_dict에서 이터레이터를 생성한다.    \n",
        "for key in some_dict :\n",
        "    print(key)"
      ],
      "execution_count": 20,
      "outputs": [
        {
          "output_type": "stream",
          "text": [
            "a\n",
            "b\n",
            "c\n"
          ],
          "name": "stdout"
        }
      ]
    },
    {
      "cell_type": "code",
      "metadata": {
        "id": "Gt5FZL958G1c",
        "colab_type": "code",
        "colab": {}
      },
      "source": [
        "dict_iterator = iter(some_dict)"
      ],
      "execution_count": 0,
      "outputs": []
    },
    {
      "cell_type": "code",
      "metadata": {
        "id": "BLEajoaW8SWx",
        "colab_type": "code",
        "colab": {
          "base_uri": "https://localhost:8080/",
          "height": 34
        },
        "outputId": "2c60ef21-9ba9-4920-efc2-f93292db82d6"
      },
      "source": [
        "dict_iterator"
      ],
      "execution_count": 22,
      "outputs": [
        {
          "output_type": "execute_result",
          "data": {
            "text/plain": [
              "<dict_keyiterator at 0x7f9590f94c78>"
            ]
          },
          "metadata": {
            "tags": []
          },
          "execution_count": 22
        }
      ]
    },
    {
      "cell_type": "markdown",
      "metadata": {
        "id": "819kbms18blC",
        "colab_type": "text"
      },
      "source": [
        "이터레이터는 for 문과 같은 컨텍스트에서 사용될 경우 객체를 반환한다. 리스트나 리스트와 유사한 객체를 취하는 대부분의 메서드는 순회 가능한 객체도 허용한다. 여기에는 min, max, sum 같은 내장 매서드와 list, tuple 같은 자료구조를 생성하는 메서드도 포함된다. "
      ]
    },
    {
      "cell_type": "code",
      "metadata": {
        "id": "fGCh6tol_w9n",
        "colab_type": "code",
        "colab": {
          "base_uri": "https://localhost:8080/",
          "height": 34
        },
        "outputId": "b5402321-a9fe-40af-9e03-a178160a3cc8"
      },
      "source": [
        "list(dict_iterator)"
      ],
      "execution_count": 23,
      "outputs": [
        {
          "output_type": "execute_result",
          "data": {
            "text/plain": [
              "['a', 'b', 'c']"
            ]
          },
          "metadata": {
            "tags": []
          },
          "execution_count": 23
        }
      ]
    },
    {
      "cell_type": "markdown",
      "metadata": {
        "id": "X4hyDncN_zBp",
        "colab_type": "text"
      },
      "source": [
        "### 제너레이터"
      ]
    },
    {
      "cell_type": "code",
      "metadata": {
        "id": "nKlxPN41_1Lw",
        "colab_type": "code",
        "colab": {}
      },
      "source": [
        "# 제너레이터는 순회가 가능한 객체를 생성하는 간단한 방법이다.\n",
        "# 일반 함수는 실행되면 단일 값을 반환하지만\n",
        "# 제너레이터는 순차적인 값을 매 요청 시마다 하나씩 반환한다.\n",
        "# 제너레이터를 생성하려면 함수에서 return 대신에 yeild 예약어를 사용한다.\n",
        "def squares(n=10) :\n",
        "    print('Generating squares from 1 to %d' %(n ** 2))\n",
        "    for i in range(1, n+1) :\n",
        "        yield i ** 2"
      ],
      "execution_count": 0,
      "outputs": []
    },
    {
      "cell_type": "code",
      "metadata": {
        "id": "jfde6z5c_3T9",
        "colab_type": "code",
        "colab": {
          "base_uri": "https://localhost:8080/",
          "height": 34
        },
        "outputId": "72b7f85c-4869-4c72-aafe-f6b8edbad773"
      },
      "source": [
        "gen = squares()\n",
        "gen"
      ],
      "execution_count": 25,
      "outputs": [
        {
          "output_type": "execute_result",
          "data": {
            "text/plain": [
              "<generator object squares at 0x7f9591bf9eb8>"
            ]
          },
          "metadata": {
            "tags": []
          },
          "execution_count": 25
        }
      ]
    },
    {
      "cell_type": "code",
      "metadata": {
        "id": "mAL2a9OR_5ik",
        "colab_type": "code",
        "colab": {
          "base_uri": "https://localhost:8080/",
          "height": 204
        },
        "outputId": "d4d2df01-209c-4785-f58d-6e0e40cf5a71"
      },
      "source": [
        "for x in gen :\n",
        "    print(x) "
      ],
      "execution_count": 26,
      "outputs": [
        {
          "output_type": "stream",
          "text": [
            "Generating squares from 1 to 100\n",
            "1\n",
            "4\n",
            "9\n",
            "16\n",
            "25\n",
            "36\n",
            "49\n",
            "64\n",
            "81\n",
            "100\n"
          ],
          "name": "stdout"
        }
      ]
    },
    {
      "cell_type": "markdown",
      "metadata": {
        "id": "qoXAFLDh_7qH",
        "colab_type": "text"
      },
      "source": [
        "### 제너레이터 표현식"
      ]
    },
    {
      "cell_type": "code",
      "metadata": {
        "id": "1TIcI9lx_9tH",
        "colab_type": "code",
        "colab": {
          "base_uri": "https://localhost:8080/",
          "height": 34
        },
        "outputId": "562822c0-b6fe-46e4-cee0-07c5a734f5be"
      },
      "source": [
        "# 제너레이터를 만드는 간단한 방법은 제너레이터 표현식을 사용하는 것이다.\n",
        "gen = (x ** 2 for x in range(100))\n",
        "gen"
      ],
      "execution_count": 27,
      "outputs": [
        {
          "output_type": "execute_result",
          "data": {
            "text/plain": [
              "<generator object <genexpr> at 0x7f9591bf9048>"
            ]
          },
          "metadata": {
            "tags": []
          },
          "execution_count": 27
        }
      ]
    },
    {
      "cell_type": "code",
      "metadata": {
        "id": "ELK9dWlM__3j",
        "colab_type": "code",
        "colab": {
          "base_uri": "https://localhost:8080/",
          "height": 34
        },
        "outputId": "cda11cd1-08f9-4234-b6b1-23e0d5f1a3f9"
      },
      "source": [
        "# 위의 코드는 다음 코드와 동일하다\n",
        "def _make_gen() :\n",
        "    for x in range(100) :\n",
        "        yield x ** 2\n",
        "        \n",
        "gen = _make_gen()\n",
        "gen"
      ],
      "execution_count": 28,
      "outputs": [
        {
          "output_type": "execute_result",
          "data": {
            "text/plain": [
              "<generator object _make_gen at 0x7f9591bf93b8>"
            ]
          },
          "metadata": {
            "tags": []
          },
          "execution_count": 28
        }
      ]
    },
    {
      "cell_type": "code",
      "metadata": {
        "id": "kzzaE7_yAB4N",
        "colab_type": "code",
        "colab": {
          "base_uri": "https://localhost:8080/",
          "height": 34
        },
        "outputId": "fe9245c2-c6c8-4e71-e0fd-b97453130de2"
      },
      "source": [
        "# 예제\n",
        "max(x ** 2 for x in range(100))"
      ],
      "execution_count": 29,
      "outputs": [
        {
          "output_type": "execute_result",
          "data": {
            "text/plain": [
              "9801"
            ]
          },
          "metadata": {
            "tags": []
          },
          "execution_count": 29
        }
      ]
    },
    {
      "cell_type": "code",
      "metadata": {
        "id": "moIEdvF4AD2m",
        "colab_type": "code",
        "colab": {
          "base_uri": "https://localhost:8080/",
          "height": 34
        },
        "outputId": "aad46cf5-0992-47ba-cad1-d8527f1cdecd"
      },
      "source": [
        "dict((i, i**2) for i in range(5))"
      ],
      "execution_count": 30,
      "outputs": [
        {
          "output_type": "execute_result",
          "data": {
            "text/plain": [
              "{0: 0, 1: 1, 2: 4, 3: 9, 4: 16}"
            ]
          },
          "metadata": {
            "tags": []
          },
          "execution_count": 30
        }
      ]
    },
    {
      "cell_type": "markdown",
      "metadata": {
        "id": "zSkzF-O3AHHl",
        "colab_type": "text"
      },
      "source": [
        "### itertools 모듈"
      ]
    },
    {
      "cell_type": "code",
      "metadata": {
        "id": "Gb8IzIKOAF9L",
        "colab_type": "code",
        "colab": {
          "base_uri": "https://localhost:8080/",
          "height": 85
        },
        "outputId": "41869bd3-637f-45a7-830a-5f951170c660"
      },
      "source": [
        "# 일반 데이터 알고리즘을 위한 제너레이터를 포함\n",
        "import itertools\n",
        "\n",
        "# 예를 들어 groupby는 순차 자료 구조와 함수를 인자로 받아,\n",
        "# 인자로 받은 함수에서 반환하는 값에 따라 그룹을 지어준다.\n",
        "first_letter = lambda x : x[0]\n",
        "\n",
        "names = ['Alan', 'Adam', 'Wes', 'Will', 'Albert', 'Steven']\n",
        "\n",
        "for letter, names in itertools.groupby(names, first_letter) :\n",
        "    print(letter, list(names))\n"
      ],
      "execution_count": 31,
      "outputs": [
        {
          "output_type": "stream",
          "text": [
            "A ['Alan', 'Adam']\n",
            "W ['Wes', 'Will']\n",
            "A ['Albert']\n",
            "S ['Steven']\n"
          ],
          "name": "stdout"
        }
      ]
    },
    {
      "cell_type": "markdown",
      "metadata": {
        "id": "KPDKPmtLiF-L",
        "colab_type": "text"
      },
      "source": [
        "---------------------------------"
      ]
    },
    {
      "cell_type": "markdown",
      "metadata": {
        "id": "NbABZw3jiIf7",
        "colab_type": "text"
      },
      "source": [
        "# 파일과 운영체제 [1, 2]\n",
        "* 파일 읽기\n",
        "* with 문 사용\n",
        "* 파일을 읽는 여러 가지 방법\n",
        "* 파일 쓰기\n",
        "* 바이트와 유니코드"
      ]
    },
    {
      "cell_type": "markdown",
      "metadata": {
        "id": "XwFQLs0_nHqu",
        "colab_type": "text"
      },
      "source": [
        "------------------------------"
      ]
    },
    {
      "cell_type": "markdown",
      "metadata": {
        "id": "bBDIUu-OnKbJ",
        "colab_type": "text"
      },
      "source": [
        "실습할 파일을 준비.(웹에서 가져오기 - urllib 사용)"
      ]
    },
    {
      "cell_type": "code",
      "metadata": {
        "id": "HufXDpaS9VTJ",
        "colab_type": "code",
        "colab": {
          "base_uri": "https://localhost:8080/",
          "height": 34
        },
        "outputId": "150d41e0-5878-4cc9-edb7-116e041c5648"
      },
      "source": [
        "%ls"
      ],
      "execution_count": 32,
      "outputs": [
        {
          "output_type": "stream",
          "text": [
            "\u001b[0m\u001b[01;34mexamples\u001b[0m/  \u001b[01;34msample_data\u001b[0m/\n"
          ],
          "name": "stdout"
        }
      ]
    },
    {
      "cell_type": "code",
      "metadata": {
        "id": "QE7djT7hihh5",
        "colab_type": "code",
        "colab": {}
      },
      "source": [
        "# 우선 파일을 가져와보자.\n",
        "\n",
        "## 1. 디렉토리 만들기\n",
        "import os\n",
        "\n",
        "dir_name = \"examples\"\n",
        "if not os.path.exists(dir_name) :\n",
        "  os.mkdir(dir_name)"
      ],
      "execution_count": 0,
      "outputs": []
    },
    {
      "cell_type": "code",
      "metadata": {
        "id": "_oPCi6KgjI8C",
        "colab_type": "code",
        "outputId": "df9bb99b-6638-40cd-bfa0-6d47de38713c",
        "colab": {
          "base_uri": "https://localhost:8080/",
          "height": 34
        }
      },
      "source": [
        "# example 디렉토리가 생겼다.\n",
        "%ls"
      ],
      "execution_count": 34,
      "outputs": [
        {
          "output_type": "stream",
          "text": [
            "\u001b[0m\u001b[01;34mexamples\u001b[0m/  \u001b[01;34msample_data\u001b[0m/\n"
          ],
          "name": "stdout"
        }
      ]
    },
    {
      "cell_type": "code",
      "metadata": {
        "id": "kh54LecRjckX",
        "colab_type": "code",
        "colab": {
          "base_uri": "https://localhost:8080/",
          "height": 34
        },
        "outputId": "d90bc0b1-ea2c-4b15-af48-2705cd27c791"
      },
      "source": [
        "# 지금은 디렉토리 안에 아무 파일도 없다.\n",
        "%ls examples/"
      ],
      "execution_count": 35,
      "outputs": [
        {
          "output_type": "stream",
          "text": [
            "segismundo.txt\n"
          ],
          "name": "stdout"
        }
      ]
    },
    {
      "cell_type": "code",
      "metadata": {
        "id": "tEYHYFlqjM7F",
        "colab_type": "code",
        "colab": {}
      },
      "source": [
        "# 2. 파일 가져오기 - [1]의 예제소스 github의 파일들을 주소로 접근해서 가져온다.\n",
        "\n",
        "import urllib.request\n",
        "\n",
        "url = 'https://raw.githubusercontent.com/wesm/pydata-book/2nd-edition/examples/segismundo.txt'\n",
        "file_name = \"examples/segismundo.txt\" \n",
        "with urllib.request.urlopen(url) as r:\n",
        "  doc = r.read()\n",
        "  with open(file_name, \"wb\") as f:\n",
        "    f.write(doc)"
      ],
      "execution_count": 0,
      "outputs": []
    },
    {
      "cell_type": "code",
      "metadata": {
        "id": "1I9OuDudlfyP",
        "colab_type": "code",
        "outputId": "440c17a7-28d1-46f3-da82-b9e11b0f4b63",
        "colab": {
          "base_uri": "https://localhost:8080/",
          "height": 34
        }
      },
      "source": [
        "# 다운로드 완료. 파일이 생겼다.\n",
        "%ls examples/"
      ],
      "execution_count": 37,
      "outputs": [
        {
          "output_type": "stream",
          "text": [
            "segismundo.txt\n"
          ],
          "name": "stdout"
        }
      ]
    },
    {
      "cell_type": "code",
      "metadata": {
        "id": "7nucMFIhmxEY",
        "colab_type": "code",
        "outputId": "05eb437c-2d70-401c-ca2d-11f218c1d16c",
        "colab": {
          "base_uri": "https://localhost:8080/",
          "height": 187
        }
      },
      "source": [
        "# 내용를 한번 살펴보자 \n",
        "!head examples/segismundo.txt"
      ],
      "execution_count": 38,
      "outputs": [
        {
          "output_type": "stream",
          "text": [
            "Sueña el rico en su riqueza,\n",
            "que más cuidados le ofrece;\n",
            "\n",
            "sueña el pobre que padece\n",
            "su miseria y su pobreza;\n",
            "\n",
            "sueña el que a medrar empieza,\n",
            "sueña el que afana y pretende,\n",
            "sueña el que agravia y ofende,\n",
            "\n"
          ],
          "name": "stdout"
        }
      ]
    },
    {
      "cell_type": "markdown",
      "metadata": {
        "id": "HsrpMugXnd5I",
        "colab_type": "text"
      },
      "source": [
        "--------------"
      ]
    },
    {
      "cell_type": "markdown",
      "metadata": {
        "id": "OpC9MxToniFm",
        "colab_type": "text"
      },
      "source": [
        "## 파일 읽기"
      ]
    },
    {
      "cell_type": "markdown",
      "metadata": {
        "id": "kBmBYC79-8Ib",
        "colab_type": "text"
      },
      "source": [
        "| 파일열기모드\t| 설명 \n",
        "| :------------- | :-------------\n",
        "|r\t| 읽기모드 - 파일을 읽기만 할 때 사용\n",
        "|w\t| 쓰기모드 - 파일에 내용을 쓸 때 사용\n",
        "|a\t| 추가모드 - 파일의 마지막에 새로운 내용을 추가 시킬 때 사용"
      ]
    },
    {
      "cell_type": "markdown",
      "metadata": {
        "id": "sFbzIhiq9k66",
        "colab_type": "text"
      },
      "source": [
        "파일을 읽고 쓰기 위해서는 내장 함수인 open을 이용해서 파일의 상대 경로나 절대 경로를 넘겨주어야 한다."
      ]
    },
    {
      "cell_type": "code",
      "metadata": {
        "id": "9_S3Tioxnf-Z",
        "colab_type": "code",
        "colab": {}
      },
      "source": [
        "path = \"examples/segismundo.txt\""
      ],
      "execution_count": 0,
      "outputs": []
    },
    {
      "cell_type": "code",
      "metadata": {
        "id": "EJWUIVaPnqZz",
        "colab_type": "code",
        "colab": {}
      },
      "source": [
        "f = open(path)"
      ],
      "execution_count": 0,
      "outputs": []
    },
    {
      "cell_type": "markdown",
      "metadata": {
        "id": "4HIR5roQoI4M",
        "colab_type": "text"
      },
      "source": [
        "기본적으로 파일은 읽기 전용 모드인 'r'로 열린다. 파일 핸들 f를 리스트로 생각할 수 있으며 파일의 매 줄을 순회할 수 있다."
      ]
    },
    {
      "cell_type": "code",
      "metadata": {
        "id": "S9tvYrDTnv4g",
        "colab_type": "code",
        "outputId": "f3b23aab-f5ff-4d6b-cfee-1aa382eba4c9",
        "colab": {
          "base_uri": "https://localhost:8080/",
          "height": 493
        }
      },
      "source": [
        "for line in f:\n",
        "  print(line) # 여기서 줄별로 처리할 코드를 넣으면 된다."
      ],
      "execution_count": 42,
      "outputs": [
        {
          "output_type": "stream",
          "text": [
            "Sueña el rico en su riqueza,\n",
            "\n",
            "que más cuidados le ofrece;\n",
            "\n",
            "\n",
            "\n",
            "sueña el pobre que padece\n",
            "\n",
            "su miseria y su pobreza;\n",
            "\n",
            "\n",
            "\n",
            "sueña el que a medrar empieza,\n",
            "\n",
            "sueña el que afana y pretende,\n",
            "\n",
            "sueña el que agravia y ofende,\n",
            "\n",
            "\n",
            "\n",
            "y en el mundo, en conclusión,\n",
            "\n",
            "todos sueñan lo que son,\n",
            "\n",
            "aunque ninguno lo entiende.\n",
            "\n",
            "\n",
            "\n"
          ],
          "name": "stdout"
        }
      ]
    },
    {
      "cell_type": "markdown",
      "metadata": {
        "id": "AN9CIuX8oFYU",
        "colab_type": "text"
      },
      "source": [
        "파일에서 읽은 줄은 줄끝(end-of-line, EOL) 문자가 그대로 남아 있으므로 파일에서 읽은 줄에서 이를 제거하는 다음과 같은 코드를 많이 사용한다.(string의 rstrip() 혹은 strip() 코드를 적용)"
      ]
    },
    {
      "cell_type": "code",
      "metadata": {
        "id": "x06NJ_5Dn5xS",
        "colab_type": "code",
        "colab": {}
      },
      "source": [
        "lines = [x.rstrip() for x in open(path)]"
      ],
      "execution_count": 0,
      "outputs": []
    },
    {
      "cell_type": "code",
      "metadata": {
        "id": "IQyq2H8ioBWH",
        "colab_type": "code",
        "outputId": "f6234af0-d66a-44d9-bdde-81b4b9557a92",
        "colab": {
          "base_uri": "https://localhost:8080/",
          "height": 255
        }
      },
      "source": [
        "lines"
      ],
      "execution_count": 44,
      "outputs": [
        {
          "output_type": "execute_result",
          "data": {
            "text/plain": [
              "['Sueña el rico en su riqueza,',\n",
              " 'que más cuidados le ofrece;',\n",
              " '',\n",
              " 'sueña el pobre que padece',\n",
              " 'su miseria y su pobreza;',\n",
              " '',\n",
              " 'sueña el que a medrar empieza,',\n",
              " 'sueña el que afana y pretende,',\n",
              " 'sueña el que agravia y ofende,',\n",
              " '',\n",
              " 'y en el mundo, en conclusión,',\n",
              " 'todos sueñan lo que son,',\n",
              " 'aunque ninguno lo entiende.',\n",
              " '']"
            ]
          },
          "metadata": {
            "tags": []
          },
          "execution_count": 44
        }
      ]
    },
    {
      "cell_type": "markdown",
      "metadata": {
        "id": "DqkLAAwnpIN6",
        "colab_type": "text"
      },
      "source": [
        "파일 객체를 생성하기 위해 open을 사용했다면 작업이 끝났을 때 명시적으로 닫아주어야 한다. 파일을 닫으면 해당 자원을 운영체제로 되돌려준다."
      ]
    },
    {
      "cell_type": "code",
      "metadata": {
        "id": "1uCQg7r8pClB",
        "colab_type": "code",
        "colab": {}
      },
      "source": [
        "f.close()"
      ],
      "execution_count": 0,
      "outputs": []
    },
    {
      "cell_type": "code",
      "metadata": {
        "id": "N6QyEexkpVCd",
        "colab_type": "code",
        "colab": {}
      },
      "source": [
        "# 위의 코드들을 한번에 쓰면 다음과 같다. \n",
        "path = \"examples/segismundo.txt\"\n",
        "f = open(path)\n",
        "for line in f:\n",
        "  lines = [x.strip() for x in open(path)] # 오른쪽 끝만 정리하는 rstrip 대신에 줄의 양쪽 끝을 다 정리하는 strip 함수 사용"
      ],
      "execution_count": 0,
      "outputs": []
    },
    {
      "cell_type": "code",
      "metadata": {
        "id": "s0zYPXXC9x4x",
        "colab_type": "code",
        "colab": {
          "base_uri": "https://localhost:8080/",
          "height": 255
        },
        "outputId": "f1965f0b-b656-428c-ecc9-8e168a64302f"
      },
      "source": [
        "lines"
      ],
      "execution_count": 49,
      "outputs": [
        {
          "output_type": "execute_result",
          "data": {
            "text/plain": [
              "['Sueña el rico en su riqueza,',\n",
              " 'que más cuidados le ofrece;',\n",
              " '',\n",
              " 'sueña el pobre que padece',\n",
              " 'su miseria y su pobreza;',\n",
              " '',\n",
              " 'sueña el que a medrar empieza,',\n",
              " 'sueña el que afana y pretende,',\n",
              " 'sueña el que agravia y ofende,',\n",
              " '',\n",
              " 'y en el mundo, en conclusión,',\n",
              " 'todos sueñan lo que son,',\n",
              " 'aunque ninguno lo entiende.',\n",
              " '']"
            ]
          },
          "metadata": {
            "tags": []
          },
          "execution_count": 49
        }
      ]
    },
    {
      "cell_type": "markdown",
      "metadata": {
        "id": "EAJI2cnRtVAO",
        "colab_type": "text"
      },
      "source": [
        "## With 문 사용"
      ]
    },
    {
      "cell_type": "markdown",
      "metadata": {
        "id": "U9wFdNSjteZ3",
        "colab_type": "text"
      },
      "source": [
        "with 문을 사용하면 파일 작업이 끝날을 때 필요한 작업을 쉽게 처리할 수 있다."
      ]
    },
    {
      "cell_type": "code",
      "metadata": {
        "id": "E_wmCqEap3ck",
        "colab_type": "code",
        "colab": {}
      },
      "source": [
        "# 위의 코드와 동일한 기능. with 문 사용.\n",
        "# 이렇게 하면 with 블록이 끝나는 시점에 파일 핸들 f를 자동으로 닫아준다.  \n",
        "with open(path) as f:\n",
        "  lines = [x.strip() for x in f]\n"
      ],
      "execution_count": 0,
      "outputs": []
    },
    {
      "cell_type": "code",
      "metadata": {
        "id": "GgUw5M9O90kE",
        "colab_type": "code",
        "colab": {
          "base_uri": "https://localhost:8080/",
          "height": 255
        },
        "outputId": "e383eaa1-5654-4866-8d0c-98975f6e176c"
      },
      "source": [
        "lines"
      ],
      "execution_count": 51,
      "outputs": [
        {
          "output_type": "execute_result",
          "data": {
            "text/plain": [
              "['Sueña el rico en su riqueza,',\n",
              " 'que más cuidados le ofrece;',\n",
              " '',\n",
              " 'sueña el pobre que padece',\n",
              " 'su miseria y su pobreza;',\n",
              " '',\n",
              " 'sueña el que a medrar empieza,',\n",
              " 'sueña el que afana y pretende,',\n",
              " 'sueña el que agravia y ofende,',\n",
              " '',\n",
              " 'y en el mundo, en conclusión,',\n",
              " 'todos sueñan lo que son,',\n",
              " 'aunque ninguno lo entiende.',\n",
              " '']"
            ]
          },
          "metadata": {
            "tags": []
          },
          "execution_count": 51
        }
      ]
    },
    {
      "cell_type": "markdown",
      "metadata": {
        "id": "Q0Z1Cqi8_mLh",
        "colab_type": "text"
      },
      "source": [
        "## 파일을 읽는 여러 가지 방법\n",
        "* readline\n",
        "* readlines\n",
        "* read\n",
        "* seek\n",
        "* tell"
      ]
    },
    {
      "cell_type": "markdown",
      "metadata": {
        "id": "ikTDjVQUAQAW",
        "colab_type": "text"
      },
      "source": [
        "### readline"
      ]
    },
    {
      "cell_type": "code",
      "metadata": {
        "id": "PvQSvAi8ARX7",
        "colab_type": "code",
        "colab": {
          "base_uri": "https://localhost:8080/",
          "height": 51
        },
        "outputId": "c34a0efb-3696-4bba-db6e-ebcf8420eac6"
      },
      "source": [
        "# 줄 단위로 가져옴. 현재 코드는 한줄만.\n",
        "with open(path) as f:\n",
        "  line = f.readline()\n",
        "  print(line)"
      ],
      "execution_count": 53,
      "outputs": [
        {
          "output_type": "stream",
          "text": [
            "Sueña el rico en su riqueza,\n",
            "\n"
          ],
          "name": "stdout"
        }
      ]
    },
    {
      "cell_type": "code",
      "metadata": {
        "id": "NnXPSYnvAw5G",
        "colab_type": "code",
        "colab": {
          "base_uri": "https://localhost:8080/",
          "height": 493
        },
        "outputId": "65e654f1-81e8-4228-8a64-274bd85fa78d"
      },
      "source": [
        "# 전체 다 가져오려면\n",
        "with open(path) as f:\n",
        "  while True:\n",
        "    line = f.readline()\n",
        "    if not line: break\n",
        "    print(line)"
      ],
      "execution_count": 54,
      "outputs": [
        {
          "output_type": "stream",
          "text": [
            "Sueña el rico en su riqueza,\n",
            "\n",
            "que más cuidados le ofrece;\n",
            "\n",
            "\n",
            "\n",
            "sueña el pobre que padece\n",
            "\n",
            "su miseria y su pobreza;\n",
            "\n",
            "\n",
            "\n",
            "sueña el que a medrar empieza,\n",
            "\n",
            "sueña el que afana y pretende,\n",
            "\n",
            "sueña el que agravia y ofende,\n",
            "\n",
            "\n",
            "\n",
            "y en el mundo, en conclusión,\n",
            "\n",
            "todos sueñan lo que son,\n",
            "\n",
            "aunque ninguno lo entiende.\n",
            "\n",
            "\n",
            "\n"
          ],
          "name": "stdout"
        }
      ]
    },
    {
      "cell_type": "markdown",
      "metadata": {
        "id": "dZHDNjQvBDLg",
        "colab_type": "text"
      },
      "source": [
        "### readlines"
      ]
    },
    {
      "cell_type": "code",
      "metadata": {
        "id": "IZT5VSTdBJdA",
        "colab_type": "code",
        "colab": {
          "base_uri": "https://localhost:8080/",
          "height": 54
        },
        "outputId": "7a3f4c1d-f178-40e2-cf79-00aca4f872b3"
      },
      "source": [
        "# 줄 단위로 가져오는데, 한번에 다 읽기\n",
        "with open(path) as f:\n",
        "  lines = f.readlines()\n",
        "  \n",
        "print(lines)"
      ],
      "execution_count": 57,
      "outputs": [
        {
          "output_type": "stream",
          "text": [
            "['Sueña el rico en su riqueza,\\n', 'que más cuidados le ofrece;\\n', '\\n', 'sueña el pobre que padece\\n', 'su miseria y su pobreza;\\n', '\\n', 'sueña el que a medrar empieza,\\n', 'sueña el que afana y pretende,\\n', 'sueña el que agravia y ofende,\\n', '\\n', 'y en el mundo, en conclusión,\\n', 'todos sueñan lo que son,\\n', 'aunque ninguno lo entiende.\\n', '\\n']\n"
          ],
          "name": "stdout"
        }
      ]
    },
    {
      "cell_type": "markdown",
      "metadata": {
        "id": "he7Q6feWBW2Q",
        "colab_type": "text"
      },
      "source": [
        "### read"
      ]
    },
    {
      "cell_type": "code",
      "metadata": {
        "id": "fadjpFXgBdfn",
        "colab_type": "code",
        "colab": {
          "base_uri": "https://localhost:8080/",
          "height": 272
        },
        "outputId": "b7d07c8b-2809-42fa-b2b8-e354a321d746"
      },
      "source": [
        "# 파일 전체를 한번에 다 읽어서, 하나의 문자열로 반환.\n",
        "with open(path) as f:\n",
        "  doc = f.read()\n",
        "  \n",
        "print(doc)"
      ],
      "execution_count": 58,
      "outputs": [
        {
          "output_type": "stream",
          "text": [
            "Sueña el rico en su riqueza,\n",
            "que más cuidados le ofrece;\n",
            "\n",
            "sueña el pobre que padece\n",
            "su miseria y su pobreza;\n",
            "\n",
            "sueña el que a medrar empieza,\n",
            "sueña el que afana y pretende,\n",
            "sueña el que agravia y ofende,\n",
            "\n",
            "y en el mundo, en conclusión,\n",
            "todos sueñan lo que son,\n",
            "aunque ninguno lo entiende.\n",
            "\n",
            "\n"
          ],
          "name": "stdout"
        }
      ]
    },
    {
      "cell_type": "code",
      "metadata": {
        "id": "sxOgyXkuDbyI",
        "colab_type": "code",
        "colab": {
          "base_uri": "https://localhost:8080/",
          "height": 34
        },
        "outputId": "8a8d473a-88ef-4a08-b250-8cc948360464"
      },
      "source": [
        "# 특정 개수만큼의 문자까지만 읽을 수도 있다.\n",
        "# '문자'는 인코딩(UTF-8)으로 결정되거나 이진 모드일 경우 단순히 바이트로 결정된다.\n",
        "with open(path) as f:\n",
        "  s = f.read(10)\n",
        "  \n",
        "print(s)"
      ],
      "execution_count": 59,
      "outputs": [
        {
          "output_type": "stream",
          "text": [
            "Sueña el r\n"
          ],
          "name": "stdout"
        }
      ]
    },
    {
      "cell_type": "code",
      "metadata": {
        "id": "tUUjMXOeD4pD",
        "colab_type": "code",
        "colab": {
          "base_uri": "https://localhost:8080/",
          "height": 34
        },
        "outputId": "f0e3555b-cdba-480c-9704-801a84eb924f"
      },
      "source": [
        "with open(path, 'rb') as f: # 이진 모드\n",
        "  s = f.read(10)\n",
        "  \n",
        "print(s)"
      ],
      "execution_count": 60,
      "outputs": [
        {
          "output_type": "stream",
          "text": [
            "b'Sue\\xc3\\xb1a el '\n"
          ],
          "name": "stdout"
        }
      ]
    },
    {
      "cell_type": "markdown",
      "metadata": {
        "id": "IVcFXFXUEV5Y",
        "colab_type": "text"
      },
      "source": [
        "### tell"
      ]
    },
    {
      "cell_type": "code",
      "metadata": {
        "id": "997KMKXHElJb",
        "colab_type": "code",
        "colab": {
          "base_uri": "https://localhost:8080/",
          "height": 51
        },
        "outputId": "78b55c19-7a76-43fa-e5be-4352b33e3f96"
      },
      "source": [
        "# read 메서드는 읽은 바이트만큼 파일 핸들의 위치를 옮긴다. \n",
        "# tell 메서드는 현재 위치를 알려준다.\n",
        "with open(path) as f:\n",
        "  s = f.read(10)\n",
        "  print(f.tell())\n",
        "  \n",
        "print(s)"
      ],
      "execution_count": 61,
      "outputs": [
        {
          "output_type": "stream",
          "text": [
            "11\n",
            "Sueña el r\n"
          ],
          "name": "stdout"
        }
      ]
    },
    {
      "cell_type": "markdown",
      "metadata": {
        "id": "aN6rRpzpFfwj",
        "colab_type": "text"
      },
      "source": [
        "위의 경우 파일에서 10개의 문자를 읽었어도 위치가 11인 이유는 기본 인코딩에서 10개의 문자를 디코딩하기 위해 그 만큼의 바이트가 필요했기 때문이다. "
      ]
    },
    {
      "cell_type": "code",
      "metadata": {
        "id": "ha-PEhCKFZhM",
        "colab_type": "code",
        "colab": {
          "base_uri": "https://localhost:8080/",
          "height": 51
        },
        "outputId": "73f9c002-72f4-4b28-8bf6-7f8b593ab4b0"
      },
      "source": [
        "# 이진 모드에서는 정확히 나온다.\n",
        "with open(path, 'rb') as f: # 이진 모드\n",
        "  s = f.read(10)\n",
        "  print(f.tell())\n",
        "  \n",
        "print(s)"
      ],
      "execution_count": 62,
      "outputs": [
        {
          "output_type": "stream",
          "text": [
            "10\n",
            "b'Sue\\xc3\\xb1a el '\n"
          ],
          "name": "stdout"
        }
      ]
    },
    {
      "cell_type": "markdown",
      "metadata": {
        "id": "yqSPUZVoGFwR",
        "colab_type": "text"
      },
      "source": [
        "시스템의 기본 인코딩은 sys 모듈에서 확인할 수 있다."
      ]
    },
    {
      "cell_type": "code",
      "metadata": {
        "id": "co6K8nIPF_0j",
        "colab_type": "code",
        "colab": {
          "base_uri": "https://localhost:8080/",
          "height": 34
        },
        "outputId": "66543d9b-e30b-44a4-cfaf-3c434944244d"
      },
      "source": [
        "import sys\n",
        "\n",
        "sys.getdefaultencoding()"
      ],
      "execution_count": 63,
      "outputs": [
        {
          "output_type": "execute_result",
          "data": {
            "text/plain": [
              "'utf-8'"
            ]
          },
          "metadata": {
            "tags": []
          },
          "execution_count": 63
        }
      ]
    },
    {
      "cell_type": "markdown",
      "metadata": {
        "id": "7WhG4LubGMZ0",
        "colab_type": "text"
      },
      "source": [
        "### seek"
      ]
    },
    {
      "cell_type": "code",
      "metadata": {
        "id": "3F1KCKLxGRcm",
        "colab_type": "code",
        "colab": {
          "base_uri": "https://localhost:8080/",
          "height": 34
        },
        "outputId": "12a0d6e3-4e75-444d-c1b0-009ce9297d0c"
      },
      "source": [
        "# seek 메서드는 파일 핸들의 위치를 해당 파일에서 지정한 바이트 위치로 옮긴다.\n",
        "with open(path) as f: \n",
        "  f.seek(3)\n",
        "  s = f.read(10)\n",
        "  \n",
        "print(s)"
      ],
      "execution_count": 65,
      "outputs": [
        {
          "output_type": "stream",
          "text": [
            "ña el rico\n"
          ],
          "name": "stdout"
        }
      ]
    },
    {
      "cell_type": "markdown",
      "metadata": {
        "id": "DnGmQdWBGxT9",
        "colab_type": "text"
      },
      "source": [
        "## 파일 쓰기"
      ]
    },
    {
      "cell_type": "markdown",
      "metadata": {
        "id": "8DxwFOxDJbuK",
        "colab_type": "text"
      },
      "source": [
        "파일에 텍스트를 기록하려면 'w' 옵션으로 쓰기모드로 파일을 만들고, write나 writenlines 메서드를 이용하면 된다."
      ]
    },
    {
      "cell_type": "code",
      "metadata": {
        "id": "ESpX4SLjJUr9",
        "colab_type": "code",
        "colab": {}
      },
      "source": [
        "# 쓸 파일 이름\n",
        "dst_path = \"examples/tmp.txt\""
      ],
      "execution_count": 0,
      "outputs": []
    },
    {
      "cell_type": "code",
      "metadata": {
        "id": "hoOfTzNbJxyZ",
        "colab_type": "code",
        "colab": {
          "base_uri": "https://localhost:8080/",
          "height": 34
        },
        "outputId": "173c27e4-cdec-4fcc-bb6e-0d92d1405ac2"
      },
      "source": [
        "# 아직은 파일이 생성되지 않았다. \n",
        "%ls examples/"
      ],
      "execution_count": 67,
      "outputs": [
        {
          "output_type": "stream",
          "text": [
            "segismundo.txt\n"
          ],
          "name": "stdout"
        }
      ]
    },
    {
      "cell_type": "code",
      "metadata": {
        "id": "3x2qf3Q9J6MO",
        "colab_type": "code",
        "colab": {}
      },
      "source": [
        "# 빈 파일 생성\n",
        "with open(dst_path, 'w') as f:\n",
        "  pass # 아무것도 하지 않는다."
      ],
      "execution_count": 0,
      "outputs": []
    },
    {
      "cell_type": "code",
      "metadata": {
        "id": "gjPASvATKFwd",
        "colab_type": "code",
        "colab": {
          "base_uri": "https://localhost:8080/",
          "height": 34
        },
        "outputId": "b2ddc6ea-ebbb-4675-e731-40e768a1adf8"
      },
      "source": [
        "# 새 파일이 생성되지 않았다. \n",
        "%ls examples/"
      ],
      "execution_count": 69,
      "outputs": [
        {
          "output_type": "stream",
          "text": [
            "segismundo.txt  tmp.txt\n"
          ],
          "name": "stdout"
        }
      ]
    },
    {
      "cell_type": "code",
      "metadata": {
        "id": "uI7beXgRKJuj",
        "colab_type": "code",
        "colab": {}
      },
      "source": [
        "# 파일 안에는 아무것도 쓰여지지 않았다.\n",
        "%cat examples/tmp.txt"
      ],
      "execution_count": 0,
      "outputs": []
    },
    {
      "cell_type": "code",
      "metadata": {
        "id": "ZMTaeaHtKT35",
        "colab_type": "code",
        "colab": {}
      },
      "source": [
        "with open(dst_path, 'w') as f:\n",
        "  f.write(\"Hello world!\") # write 메서드는 줄 뛰우기('\\n')는 해주지 않는다\n",
        "  f.write(\"Hello Python!\\n\") # 줄 뛰우기('\\n')를 직접 해줘야 한다.\n",
        "  f.write(\"Hello PsyPy!\")"
      ],
      "execution_count": 0,
      "outputs": []
    },
    {
      "cell_type": "code",
      "metadata": {
        "id": "y8EbeeTsK6jW",
        "colab_type": "code",
        "colab": {
          "base_uri": "https://localhost:8080/",
          "height": 51
        },
        "outputId": "8c033560-5bbf-4a7b-f145-86e440bbf732"
      },
      "source": [
        "%cat examples/tmp.txt"
      ],
      "execution_count": 75,
      "outputs": [
        {
          "output_type": "stream",
          "text": [
            "Hello world!Hello Python!\n",
            "Hello PsyPy!"
          ],
          "name": "stdout"
        }
      ]
    },
    {
      "cell_type": "code",
      "metadata": {
        "id": "ohqYAL5nLGTl",
        "colab_type": "code",
        "colab": {}
      },
      "source": [
        "# 'w' 모드로 열면 원래 파일의 내용을 덮어써버린다. \n",
        "with open(dst_path, 'w') as f:\n",
        "  f.write(\"Hi PsyPy~\")"
      ],
      "execution_count": 0,
      "outputs": []
    },
    {
      "cell_type": "code",
      "metadata": {
        "id": "mQU5AcmVLW9r",
        "colab_type": "code",
        "colab": {
          "base_uri": "https://localhost:8080/",
          "height": 34
        },
        "outputId": "1ec930d3-a4cf-47a9-9804-c968f21e445b"
      },
      "source": [
        "%cat examples/tmp.txt"
      ],
      "execution_count": 77,
      "outputs": [
        {
          "output_type": "stream",
          "text": [
            "Hi PsyPy~"
          ],
          "name": "stdout"
        }
      ]
    },
    {
      "cell_type": "code",
      "metadata": {
        "id": "Tvmcst39LnwF",
        "colab_type": "code",
        "colab": {}
      },
      "source": [
        "# 'a' 모드로 열면 원래 파일의 내용에 이어서 쓴다. \n",
        "with open(dst_path, 'a') as f:\n",
        "  f.write(\"!!!\")"
      ],
      "execution_count": 0,
      "outputs": []
    },
    {
      "cell_type": "code",
      "metadata": {
        "id": "rn6g-pIDL7Ex",
        "colab_type": "code",
        "colab": {
          "base_uri": "https://localhost:8080/",
          "height": 34
        },
        "outputId": "60702155-287f-47a2-c09a-f9b4c43f8d32"
      },
      "source": [
        "%cat examples/tmp.txt"
      ],
      "execution_count": 79,
      "outputs": [
        {
          "output_type": "stream",
          "text": [
            "Hi PsyPy~!!!"
          ],
          "name": "stdout"
        }
      ]
    },
    {
      "cell_type": "code",
      "metadata": {
        "id": "QVlRnCdJL-YX",
        "colab_type": "code",
        "colab": {}
      },
      "source": [
        "# 'a' 모드로 열었는데 해당 이름의 파일이 없으면 새로 만들어서 쓴다.\n",
        "with open(\"examples/tmp2.txt\", 'a') as f:\n",
        "  f.write(\"!!!\")"
      ],
      "execution_count": 0,
      "outputs": []
    },
    {
      "cell_type": "code",
      "metadata": {
        "id": "7z26jsAVNaSp",
        "colab_type": "code",
        "colab": {
          "base_uri": "https://localhost:8080/",
          "height": 34
        },
        "outputId": "732f49de-ce2e-4871-9b42-f630349f8cdd"
      },
      "source": [
        "%ls examples"
      ],
      "execution_count": 82,
      "outputs": [
        {
          "output_type": "stream",
          "text": [
            "segismundo.txt  tmp2.txt  tmp.txt\n"
          ],
          "name": "stdout"
        }
      ]
    },
    {
      "cell_type": "code",
      "metadata": {
        "id": "EiTTAIXvNeOi",
        "colab_type": "code",
        "colab": {
          "base_uri": "https://localhost:8080/",
          "height": 34
        },
        "outputId": "86b9f14d-019b-4af7-98fc-c56dc43a4083"
      },
      "source": [
        "%cat examples/tmp2.txt"
      ],
      "execution_count": 83,
      "outputs": [
        {
          "output_type": "stream",
          "text": [
            "!!!"
          ],
          "name": "stdout"
        }
      ]
    },
    {
      "cell_type": "code",
      "metadata": {
        "id": "ZiRbck0AOLLR",
        "colab_type": "code",
        "colab": {}
      },
      "source": [
        "# 모든 줄을 한번에 다 쓰려면 writelines 메서드를 써보자.\n",
        "# 다음의 내용은 원래 파일에서 빈 줄이 포함되지 않도록 제거하고 새 파일로 쓰는 예제이다.\n",
        "\n",
        "with open(dst_path, 'w') as f :\n",
        "  f.writelines(x for x in open(path) if len(x) > 1)"
      ],
      "execution_count": 0,
      "outputs": []
    },
    {
      "cell_type": "code",
      "metadata": {
        "id": "p9DrBHKYO4Nm",
        "colab_type": "code",
        "colab": {
          "base_uri": "https://localhost:8080/",
          "height": 187
        },
        "outputId": "48b8f26f-cc3f-4edb-e7b8-b0a8f8a3b733"
      },
      "source": [
        "# 빈 줄들을 제거하고 쓴 새 파일 내용\n",
        "%cat examples/tmp.txt"
      ],
      "execution_count": 86,
      "outputs": [
        {
          "output_type": "stream",
          "text": [
            "Sueña el rico en su riqueza,\n",
            "que más cuidados le ofrece;\n",
            "sueña el pobre que padece\n",
            "su miseria y su pobreza;\n",
            "sueña el que a medrar empieza,\n",
            "sueña el que afana y pretende,\n",
            "sueña el que agravia y ofende,\n",
            "y en el mundo, en conclusión,\n",
            "todos sueñan lo que son,\n",
            "aunque ninguno lo entiende.\n"
          ],
          "name": "stdout"
        }
      ]
    },
    {
      "cell_type": "code",
      "metadata": {
        "id": "XxGWqM3wO-ND",
        "colab_type": "code",
        "colab": {
          "base_uri": "https://localhost:8080/",
          "height": 255
        },
        "outputId": "b8925347-91cf-42f7-89ea-e1afe74f09f8"
      },
      "source": [
        "# 원본 파일 내용\n",
        "%cat examples/segismundo.txt"
      ],
      "execution_count": 87,
      "outputs": [
        {
          "output_type": "stream",
          "text": [
            "Sueña el rico en su riqueza,\n",
            "que más cuidados le ofrece;\n",
            "\n",
            "sueña el pobre que padece\n",
            "su miseria y su pobreza;\n",
            "\n",
            "sueña el que a medrar empieza,\n",
            "sueña el que afana y pretende,\n",
            "sueña el que agravia y ofende,\n",
            "\n",
            "y en el mundo, en conclusión,\n",
            "todos sueñan lo que son,\n",
            "aunque ninguno lo entiende.\n",
            "\n"
          ],
          "name": "stdout"
        }
      ]
    },
    {
      "cell_type": "markdown",
      "metadata": {
        "id": "WfJOocVWCs9U",
        "colab_type": "text"
      },
      "source": [
        "----------------------------"
      ]
    },
    {
      "cell_type": "markdown",
      "metadata": {
        "id": "IT8Fmz16ALTK",
        "colab_type": "text"
      },
      "source": [
        "# 클래스 [3, 4]"
      ]
    },
    {
      "cell_type": "code",
      "metadata": {
        "id": "t7Ea0KExANbR",
        "colab_type": "code",
        "colab": {}
      },
      "source": [
        "# 클래스를 하나 만들기 위해 특정 객체의 하위 클래스를 만들 수 있습니다.\n",
        "class Human(object):\n",
        "\n",
        "    # 클래스 속성은 이 클래스의 모든 인스턴스에서 공유합니다.\n",
        "    species = \"H. sapiens\"\n",
        "\n",
        "    # 기본 초기화자\n",
        "    def __init__(self, name):\n",
        "        # 인자를 인스턴스의 name 속성에 할당합니다.\n",
        "        self.name = name\n",
        "\n",
        "    # 모든 인스턴스 메서드에서는 self를 첫 번째 인자로 받습니다.\n",
        "    def say(self, msg):\n",
        "       return \"%s: %s\" % (self.name, msg)\n",
        "\n",
        "    # 클래스 메서드는 모든 인스턴스에서 공유합니다.\n",
        "    # 클래스 메서드는 호출하는 클래스를 첫 번째 인자로 호출됩니다.\n",
        "    @classmethod\n",
        "    def get_species(cls):\n",
        "        return cls.species\n",
        "\n",
        "    # 정적 메서드는 클래스나 인스턴스 참조 없이도 호출할 수 있습니다.\n",
        "    @staticmethod\n",
        "    def grunt():\n",
        "        return \"*grunt*\""
      ],
      "execution_count": 0,
      "outputs": []
    },
    {
      "cell_type": "code",
      "metadata": {
        "id": "7xDG6inNAKsT",
        "colab_type": "code",
        "colab": {}
      },
      "source": [
        "# 클래스 인스턴스화\n",
        "i = Human(name=\"Ian\")\n",
        "print(i.say(\"hi\"))     "
      ],
      "execution_count": 0,
      "outputs": []
    },
    {
      "cell_type": "code",
      "metadata": {
        "id": "gzQy6R8iAQz1",
        "colab_type": "code",
        "colab": {}
      },
      "source": [
        "j = Human(\"Joel\")\n",
        "print(j.say(\"hello\"))"
      ],
      "execution_count": 0,
      "outputs": []
    },
    {
      "cell_type": "code",
      "metadata": {
        "id": "JXo0-wTPASu4",
        "colab_type": "code",
        "colab": {}
      },
      "source": [
        "# 클래스 메서드를 호출\n",
        "i.get_species() "
      ],
      "execution_count": 0,
      "outputs": []
    },
    {
      "cell_type": "code",
      "metadata": {
        "id": "7MYoROVsAU8P",
        "colab_type": "code",
        "colab": {}
      },
      "source": [
        "# 공유 속성을 변경\n",
        "Human.species = \"H. neanderthalensis\"\n",
        "print(i.get_species()) \n",
        "print(j.get_species()) "
      ],
      "execution_count": 0,
      "outputs": []
    },
    {
      "cell_type": "code",
      "metadata": {
        "id": "YuInX-8cAW11",
        "colab_type": "code",
        "colab": {}
      },
      "source": [
        "# 정적 메서드를 호출\n",
        "Human.grunt()"
      ],
      "execution_count": 0,
      "outputs": []
    },
    {
      "cell_type": "code",
      "metadata": {
        "id": "bpGCfyOpAYqq",
        "colab_type": "code",
        "colab": {}
      },
      "source": [
        "class HousePark:\n",
        "    lastname = \"박\"\n",
        "    def __init__(self, name):\n",
        "        self.fullname = self.lastname + name\n",
        "    def travel(self, where):\n",
        "        print(\"%s, %s여행을 가다.\" % (self.fullname, where))\n",
        "    def love(self, other):\n",
        "        print(\"%s, %s 사랑에 빠졌네\" % (self.fullname, other.fullname))\n",
        "    def fight(self, other):\n",
        "        print(\"%s, %s 싸우네\" % (self.fullname, other.fullname))\n",
        "    def __add__(self, other):\n",
        "        print(\"%s, %s 결혼했네\" % (self.fullname, other.fullname))\n",
        "    def __sub__(self, other):\n",
        "        print(\"%s, %s 이혼했네\" % (self.fullname, other.fullname))\n",
        "    def __del__(self):\n",
        "        print(\"%s 죽네\" % self.fullname)\n",
        "\n",
        "class HouseKim(HousePark):\n",
        "    lastname = \"김\"\n",
        "    def travel(self, where, day):\n",
        "        print(\"%s, %s여행 %d일 가네.\" % (self.fullname, where, day))"
      ],
      "execution_count": 0,
      "outputs": []
    },
    {
      "cell_type": "code",
      "metadata": {
        "id": "Qk8BvPM3Aapq",
        "colab_type": "code",
        "colab": {}
      },
      "source": [
        "pey = HousePark(\"응용\")\n",
        "juliet = HouseKim(\"줄리엣\")"
      ],
      "execution_count": 0,
      "outputs": []
    },
    {
      "cell_type": "code",
      "metadata": {
        "id": "cS_oLGaNAcqS",
        "colab_type": "code",
        "colab": {}
      },
      "source": [
        "pey.travel(\"부산\")\n",
        "juliet.travel(\"부산\", 3)\n",
        "pey.love(juliet)\n",
        "pey + juliet\n",
        "pey.fight(juliet)\n",
        "pey - juliet"
      ],
      "execution_count": 0,
      "outputs": []
    },
    {
      "cell_type": "code",
      "metadata": {
        "id": "TvtvOlCrZqKB",
        "colab_type": "code",
        "colab": {}
      },
      "source": [
        "pey.__del__()"
      ],
      "execution_count": 0,
      "outputs": []
    },
    {
      "cell_type": "markdown",
      "metadata": {
        "id": "75rtQrW1dwdU",
        "colab_type": "text"
      },
      "source": [
        "--------------------"
      ]
    },
    {
      "cell_type": "markdown",
      "metadata": {
        "id": "Z032QiMAdsgk",
        "colab_type": "text"
      },
      "source": [
        "# 함수형 프로그래밍 [5]"
      ]
    },
    {
      "cell_type": "markdown",
      "metadata": {
        "id": "8hYTMC37dvoM",
        "colab_type": "text"
      },
      "source": [
        "* map\n",
        "* filter\n",
        "* reduce"
      ]
    },
    {
      "cell_type": "markdown",
      "metadata": {
        "id": "4aGmtVD-d0GA",
        "colab_type": "text"
      },
      "source": [
        "## map"
      ]
    },
    {
      "cell_type": "markdown",
      "metadata": {
        "id": "Uu5XFdezd12p",
        "colab_type": "text"
      },
      "source": [
        "map이라는 것은 함수와 시퀀스 자료형(리스트, 터플, 문자열)을 입력으로 받아서 시퀀스 자료형의 각각의 요소가 함수의 입력으로 들어간 다음 나오는 출력값을 묶어서 리스트로 돌려주는 함수이다."
      ]
    },
    {
      "cell_type": "code",
      "metadata": {
        "id": "HVDWO9EGZua3",
        "colab_type": "code",
        "colab": {}
      },
      "source": [
        "def f(x) :\n",
        "    return x*x\n",
        "\n",
        "x = [1, 2, 3, 4, 5]\n",
        "y = map(f, x)\n",
        "\n",
        "print(x)\n",
        "print(list(y))"
      ],
      "execution_count": 0,
      "outputs": []
    },
    {
      "cell_type": "markdown",
      "metadata": {
        "id": "SZydrZNPfeZ6",
        "colab_type": "text"
      },
      "source": [
        "<img src='https://github.com/psygrammer/psypy/blob/master/notebooks/figures/03/01_fig.10.7.png?raw=1'/>"
      ]
    },
    {
      "cell_type": "code",
      "metadata": {
        "id": "Wv1XoY1vgFkz",
        "colab_type": "code",
        "colab": {}
      },
      "source": [
        "# 위의 코드는 다음과 같다\n",
        "y = []\n",
        "for e in x :\n",
        "    ne = f(e)\n",
        "    y.append(ne)\n",
        "\n",
        "print(x)\n",
        "print(y)"
      ],
      "execution_count": 0,
      "outputs": []
    },
    {
      "cell_type": "code",
      "metadata": {
        "id": "jji307aJgJ7z",
        "colab_type": "code",
        "colab": {}
      },
      "source": [
        "# 람다 함수 이용\n",
        "y = map(lambda a:a*a, x)\n",
        "print(x)\n",
        "print(list(y))"
      ],
      "execution_count": 0,
      "outputs": []
    },
    {
      "cell_type": "code",
      "metadata": {
        "id": "K8oLp12WgLGe",
        "colab_type": "code",
        "colab": {}
      },
      "source": [
        "x = range(10)\n",
        "y = map(lambda a: a*a+4*a, x)\n",
        "print(x)\n",
        "print(list(y))"
      ],
      "execution_count": 0,
      "outputs": []
    },
    {
      "cell_type": "code",
      "metadata": {
        "id": "0x7CatOJgNuV",
        "colab_type": "code",
        "colab": {}
      },
      "source": [
        "# 두 개 이상 입력\n",
        "x = [1,2,3,4,5]\n",
        "y = [6,7,8,9,10]\n",
        "z = map(lambda a, b:a+b, x, y)\n",
        "print(x)\n",
        "print(y)\n",
        "print(list(z))"
      ],
      "execution_count": 0,
      "outputs": []
    },
    {
      "cell_type": "markdown",
      "metadata": {
        "id": "Sq5yTSJdgP30",
        "colab_type": "text"
      },
      "source": [
        "<img src='https://github.com/psygrammer/psypy/blob/master/notebooks/figures/03/01_fig.10.8.png?raw=1'/>"
      ]
    },
    {
      "cell_type": "markdown",
      "metadata": {
        "id": "u2gD48McgTg7",
        "colab_type": "text"
      },
      "source": [
        "## filter"
      ]
    },
    {
      "cell_type": "markdown",
      "metadata": {
        "id": "rFUQ3OUmgWNL",
        "colab_type": "text"
      },
      "source": [
        "filter는 함수와 시퀀스 자료형을 입력으로 받아서 자료의 값이 하나씩 함수의 인수로 전달될 때, 참을 반환시키는 값만을 따로 모아서 리스트의 형태로 반환하는 함수이다. filter의 뜻은 무엇인가를 걸러낸다는 뜻이다. 이 의미가 filter 함수에서도 그대로 사용된다."
      ]
    },
    {
      "cell_type": "code",
      "metadata": {
        "id": "g-i1H0BCgXiX",
        "colab_type": "code",
        "colab": {}
      },
      "source": [
        "def positive(x): \n",
        "    return x > 0\n",
        "\n",
        "list(filter(positive, [1,-3,2,0,-5,6]))"
      ],
      "execution_count": 0,
      "outputs": []
    },
    {
      "cell_type": "code",
      "metadata": {
        "id": "722c93-GgZIa",
        "colab_type": "code",
        "colab": {}
      },
      "source": [
        "# 위의 코드는 다음과 같다\n",
        "def positive(l): \n",
        "    result = [] \n",
        "    for i in l: \n",
        "        if i > 0: \n",
        "            result.append(i) \n",
        "    return result\n",
        "\n",
        "positive([1,-3,2,0,-5,6])"
      ],
      "execution_count": 0,
      "outputs": []
    },
    {
      "cell_type": "code",
      "metadata": {
        "id": "eJE6krJZgeIs",
        "colab_type": "code",
        "colab": {}
      },
      "source": [
        "# 람다 함수 사용\n",
        "list(filter(lambda x : x>0, [1,-3,2,0,-5,6]))"
      ],
      "execution_count": 0,
      "outputs": []
    },
    {
      "cell_type": "code",
      "metadata": {
        "id": "fhPSQx-rggFA",
        "colab_type": "code",
        "colab": {}
      },
      "source": [
        "list(filter(lambda x : x%2, [1,2,3,4,5,6]))"
      ],
      "execution_count": 0,
      "outputs": []
    },
    {
      "cell_type": "markdown",
      "metadata": {
        "id": "G53j2G-kgh_g",
        "colab_type": "text"
      },
      "source": [
        "<img src='https://github.com/psygrammer/psypy/blob/master/notebooks/figures/03/01_fig.10.11.png?raw=1'/>"
      ]
    },
    {
      "cell_type": "markdown",
      "metadata": {
        "id": "BJL9jufKgl5z",
        "colab_type": "text"
      },
      "source": [
        "## reduce"
      ]
    },
    {
      "cell_type": "markdown",
      "metadata": {
        "id": "9aLPMb-Mgnrk",
        "colab_type": "text"
      },
      "source": [
        "reduce는 첫 인수로 함수를 받는다. 이 함수는 두 개의 인수를 받는다. 두 번째 인자는 시퀀스 자료형이다. 시퀀스의 자료들은 순차적으로 reduce가 받은 함수의 첫 번째 인수, 두 번째 인수로 전달된다. 첫 인수는 함수의 계산 결과가 누적적으로 적용된다. 단, 처음 계산에서는 시퀀스의 두 개의 요소가 함수에 전달된다."
      ]
    },
    {
      "cell_type": "code",
      "metadata": {
        "id": "Op7luekEgpMI",
        "colab_type": "code",
        "colab": {}
      },
      "source": [
        "from functools import reduce"
      ],
      "execution_count": 0,
      "outputs": []
    },
    {
      "cell_type": "code",
      "metadata": {
        "id": "MTqDrFF3grwZ",
        "colab_type": "code",
        "colab": {}
      },
      "source": [
        "# 1부터 5까지 더하기\n",
        "# 다음 코드는 이 수식과 동일하다. ((((1+2)+3)+4)+5)\n",
        "reduce(lambda x, y : x+y, [1, 2, 3, 4, 5])"
      ],
      "execution_count": 0,
      "outputs": []
    },
    {
      "cell_type": "markdown",
      "metadata": {
        "id": "P6A7SE1agvMT",
        "colab_type": "text"
      },
      "source": [
        "<img src='https://github.com/psygrammer/psypy/blob/master/notebooks/figures/03/01_fig.10.12.png?raw=1'/>"
      ]
    },
    {
      "cell_type": "code",
      "metadata": {
        "id": "zqUAemRdgzDB",
        "colab_type": "code",
        "colab": {}
      },
      "source": [
        "# reduce 함수에 세 번째 인수를 부여할 수 있는데, 초기 값으로 사용된다.\n",
        "# 다음 코드는 이 수식과 동일하다. (((((0+1)+2)+3)+4)+5)\n",
        "reduce(lambda x, y : x+y, [1, 2, 3, 4, 5], 0)"
      ],
      "execution_count": 0,
      "outputs": []
    },
    {
      "cell_type": "code",
      "metadata": {
        "id": "gkXTWhp-g-3L",
        "colab_type": "code",
        "colab": {}
      },
      "source": [
        "# 각 원소를 제곱해서 모두 더하기\n",
        "reduce(lambda x, y : x + y*y, range(1,11), 0)"
      ],
      "execution_count": 0,
      "outputs": []
    },
    {
      "cell_type": "code",
      "metadata": {
        "id": "0et-rKCzg1MC",
        "colab_type": "code",
        "colab": {}
      },
      "source": [
        "# 위의 코드는 다음과 동일하다.\n",
        "x = 0\n",
        "for y in range(1, 11) :\n",
        "    x = x + y*y\n",
        "    \n",
        "x"
      ],
      "execution_count": 0,
      "outputs": []
    },
    {
      "cell_type": "markdown",
      "metadata": {
        "id": "6gXhyURIcEBY",
        "colab_type": "text"
      },
      "source": [
        "-------------------------------"
      ]
    },
    {
      "cell_type": "markdown",
      "metadata": {
        "id": "39_SfR_MbwRc",
        "colab_type": "text"
      },
      "source": [
        "# 참고자료 \n",
        "* [1] 파이썬 라이브러리를 활용한 데이터 분석(2판)\n",
        "    - http://www.hanbit.co.kr/store/books/look.php?p_code=B6417848794\n",
        "* [2] 점프 투 파이썬 : 04장 프로그램의 입력과 출력은 어떻게 해야 할까? - https://wikidocs.net/23\n",
        "* [3] python | learn x in y minutes - https://learnxinyminutes.com/docs/python3/\n",
        "* [4] 점프 투 파이썬 : 클래스 - https://wikidocs.net/28\n",
        "* [5] 점프 투 파이썬 : 내장함수 - https://wikidocs.net/32"
      ]
    },
    {
      "cell_type": "code",
      "metadata": {
        "id": "m3VXFBkRhR6d",
        "colab_type": "code",
        "colab": {}
      },
      "source": [
        ""
      ],
      "execution_count": 0,
      "outputs": []
    }
  ]
}