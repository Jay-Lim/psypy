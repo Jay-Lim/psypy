{
 "cells": [
  {
   "cell_type": "markdown",
   "metadata": {
    "colab_type": "text",
    "id": "view-in-github"
   },
   "source": [
    "<a href=\"https://colab.research.google.com/github/psygrammer/psypy/blob/master/notebooks/03_b_funcions_and_files.ipynb\" target=\"_parent\"><img src=\"https://colab.research.google.com/assets/colab-badge.svg\" alt=\"Open In Colab\"/></a>"
   ]
  },
  {
   "cell_type": "markdown",
   "metadata": {
    "colab": {},
    "colab_type": "code",
    "id": "W9ZUwiPhqVQJ"
   },
   "source": [
    "# 03. 내장 자료구조, 함수, 파일 (2)"
   ]
  },
  {
   "cell_type": "markdown",
   "metadata": {},
   "source": [
    "* 싸이그래머 / PsyPy [1]\n",
    "* 김무성"
   ]
  },
  {
   "cell_type": "code",
   "execution_count": null,
   "metadata": {},
   "outputs": [],
   "source": [
    "!python -V"
   ]
  },
  {
   "cell_type": "markdown",
   "metadata": {},
   "source": [
    "# 차례 \n",
    "* 함수\n",
    "    - 네임스페이스, 스코프, 지역 함수\n",
    "    - 여러 값 반환하기\n",
    "    - 함수도 객체다\n",
    "    - 익명 함수\n",
    "    - 클로저 : 함수를 반환하는 함수\n",
    "    - \\*args와  \\*\\*kwargs를 사용해서 호출 문법 확장하기  \n",
    "    - 커링 : 일부 인자만 취하기\n",
    "    - 제너레이터\n",
    "    - 에러와 예외 다루기\n",
    "* 파일과 운영체제\n",
    "    - 바이트와 유니코드 파일"
   ]
  },
  {
   "cell_type": "markdown",
   "metadata": {},
   "source": [
    "------------------------"
   ]
  },
  {
   "cell_type": "markdown",
   "metadata": {},
   "source": [
    "# 함수"
   ]
  },
  {
   "cell_type": "markdown",
   "metadata": {},
   "source": [
    "```python\n",
    "def my_function(x, y, z=1.5) :\n",
    "    if z > 1 :\n",
    "        return z * (x + y)\n",
    "    else :\n",
    "        return z / (x + y)\n",
    "    \n",
    "# return문이 몇 개가 되든 상관없다. \n",
    "# 함수 블록이 끝날 때까지 return문이 없다면 None이 반환된다.   \n",
    "```"
   ]
  },
  {
   "cell_type": "markdown",
   "metadata": {},
   "source": [
    "## 네임스페이스, 스코프, 지역 함수"
   ]
  },
  {
   "cell_type": "markdown",
   "metadata": {},
   "source": [
    "```python\n",
    "# 로컬\n",
    "def func() :\n",
    "    a = []  # <- local\n",
    "    for i in range(5) :\n",
    "        a.append(i)\n",
    "```        "
   ]
  },
  {
   "cell_type": "markdown",
   "metadata": {},
   "source": [
    "```python\n",
    "# 전역 \n",
    "a = []\n",
    "def func() :\n",
    "    for i in range(5) :\n",
    "        a.append(i)\n",
    "        \n",
    "func()\n",
    "a\n",
    "```"
   ]
  },
  {
   "cell_type": "code",
   "execution_count": null,
   "metadata": {},
   "outputs": [],
   "source": [
    "b = None\n",
    "def bind_b_variable() :\n",
    "    b = []\n",
    "    \n",
    "bind_b_variable()    \n",
    "print(b)    "
   ]
  },
  {
   "cell_type": "code",
   "execution_count": null,
   "metadata": {},
   "outputs": [],
   "source": [
    "# global 예약어 사용\n",
    "b = None\n",
    "def bind_b_variable() :\n",
    "    global b\n",
    "    b = []\n",
    "\n",
    "bind_b_variable()\n",
    "print(b)"
   ]
  },
  {
   "cell_type": "markdown",
   "metadata": {},
   "source": [
    "```python\n",
    "# 함수 안에서 함수를 선언할 수 있다.\n",
    "def outer_function(x, y, z) :\n",
    "    def inner_function(a, b, c) :\n",
    "        pass\n",
    "    pass\n",
    "```"
   ]
  },
  {
   "cell_type": "markdown",
   "metadata": {},
   "source": [
    "## 여러 값 반환하기"
   ]
  },
  {
   "cell_type": "code",
   "execution_count": null,
   "metadata": {},
   "outputs": [],
   "source": [
    "def f() :\n",
    "    a = 5\n",
    "    b = 6\n",
    "    c = 7\n",
    "    return a, b, c\n",
    "\n",
    "a, b, c = f()\n",
    "print(a, b, c)"
   ]
  },
  {
   "cell_type": "code",
   "execution_count": null,
   "metadata": {},
   "outputs": [],
   "source": [
    "return_value = f()\n",
    "return_value # 여래 개의 값을 하나의 변수에 반환받으면, 그 변수는 튜플 자료형이 된다."
   ]
  },
  {
   "cell_type": "markdown",
   "metadata": {},
   "source": [
    "## 함수도 객체다"
   ]
  },
  {
   "cell_type": "code",
   "execution_count": null,
   "metadata": {},
   "outputs": [],
   "source": [
    "states = [ '  Alabama ', 'Georgia!', 'Georgia', 'georgia', 'FlOrIda', \n",
    "          'south carolin##', 'West virginaia?']"
   ]
  },
  {
   "cell_type": "markdown",
   "metadata": {},
   "source": [
    "### 문자열을 변형하기 위해 함수를 사용하는 일반적인 패턴"
   ]
  },
  {
   "cell_type": "code",
   "execution_count": null,
   "metadata": {},
   "outputs": [],
   "source": [
    "import re \n",
    "\n",
    "def clean_strings(strings) :\n",
    "    result = []\n",
    "    for value in strings :\n",
    "        value = value.strip()\n",
    "        value = re.sub('[!#?]', '', value) # 문장 부호 제거\n",
    "        value = value.title()\n",
    "        result.append(value)\n",
    "    return result"
   ]
  },
  {
   "cell_type": "code",
   "execution_count": null,
   "metadata": {},
   "outputs": [],
   "source": [
    "clean_strings(states)"
   ]
  },
  {
   "cell_type": "markdown",
   "metadata": {},
   "source": [
    "### 함수를 객체화하고 인자로 넘겨서 좀 더 유연하게 사용하는 패턴"
   ]
  },
  {
   "cell_type": "code",
   "execution_count": null,
   "metadata": {},
   "outputs": [],
   "source": [
    "def remove_punctuation(value) :\n",
    "    return re.sub('[!#?]', '', value)\n",
    "\n",
    "# 함수도 객체. \n",
    "clean_ops = [str.strip, remove_punctuation, str.title]\n",
    "\n",
    "def clean_strings(strings, ops) :\n",
    "    result = []\n",
    "    for value in strings :\n",
    "        for function in ops :\n",
    "            value = function(value) \n",
    "        result.append(value)\n",
    "    return result"
   ]
  },
  {
   "cell_type": "code",
   "execution_count": null,
   "metadata": {},
   "outputs": [],
   "source": [
    "clean_strings(states, clean_ops)"
   ]
  },
  {
   "cell_type": "code",
   "execution_count": null,
   "metadata": {},
   "outputs": [],
   "source": [
    "# map을 이용해본다. 어떤 컬렉션에 대해 함수를 적용하는 함수다. \n",
    "# 이를 이용해서 함수를 인자로 사용할 수 있다.\n",
    "map(remove_punctuation, states)"
   ]
  },
  {
   "cell_type": "code",
   "execution_count": null,
   "metadata": {},
   "outputs": [],
   "source": [
    "for e in map(remove_punctuation, states) :\n",
    "    print(e)"
   ]
  },
  {
   "cell_type": "markdown",
   "metadata": {},
   "source": [
    "## 익명 함수 "
   ]
  },
  {
   "cell_type": "markdown",
   "metadata": {},
   "source": [
    "```python\n",
    "def short_function(x) :\n",
    "    return x * 2\n",
    "\n",
    "# 위의 함수와 동치인 익명 함수(람다 함수)\n",
    "equiv_anon = lambda x: x * 2\n",
    "```"
   ]
  },
  {
   "cell_type": "code",
   "execution_count": null,
   "metadata": {},
   "outputs": [],
   "source": [
    "# 각 문자열에서 다양한 문자가 포함된 순서로 정렬하는 예제\n",
    "strings = ['foo', 'card', 'bar', 'aaaa', 'abab']\n",
    "strings.sort(key=lambda x: len(set(list(x))))\n",
    "strings"
   ]
  }
 ],
 "metadata": {
  "colab": {
   "include_colab_link": true,
   "name": "03_b_funcions_and_files.ipynb",
   "provenance": []
  },
  "kernelspec": {
   "display_name": "Python 3",
   "language": "python",
   "name": "python3"
  },
  "language_info": {
   "codemirror_mode": {
    "name": "ipython",
    "version": 3
   },
   "file_extension": ".py",
   "mimetype": "text/x-python",
   "name": "python",
   "nbconvert_exporter": "python",
   "pygments_lexer": "ipython3",
   "version": "3.6.8"
  }
 },
 "nbformat": 4,
 "nbformat_minor": 1
}
