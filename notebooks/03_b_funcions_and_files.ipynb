{
  "nbformat": 4,
  "nbformat_minor": 0,
  "metadata": {
    "colab": {
      "name": "03_b_funcions_and_files.ipynb",
      "provenance": [],
      "include_colab_link": true
    },
    "kernelspec": {
      "display_name": "Python 3",
      "language": "python",
      "name": "python3"
    },
    "language_info": {
      "codemirror_mode": {
        "name": "ipython",
        "version": 3
      },
      "file_extension": ".py",
      "mimetype": "text/x-python",
      "name": "python",
      "nbconvert_exporter": "python",
      "pygments_lexer": "ipython3",
      "version": "3.6.8"
    }
  },
  "cells": [
    {
      "cell_type": "markdown",
      "metadata": {
        "id": "view-in-github",
        "colab_type": "text"
      },
      "source": [
        "<a href=\"https://colab.research.google.com/github/psygrammer/psypy/blob/master/notebooks/03_b_funcions_and_files.ipynb\" target=\"_parent\"><img src=\"https://colab.research.google.com/assets/colab-badge.svg\" alt=\"Open In Colab\"/></a>"
      ]
    },
    {
      "cell_type": "markdown",
      "metadata": {
        "id": "v-I6Tqd9vArs",
        "colab_type": "text"
      },
      "source": [
        "# 03. 내장 자료구조, 함수, 파일 (2)"
      ]
    },
    {
      "cell_type": "markdown",
      "metadata": {
        "id": "pqoPQ4JLu2YV",
        "colab_type": "text"
      },
      "source": [
        "* 싸이그래머 / PsyPy [1]\n",
        "* 김무성"
      ]
    },
    {
      "cell_type": "code",
      "metadata": {
        "id": "THweB5Tzu2YW",
        "colab_type": "code",
        "outputId": "9439feaf-fddf-4f38-e22f-2afacc21d360",
        "colab": {
          "base_uri": "https://localhost:8080/",
          "height": 35
        }
      },
      "source": [
        "!python -V"
      ],
      "execution_count": 0,
      "outputs": [
        {
          "output_type": "stream",
          "text": [
            "Python 3.6.8\n"
          ],
          "name": "stdout"
        }
      ]
    },
    {
      "cell_type": "markdown",
      "metadata": {
        "id": "OkoN1Swsu2YZ",
        "colab_type": "text"
      },
      "source": [
        "# 차례 \n",
        "* 함수\n",
        "    - 네임스페이스, 스코프, 지역 함수\n",
        "    - 여러 값 반환하기\n",
        "    - 함수도 객체다\n",
        "    - 익명 함수\n",
        "    - 클로저 : 함수를 반환하는 함수\n",
        "    - \\*args와  \\*\\*kwargs를 사용해서 호출 문법 확장하기  \n",
        "    - 커링 : 일부 인자만 취하기\n",
        "    - 제너레이터\n",
        "    - 에러와 예외 다루기\n",
        "* 파일과 운영체제\n",
        "    - 바이트와 유니코드 파일"
      ]
    },
    {
      "cell_type": "markdown",
      "metadata": {
        "id": "PQGfnCP8u2Ya",
        "colab_type": "text"
      },
      "source": [
        "------------------------"
      ]
    },
    {
      "cell_type": "markdown",
      "metadata": {
        "id": "KOEuB8XCu2Yb",
        "colab_type": "text"
      },
      "source": [
        "# 함수"
      ]
    },
    {
      "cell_type": "markdown",
      "metadata": {
        "id": "dcV0A_DGu2Yd",
        "colab_type": "text"
      },
      "source": [
        "```python\n",
        "def my_function(x, y, z=1.5) :\n",
        "    if z > 1 :\n",
        "        return z * (x + y)\n",
        "    else :\n",
        "        return z / (x + y)\n",
        "    \n",
        "# return문이 몇 개가 되든 상관없다. \n",
        "# 함수 블록이 끝날 때까지 return문이 없다면 None이 반환된다.   \n",
        "```"
      ]
    },
    {
      "cell_type": "markdown",
      "metadata": {
        "id": "p9yu8JPhu2Ye",
        "colab_type": "text"
      },
      "source": [
        "## 네임스페이스, 스코프, 지역 함수"
      ]
    },
    {
      "cell_type": "markdown",
      "metadata": {
        "id": "IACL_twju2Ye",
        "colab_type": "text"
      },
      "source": [
        "```python\n",
        "# 로컬\n",
        "def func() :\n",
        "    a = []  # <- local\n",
        "    for i in range(5) :\n",
        "        a.append(i)\n",
        "```        "
      ]
    },
    {
      "cell_type": "markdown",
      "metadata": {
        "id": "6HbhKQ-yu2Yf",
        "colab_type": "text"
      },
      "source": [
        "```python\n",
        "# 전역 \n",
        "a = []\n",
        "def func() :\n",
        "    for i in range(5) :\n",
        "        a.append(i)\n",
        "        \n",
        "func()\n",
        "a\n",
        "```"
      ]
    },
    {
      "cell_type": "code",
      "metadata": {
        "id": "rxPyir7eu2Yg",
        "colab_type": "code",
        "outputId": "bbb627ff-c570-4ec0-f12c-658ff519673a",
        "colab": {
          "base_uri": "https://localhost:8080/",
          "height": 35
        }
      },
      "source": [
        "b = None\n",
        "def bind_b_variable() :\n",
        "    b = []\n",
        "    \n",
        "bind_b_variable()    \n",
        "print(b)    "
      ],
      "execution_count": 0,
      "outputs": [
        {
          "output_type": "stream",
          "text": [
            "None\n"
          ],
          "name": "stdout"
        }
      ]
    },
    {
      "cell_type": "code",
      "metadata": {
        "id": "4dxygrahu2Yi",
        "colab_type": "code",
        "outputId": "818b8f10-2392-4bff-b534-b2187b95a9c6",
        "colab": {
          "base_uri": "https://localhost:8080/",
          "height": 35
        }
      },
      "source": [
        "# global 예약어 사용\n",
        "b = None\n",
        "def bind_b_variable() :\n",
        "    global b\n",
        "    b = []\n",
        "\n",
        "bind_b_variable()\n",
        "print(b)"
      ],
      "execution_count": 0,
      "outputs": [
        {
          "output_type": "stream",
          "text": [
            "[]\n"
          ],
          "name": "stdout"
        }
      ]
    },
    {
      "cell_type": "markdown",
      "metadata": {
        "id": "Q-8jHbo4u2Yl",
        "colab_type": "text"
      },
      "source": [
        "```python\n",
        "# 함수 안에서 함수를 선언할 수 있다.\n",
        "def outer_function(x, y, z) :\n",
        "    def inner_function(a, b, c) :\n",
        "        pass\n",
        "    pass\n",
        "```"
      ]
    },
    {
      "cell_type": "markdown",
      "metadata": {
        "id": "VUu8U8W7u2Yl",
        "colab_type": "text"
      },
      "source": [
        "## 여러 값 반환하기"
      ]
    },
    {
      "cell_type": "code",
      "metadata": {
        "id": "k_l0oLbCu2Ym",
        "colab_type": "code",
        "outputId": "a34d864a-bc83-49ce-a221-81ff18bac03b",
        "colab": {
          "base_uri": "https://localhost:8080/",
          "height": 35
        }
      },
      "source": [
        "def f() :\n",
        "    a = 5\n",
        "    b = 6\n",
        "    c = 7\n",
        "    return a, b, c\n",
        "\n",
        "a, b, c = f()\n",
        "print(a, b, c)"
      ],
      "execution_count": 0,
      "outputs": [
        {
          "output_type": "stream",
          "text": [
            "5 6 7\n"
          ],
          "name": "stdout"
        }
      ]
    },
    {
      "cell_type": "code",
      "metadata": {
        "id": "gGncnYipu2Yo",
        "colab_type": "code",
        "outputId": "4ed035b3-6ce4-4a66-aa47-febc85cdaef6",
        "colab": {
          "base_uri": "https://localhost:8080/",
          "height": 35
        }
      },
      "source": [
        "return_value = f()\n",
        "return_value # 여래 개의 값을 하나의 변수에 반환받으면, 그 변수는 튜플 자료형이 된다."
      ],
      "execution_count": 0,
      "outputs": [
        {
          "output_type": "execute_result",
          "data": {
            "text/plain": [
              "(5, 6, 7)"
            ]
          },
          "metadata": {
            "tags": []
          },
          "execution_count": 5
        }
      ]
    },
    {
      "cell_type": "markdown",
      "metadata": {
        "id": "TG7CErDeu2Yr",
        "colab_type": "text"
      },
      "source": [
        "## 함수도 객체다"
      ]
    },
    {
      "cell_type": "code",
      "metadata": {
        "id": "Fag3HE6Ku2Yr",
        "colab_type": "code",
        "colab": {}
      },
      "source": [
        "states = [ '  Alabama ', 'Georgia!', 'Georgia', 'georgia', 'FlOrIda', \n",
        "          'south carolin##', 'West virginaia?']"
      ],
      "execution_count": 0,
      "outputs": []
    },
    {
      "cell_type": "markdown",
      "metadata": {
        "id": "AzfKddqVu2Yu",
        "colab_type": "text"
      },
      "source": [
        "### 문자열을 변형하기 위해 함수를 사용하는 일반적인 패턴"
      ]
    },
    {
      "cell_type": "code",
      "metadata": {
        "id": "wrhEPwb7u2Yu",
        "colab_type": "code",
        "colab": {}
      },
      "source": [
        "import re \n",
        "\n",
        "def clean_strings(strings) :\n",
        "    result = []\n",
        "    for value in strings :\n",
        "        value = value.strip()\n",
        "        value = re.sub('[!#?]', '', value) # 문장 부호 제거\n",
        "        value = value.title()\n",
        "        result.append(value)\n",
        "    return result"
      ],
      "execution_count": 0,
      "outputs": []
    },
    {
      "cell_type": "code",
      "metadata": {
        "id": "fVmHarUuu2Yw",
        "colab_type": "code",
        "outputId": "4d9fbd9f-dc6f-4a2a-f004-5f30cab9c61e",
        "colab": {
          "base_uri": "https://localhost:8080/",
          "height": 143
        }
      },
      "source": [
        "clean_strings(states)"
      ],
      "execution_count": 0,
      "outputs": [
        {
          "output_type": "execute_result",
          "data": {
            "text/plain": [
              "['Alabama',\n",
              " 'Georgia',\n",
              " 'Georgia',\n",
              " 'Georgia',\n",
              " 'Florida',\n",
              " 'South Carolin',\n",
              " 'West Virginaia']"
            ]
          },
          "metadata": {
            "tags": []
          },
          "execution_count": 8
        }
      ]
    },
    {
      "cell_type": "markdown",
      "metadata": {
        "id": "iCKuxqXOu2Y0",
        "colab_type": "text"
      },
      "source": [
        "### 함수를 객체화하고 인자로 넘겨서 좀 더 유연하게 사용하는 패턴"
      ]
    },
    {
      "cell_type": "code",
      "metadata": {
        "id": "oa4ISPflu2Y1",
        "colab_type": "code",
        "colab": {}
      },
      "source": [
        "def remove_punctuation(value) :\n",
        "    return re.sub('[!#?]', '', value)\n",
        "\n",
        "# 함수도 객체. \n",
        "clean_ops = [str.strip, remove_punctuation, str.title]\n",
        "\n",
        "def clean_strings(strings, ops) :\n",
        "    result = []\n",
        "    for value in strings :\n",
        "        for function in ops :\n",
        "            value = function(value) \n",
        "        result.append(value)\n",
        "    return result"
      ],
      "execution_count": 0,
      "outputs": []
    },
    {
      "cell_type": "code",
      "metadata": {
        "id": "jiScde28u2Y3",
        "colab_type": "code",
        "outputId": "2b3e341e-cc16-4766-98ce-b9152f99d128",
        "colab": {
          "base_uri": "https://localhost:8080/",
          "height": 143
        }
      },
      "source": [
        "clean_strings(states, clean_ops)"
      ],
      "execution_count": 0,
      "outputs": [
        {
          "output_type": "execute_result",
          "data": {
            "text/plain": [
              "['Alabama',\n",
              " 'Georgia',\n",
              " 'Georgia',\n",
              " 'Georgia',\n",
              " 'Florida',\n",
              " 'South Carolin',\n",
              " 'West Virginaia']"
            ]
          },
          "metadata": {
            "tags": []
          },
          "execution_count": 10
        }
      ]
    },
    {
      "cell_type": "code",
      "metadata": {
        "id": "ammnqhoWu2Y5",
        "colab_type": "code",
        "outputId": "0ddb8850-40f4-4289-f131-65aa15eb54c2",
        "colab": {
          "base_uri": "https://localhost:8080/",
          "height": 35
        }
      },
      "source": [
        "# map을 이용해본다. 어떤 컬렉션에 대해 함수를 적용하는 함수다. \n",
        "# 이를 이용해서 함수를 인자로 사용할 수 있다.\n",
        "map(remove_punctuation, states)"
      ],
      "execution_count": 0,
      "outputs": [
        {
          "output_type": "execute_result",
          "data": {
            "text/plain": [
              "<map at 0x7f2133a96f60>"
            ]
          },
          "metadata": {
            "tags": []
          },
          "execution_count": 11
        }
      ]
    },
    {
      "cell_type": "code",
      "metadata": {
        "id": "GSssdH-0u2Y7",
        "colab_type": "code",
        "outputId": "9560eae5-eb2f-4b7d-b5c1-564549dd4f99",
        "colab": {
          "base_uri": "https://localhost:8080/",
          "height": 143
        }
      },
      "source": [
        "for e in map(remove_punctuation, states) :\n",
        "    print(e)"
      ],
      "execution_count": 0,
      "outputs": [
        {
          "output_type": "stream",
          "text": [
            "  Alabama \n",
            "Georgia\n",
            "Georgia\n",
            "georgia\n",
            "FlOrIda\n",
            "south carolin\n",
            "West virginaia\n"
          ],
          "name": "stdout"
        }
      ]
    },
    {
      "cell_type": "markdown",
      "metadata": {
        "id": "Dtae_lMHu2Y9",
        "colab_type": "text"
      },
      "source": [
        "## 익명 함수 "
      ]
    },
    {
      "cell_type": "markdown",
      "metadata": {
        "id": "BnOxWSL2u2Y-",
        "colab_type": "text"
      },
      "source": [
        "```python\n",
        "def short_function(x) :\n",
        "    return x * 2\n",
        "\n",
        "# 위의 함수와 동치인 익명 함수(람다 함수)\n",
        "equiv_anon = lambda x: x * 2\n",
        "```"
      ]
    },
    {
      "cell_type": "code",
      "metadata": {
        "id": "4zjf8Mhru2Y-",
        "colab_type": "code",
        "outputId": "d9b9a3f8-0cfa-4373-f14c-c2aaa8c03a46",
        "colab": {
          "base_uri": "https://localhost:8080/",
          "height": 35
        }
      },
      "source": [
        "# 각 문자열에서 다양한 문자가 포함된 순서로 정렬하는 예제\n",
        "strings = ['foo', 'card', 'bar', 'aaaa', 'abab']\n",
        "strings.sort(key=lambda x: len(set(list(x))))\n",
        "strings"
      ],
      "execution_count": 0,
      "outputs": [
        {
          "output_type": "execute_result",
          "data": {
            "text/plain": [
              "['aaaa', 'foo', 'abab', 'bar', 'card']"
            ]
          },
          "metadata": {
            "tags": []
          },
          "execution_count": 13
        }
      ]
    },
    {
      "cell_type": "markdown",
      "metadata": {
        "id": "yC_4yesw-3Ag",
        "colab_type": "text"
      },
      "source": [
        "## 클로저 : 함수를 반환하는 함수"
      ]
    },
    {
      "cell_type": "code",
      "metadata": {
        "id": "UWtGYbsY-6nt",
        "colab_type": "code",
        "colab": {}
      },
      "source": [
        "# 클로저는 다른 함수에서 반환되는, 동적으로 생성된 함수다. \n",
        "# 핵심은 반환되는 함수는 그 함수가 생성된 시점의 \n",
        "# 지역 네임스페이스의 변수에 접근할 수 있다는 점이다."
      ],
      "execution_count": 0,
      "outputs": []
    },
    {
      "cell_type": "code",
      "metadata": {
        "id": "H39kltIu-3-O",
        "colab_type": "code",
        "colab": {}
      },
      "source": [
        "def make_closure(a) :\n",
        "    def closure() :\n",
        "        print(\"I know the secret: %d\", a)\n",
        "    return closure\n",
        "\n",
        "closure = make_closure(5)\n",
        "closure()\n",
        "closure() # 클로저를 생성하는 함수가 끝나더라도 생성된 시점의 네임스페이스에 여전히 접근할 수 있다.\n"
      ],
      "execution_count": 0,
      "outputs": []
    },
    {
      "cell_type": "code",
      "metadata": {
        "id": "g2rk1UDg_C75",
        "colab_type": "code",
        "colab": {}
      },
      "source": [
        "# 클로져가 변경 가능한 객체를 가질 수도 있다.\n",
        "def make_watcher() :\n",
        "    have_seen = {}\n",
        "    \n",
        "    def has_been_seen(x) :\n",
        "        if x in have_seen :\n",
        "            return True\n",
        "        else :\n",
        "            have_seen[x] = True\n",
        "            return False\n",
        "        \n",
        "    return has_been_seen"
      ],
      "execution_count": 0,
      "outputs": []
    },
    {
      "cell_type": "code",
      "metadata": {
        "id": "Gj2zPwmc_Ex9",
        "colab_type": "code",
        "colab": {}
      },
      "source": [
        "watcher = make_watcher()\n",
        "vals = [5, 6, 1, 5, 1, 6, 3, 5]\n",
        "[watcher(x) for x in vals]"
      ],
      "execution_count": 0,
      "outputs": []
    },
    {
      "cell_type": "markdown",
      "metadata": {
        "id": "msl10kGu_GSK",
        "colab_type": "text"
      },
      "source": [
        "## \\*args와  \\*\\*kwargs를 사용해서 호출 문법 확장하기  "
      ]
    },
    {
      "cell_type": "markdown",
      "metadata": {
        "id": "pWffYxVB_K-W",
        "colab_type": "text"
      },
      "source": [
        "```python\n",
        "# 파이썬에서 함수 인자가 동작하는 방식은, \n",
        "# 만약 func(a, b, c, d=some, e= value) 라고 코드를 작성하면\n",
        "# 일반 인자와 키워드 인자는 \n",
        "# 각각 튜플 args와\n",
        "# 사전 kwargs에 저장된다.\n",
        "# 내부적으로 다음과 같은 과정을 거친다\n",
        "a, b, c = args\n",
        "d = kwargs.get('d', d_default_value)\n",
        "e = kwargs.get('e', e_defaulT_value)\n",
        "```"
      ]
    },
    {
      "cell_type": "code",
      "metadata": {
        "id": "Ux2jknJ-_NV7",
        "colab_type": "code",
        "colab": {}
      },
      "source": [
        "# 예제\n",
        "def say_hello_then_call_f(f, *args, **kwargs) :\n",
        "    print('args is', args)\n",
        "    print('kwargs is', kwargs)\n",
        "    print(\"Hello! Now I'm going to call %s\" %(f))\n",
        "    return f(*args, **kwargs)\n",
        "\n",
        "def g(x, y, z=1) :\n",
        "    return (x+y)/z\n",
        "\n",
        "say_hello_then_call_f(g, 1, 2, z=5.)"
      ],
      "execution_count": 0,
      "outputs": []
    },
    {
      "cell_type": "markdown",
      "metadata": {
        "id": "n2WgLUMP_QcX",
        "colab_type": "text"
      },
      "source": [
        "## 커링 : 일부 인자만 취하기"
      ]
    },
    {
      "cell_type": "code",
      "metadata": {
        "id": "0XcNNgKr_RN6",
        "colab_type": "code",
        "colab": {}
      },
      "source": [
        "# 함수에서 일부 인자를 고정해 새로운 함수를 만드는 기법을 커링이라고 한다.\n",
        "\n",
        "def add_numbers(x, y) :\n",
        "    return x + y\n",
        "\n",
        "# 여기서 add_numbers의 두 번째 인자가 '커리되었다'라고 한다.\n",
        "add_five = lambda y: add_numbers(5, y) \n",
        "\n",
        "\n",
        "# 다음 방식으로 더 단순하게 만들 수 있다.\n",
        "from functools import partial\n",
        "add_five = partial(add_numbers, 5)"
      ],
      "execution_count": 0,
      "outputs": []
    },
    {
      "cell_type": "markdown",
      "metadata": {
        "id": "3UWwBgYb_WW_",
        "colab_type": "text"
      },
      "source": [
        "## 제너레이터"
      ]
    },
    {
      "cell_type": "markdown",
      "metadata": {
        "id": "zAu33M9t_ZL_",
        "colab_type": "text"
      },
      "source": [
        "* 이터레이터 프로토콜\n",
        "* 제너레이터\n",
        "* 제너레이터 표현식\n",
        "* itertoos 모듈"
      ]
    },
    {
      "cell_type": "markdown",
      "metadata": {
        "id": "KgRm9Xai_bX-",
        "colab_type": "text"
      },
      "source": [
        "### 이터레이터 프로토콜"
      ]
    },
    {
      "cell_type": "code",
      "metadata": {
        "id": "CuQC5Z58_IT4",
        "colab_type": "code",
        "colab": {}
      },
      "source": [
        "# 파이썬은 리스트 내의 객체나 파일의 각 행 같은 순차적인 자료를 순회하는 일관적인 방법을 제공한다.\n",
        "# 이터레이터 프로토콜을 이용해서 순회가 가능한 객체를 만들 수 있다.\n",
        "\n",
        "some_dict = {'a':1, 'b':2, 'c':3}\n",
        " \n",
        "# for key in some_dict 라고 작성하면 \n",
        "# 파이썬 인터프리터는 some_dict에서 이터레이터를 생성한다.    \n",
        "for key in some_dict :\n",
        "    print(key)"
      ],
      "execution_count": 0,
      "outputs": []
    },
    {
      "cell_type": "code",
      "metadata": {
        "id": "fGCh6tol_w9n",
        "colab_type": "code",
        "colab": {}
      },
      "source": [
        "list(dict_iterator)"
      ],
      "execution_count": 0,
      "outputs": []
    },
    {
      "cell_type": "markdown",
      "metadata": {
        "id": "X4hyDncN_zBp",
        "colab_type": "text"
      },
      "source": [
        "### 제너레이터"
      ]
    },
    {
      "cell_type": "code",
      "metadata": {
        "id": "nKlxPN41_1Lw",
        "colab_type": "code",
        "colab": {}
      },
      "source": [
        "# 제너레이터는 순회가 가능한 객체를 생성하는 간단한 방법이다.\n",
        "# 일반 함수는 실행되면 단일 값을 반환하지만\n",
        "# 제너레이터는 순차적인 값을 매 요청 시마다 하나씩 반환한다.\n",
        "# 제너레이터를 생성하려면 함수에서 return 대신에 yeild 예약어를 사용한다.\n",
        "def squares(n=10) :\n",
        "    print('Generating squares from 1 to %d' %(n ** 2))\n",
        "    for i in range(1, n+1) :\n",
        "        yield i ** 2"
      ],
      "execution_count": 0,
      "outputs": []
    },
    {
      "cell_type": "code",
      "metadata": {
        "id": "jfde6z5c_3T9",
        "colab_type": "code",
        "colab": {}
      },
      "source": [
        "gen = squares()\n",
        "gen"
      ],
      "execution_count": 0,
      "outputs": []
    },
    {
      "cell_type": "code",
      "metadata": {
        "id": "mAL2a9OR_5ik",
        "colab_type": "code",
        "colab": {}
      },
      "source": [
        "for x in gen :\n",
        "    print(x) "
      ],
      "execution_count": 0,
      "outputs": []
    },
    {
      "cell_type": "markdown",
      "metadata": {
        "id": "qoXAFLDh_7qH",
        "colab_type": "text"
      },
      "source": [
        "### 제너레이터 표현식"
      ]
    },
    {
      "cell_type": "code",
      "metadata": {
        "id": "1TIcI9lx_9tH",
        "colab_type": "code",
        "colab": {}
      },
      "source": [
        "# 제너레이터를 만드는 간단한 방법은 제너레이터 표현식을 사용하는 것이다.\n",
        "gen = (x ** 2 for x in range(100))\n",
        "gen"
      ],
      "execution_count": 0,
      "outputs": []
    },
    {
      "cell_type": "code",
      "metadata": {
        "id": "ELK9dWlM__3j",
        "colab_type": "code",
        "colab": {}
      },
      "source": [
        "# 위의 코드는 다음 코드와 동일하다\n",
        "def _make_gen() :\n",
        "    for x in range(100) :\n",
        "        yield x ** 2\n",
        "        \n",
        "gen = _make_gen()\n",
        "gen"
      ],
      "execution_count": 0,
      "outputs": []
    },
    {
      "cell_type": "code",
      "metadata": {
        "id": "kzzaE7_yAB4N",
        "colab_type": "code",
        "colab": {}
      },
      "source": [
        "# 예제\n",
        "max(x ** 2 for x in range(100))"
      ],
      "execution_count": 0,
      "outputs": []
    },
    {
      "cell_type": "code",
      "metadata": {
        "id": "moIEdvF4AD2m",
        "colab_type": "code",
        "colab": {}
      },
      "source": [
        "dict((i, i**2) for i in range(5))"
      ],
      "execution_count": 0,
      "outputs": []
    },
    {
      "cell_type": "markdown",
      "metadata": {
        "id": "zSkzF-O3AHHl",
        "colab_type": "text"
      },
      "source": [
        "### itertools 모듈"
      ]
    },
    {
      "cell_type": "code",
      "metadata": {
        "id": "Gb8IzIKOAF9L",
        "colab_type": "code",
        "colab": {}
      },
      "source": [
        "# 일반 데이터 알고리즘을 위한 제너레이터를 포함\n",
        "import itertools\n",
        "\n",
        "# 예를 들어 groupby는 순차 자료 구조와 함수를 인자로 받아,\n",
        "# 인자로 받은 함수에서 반환하는 값에 따라 그룹을 지어준다.\n",
        "first_letter = lambda x : x[0]\n",
        "\n",
        "names = ['Alan', 'Adam', 'Wes', 'Will', 'Albert', 'Steven']\n",
        "\n",
        "for letter, names in itertools.groupby(names, first_letter) :\n",
        "    print(letter, list(names))\n"
      ],
      "execution_count": 0,
      "outputs": []
    },
    {
      "cell_type": "markdown",
      "metadata": {
        "id": "IT8Fmz16ALTK",
        "colab_type": "text"
      },
      "source": [
        "# 클래스"
      ]
    },
    {
      "cell_type": "code",
      "metadata": {
        "id": "t7Ea0KExANbR",
        "colab_type": "code",
        "colab": {}
      },
      "source": [
        "# 클래스를 하나 만들기 위해 특정 객체의 하위 클래스를 만들 수 있습니다.\n",
        "class Human(object):\n",
        "\n",
        "    # 클래스 속성은 이 클래스의 모든 인스턴스에서 공유합니다.\n",
        "    species = \"H. sapiens\"\n",
        "\n",
        "    # 기본 초기화자\n",
        "    def __init__(self, name):\n",
        "        # 인자를 인스턴스의 name 속성에 할당합니다.\n",
        "        self.name = name\n",
        "\n",
        "    # 모든 인스턴스 메서드에서는 self를 첫 번째 인자로 받습니다.\n",
        "    def say(self, msg):\n",
        "       return \"%s: %s\" % (self.name, msg)\n",
        "\n",
        "    # 클래스 메서드는 모든 인스턴스에서 공유합니다.\n",
        "    # 클래스 메서드는 호출하는 클래스를 첫 번째 인자로 호출됩니다.\n",
        "    @classmethod\n",
        "    def get_species(cls):\n",
        "        return cls.species\n",
        "\n",
        "    # 정적 메서드는 클래스나 인스턴스 참조 없이도 호출할 수 있습니다.\n",
        "    @staticmethod\n",
        "    def grunt():\n",
        "        return \"*grunt*\""
      ],
      "execution_count": 0,
      "outputs": []
    },
    {
      "cell_type": "code",
      "metadata": {
        "id": "7xDG6inNAKsT",
        "colab_type": "code",
        "colab": {}
      },
      "source": [
        "# 클래스 인스턴스화\n",
        "i = Human(name=\"Ian\")\n",
        "print(i.say(\"hi\"))     "
      ],
      "execution_count": 0,
      "outputs": []
    },
    {
      "cell_type": "code",
      "metadata": {
        "id": "gzQy6R8iAQz1",
        "colab_type": "code",
        "colab": {}
      },
      "source": [
        "j = Human(\"Joel\")\n",
        "print(j.say(\"hello\"))"
      ],
      "execution_count": 0,
      "outputs": []
    },
    {
      "cell_type": "code",
      "metadata": {
        "id": "JXo0-wTPASu4",
        "colab_type": "code",
        "colab": {}
      },
      "source": [
        "# 클래스 메서드를 호출\n",
        "i.get_species() "
      ],
      "execution_count": 0,
      "outputs": []
    },
    {
      "cell_type": "code",
      "metadata": {
        "id": "7MYoROVsAU8P",
        "colab_type": "code",
        "colab": {}
      },
      "source": [
        "# 공유 속성을 변경\n",
        "Human.species = \"H. neanderthalensis\"\n",
        "print(i.get_species()) \n",
        "print(j.get_species()) "
      ],
      "execution_count": 0,
      "outputs": []
    },
    {
      "cell_type": "code",
      "metadata": {
        "id": "YuInX-8cAW11",
        "colab_type": "code",
        "colab": {}
      },
      "source": [
        "# 정적 메서드를 호출\n",
        "Human.grunt()"
      ],
      "execution_count": 0,
      "outputs": []
    },
    {
      "cell_type": "code",
      "metadata": {
        "id": "bpGCfyOpAYqq",
        "colab_type": "code",
        "colab": {}
      },
      "source": [
        "class HousePark:\n",
        "    lastname = \"박\"\n",
        "    def __init__(self, name):\n",
        "        self.fullname = self.lastname + name\n",
        "    def travel(self, where):\n",
        "        print(\"%s, %s여행을 가다.\" % (self.fullname, where))\n",
        "    def love(self, other):\n",
        "        print(\"%s, %s 사랑에 빠졌네\" % (self.fullname, other.fullname))\n",
        "    def fight(self, other):\n",
        "        print(\"%s, %s 싸우네\" % (self.fullname, other.fullname))\n",
        "    def __add__(self, other):\n",
        "        print(\"%s, %s 결혼했네\" % (self.fullname, other.fullname))\n",
        "    def __sub__(self, other):\n",
        "        print(\"%s, %s 이혼했네\" % (self.fullname, other.fullname))\n",
        "    def __del__(self):\n",
        "        print(\"%s 죽네\" % self.fullname)\n",
        "\n",
        "class HouseKim(HousePark):\n",
        "    lastname = \"김\"\n",
        "    def travel(self, where, day):\n",
        "        print(\"%s, %s여행 %d일 가네.\" % (self.fullname, where, day))"
      ],
      "execution_count": 0,
      "outputs": []
    },
    {
      "cell_type": "code",
      "metadata": {
        "id": "Qk8BvPM3Aapq",
        "colab_type": "code",
        "colab": {}
      },
      "source": [
        "pey = HousePark(\"응용\")\n",
        "juliet = HouseKim(\"줄리엣\")\n",
        "# 아이파이썬 노트북의 실행 셀에서 먼저 객체가 생성되고 소멸되면서 소멸자 호출되어 출력된 것임."
      ],
      "execution_count": 0,
      "outputs": []
    },
    {
      "cell_type": "code",
      "metadata": {
        "id": "cS_oLGaNAcqS",
        "colab_type": "code",
        "colab": {}
      },
      "source": [
        "pey.travel(\"부산\")\n",
        "juliet.travel(\"부산\", 3)\n",
        "pey.love(juliet)\n",
        "pey + juliet\n",
        "pey.fight(juliet)\n",
        "pey - juliet"
      ],
      "execution_count": 0,
      "outputs": []
    }
  ]
}