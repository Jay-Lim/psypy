{
  "nbformat": 4,
  "nbformat_minor": 0,
  "metadata": {
    "colab": {
      "name": "03_b_funcions_and_files.ipynb",
      "provenance": [],
      "include_colab_link": true
    },
    "kernelspec": {
      "display_name": "Python 3",
      "language": "python",
      "name": "python3"
    },
    "language_info": {
      "codemirror_mode": {
        "name": "ipython",
        "version": 3
      },
      "file_extension": ".py",
      "mimetype": "text/x-python",
      "name": "python",
      "nbconvert_exporter": "python",
      "pygments_lexer": "ipython3",
      "version": "3.6.8"
    }
  },
  "cells": [
    {
      "cell_type": "markdown",
      "metadata": {
        "id": "view-in-github",
        "colab_type": "text"
      },
      "source": [
        "<a href=\"https://colab.research.google.com/github/psygrammer/psypy/blob/master/notebooks/03_b_funcions_and_files.ipynb\" target=\"_parent\"><img src=\"https://colab.research.google.com/assets/colab-badge.svg\" alt=\"Open In Colab\"/></a>"
      ]
    },
    {
      "cell_type": "markdown",
      "metadata": {
        "id": "v-I6Tqd9vArs",
        "colab_type": "text"
      },
      "source": [
        "# 03. 내장 자료구조, 함수, 파일 (2)"
      ]
    },
    {
      "cell_type": "markdown",
      "metadata": {
        "id": "pqoPQ4JLu2YV",
        "colab_type": "text"
      },
      "source": [
        "* 싸이그래머 / PsyPy [1]\n",
        "* 김무성"
      ]
    },
    {
      "cell_type": "code",
      "metadata": {
        "id": "THweB5Tzu2YW",
        "colab_type": "code",
        "outputId": "44371be7-8626-493c-faa8-7a66a556dde9",
        "colab": {
          "base_uri": "https://localhost:8080/",
          "height": 34
        }
      },
      "source": [
        "!python -V"
      ],
      "execution_count": 88,
      "outputs": [
        {
          "output_type": "stream",
          "text": [
            "Python 3.6.8\n"
          ],
          "name": "stdout"
        }
      ]
    },
    {
      "cell_type": "markdown",
      "metadata": {
        "id": "OkoN1Swsu2YZ",
        "colab_type": "text"
      },
      "source": [
        "# 차례 \n",
        "* 함수\n",
        "    - 네임스페이스, 스코프, 지역 함수\n",
        "    - 여러 값 반환하기\n",
        "    - 함수도 객체다\n",
        "    - 익명 함수\n",
        "    - 클로저 : 함수를 반환하는 함수\n",
        "    - \\*args와  \\*\\*kwargs를 사용해서 호출 문법 확장하기  \n",
        "    - 커링 : 일부 인자만 취하기\n",
        "    - 제너레이터\n",
        "    - 에러와 예외 다루기\n",
        "* 파일과 운영체제\n",
        "    - 바이트와 유니코드 파일\n",
        "* 클래스\n",
        "* 함수형 프로그래밍\n",
        "  - map\n",
        "  - filter\n",
        "  - reduce"
      ]
    },
    {
      "cell_type": "markdown",
      "metadata": {
        "id": "PQGfnCP8u2Ya",
        "colab_type": "text"
      },
      "source": [
        "------------------------"
      ]
    },
    {
      "cell_type": "markdown",
      "metadata": {
        "id": "KOEuB8XCu2Yb",
        "colab_type": "text"
      },
      "source": [
        "# 함수"
      ]
    },
    {
      "cell_type": "markdown",
      "metadata": {
        "id": "dcV0A_DGu2Yd",
        "colab_type": "text"
      },
      "source": [
        "```python\n",
        "def my_function(x, y, z=1.5) :\n",
        "    if z > 1 :\n",
        "        return z * (x + y)\n",
        "    else :\n",
        "        return z / (x + y)\n",
        "    \n",
        "# return문이 몇 개가 되든 상관없다. \n",
        "# 함수 블록이 끝날 때까지 return문이 없다면 None이 반환된다.   \n",
        "```"
      ]
    },
    {
      "cell_type": "markdown",
      "metadata": {
        "id": "p9yu8JPhu2Ye",
        "colab_type": "text"
      },
      "source": [
        "## 네임스페이스, 스코프, 지역 함수"
      ]
    },
    {
      "cell_type": "markdown",
      "metadata": {
        "id": "IACL_twju2Ye",
        "colab_type": "text"
      },
      "source": [
        "```python\n",
        "# 로컬\n",
        "def func() :\n",
        "    a = []  # <- local\n",
        "    for i in range(5) :\n",
        "        a.append(i)\n",
        "```        "
      ]
    },
    {
      "cell_type": "markdown",
      "metadata": {
        "id": "6HbhKQ-yu2Yf",
        "colab_type": "text"
      },
      "source": [
        "```python\n",
        "# 전역 \n",
        "a = []\n",
        "def func() :\n",
        "    for i in range(5) :\n",
        "        a.append(i)\n",
        "        \n",
        "func()\n",
        "a\n",
        "```"
      ]
    },
    {
      "cell_type": "code",
      "metadata": {
        "id": "rxPyir7eu2Yg",
        "colab_type": "code",
        "outputId": "1c1fc3d2-7191-450e-ce19-c64e4197b065",
        "colab": {
          "base_uri": "https://localhost:8080/",
          "height": 34
        }
      },
      "source": [
        "b = None\n",
        "def bind_b_variable() :\n",
        "    b = []\n",
        "    \n",
        "bind_b_variable()    \n",
        "print(b)    "
      ],
      "execution_count": 89,
      "outputs": [
        {
          "output_type": "stream",
          "text": [
            "None\n"
          ],
          "name": "stdout"
        }
      ]
    },
    {
      "cell_type": "code",
      "metadata": {
        "id": "4dxygrahu2Yi",
        "colab_type": "code",
        "outputId": "d21831da-d8dc-4f1f-fb4d-ab350d45b130",
        "colab": {
          "base_uri": "https://localhost:8080/",
          "height": 34
        }
      },
      "source": [
        "# global 예약어 사용\n",
        "b = None\n",
        "def bind_b_variable() :\n",
        "    global b\n",
        "    b = []\n",
        "\n",
        "bind_b_variable()\n",
        "print(b)"
      ],
      "execution_count": 90,
      "outputs": [
        {
          "output_type": "stream",
          "text": [
            "[]\n"
          ],
          "name": "stdout"
        }
      ]
    },
    {
      "cell_type": "markdown",
      "metadata": {
        "id": "Q-8jHbo4u2Yl",
        "colab_type": "text"
      },
      "source": [
        "```python\n",
        "# 함수 안에서 함수를 선언할 수 있다.\n",
        "def outer_function(x, y, z) :\n",
        "    def inner_function(a, b, c) :\n",
        "        pass\n",
        "    pass\n",
        "```"
      ]
    },
    {
      "cell_type": "markdown",
      "metadata": {
        "id": "VUu8U8W7u2Yl",
        "colab_type": "text"
      },
      "source": [
        "## 여러 값 반환하기"
      ]
    },
    {
      "cell_type": "code",
      "metadata": {
        "id": "k_l0oLbCu2Ym",
        "colab_type": "code",
        "outputId": "da08974c-76ea-4aec-a739-8b7cfe9acea8",
        "colab": {
          "base_uri": "https://localhost:8080/",
          "height": 34
        }
      },
      "source": [
        "def f() :\n",
        "    a = 5\n",
        "    b = 6\n",
        "    c = 7\n",
        "    return a, b, c\n",
        "\n",
        "a, b, c = f()\n",
        "print(a, b, c)"
      ],
      "execution_count": 91,
      "outputs": [
        {
          "output_type": "stream",
          "text": [
            "5 6 7\n"
          ],
          "name": "stdout"
        }
      ]
    },
    {
      "cell_type": "code",
      "metadata": {
        "id": "gGncnYipu2Yo",
        "colab_type": "code",
        "outputId": "e7b00357-ecfb-4e2d-9947-f5d4d692f302",
        "colab": {
          "base_uri": "https://localhost:8080/",
          "height": 34
        }
      },
      "source": [
        "return_value = f()\n",
        "return_value # 여래 개의 값을 하나의 변수에 반환받으면, 그 변수는 튜플 자료형이 된다."
      ],
      "execution_count": 92,
      "outputs": [
        {
          "output_type": "execute_result",
          "data": {
            "text/plain": [
              "(5, 6, 7)"
            ]
          },
          "metadata": {
            "tags": []
          },
          "execution_count": 92
        }
      ]
    },
    {
      "cell_type": "markdown",
      "metadata": {
        "id": "TG7CErDeu2Yr",
        "colab_type": "text"
      },
      "source": [
        "## 함수도 객체다"
      ]
    },
    {
      "cell_type": "code",
      "metadata": {
        "id": "Fag3HE6Ku2Yr",
        "colab_type": "code",
        "colab": {}
      },
      "source": [
        "states = [ '  Alabama ', 'Georgia!', 'Georgia', 'georgia', 'FlOrIda', \n",
        "          'south carolin##', 'West virginaia?']"
      ],
      "execution_count": 0,
      "outputs": []
    },
    {
      "cell_type": "markdown",
      "metadata": {
        "id": "AzfKddqVu2Yu",
        "colab_type": "text"
      },
      "source": [
        "### 문자열을 변형하기 위해 함수를 사용하는 일반적인 패턴"
      ]
    },
    {
      "cell_type": "code",
      "metadata": {
        "id": "wrhEPwb7u2Yu",
        "colab_type": "code",
        "colab": {}
      },
      "source": [
        "import re \n",
        "\n",
        "def clean_strings(strings) :\n",
        "    result = []\n",
        "    for value in strings :\n",
        "        value = value.strip()\n",
        "        value = re.sub('[!#?]', '', value) # 문장 부호 제거\n",
        "        value = value.title()\n",
        "        result.append(value)\n",
        "    return result"
      ],
      "execution_count": 0,
      "outputs": []
    },
    {
      "cell_type": "code",
      "metadata": {
        "id": "fVmHarUuu2Yw",
        "colab_type": "code",
        "outputId": "d85b7d81-8d50-4d6b-acf2-adf9bbea7fc9",
        "colab": {
          "base_uri": "https://localhost:8080/",
          "height": 0
        }
      },
      "source": [
        "clean_strings(states)"
      ],
      "execution_count": 95,
      "outputs": [
        {
          "output_type": "execute_result",
          "data": {
            "text/plain": [
              "['Alabama',\n",
              " 'Georgia',\n",
              " 'Georgia',\n",
              " 'Georgia',\n",
              " 'Florida',\n",
              " 'South Carolin',\n",
              " 'West Virginaia']"
            ]
          },
          "metadata": {
            "tags": []
          },
          "execution_count": 95
        }
      ]
    },
    {
      "cell_type": "markdown",
      "metadata": {
        "id": "iCKuxqXOu2Y0",
        "colab_type": "text"
      },
      "source": [
        "### 함수를 객체화하고 인자로 넘겨서 좀 더 유연하게 사용하는 패턴"
      ]
    },
    {
      "cell_type": "code",
      "metadata": {
        "id": "oa4ISPflu2Y1",
        "colab_type": "code",
        "colab": {}
      },
      "source": [
        "def remove_punctuation(value) :\n",
        "    return re.sub('[!#?]', '', value)\n",
        "\n",
        "# 함수도 객체. \n",
        "clean_ops = [str.strip, remove_punctuation, str.title]\n",
        "\n",
        "def clean_strings(strings, ops) :\n",
        "    result = []\n",
        "    for value in strings :\n",
        "        for function in ops :\n",
        "            value = function(value) \n",
        "        result.append(value)\n",
        "    return result"
      ],
      "execution_count": 0,
      "outputs": []
    },
    {
      "cell_type": "code",
      "metadata": {
        "id": "jiScde28u2Y3",
        "colab_type": "code",
        "outputId": "9ca33fb8-0d1c-431c-d59a-2618d9f73e70",
        "colab": {
          "base_uri": "https://localhost:8080/",
          "height": 0
        }
      },
      "source": [
        "clean_strings(states, clean_ops)"
      ],
      "execution_count": 97,
      "outputs": [
        {
          "output_type": "execute_result",
          "data": {
            "text/plain": [
              "['Alabama',\n",
              " 'Georgia',\n",
              " 'Georgia',\n",
              " 'Georgia',\n",
              " 'Florida',\n",
              " 'South Carolin',\n",
              " 'West Virginaia']"
            ]
          },
          "metadata": {
            "tags": []
          },
          "execution_count": 97
        }
      ]
    },
    {
      "cell_type": "code",
      "metadata": {
        "id": "ammnqhoWu2Y5",
        "colab_type": "code",
        "outputId": "bb3b10ee-5dcd-4e67-a733-ec81e2f8d49d",
        "colab": {
          "base_uri": "https://localhost:8080/",
          "height": 0
        }
      },
      "source": [
        "# map을 이용해본다. 어떤 컬렉션에 대해 함수를 적용하는 함수다. \n",
        "# 이를 이용해서 함수를 인자로 사용할 수 있다.\n",
        "map(remove_punctuation, states)"
      ],
      "execution_count": 98,
      "outputs": [
        {
          "output_type": "execute_result",
          "data": {
            "text/plain": [
              "<map at 0x7f9590ac3e10>"
            ]
          },
          "metadata": {
            "tags": []
          },
          "execution_count": 98
        }
      ]
    },
    {
      "cell_type": "code",
      "metadata": {
        "id": "GSssdH-0u2Y7",
        "colab_type": "code",
        "outputId": "33f2488f-4a43-4fce-9e2e-e80df9bfcf69",
        "colab": {
          "base_uri": "https://localhost:8080/",
          "height": 0
        }
      },
      "source": [
        "for e in map(remove_punctuation, states) :\n",
        "    print(e)"
      ],
      "execution_count": 99,
      "outputs": [
        {
          "output_type": "stream",
          "text": [
            "  Alabama \n",
            "Georgia\n",
            "Georgia\n",
            "georgia\n",
            "FlOrIda\n",
            "south carolin\n",
            "West virginaia\n"
          ],
          "name": "stdout"
        }
      ]
    },
    {
      "cell_type": "markdown",
      "metadata": {
        "id": "Dtae_lMHu2Y9",
        "colab_type": "text"
      },
      "source": [
        "## 익명 함수 "
      ]
    },
    {
      "cell_type": "markdown",
      "metadata": {
        "id": "BnOxWSL2u2Y-",
        "colab_type": "text"
      },
      "source": [
        "```python\n",
        "def short_function(x) :\n",
        "    return x * 2\n",
        "\n",
        "# 위의 함수와 동치인 익명 함수(람다 함수)\n",
        "equiv_anon = lambda x: x * 2\n",
        "```"
      ]
    },
    {
      "cell_type": "code",
      "metadata": {
        "id": "4zjf8Mhru2Y-",
        "colab_type": "code",
        "outputId": "b6b10edb-98d4-45eb-c698-bda0785376d5",
        "colab": {
          "base_uri": "https://localhost:8080/",
          "height": 0
        }
      },
      "source": [
        "# 각 문자열에서 다양한 문자가 포함된 순서로 정렬하는 예제\n",
        "strings = ['foo', 'card', 'bar', 'aaaa', 'abab']\n",
        "strings.sort(key=lambda x: len(set(list(x))))\n",
        "strings"
      ],
      "execution_count": 100,
      "outputs": [
        {
          "output_type": "execute_result",
          "data": {
            "text/plain": [
              "['aaaa', 'foo', 'abab', 'bar', 'card']"
            ]
          },
          "metadata": {
            "tags": []
          },
          "execution_count": 100
        }
      ]
    },
    {
      "cell_type": "markdown",
      "metadata": {
        "id": "yC_4yesw-3Ag",
        "colab_type": "text"
      },
      "source": [
        "## 클로저 : 함수를 반환하는 함수"
      ]
    },
    {
      "cell_type": "code",
      "metadata": {
        "id": "UWtGYbsY-6nt",
        "colab_type": "code",
        "colab": {}
      },
      "source": [
        "# 클로저는 다른 함수에서 반환되는, 동적으로 생성된 함수다. \n",
        "# 핵심은 반환되는 함수는 그 함수가 생성된 시점의 \n",
        "# 지역 네임스페이스의 변수에 접근할 수 있다는 점이다."
      ],
      "execution_count": 0,
      "outputs": []
    },
    {
      "cell_type": "code",
      "metadata": {
        "id": "H39kltIu-3-O",
        "colab_type": "code",
        "outputId": "95cf4e3a-9b5a-4cab-b96d-7f7d516f161a",
        "colab": {
          "base_uri": "https://localhost:8080/",
          "height": 0
        }
      },
      "source": [
        "def make_closure(a) :\n",
        "    def closure() :\n",
        "        print(\"I know the secret: %d\", a)\n",
        "    return closure\n",
        "\n",
        "closure = make_closure(5)\n",
        "closure()\n",
        "closure() # 클로저를 생성하는 함수가 끝나더라도 생성된 시점의 네임스페이스에 여전히 접근할 수 있다.\n"
      ],
      "execution_count": 102,
      "outputs": [
        {
          "output_type": "stream",
          "text": [
            "I know the secret: %d 5\n",
            "I know the secret: %d 5\n"
          ],
          "name": "stdout"
        }
      ]
    },
    {
      "cell_type": "code",
      "metadata": {
        "id": "g2rk1UDg_C75",
        "colab_type": "code",
        "colab": {}
      },
      "source": [
        "# 클로져가 변경 가능한 객체를 가질 수도 있다.\n",
        "def make_watcher() :\n",
        "    have_seen = {}\n",
        "    \n",
        "    def has_been_seen(x) :\n",
        "        if x in have_seen :\n",
        "            return True\n",
        "        else :\n",
        "            have_seen[x] = True\n",
        "            return False\n",
        "        \n",
        "    return has_been_seen"
      ],
      "execution_count": 0,
      "outputs": []
    },
    {
      "cell_type": "code",
      "metadata": {
        "id": "Gj2zPwmc_Ex9",
        "colab_type": "code",
        "outputId": "ef90c3fb-eb16-48cc-cb09-54a977332ba2",
        "colab": {
          "base_uri": "https://localhost:8080/",
          "height": 0
        }
      },
      "source": [
        "watcher = make_watcher()\n",
        "vals = [5, 6, 1, 5, 1, 6, 3, 5]\n",
        "[watcher(x) for x in vals]"
      ],
      "execution_count": 104,
      "outputs": [
        {
          "output_type": "execute_result",
          "data": {
            "text/plain": [
              "[False, False, False, True, True, True, False, True]"
            ]
          },
          "metadata": {
            "tags": []
          },
          "execution_count": 104
        }
      ]
    },
    {
      "cell_type": "markdown",
      "metadata": {
        "id": "msl10kGu_GSK",
        "colab_type": "text"
      },
      "source": [
        "## \\*args와  \\*\\*kwargs를 사용해서 호출 문법 확장하기  "
      ]
    },
    {
      "cell_type": "markdown",
      "metadata": {
        "id": "pWffYxVB_K-W",
        "colab_type": "text"
      },
      "source": [
        "```python\n",
        "# 파이썬에서 함수 인자가 동작하는 방식은, \n",
        "# 만약 func(a, b, c, d=some, e= value) 라고 코드를 작성하면\n",
        "# 일반 인자와 키워드 인자는 \n",
        "# 각각 튜플 args와\n",
        "# 사전 kwargs에 저장된다.\n",
        "# 내부적으로 다음과 같은 과정을 거친다\n",
        "a, b, c = args\n",
        "d = kwargs.get('d', d_default_value)\n",
        "e = kwargs.get('e', e_defaulT_value)\n",
        "```"
      ]
    },
    {
      "cell_type": "code",
      "metadata": {
        "id": "Ux2jknJ-_NV7",
        "colab_type": "code",
        "outputId": "9dbad1ce-d705-45c5-f301-102d18e6eff0",
        "colab": {
          "base_uri": "https://localhost:8080/",
          "height": 0
        }
      },
      "source": [
        "# 예제\n",
        "def say_hello_then_call_f(f, *args, **kwargs) :\n",
        "    print('args is', args)\n",
        "    print('kwargs is', kwargs)\n",
        "    print(\"Hello! Now I'm going to call %s\" %(f))\n",
        "    return f(*args, **kwargs)\n",
        "\n",
        "def g(x, y, z=1) :\n",
        "    return (x+y)/z\n",
        "\n",
        "say_hello_then_call_f(g, 1, 2, z=5.)"
      ],
      "execution_count": 105,
      "outputs": [
        {
          "output_type": "stream",
          "text": [
            "args is (1, 2)\n",
            "kwargs is {'z': 5.0}\n",
            "Hello! Now I'm going to call <function g at 0x7f9591c27488>\n"
          ],
          "name": "stdout"
        },
        {
          "output_type": "execute_result",
          "data": {
            "text/plain": [
              "0.6"
            ]
          },
          "metadata": {
            "tags": []
          },
          "execution_count": 105
        }
      ]
    },
    {
      "cell_type": "markdown",
      "metadata": {
        "id": "n2WgLUMP_QcX",
        "colab_type": "text"
      },
      "source": [
        "## 커링 : 일부 인자만 취하기"
      ]
    },
    {
      "cell_type": "code",
      "metadata": {
        "id": "0XcNNgKr_RN6",
        "colab_type": "code",
        "colab": {}
      },
      "source": [
        "# 함수에서 일부 인자를 고정해 새로운 함수를 만드는 기법을 커링이라고 한다.\n",
        "\n",
        "def add_numbers(x, y) :\n",
        "    return x + y\n",
        "\n",
        "# 여기서 add_numbers의 두 번째 인자가 '커리되었다'라고 한다.\n",
        "add_five = lambda y: add_numbers(5, y) \n",
        "\n",
        "\n",
        "# 다음 방식으로 더 단순하게 만들 수 있다.\n",
        "from functools import partial\n",
        "add_five = partial(add_numbers, 5)"
      ],
      "execution_count": 0,
      "outputs": []
    },
    {
      "cell_type": "markdown",
      "metadata": {
        "id": "3UWwBgYb_WW_",
        "colab_type": "text"
      },
      "source": [
        "## 제너레이터"
      ]
    },
    {
      "cell_type": "markdown",
      "metadata": {
        "id": "zAu33M9t_ZL_",
        "colab_type": "text"
      },
      "source": [
        "* 이터레이터 프로토콜\n",
        "* 제너레이터\n",
        "* 제너레이터 표현식\n",
        "* itertoos 모듈"
      ]
    },
    {
      "cell_type": "markdown",
      "metadata": {
        "id": "KgRm9Xai_bX-",
        "colab_type": "text"
      },
      "source": [
        "### 이터레이터 프로토콜"
      ]
    },
    {
      "cell_type": "code",
      "metadata": {
        "id": "CuQC5Z58_IT4",
        "colab_type": "code",
        "outputId": "564c97ee-9995-4819-aea6-dbfc5ae0a512",
        "colab": {
          "base_uri": "https://localhost:8080/",
          "height": 0
        }
      },
      "source": [
        "# 파이썬은 리스트 내의 객체나 파일의 각 행 같은 순차적인 자료를 순회하는 일관적인 방법을 제공한다.\n",
        "# 이터레이터 프로토콜을 이용해서 순회가 가능한 객체를 만들 수 있다.\n",
        "\n",
        "some_dict = {'a':1, 'b':2, 'c':3}\n",
        " \n",
        "# for key in some_dict 라고 작성하면 \n",
        "# 파이썬 인터프리터는 some_dict에서 이터레이터를 생성한다.    \n",
        "for key in some_dict :\n",
        "    print(key)"
      ],
      "execution_count": 107,
      "outputs": [
        {
          "output_type": "stream",
          "text": [
            "a\n",
            "b\n",
            "c\n"
          ],
          "name": "stdout"
        }
      ]
    },
    {
      "cell_type": "code",
      "metadata": {
        "id": "Gt5FZL958G1c",
        "colab_type": "code",
        "colab": {}
      },
      "source": [
        "dict_iterator = iter(some_dict)"
      ],
      "execution_count": 0,
      "outputs": []
    },
    {
      "cell_type": "code",
      "metadata": {
        "id": "BLEajoaW8SWx",
        "colab_type": "code",
        "outputId": "3272af5a-750c-4564-ef4e-e7abbb16ed39",
        "colab": {
          "base_uri": "https://localhost:8080/",
          "height": 0
        }
      },
      "source": [
        "dict_iterator"
      ],
      "execution_count": 109,
      "outputs": [
        {
          "output_type": "execute_result",
          "data": {
            "text/plain": [
              "<dict_keyiterator at 0x7f95909b7728>"
            ]
          },
          "metadata": {
            "tags": []
          },
          "execution_count": 109
        }
      ]
    },
    {
      "cell_type": "markdown",
      "metadata": {
        "id": "819kbms18blC",
        "colab_type": "text"
      },
      "source": [
        "이터레이터는 for 문과 같은 컨텍스트에서 사용될 경우 객체를 반환한다. 리스트나 리스트와 유사한 객체를 취하는 대부분의 메서드는 순회 가능한 객체도 허용한다. 여기에는 min, max, sum 같은 내장 매서드와 list, tuple 같은 자료구조를 생성하는 메서드도 포함된다. "
      ]
    },
    {
      "cell_type": "code",
      "metadata": {
        "id": "fGCh6tol_w9n",
        "colab_type": "code",
        "outputId": "cd4a6273-1a17-4a5c-9487-847ac0fb0c68",
        "colab": {
          "base_uri": "https://localhost:8080/",
          "height": 0
        }
      },
      "source": [
        "list(dict_iterator)"
      ],
      "execution_count": 110,
      "outputs": [
        {
          "output_type": "execute_result",
          "data": {
            "text/plain": [
              "['a', 'b', 'c']"
            ]
          },
          "metadata": {
            "tags": []
          },
          "execution_count": 110
        }
      ]
    },
    {
      "cell_type": "markdown",
      "metadata": {
        "id": "X4hyDncN_zBp",
        "colab_type": "text"
      },
      "source": [
        "### 제너레이터"
      ]
    },
    {
      "cell_type": "code",
      "metadata": {
        "id": "nKlxPN41_1Lw",
        "colab_type": "code",
        "colab": {}
      },
      "source": [
        "# 제너레이터는 순회가 가능한 객체를 생성하는 간단한 방법이다.\n",
        "# 일반 함수는 실행되면 단일 값을 반환하지만\n",
        "# 제너레이터는 순차적인 값을 매 요청 시마다 하나씩 반환한다.\n",
        "# 제너레이터를 생성하려면 함수에서 return 대신에 yeild 예약어를 사용한다.\n",
        "def squares(n=10) :\n",
        "    print('Generating squares from 1 to %d' %(n ** 2))\n",
        "    for i in range(1, n+1) :\n",
        "        yield i ** 2"
      ],
      "execution_count": 0,
      "outputs": []
    },
    {
      "cell_type": "code",
      "metadata": {
        "id": "jfde6z5c_3T9",
        "colab_type": "code",
        "outputId": "bd5523fb-ceb2-4651-d4d3-a15e5281e1fc",
        "colab": {
          "base_uri": "https://localhost:8080/",
          "height": 0
        }
      },
      "source": [
        "gen = squares()\n",
        "gen"
      ],
      "execution_count": 112,
      "outputs": [
        {
          "output_type": "execute_result",
          "data": {
            "text/plain": [
              "<generator object squares at 0x7f95909c2ba0>"
            ]
          },
          "metadata": {
            "tags": []
          },
          "execution_count": 112
        }
      ]
    },
    {
      "cell_type": "code",
      "metadata": {
        "id": "mAL2a9OR_5ik",
        "colab_type": "code",
        "outputId": "7dc8a5d2-6ab2-49f7-af2b-7ca6a3faa4c0",
        "colab": {
          "base_uri": "https://localhost:8080/",
          "height": 0
        }
      },
      "source": [
        "for x in gen :\n",
        "    print(x) "
      ],
      "execution_count": 113,
      "outputs": [
        {
          "output_type": "stream",
          "text": [
            "Generating squares from 1 to 100\n",
            "1\n",
            "4\n",
            "9\n",
            "16\n",
            "25\n",
            "36\n",
            "49\n",
            "64\n",
            "81\n",
            "100\n"
          ],
          "name": "stdout"
        }
      ]
    },
    {
      "cell_type": "markdown",
      "metadata": {
        "id": "qoXAFLDh_7qH",
        "colab_type": "text"
      },
      "source": [
        "### 제너레이터 표현식"
      ]
    },
    {
      "cell_type": "code",
      "metadata": {
        "id": "1TIcI9lx_9tH",
        "colab_type": "code",
        "outputId": "ba7c3567-bd7f-40c6-e5db-a33d32ad2027",
        "colab": {
          "base_uri": "https://localhost:8080/",
          "height": 0
        }
      },
      "source": [
        "# 제너레이터를 만드는 간단한 방법은 제너레이터 표현식을 사용하는 것이다.\n",
        "gen = (x ** 2 for x in range(100))\n",
        "gen"
      ],
      "execution_count": 114,
      "outputs": [
        {
          "output_type": "execute_result",
          "data": {
            "text/plain": [
              "<generator object <genexpr> at 0x7f95909c2fc0>"
            ]
          },
          "metadata": {
            "tags": []
          },
          "execution_count": 114
        }
      ]
    },
    {
      "cell_type": "code",
      "metadata": {
        "id": "ELK9dWlM__3j",
        "colab_type": "code",
        "outputId": "d0d19966-c4dd-4194-cf5e-7022bfd3838c",
        "colab": {
          "base_uri": "https://localhost:8080/",
          "height": 0
        }
      },
      "source": [
        "# 위의 코드는 다음 코드와 동일하다\n",
        "def _make_gen() :\n",
        "    for x in range(100) :\n",
        "        yield x ** 2\n",
        "        \n",
        "gen = _make_gen()\n",
        "gen"
      ],
      "execution_count": 115,
      "outputs": [
        {
          "output_type": "execute_result",
          "data": {
            "text/plain": [
              "<generator object _make_gen at 0x7f9591bf9d00>"
            ]
          },
          "metadata": {
            "tags": []
          },
          "execution_count": 115
        }
      ]
    },
    {
      "cell_type": "code",
      "metadata": {
        "id": "kzzaE7_yAB4N",
        "colab_type": "code",
        "outputId": "382659e9-e280-473f-b55b-932bd5fdac1c",
        "colab": {
          "base_uri": "https://localhost:8080/",
          "height": 0
        }
      },
      "source": [
        "# 예제\n",
        "max(x ** 2 for x in range(100))"
      ],
      "execution_count": 116,
      "outputs": [
        {
          "output_type": "execute_result",
          "data": {
            "text/plain": [
              "9801"
            ]
          },
          "metadata": {
            "tags": []
          },
          "execution_count": 116
        }
      ]
    },
    {
      "cell_type": "code",
      "metadata": {
        "id": "moIEdvF4AD2m",
        "colab_type": "code",
        "outputId": "536e34e4-9094-4420-c293-f5212944fc3b",
        "colab": {
          "base_uri": "https://localhost:8080/",
          "height": 0
        }
      },
      "source": [
        "dict((i, i**2) for i in range(5))"
      ],
      "execution_count": 117,
      "outputs": [
        {
          "output_type": "execute_result",
          "data": {
            "text/plain": [
              "{0: 0, 1: 1, 2: 4, 3: 9, 4: 16}"
            ]
          },
          "metadata": {
            "tags": []
          },
          "execution_count": 117
        }
      ]
    },
    {
      "cell_type": "markdown",
      "metadata": {
        "id": "zSkzF-O3AHHl",
        "colab_type": "text"
      },
      "source": [
        "### itertools 모듈"
      ]
    },
    {
      "cell_type": "code",
      "metadata": {
        "id": "Gb8IzIKOAF9L",
        "colab_type": "code",
        "outputId": "5df08283-db7d-4ce2-9f0f-b5ef2d72ad01",
        "colab": {
          "base_uri": "https://localhost:8080/",
          "height": 0
        }
      },
      "source": [
        "# 일반 데이터 알고리즘을 위한 제너레이터를 포함\n",
        "import itertools\n",
        "\n",
        "# 예를 들어 groupby는 순차 자료 구조와 함수를 인자로 받아,\n",
        "# 인자로 받은 함수에서 반환하는 값에 따라 그룹을 지어준다.\n",
        "first_letter = lambda x : x[0]\n",
        "\n",
        "names = ['Alan', 'Adam', 'Wes', 'Will', 'Albert', 'Steven']\n",
        "\n",
        "for letter, names in itertools.groupby(names, first_letter) :\n",
        "    print(letter, list(names))\n"
      ],
      "execution_count": 118,
      "outputs": [
        {
          "output_type": "stream",
          "text": [
            "A ['Alan', 'Adam']\n",
            "W ['Wes', 'Will']\n",
            "A ['Albert']\n",
            "S ['Steven']\n"
          ],
          "name": "stdout"
        }
      ]
    },
    {
      "cell_type": "markdown",
      "metadata": {
        "id": "KPDKPmtLiF-L",
        "colab_type": "text"
      },
      "source": [
        "---------------------------------"
      ]
    },
    {
      "cell_type": "markdown",
      "metadata": {
        "id": "NbABZw3jiIf7",
        "colab_type": "text"
      },
      "source": [
        "# 파일과 운영체제 [1, 2]\n",
        "* 파일 읽기\n",
        "* with 문 사용\n",
        "* 파일을 읽는 여러 가지 방법\n",
        "* 파일 쓰기\n",
        "* 바이트와 유니코드"
      ]
    },
    {
      "cell_type": "markdown",
      "metadata": {
        "id": "XwFQLs0_nHqu",
        "colab_type": "text"
      },
      "source": [
        "------------------------------"
      ]
    },
    {
      "cell_type": "markdown",
      "metadata": {
        "id": "bBDIUu-OnKbJ",
        "colab_type": "text"
      },
      "source": [
        "실습할 파일을 준비.(웹에서 가져오기 - urllib 사용)"
      ]
    },
    {
      "cell_type": "code",
      "metadata": {
        "id": "HufXDpaS9VTJ",
        "colab_type": "code",
        "outputId": "d4a1ab45-9b02-4ace-94ee-a0d9baf7613f",
        "colab": {
          "base_uri": "https://localhost:8080/",
          "height": 34
        }
      },
      "source": [
        "%ls"
      ],
      "execution_count": 119,
      "outputs": [
        {
          "output_type": "stream",
          "text": [
            "\u001b[0m\u001b[01;34mexamples\u001b[0m/  \u001b[01;34msample_data\u001b[0m/\n"
          ],
          "name": "stdout"
        }
      ]
    },
    {
      "cell_type": "code",
      "metadata": {
        "id": "QE7djT7hihh5",
        "colab_type": "code",
        "colab": {}
      },
      "source": [
        "# 우선 파일을 가져와보자.\n",
        "\n",
        "## 1. 디렉토리 만들기\n",
        "import os\n",
        "\n",
        "dir_name = \"examples\"\n",
        "if not os.path.exists(dir_name) :\n",
        "  os.mkdir(dir_name)"
      ],
      "execution_count": 0,
      "outputs": []
    },
    {
      "cell_type": "code",
      "metadata": {
        "id": "_oPCi6KgjI8C",
        "colab_type": "code",
        "outputId": "1053390d-891c-46dc-eec5-b38260ecd9f0",
        "colab": {
          "base_uri": "https://localhost:8080/",
          "height": 34
        }
      },
      "source": [
        "# example 디렉토리가 생겼다.\n",
        "%ls"
      ],
      "execution_count": 121,
      "outputs": [
        {
          "output_type": "stream",
          "text": [
            "\u001b[0m\u001b[01;34mexamples\u001b[0m/  \u001b[01;34msample_data\u001b[0m/\n"
          ],
          "name": "stdout"
        }
      ]
    },
    {
      "cell_type": "code",
      "metadata": {
        "id": "kh54LecRjckX",
        "colab_type": "code",
        "outputId": "b79d8bed-392b-4c2c-cb11-1674d9f64a52",
        "colab": {
          "base_uri": "https://localhost:8080/",
          "height": 34
        }
      },
      "source": [
        "# 지금은 디렉토리 안에 아무 파일도 없다.\n",
        "%ls examples/"
      ],
      "execution_count": 122,
      "outputs": [
        {
          "output_type": "stream",
          "text": [
            "segismundo.txt  tmp2.txt  tmp.txt\n"
          ],
          "name": "stdout"
        }
      ]
    },
    {
      "cell_type": "code",
      "metadata": {
        "id": "tEYHYFlqjM7F",
        "colab_type": "code",
        "colab": {}
      },
      "source": [
        "# 2. 파일 가져오기 - [1]의 예제소스 github의 파일들을 주소로 접근해서 가져온다.\n",
        "\n",
        "import urllib.request\n",
        "\n",
        "url = 'https://raw.githubusercontent.com/wesm/pydata-book/2nd-edition/examples/segismundo.txt'\n",
        "file_name = \"examples/segismundo.txt\" \n",
        "with urllib.request.urlopen(url) as r:\n",
        "  doc = r.read()\n",
        "  with open(file_name, \"wb\") as f:\n",
        "    f.write(doc)"
      ],
      "execution_count": 0,
      "outputs": []
    },
    {
      "cell_type": "code",
      "metadata": {
        "id": "1I9OuDudlfyP",
        "colab_type": "code",
        "outputId": "b83f0770-f332-4de1-b1ee-eb65235c2bc0",
        "colab": {
          "base_uri": "https://localhost:8080/",
          "height": 34
        }
      },
      "source": [
        "# 다운로드 완료. 파일이 생겼다.\n",
        "%ls examples/"
      ],
      "execution_count": 124,
      "outputs": [
        {
          "output_type": "stream",
          "text": [
            "segismundo.txt  tmp2.txt  tmp.txt\n"
          ],
          "name": "stdout"
        }
      ]
    },
    {
      "cell_type": "code",
      "metadata": {
        "id": "7nucMFIhmxEY",
        "colab_type": "code",
        "outputId": "6fb95034-0a64-424f-bc6b-e348a5c214e1",
        "colab": {
          "base_uri": "https://localhost:8080/",
          "height": 187
        }
      },
      "source": [
        "# 내용를 한번 살펴보자 \n",
        "!head examples/segismundo.txt"
      ],
      "execution_count": 125,
      "outputs": [
        {
          "output_type": "stream",
          "text": [
            "Sueña el rico en su riqueza,\n",
            "que más cuidados le ofrece;\n",
            "\n",
            "sueña el pobre que padece\n",
            "su miseria y su pobreza;\n",
            "\n",
            "sueña el que a medrar empieza,\n",
            "sueña el que afana y pretende,\n",
            "sueña el que agravia y ofende,\n",
            "\n"
          ],
          "name": "stdout"
        }
      ]
    },
    {
      "cell_type": "markdown",
      "metadata": {
        "id": "HsrpMugXnd5I",
        "colab_type": "text"
      },
      "source": [
        "--------------"
      ]
    },
    {
      "cell_type": "markdown",
      "metadata": {
        "id": "OpC9MxToniFm",
        "colab_type": "text"
      },
      "source": [
        "## 파일 읽기"
      ]
    },
    {
      "cell_type": "markdown",
      "metadata": {
        "id": "kBmBYC79-8Ib",
        "colab_type": "text"
      },
      "source": [
        "| 파일열기모드\t| 설명 \n",
        "| :------------- | :-------------\n",
        "|r\t| 읽기모드 - 파일을 읽기만 할 때 사용\n",
        "|w\t| 쓰기모드 - 파일에 내용을 쓸 때 사용\n",
        "|a\t| 추가모드 - 파일의 마지막에 새로운 내용을 추가 시킬 때 사용"
      ]
    },
    {
      "cell_type": "markdown",
      "metadata": {
        "id": "sFbzIhiq9k66",
        "colab_type": "text"
      },
      "source": [
        "파일을 읽고 쓰기 위해서는 내장 함수인 open을 이용해서 파일의 상대 경로나 절대 경로를 넘겨주어야 한다."
      ]
    },
    {
      "cell_type": "code",
      "metadata": {
        "id": "9_S3Tioxnf-Z",
        "colab_type": "code",
        "colab": {}
      },
      "source": [
        "path = \"examples/segismundo.txt\""
      ],
      "execution_count": 0,
      "outputs": []
    },
    {
      "cell_type": "code",
      "metadata": {
        "id": "EJWUIVaPnqZz",
        "colab_type": "code",
        "colab": {}
      },
      "source": [
        "f = open(path)"
      ],
      "execution_count": 0,
      "outputs": []
    },
    {
      "cell_type": "markdown",
      "metadata": {
        "id": "4HIR5roQoI4M",
        "colab_type": "text"
      },
      "source": [
        "기본적으로 파일은 읽기 전용 모드인 'r'로 열린다. 파일 핸들 f를 리스트로 생각할 수 있으며 파일의 매 줄을 순회할 수 있다."
      ]
    },
    {
      "cell_type": "code",
      "metadata": {
        "id": "S9tvYrDTnv4g",
        "colab_type": "code",
        "outputId": "3c11d304-8017-4c1c-f078-7157aee382e7",
        "colab": {
          "base_uri": "https://localhost:8080/",
          "height": 0
        }
      },
      "source": [
        "for line in f:\n",
        "  print(line) # 여기서 줄별로 처리할 코드를 넣으면 된다."
      ],
      "execution_count": 128,
      "outputs": [
        {
          "output_type": "stream",
          "text": [
            "Sueña el rico en su riqueza,\n",
            "\n",
            "que más cuidados le ofrece;\n",
            "\n",
            "\n",
            "\n",
            "sueña el pobre que padece\n",
            "\n",
            "su miseria y su pobreza;\n",
            "\n",
            "\n",
            "\n",
            "sueña el que a medrar empieza,\n",
            "\n",
            "sueña el que afana y pretende,\n",
            "\n",
            "sueña el que agravia y ofende,\n",
            "\n",
            "\n",
            "\n",
            "y en el mundo, en conclusión,\n",
            "\n",
            "todos sueñan lo que son,\n",
            "\n",
            "aunque ninguno lo entiende.\n",
            "\n",
            "\n",
            "\n"
          ],
          "name": "stdout"
        }
      ]
    },
    {
      "cell_type": "markdown",
      "metadata": {
        "id": "AN9CIuX8oFYU",
        "colab_type": "text"
      },
      "source": [
        "파일에서 읽은 줄은 줄끝(end-of-line, EOL) 문자가 그대로 남아 있으므로 파일에서 읽은 줄에서 이를 제거하는 다음과 같은 코드를 많이 사용한다.(string의 rstrip() 혹은 strip() 코드를 적용)"
      ]
    },
    {
      "cell_type": "code",
      "metadata": {
        "id": "x06NJ_5Dn5xS",
        "colab_type": "code",
        "colab": {}
      },
      "source": [
        "lines = [x.rstrip() for x in open(path)]"
      ],
      "execution_count": 0,
      "outputs": []
    },
    {
      "cell_type": "code",
      "metadata": {
        "id": "IQyq2H8ioBWH",
        "colab_type": "code",
        "outputId": "fb5f6f28-f96b-4a40-c82b-dbe5c8e34737",
        "colab": {
          "base_uri": "https://localhost:8080/",
          "height": 0
        }
      },
      "source": [
        "lines"
      ],
      "execution_count": 130,
      "outputs": [
        {
          "output_type": "execute_result",
          "data": {
            "text/plain": [
              "['Sueña el rico en su riqueza,',\n",
              " 'que más cuidados le ofrece;',\n",
              " '',\n",
              " 'sueña el pobre que padece',\n",
              " 'su miseria y su pobreza;',\n",
              " '',\n",
              " 'sueña el que a medrar empieza,',\n",
              " 'sueña el que afana y pretende,',\n",
              " 'sueña el que agravia y ofende,',\n",
              " '',\n",
              " 'y en el mundo, en conclusión,',\n",
              " 'todos sueñan lo que son,',\n",
              " 'aunque ninguno lo entiende.',\n",
              " '']"
            ]
          },
          "metadata": {
            "tags": []
          },
          "execution_count": 130
        }
      ]
    },
    {
      "cell_type": "markdown",
      "metadata": {
        "id": "DqkLAAwnpIN6",
        "colab_type": "text"
      },
      "source": [
        "파일 객체를 생성하기 위해 open을 사용했다면 작업이 끝났을 때 명시적으로 닫아주어야 한다. 파일을 닫으면 해당 자원을 운영체제로 되돌려준다."
      ]
    },
    {
      "cell_type": "code",
      "metadata": {
        "id": "1uCQg7r8pClB",
        "colab_type": "code",
        "colab": {}
      },
      "source": [
        "f.close()"
      ],
      "execution_count": 0,
      "outputs": []
    },
    {
      "cell_type": "code",
      "metadata": {
        "id": "N6QyEexkpVCd",
        "colab_type": "code",
        "colab": {}
      },
      "source": [
        "# 위의 코드들을 한번에 쓰면 다음과 같다. \n",
        "path = \"examples/segismundo.txt\"\n",
        "f = open(path)\n",
        "for line in f:\n",
        "  lines = [x.strip() for x in open(path)] # 오른쪽 끝만 정리하는 rstrip 대신에 줄의 양쪽 끝을 다 정리하는 strip 함수 사용"
      ],
      "execution_count": 0,
      "outputs": []
    },
    {
      "cell_type": "code",
      "metadata": {
        "id": "s0zYPXXC9x4x",
        "colab_type": "code",
        "outputId": "3caf11d7-9974-4117-9315-c4651c55ab3c",
        "colab": {
          "base_uri": "https://localhost:8080/",
          "height": 0
        }
      },
      "source": [
        "lines"
      ],
      "execution_count": 133,
      "outputs": [
        {
          "output_type": "execute_result",
          "data": {
            "text/plain": [
              "['Sueña el rico en su riqueza,',\n",
              " 'que más cuidados le ofrece;',\n",
              " '',\n",
              " 'sueña el pobre que padece',\n",
              " 'su miseria y su pobreza;',\n",
              " '',\n",
              " 'sueña el que a medrar empieza,',\n",
              " 'sueña el que afana y pretende,',\n",
              " 'sueña el que agravia y ofende,',\n",
              " '',\n",
              " 'y en el mundo, en conclusión,',\n",
              " 'todos sueñan lo que son,',\n",
              " 'aunque ninguno lo entiende.',\n",
              " '']"
            ]
          },
          "metadata": {
            "tags": []
          },
          "execution_count": 133
        }
      ]
    },
    {
      "cell_type": "markdown",
      "metadata": {
        "id": "EAJI2cnRtVAO",
        "colab_type": "text"
      },
      "source": [
        "## With 문 사용"
      ]
    },
    {
      "cell_type": "markdown",
      "metadata": {
        "id": "U9wFdNSjteZ3",
        "colab_type": "text"
      },
      "source": [
        "with 문을 사용하면 파일 작업이 끝날을 때 필요한 작업을 쉽게 처리할 수 있다."
      ]
    },
    {
      "cell_type": "code",
      "metadata": {
        "id": "E_wmCqEap3ck",
        "colab_type": "code",
        "colab": {}
      },
      "source": [
        "# 위의 코드와 동일한 기능. with 문 사용.\n",
        "# 이렇게 하면 with 블록이 끝나는 시점에 파일 핸들 f를 자동으로 닫아준다.  \n",
        "with open(path) as f:\n",
        "  lines = [x.strip() for x in f]\n"
      ],
      "execution_count": 0,
      "outputs": []
    },
    {
      "cell_type": "code",
      "metadata": {
        "id": "GgUw5M9O90kE",
        "colab_type": "code",
        "outputId": "1ba2b5f6-73f2-42b3-f7b8-03b58f4f326d",
        "colab": {
          "base_uri": "https://localhost:8080/",
          "height": 0
        }
      },
      "source": [
        "lines"
      ],
      "execution_count": 135,
      "outputs": [
        {
          "output_type": "execute_result",
          "data": {
            "text/plain": [
              "['Sueña el rico en su riqueza,',\n",
              " 'que más cuidados le ofrece;',\n",
              " '',\n",
              " 'sueña el pobre que padece',\n",
              " 'su miseria y su pobreza;',\n",
              " '',\n",
              " 'sueña el que a medrar empieza,',\n",
              " 'sueña el que afana y pretende,',\n",
              " 'sueña el que agravia y ofende,',\n",
              " '',\n",
              " 'y en el mundo, en conclusión,',\n",
              " 'todos sueñan lo que son,',\n",
              " 'aunque ninguno lo entiende.',\n",
              " '']"
            ]
          },
          "metadata": {
            "tags": []
          },
          "execution_count": 135
        }
      ]
    },
    {
      "cell_type": "markdown",
      "metadata": {
        "id": "Q0Z1Cqi8_mLh",
        "colab_type": "text"
      },
      "source": [
        "## 파일을 읽는 여러 가지 방법\n",
        "* readline\n",
        "* readlines\n",
        "* read\n",
        "* seek\n",
        "* tell"
      ]
    },
    {
      "cell_type": "markdown",
      "metadata": {
        "id": "ikTDjVQUAQAW",
        "colab_type": "text"
      },
      "source": [
        "### readline"
      ]
    },
    {
      "cell_type": "code",
      "metadata": {
        "id": "PvQSvAi8ARX7",
        "colab_type": "code",
        "outputId": "01c8d4d6-ac5e-4cda-c39c-97bb25609080",
        "colab": {
          "base_uri": "https://localhost:8080/",
          "height": 0
        }
      },
      "source": [
        "# 줄 단위로 가져옴. 현재 코드는 한줄만.\n",
        "with open(path) as f:\n",
        "  line = f.readline()\n",
        "  print(line)"
      ],
      "execution_count": 136,
      "outputs": [
        {
          "output_type": "stream",
          "text": [
            "Sueña el rico en su riqueza,\n",
            "\n"
          ],
          "name": "stdout"
        }
      ]
    },
    {
      "cell_type": "code",
      "metadata": {
        "id": "NnXPSYnvAw5G",
        "colab_type": "code",
        "outputId": "0f1b74b9-9a3e-4b5f-e2ed-fb12214c6964",
        "colab": {
          "base_uri": "https://localhost:8080/",
          "height": 0
        }
      },
      "source": [
        "# 전체 다 가져오려면\n",
        "with open(path) as f:\n",
        "  while True:\n",
        "    line = f.readline()\n",
        "    if not line: break\n",
        "    print(line)"
      ],
      "execution_count": 137,
      "outputs": [
        {
          "output_type": "stream",
          "text": [
            "Sueña el rico en su riqueza,\n",
            "\n",
            "que más cuidados le ofrece;\n",
            "\n",
            "\n",
            "\n",
            "sueña el pobre que padece\n",
            "\n",
            "su miseria y su pobreza;\n",
            "\n",
            "\n",
            "\n",
            "sueña el que a medrar empieza,\n",
            "\n",
            "sueña el que afana y pretende,\n",
            "\n",
            "sueña el que agravia y ofende,\n",
            "\n",
            "\n",
            "\n",
            "y en el mundo, en conclusión,\n",
            "\n",
            "todos sueñan lo que son,\n",
            "\n",
            "aunque ninguno lo entiende.\n",
            "\n",
            "\n",
            "\n"
          ],
          "name": "stdout"
        }
      ]
    },
    {
      "cell_type": "markdown",
      "metadata": {
        "id": "dZHDNjQvBDLg",
        "colab_type": "text"
      },
      "source": [
        "### readlines"
      ]
    },
    {
      "cell_type": "code",
      "metadata": {
        "id": "IZT5VSTdBJdA",
        "colab_type": "code",
        "outputId": "fe6461ae-cdb1-4742-e223-dc908f4f62a8",
        "colab": {
          "base_uri": "https://localhost:8080/",
          "height": 0
        }
      },
      "source": [
        "# 줄 단위로 가져오는데, 한번에 다 읽기\n",
        "with open(path) as f:\n",
        "  lines = f.readlines()\n",
        "  \n",
        "print(lines)"
      ],
      "execution_count": 138,
      "outputs": [
        {
          "output_type": "stream",
          "text": [
            "['Sueña el rico en su riqueza,\\n', 'que más cuidados le ofrece;\\n', '\\n', 'sueña el pobre que padece\\n', 'su miseria y su pobreza;\\n', '\\n', 'sueña el que a medrar empieza,\\n', 'sueña el que afana y pretende,\\n', 'sueña el que agravia y ofende,\\n', '\\n', 'y en el mundo, en conclusión,\\n', 'todos sueñan lo que son,\\n', 'aunque ninguno lo entiende.\\n', '\\n']\n"
          ],
          "name": "stdout"
        }
      ]
    },
    {
      "cell_type": "markdown",
      "metadata": {
        "id": "he7Q6feWBW2Q",
        "colab_type": "text"
      },
      "source": [
        "### read"
      ]
    },
    {
      "cell_type": "code",
      "metadata": {
        "id": "fadjpFXgBdfn",
        "colab_type": "code",
        "outputId": "edabca71-2be9-48e2-a9e9-7507265fc945",
        "colab": {
          "base_uri": "https://localhost:8080/",
          "height": 0
        }
      },
      "source": [
        "# 파일 전체를 한번에 다 읽어서, 하나의 문자열로 반환.\n",
        "with open(path) as f:\n",
        "  doc = f.read()\n",
        "  \n",
        "print(doc)"
      ],
      "execution_count": 139,
      "outputs": [
        {
          "output_type": "stream",
          "text": [
            "Sueña el rico en su riqueza,\n",
            "que más cuidados le ofrece;\n",
            "\n",
            "sueña el pobre que padece\n",
            "su miseria y su pobreza;\n",
            "\n",
            "sueña el que a medrar empieza,\n",
            "sueña el que afana y pretende,\n",
            "sueña el que agravia y ofende,\n",
            "\n",
            "y en el mundo, en conclusión,\n",
            "todos sueñan lo que son,\n",
            "aunque ninguno lo entiende.\n",
            "\n",
            "\n"
          ],
          "name": "stdout"
        }
      ]
    },
    {
      "cell_type": "code",
      "metadata": {
        "id": "sxOgyXkuDbyI",
        "colab_type": "code",
        "outputId": "d2b9ddcf-8511-4f28-9cc9-11416fa6e409",
        "colab": {
          "base_uri": "https://localhost:8080/",
          "height": 0
        }
      },
      "source": [
        "# 특정 개수만큼의 문자까지만 읽을 수도 있다.\n",
        "# '문자'는 인코딩(UTF-8)으로 결정되거나 이진 모드일 경우 단순히 바이트로 결정된다.\n",
        "with open(path) as f:\n",
        "  s = f.read(10)\n",
        "  \n",
        "print(s)"
      ],
      "execution_count": 140,
      "outputs": [
        {
          "output_type": "stream",
          "text": [
            "Sueña el r\n"
          ],
          "name": "stdout"
        }
      ]
    },
    {
      "cell_type": "code",
      "metadata": {
        "id": "tUUjMXOeD4pD",
        "colab_type": "code",
        "outputId": "1e445c7b-0a70-4cbf-c8f2-b4065c6335d2",
        "colab": {
          "base_uri": "https://localhost:8080/",
          "height": 0
        }
      },
      "source": [
        "with open(path, 'rb') as f: # 이진 모드\n",
        "  s = f.read(10)\n",
        "  \n",
        "print(s)"
      ],
      "execution_count": 141,
      "outputs": [
        {
          "output_type": "stream",
          "text": [
            "b'Sue\\xc3\\xb1a el '\n"
          ],
          "name": "stdout"
        }
      ]
    },
    {
      "cell_type": "markdown",
      "metadata": {
        "id": "IVcFXFXUEV5Y",
        "colab_type": "text"
      },
      "source": [
        "### tell"
      ]
    },
    {
      "cell_type": "code",
      "metadata": {
        "id": "997KMKXHElJb",
        "colab_type": "code",
        "outputId": "cbf08ccc-df01-4e9d-958c-9e87b559582f",
        "colab": {
          "base_uri": "https://localhost:8080/",
          "height": 0
        }
      },
      "source": [
        "# read 메서드는 읽은 바이트만큼 파일 핸들의 위치를 옮긴다. \n",
        "# tell 메서드는 현재 위치를 알려준다.\n",
        "with open(path) as f:\n",
        "  s = f.read(10)\n",
        "  print(f.tell())\n",
        "  \n",
        "print(s)"
      ],
      "execution_count": 142,
      "outputs": [
        {
          "output_type": "stream",
          "text": [
            "11\n",
            "Sueña el r\n"
          ],
          "name": "stdout"
        }
      ]
    },
    {
      "cell_type": "markdown",
      "metadata": {
        "id": "aN6rRpzpFfwj",
        "colab_type": "text"
      },
      "source": [
        "위의 경우 파일에서 10개의 문자를 읽었어도 위치가 11인 이유는 기본 인코딩에서 10개의 문자를 디코딩하기 위해 그 만큼의 바이트가 필요했기 때문이다. "
      ]
    },
    {
      "cell_type": "code",
      "metadata": {
        "id": "ha-PEhCKFZhM",
        "colab_type": "code",
        "outputId": "ce42518d-7426-4f7f-b759-6861deaeafb9",
        "colab": {
          "base_uri": "https://localhost:8080/",
          "height": 0
        }
      },
      "source": [
        "# 이진 모드에서는 정확히 나온다.\n",
        "with open(path, 'rb') as f: # 이진 모드\n",
        "  s = f.read(10)\n",
        "  print(f.tell())\n",
        "  \n",
        "print(s)"
      ],
      "execution_count": 143,
      "outputs": [
        {
          "output_type": "stream",
          "text": [
            "10\n",
            "b'Sue\\xc3\\xb1a el '\n"
          ],
          "name": "stdout"
        }
      ]
    },
    {
      "cell_type": "markdown",
      "metadata": {
        "id": "yqSPUZVoGFwR",
        "colab_type": "text"
      },
      "source": [
        "시스템의 기본 인코딩은 sys 모듈에서 확인할 수 있다."
      ]
    },
    {
      "cell_type": "code",
      "metadata": {
        "id": "co6K8nIPF_0j",
        "colab_type": "code",
        "outputId": "24f0542f-cf11-47f6-a9a1-071ce0dbab80",
        "colab": {
          "base_uri": "https://localhost:8080/",
          "height": 0
        }
      },
      "source": [
        "import sys\n",
        "\n",
        "sys.getdefaultencoding()"
      ],
      "execution_count": 144,
      "outputs": [
        {
          "output_type": "execute_result",
          "data": {
            "text/plain": [
              "'utf-8'"
            ]
          },
          "metadata": {
            "tags": []
          },
          "execution_count": 144
        }
      ]
    },
    {
      "cell_type": "markdown",
      "metadata": {
        "id": "7WhG4LubGMZ0",
        "colab_type": "text"
      },
      "source": [
        "### seek"
      ]
    },
    {
      "cell_type": "code",
      "metadata": {
        "id": "3F1KCKLxGRcm",
        "colab_type": "code",
        "outputId": "b01e35d9-4a36-49ff-f697-ca258d7c69ae",
        "colab": {
          "base_uri": "https://localhost:8080/",
          "height": 0
        }
      },
      "source": [
        "# seek 메서드는 파일 핸들의 위치를 해당 파일에서 지정한 바이트 위치로 옮긴다.\n",
        "with open(path) as f: \n",
        "  f.seek(3)\n",
        "  s = f.read(10)\n",
        "  \n",
        "print(s)"
      ],
      "execution_count": 145,
      "outputs": [
        {
          "output_type": "stream",
          "text": [
            "ña el rico\n"
          ],
          "name": "stdout"
        }
      ]
    },
    {
      "cell_type": "markdown",
      "metadata": {
        "id": "DnGmQdWBGxT9",
        "colab_type": "text"
      },
      "source": [
        "## 파일 쓰기"
      ]
    },
    {
      "cell_type": "markdown",
      "metadata": {
        "id": "8DxwFOxDJbuK",
        "colab_type": "text"
      },
      "source": [
        "파일에 텍스트를 기록하려면 'w' 옵션으로 쓰기모드로 파일을 만들고, write나 writenlines 메서드를 이용하면 된다."
      ]
    },
    {
      "cell_type": "code",
      "metadata": {
        "id": "ESpX4SLjJUr9",
        "colab_type": "code",
        "colab": {}
      },
      "source": [
        "# 쓸 파일 이름\n",
        "dst_path = \"examples/tmp.txt\""
      ],
      "execution_count": 0,
      "outputs": []
    },
    {
      "cell_type": "code",
      "metadata": {
        "id": "hoOfTzNbJxyZ",
        "colab_type": "code",
        "outputId": "f564d38e-45c6-4364-ac3a-77828924dc8a",
        "colab": {
          "base_uri": "https://localhost:8080/",
          "height": 34
        }
      },
      "source": [
        "# 아직은 파일이 생성되지 않았다. \n",
        "%ls examples/"
      ],
      "execution_count": 147,
      "outputs": [
        {
          "output_type": "stream",
          "text": [
            "segismundo.txt  tmp2.txt  tmp.txt\n"
          ],
          "name": "stdout"
        }
      ]
    },
    {
      "cell_type": "code",
      "metadata": {
        "id": "3x2qf3Q9J6MO",
        "colab_type": "code",
        "colab": {}
      },
      "source": [
        "# 빈 파일 생성\n",
        "with open(dst_path, 'w') as f:\n",
        "  pass # 아무것도 하지 않는다."
      ],
      "execution_count": 0,
      "outputs": []
    },
    {
      "cell_type": "code",
      "metadata": {
        "id": "gjPASvATKFwd",
        "colab_type": "code",
        "outputId": "8d70b315-aa67-47c5-cab2-163f97313667",
        "colab": {
          "base_uri": "https://localhost:8080/",
          "height": 34
        }
      },
      "source": [
        "# 새 파일이 생성되지 않았다. \n",
        "%ls examples/"
      ],
      "execution_count": 149,
      "outputs": [
        {
          "output_type": "stream",
          "text": [
            "segismundo.txt  tmp2.txt  tmp.txt\n"
          ],
          "name": "stdout"
        }
      ]
    },
    {
      "cell_type": "code",
      "metadata": {
        "id": "uI7beXgRKJuj",
        "colab_type": "code",
        "colab": {}
      },
      "source": [
        "# 파일 안에는 아무것도 쓰여지지 않았다.\n",
        "%cat examples/tmp.txt"
      ],
      "execution_count": 0,
      "outputs": []
    },
    {
      "cell_type": "code",
      "metadata": {
        "id": "ZMTaeaHtKT35",
        "colab_type": "code",
        "colab": {}
      },
      "source": [
        "with open(dst_path, 'w') as f:\n",
        "  f.write(\"Hello world!\") # write 메서드는 줄 뛰우기('\\n')는 해주지 않는다\n",
        "  f.write(\"Hello Python!\\n\") # 줄 뛰우기('\\n')를 직접 해줘야 한다.\n",
        "  f.write(\"Hello PsyPy!\")"
      ],
      "execution_count": 0,
      "outputs": []
    },
    {
      "cell_type": "code",
      "metadata": {
        "id": "y8EbeeTsK6jW",
        "colab_type": "code",
        "outputId": "01b0a5cd-0361-4e89-e381-8fbee243fb62",
        "colab": {
          "base_uri": "https://localhost:8080/",
          "height": 51
        }
      },
      "source": [
        "%cat examples/tmp.txt"
      ],
      "execution_count": 152,
      "outputs": [
        {
          "output_type": "stream",
          "text": [
            "Hello world!Hello Python!\n",
            "Hello PsyPy!"
          ],
          "name": "stdout"
        }
      ]
    },
    {
      "cell_type": "code",
      "metadata": {
        "id": "ohqYAL5nLGTl",
        "colab_type": "code",
        "colab": {}
      },
      "source": [
        "# 'w' 모드로 열면 원래 파일의 내용을 덮어써버린다. \n",
        "with open(dst_path, 'w') as f:\n",
        "  f.write(\"Hi PsyPy~\")"
      ],
      "execution_count": 0,
      "outputs": []
    },
    {
      "cell_type": "code",
      "metadata": {
        "id": "mQU5AcmVLW9r",
        "colab_type": "code",
        "outputId": "55802b9f-699a-4c65-d2fa-5dcfa58f44e9",
        "colab": {
          "base_uri": "https://localhost:8080/",
          "height": 34
        }
      },
      "source": [
        "%cat examples/tmp.txt"
      ],
      "execution_count": 154,
      "outputs": [
        {
          "output_type": "stream",
          "text": [
            "Hi PsyPy~"
          ],
          "name": "stdout"
        }
      ]
    },
    {
      "cell_type": "code",
      "metadata": {
        "id": "Tvmcst39LnwF",
        "colab_type": "code",
        "colab": {}
      },
      "source": [
        "# 'a' 모드로 열면 원래 파일의 내용에 이어서 쓴다. \n",
        "with open(dst_path, 'a') as f:\n",
        "  f.write(\"!!!\")"
      ],
      "execution_count": 0,
      "outputs": []
    },
    {
      "cell_type": "code",
      "metadata": {
        "id": "rn6g-pIDL7Ex",
        "colab_type": "code",
        "outputId": "95430a5e-60d5-4425-9f8a-0359197fecbf",
        "colab": {
          "base_uri": "https://localhost:8080/",
          "height": 34
        }
      },
      "source": [
        "%cat examples/tmp.txt"
      ],
      "execution_count": 156,
      "outputs": [
        {
          "output_type": "stream",
          "text": [
            "Hi PsyPy~!!!"
          ],
          "name": "stdout"
        }
      ]
    },
    {
      "cell_type": "code",
      "metadata": {
        "id": "QVlRnCdJL-YX",
        "colab_type": "code",
        "colab": {}
      },
      "source": [
        "# 'a' 모드로 열었는데 해당 이름의 파일이 없으면 새로 만들어서 쓴다.\n",
        "with open(\"examples/tmp2.txt\", 'a') as f:\n",
        "  f.write(\"!!!\")"
      ],
      "execution_count": 0,
      "outputs": []
    },
    {
      "cell_type": "code",
      "metadata": {
        "id": "7z26jsAVNaSp",
        "colab_type": "code",
        "outputId": "6b0c8ec9-1067-4a5c-e5d2-9935ec107820",
        "colab": {
          "base_uri": "https://localhost:8080/",
          "height": 34
        }
      },
      "source": [
        "%ls examples"
      ],
      "execution_count": 158,
      "outputs": [
        {
          "output_type": "stream",
          "text": [
            "segismundo.txt  tmp2.txt  tmp.txt\n"
          ],
          "name": "stdout"
        }
      ]
    },
    {
      "cell_type": "code",
      "metadata": {
        "id": "EiTTAIXvNeOi",
        "colab_type": "code",
        "outputId": "3bd078df-46c6-45a6-97ec-3b2eacfb3c88",
        "colab": {
          "base_uri": "https://localhost:8080/",
          "height": 34
        }
      },
      "source": [
        "%cat examples/tmp2.txt"
      ],
      "execution_count": 159,
      "outputs": [
        {
          "output_type": "stream",
          "text": [
            "!!!!!!"
          ],
          "name": "stdout"
        }
      ]
    },
    {
      "cell_type": "code",
      "metadata": {
        "id": "ZiRbck0AOLLR",
        "colab_type": "code",
        "colab": {}
      },
      "source": [
        "# 모든 줄을 한번에 다 쓰려면 writelines 메서드를 써보자.\n",
        "# 다음의 내용은 원래 파일에서 빈 줄이 포함되지 않도록 제거하고 새 파일로 쓰는 예제이다.\n",
        "\n",
        "with open(dst_path, 'w') as f :\n",
        "  f.writelines(x for x in open(path) if len(x) > 1)"
      ],
      "execution_count": 0,
      "outputs": []
    },
    {
      "cell_type": "code",
      "metadata": {
        "id": "p9DrBHKYO4Nm",
        "colab_type": "code",
        "outputId": "b370af60-7ec9-4849-8e63-5000fe9caf93",
        "colab": {
          "base_uri": "https://localhost:8080/",
          "height": 187
        }
      },
      "source": [
        "# 빈 줄들을 제거하고 쓴 새 파일 내용\n",
        "%cat examples/tmp.txt"
      ],
      "execution_count": 161,
      "outputs": [
        {
          "output_type": "stream",
          "text": [
            "Sueña el rico en su riqueza,\n",
            "que más cuidados le ofrece;\n",
            "sueña el pobre que padece\n",
            "su miseria y su pobreza;\n",
            "sueña el que a medrar empieza,\n",
            "sueña el que afana y pretende,\n",
            "sueña el que agravia y ofende,\n",
            "y en el mundo, en conclusión,\n",
            "todos sueñan lo que son,\n",
            "aunque ninguno lo entiende.\n"
          ],
          "name": "stdout"
        }
      ]
    },
    {
      "cell_type": "code",
      "metadata": {
        "id": "XxGWqM3wO-ND",
        "colab_type": "code",
        "outputId": "f3bf0e8a-af4c-44a1-9c77-d57f9ca047b8",
        "colab": {
          "base_uri": "https://localhost:8080/",
          "height": 255
        }
      },
      "source": [
        "# 원본 파일 내용\n",
        "%cat examples/segismundo.txt"
      ],
      "execution_count": 162,
      "outputs": [
        {
          "output_type": "stream",
          "text": [
            "Sueña el rico en su riqueza,\n",
            "que más cuidados le ofrece;\n",
            "\n",
            "sueña el pobre que padece\n",
            "su miseria y su pobreza;\n",
            "\n",
            "sueña el que a medrar empieza,\n",
            "sueña el que afana y pretende,\n",
            "sueña el que agravia y ofende,\n",
            "\n",
            "y en el mundo, en conclusión,\n",
            "todos sueñan lo que son,\n",
            "aunque ninguno lo entiende.\n",
            "\n"
          ],
          "name": "stdout"
        }
      ]
    },
    {
      "cell_type": "markdown",
      "metadata": {
        "id": "oEgUCoJibNvP",
        "colab_type": "text"
      },
      "source": [
        "-------------------------------"
      ]
    },
    {
      "cell_type": "markdown",
      "metadata": {
        "id": "hQJQVVrobS5P",
        "colab_type": "text"
      },
      "source": [
        "## Google Drive text와 연결.\n",
        "\n",
        "참고 문서 링크: https://www.marktechpost.com/2019/06/07/how-to-connect-google-colab-with-google-drive/"
      ]
    },
    {
      "cell_type": "code",
      "metadata": {
        "id": "FpGuBr-7bX-o",
        "colab_type": "code",
        "colab": {
          "base_uri": "https://localhost:8080/",
          "height": 122
        },
        "outputId": "e42d15f5-16d3-474b-ada3-a93f1d029d2c"
      },
      "source": [
        "from google.colab import drive\n",
        "drive.mount('/content/gdrive')"
      ],
      "execution_count": 208,
      "outputs": [
        {
          "output_type": "stream",
          "text": [
            "Go to this URL in a browser: https://accounts.google.com/o/oauth2/auth?client_id=947318989803-6bn6qk8qdgf4n4g3pfee6491hc0brc4i.apps.googleusercontent.com&redirect_uri=urn%3aietf%3awg%3aoauth%3a2.0%3aoob&response_type=code&scope=email%20https%3a%2f%2fwww.googleapis.com%2fauth%2fdocs.test%20https%3a%2f%2fwww.googleapis.com%2fauth%2fdrive%20https%3a%2f%2fwww.googleapis.com%2fauth%2fdrive.photos.readonly%20https%3a%2f%2fwww.googleapis.com%2fauth%2fpeopleapi.readonly\n",
            "\n",
            "Enter your authorization code:\n",
            "··········\n",
            "Mounted at /content/gdrive\n"
          ],
          "name": "stdout"
        }
      ]
    },
    {
      "cell_type": "markdown",
      "metadata": {
        "id": "uZFUTShxbagP",
        "colab_type": "text"
      },
      "source": [
        "URL로 가서 authorization code를 아래 code 입력란에 copy and paste. 마운트 위치는 /content/gdrive/My Drive/ 이렇게 됨."
      ]
    },
    {
      "cell_type": "code",
      "metadata": {
        "id": "BK1w_5ZgcWIS",
        "colab_type": "code",
        "colab": {}
      },
      "source": [
        "!ls '/content/gdrive/My Drive/' # 유닉스 명령어 ls를 사용하여 폴더에 있는 파일 리스트를 확인 가능"
      ],
      "execution_count": 0,
      "outputs": []
    },
    {
      "cell_type": "markdown",
      "metadata": {
        "id": "ExQZdgSMcSic",
        "colab_type": "text"
      },
      "source": [
        "자신의 구글 드라이브에 PsyPy 디렉토리를 만들어서 거기에 다음의 파일을 올린다음\n",
        "* https://raw.githubusercontent.com/wesm/pydata-book/2nd-edition/examples/segismundo.txt\n"
      ]
    },
    {
      "cell_type": "code",
      "metadata": {
        "id": "LM7WLZoQdKVU",
        "colab_type": "code",
        "colab": {
          "base_uri": "https://localhost:8080/",
          "height": 34
        },
        "outputId": "af3cda6a-eb51-4a0d-b391-81d5166b94c6"
      },
      "source": [
        "# 제대로 만들어서 업로드했으면 다음처럼 확인할 수 있다.\n",
        "!ls '/content/gdrive/My Drive/PsyPy'"
      ],
      "execution_count": 212,
      "outputs": [
        {
          "output_type": "stream",
          "text": [
            "segismundo.txt\n"
          ],
          "name": "stdout"
        }
      ]
    },
    {
      "cell_type": "code",
      "metadata": {
        "id": "MidIzeRLdreV",
        "colab_type": "code",
        "colab": {}
      },
      "source": [
        "path = \"/content/gdrive/My Drive/PsyPy/segismundo.txt\""
      ],
      "execution_count": 0,
      "outputs": []
    },
    {
      "cell_type": "markdown",
      "metadata": {
        "id": "bmGviByzd7lS",
        "colab_type": "text"
      },
      "source": [
        "파일을 읽어서, 내용들을 모두 대문자로 바꿔서 새 파일을 만들어 저장(구글 드라이브의 Psypy 디렉토리 안에)해보자."
      ]
    },
    {
      "cell_type": "code",
      "metadata": {
        "id": "eydK6QgieGGi",
        "colab_type": "code",
        "colab": {}
      },
      "source": [
        "# insert your code here"
      ],
      "execution_count": 0,
      "outputs": []
    },
    {
      "cell_type": "markdown",
      "metadata": {
        "id": "lT_0fgqvVuWC",
        "colab_type": "text"
      },
      "source": [
        "------------------------------"
      ]
    },
    {
      "cell_type": "markdown",
      "metadata": {
        "id": "onFu5P5-VzYD",
        "colab_type": "text"
      },
      "source": [
        "실습할 파일을 준비.(github 저장소를 클로닝하기)"
      ]
    },
    {
      "cell_type": "code",
      "metadata": {
        "id": "hk2vJl2uV58f",
        "colab_type": "code",
        "colab": {
          "base_uri": "https://localhost:8080/",
          "height": 34
        },
        "outputId": "b11fe282-6644-4595-bfae-ce69abf8bf21"
      },
      "source": [
        "# 실습을 위한 소스와 데이터가 있는 저장소를 클로닝해서 colab과 동기화하는 방법을 사용.\n",
        "# 지금은 클로닝되어 있지 않음\n",
        "%ls"
      ],
      "execution_count": 187,
      "outputs": [
        {
          "output_type": "stream",
          "text": [
            "\u001b[0m\u001b[01;34mexamples\u001b[0m/  \u001b[01;34msample_data\u001b[0m/\n"
          ],
          "name": "stdout"
        }
      ]
    },
    {
      "cell_type": "code",
      "metadata": {
        "id": "aN-IWKKZWJLT",
        "colab_type": "code",
        "colab": {
          "base_uri": "https://localhost:8080/",
          "height": 136
        },
        "outputId": "f18723c1-4601-4770-b161-fb1ed66d65a9"
      },
      "source": [
        "# 저장소 가져옴\n",
        "!git clone https://github.com/psygrammer/psypy.git"
      ],
      "execution_count": 188,
      "outputs": [
        {
          "output_type": "stream",
          "text": [
            "Cloning into 'psypy'...\n",
            "remote: Enumerating objects: 124, done.\u001b[K\n",
            "remote: Counting objects: 100% (124/124), done.\u001b[K\n",
            "remote: Compressing objects: 100% (105/105), done.\u001b[K\n",
            "remote: Total 124 (delta 40), reused 81 (delta 13), pack-reused 0\u001b[K\n",
            "Receiving objects: 100% (124/124), 18.79 MiB | 26.29 MiB/s, done.\n",
            "Resolving deltas: 100% (40/40), done.\n"
          ],
          "name": "stdout"
        }
      ]
    },
    {
      "cell_type": "code",
      "metadata": {
        "id": "Ha02KGNdWTyI",
        "colab_type": "code",
        "colab": {
          "base_uri": "https://localhost:8080/",
          "height": 34
        },
        "outputId": "01ba0781-7f23-41fe-d5ce-26096bd3a5e0"
      },
      "source": [
        "# 코드&데이터 디렉토리 확인\n",
        "%ls"
      ],
      "execution_count": 189,
      "outputs": [
        {
          "output_type": "stream",
          "text": [
            "\u001b[0m\u001b[01;34mexamples\u001b[0m/  \u001b[01;34mpsypy\u001b[0m/  \u001b[01;34msample_data\u001b[0m/\n"
          ],
          "name": "stdout"
        }
      ]
    },
    {
      "cell_type": "code",
      "metadata": {
        "id": "CgSVwu-VWWiT",
        "colab_type": "code",
        "colab": {
          "base_uri": "https://localhost:8080/",
          "height": 34
        },
        "outputId": "1723b13e-7052-4ca5-f9ee-c1022d8dc0f7"
      },
      "source": [
        "#colab의 실행 위치를 psypy 디렉토리 내부로 옮기자\n",
        "%cd psypy"
      ],
      "execution_count": 192,
      "outputs": [
        {
          "output_type": "stream",
          "text": [
            "/content/psypy\n"
          ],
          "name": "stdout"
        }
      ]
    },
    {
      "cell_type": "code",
      "metadata": {
        "id": "bQuFJDB1Wj6B",
        "colab_type": "code",
        "colab": {
          "base_uri": "https://localhost:8080/",
          "height": 34
        },
        "outputId": "9564bd02-c1f0-4229-8cba-47decc29dd95"
      },
      "source": [
        "%ls"
      ],
      "execution_count": 193,
      "outputs": [
        {
          "output_type": "stream",
          "text": [
            "\u001b[0m\u001b[01;34mml\u001b[0m/  \u001b[01;34mnotebooks\u001b[0m/  README.md\n"
          ],
          "name": "stdout"
        }
      ]
    },
    {
      "cell_type": "code",
      "metadata": {
        "id": "c2_BAmtLWvaA",
        "colab_type": "code",
        "colab": {
          "base_uri": "https://localhost:8080/",
          "height": 34
        },
        "outputId": "d0e21cb8-8f15-42f3-9232-e5666c130193"
      },
      "source": [
        "#실행 위치를 notebooks 내부로 한번 더 들어가자.\n",
        "%cd notebooks"
      ],
      "execution_count": 194,
      "outputs": [
        {
          "output_type": "stream",
          "text": [
            "/content/psypy/notebooks\n"
          ],
          "name": "stdout"
        }
      ]
    },
    {
      "cell_type": "code",
      "metadata": {
        "id": "WGDeRlJxW2va",
        "colab_type": "code",
        "colab": {
          "base_uri": "https://localhost:8080/",
          "height": 51
        },
        "outputId": "a6763de7-a444-402b-a11b-a306083439f1"
      },
      "source": [
        "%ls"
      ],
      "execution_count": 195,
      "outputs": [
        {
          "output_type": "stream",
          "text": [
            "02_python_basics.ipynb               03_b_funcions_and_files.ipynb  \u001b[0m\u001b[01;34mfigures\u001b[0m/\n",
            "03_a_built_in_data_structures.ipynb  \u001b[01;34mexamples\u001b[0m/\n"
          ],
          "name": "stdout"
        }
      ]
    },
    {
      "cell_type": "code",
      "metadata": {
        "id": "fvtXGmsfW5Xt",
        "colab_type": "code",
        "colab": {
          "base_uri": "https://localhost:8080/",
          "height": 34
        },
        "outputId": "3658d00b-52f7-4a85-9732-aca853d31c0d"
      },
      "source": [
        "# 실습을 위한 파일들 확인\n",
        "%ls examples/"
      ],
      "execution_count": 196,
      "outputs": [
        {
          "output_type": "stream",
          "text": [
            "\u001b[0m\u001b[01;34miu\u001b[0m/  person.csv\n"
          ],
          "name": "stdout"
        }
      ]
    },
    {
      "cell_type": "markdown",
      "metadata": {
        "id": "WfJOocVWCs9U",
        "colab_type": "text"
      },
      "source": [
        "----------------------------"
      ]
    },
    {
      "cell_type": "markdown",
      "metadata": {
        "id": "FQrDK7s3XeNX",
        "colab_type": "text"
      },
      "source": [
        "## 응용 문제 1 - 파일 분석\n",
        "* examples/person.csv 파일을 파이썬으로 분석한다."
      ]
    },
    {
      "cell_type": "code",
      "metadata": {
        "id": "PGAxSVGfX6ja",
        "colab_type": "code",
        "colab": {
          "base_uri": "https://localhost:8080/",
          "height": 204
        },
        "outputId": "70ef182a-d5f3-488f-bc1e-6a5baabbcafe"
      },
      "source": [
        "%cat examples/person.csv"
      ],
      "execution_count": 197,
      "outputs": [
        {
          "output_type": "stream",
          "text": [
            "no,id,gender,email,com,score\r\n",
            "1,ma,male,,naver,100\r\n",
            "2,fa,female,,google,100\r\n",
            "3,mb,male,,yahoo,80\r\n",
            "4,mc,male,,daum,70\r\n",
            "5,fb,female,,daum,60\r\n",
            "6,fc,female,,naver,70\r\n",
            "7,me,male,,yahoo,80\r\n",
            "8,md,male,,naver,100\r\n",
            "9,mg,male,,naver,90\r\n",
            "10,fd,female,,naver,90"
          ],
          "name": "stdout"
        }
      ]
    },
    {
      "cell_type": "code",
      "metadata": {
        "id": "HyY93ntxYAEl",
        "colab_type": "code",
        "colab": {}
      },
      "source": [
        "path = \"examples/person.csv\""
      ],
      "execution_count": 0,
      "outputs": []
    },
    {
      "cell_type": "markdown",
      "metadata": {
        "id": "vlu9rfmxXoXn",
        "colab_type": "text"
      },
      "source": [
        "### 1) score의 평균을 구하기"
      ]
    },
    {
      "cell_type": "code",
      "metadata": {
        "id": "RRMo7cMiYZ9G",
        "colab_type": "code",
        "colab": {}
      },
      "source": [
        "# insert your code here"
      ],
      "execution_count": 0,
      "outputs": []
    },
    {
      "cell_type": "markdown",
      "metadata": {
        "id": "paABbX7fX0Qt",
        "colab_type": "text"
      },
      "source": [
        "### 2) 남,녀별 score 평균 구하기"
      ]
    },
    {
      "cell_type": "code",
      "metadata": {
        "id": "Vs1IGNriXyoI",
        "colab_type": "code",
        "colab": {}
      },
      "source": [
        "# insert your code here"
      ],
      "execution_count": 0,
      "outputs": []
    },
    {
      "cell_type": "markdown",
      "metadata": {
        "id": "lf6dYPKbYmdt",
        "colab_type": "text"
      },
      "source": [
        "### 3) 각 email의 값은 비워져있다. 새 파일에 채워넣어보자. 이메일은 '아이디@회사이름.com' 규칙을 따른다. 예를들어 id가 user1이고 회사가 naver이면 그 사람의 email은 user1@naver.com 이다.¶ "
      ]
    },
    {
      "cell_type": "code",
      "metadata": {
        "id": "46OkFMNbYuL1",
        "colab_type": "code",
        "colab": {}
      },
      "source": [
        "# insert your code here"
      ],
      "execution_count": 0,
      "outputs": []
    },
    {
      "cell_type": "markdown",
      "metadata": {
        "id": "Hk6AsMgPZJ-G",
        "colab_type": "text"
      },
      "source": [
        "## 응용 문제 2 - 디렉토리의 사진 정리\n",
        "* examples/iu 디렉토리에는 iu 사진이 들어있다.\n",
        "* 디렉토리 안에 하위 디렉토리를 생성해서 사진 파일 포맷별로 정리해보자.\n",
        "* 예를들어 jpg 파일들은 jpg 파일별로 모아서 새로 디렉토리를 생성해서 그곳에 넣는다.\n",
        "예) iu/1.jpg, 2.jpg, 3.jpg --> iu/jpg/1.jpg, 2.jpg, 3.jpg"
      ]
    },
    {
      "cell_type": "code",
      "metadata": {
        "id": "Lavob4euZhpA",
        "colab_type": "code",
        "colab": {}
      },
      "source": [
        "# insert your code here"
      ],
      "execution_count": 0,
      "outputs": []
    },
    {
      "cell_type": "markdown",
      "metadata": {
        "id": "3uuSSmoyZ_Id",
        "colab_type": "text"
      },
      "source": [
        "## 응용문제 3 - 간단한 웹 크롤링\n",
        "* 다음 주소로 방탄소년단의 노래 가사를 가져온다.\n",
        "* 가사 중에 영어가 섞인 문장은 제거하고 출력해보자. "
      ]
    },
    {
      "cell_type": "code",
      "metadata": {
        "id": "XJ9Ih5bQZoAo",
        "colab_type": "code",
        "colab": {}
      },
      "source": [
        "import requests\n",
        "from bs4 import BeautifulSoup"
      ],
      "execution_count": 0,
      "outputs": []
    },
    {
      "cell_type": "code",
      "metadata": {
        "id": "QkqQWKHXaVy_",
        "colab_type": "code",
        "colab": {}
      },
      "source": [
        "#url = \"https://gasazip.com/view.html?no=614736\"\n",
        "#url = \"https://gasazip.com/view.html?no=636135\"\n",
        "url = \"http://gasazip.com/view.html?no=2276458\""
      ],
      "execution_count": 0,
      "outputs": []
    },
    {
      "cell_type": "code",
      "metadata": {
        "id": "SVNp7PJQaY-x",
        "colab_type": "code",
        "colab": {}
      },
      "source": [
        "# HTTP GET Request\n",
        "req = requests.get(url)\n",
        "# HTML 소스 가져오기\n",
        "html = req.text\n",
        "# BeautifulSoup으로 html소스를 python객체로 변환하기\n",
        "# 첫 인자는 html소스코드, 두 번째 인자는 어떤 parser를 이용할지 명시.\n",
        "# 여기서는 Python 내장 html.parser를 이용했다.\n",
        "soup = BeautifulSoup(html, 'html.parser')"
      ],
      "execution_count": 0,
      "outputs": []
    },
    {
      "cell_type": "code",
      "metadata": {
        "id": "jA0xTN4aacKf",
        "colab_type": "code",
        "colab": {}
      },
      "source": [
        "lyrics = []\n",
        "for txt in soup.find_all('div', attrs={'class': 'col-md-8'}) :\n",
        "    lines = txt.get_text().split('\\n')\n",
        "    for line in lines :\n",
        "        lyrics.append(line.strip())"
      ],
      "execution_count": 0,
      "outputs": []
    },
    {
      "cell_type": "code",
      "metadata": {
        "id": "zHfiuM-sahDE",
        "colab_type": "code",
        "colab": {
          "base_uri": "https://localhost:8080/",
          "height": 1000
        },
        "outputId": "5fd891ec-e4c1-4645-e847-d715ba30e0f8"
      },
      "source": [
        "lyrics"
      ],
      "execution_count": 207,
      "outputs": [
        {
          "output_type": "execute_result",
          "data": {
            "text/plain": [
              "['작은 것들을 위한 시 (Boy With Luv)Feat.Halsey',\n",
              " '',\n",
              " '모든 게 궁금해',\n",
              " 'How’s your day',\n",
              " 'Oh tell me',\n",
              " '뭐가 널 행복하게 하는지',\n",
              " 'Oh text me',\n",
              " 'Your every picture',\n",
              " '내 머리맡에 두고 싶어',\n",
              " 'oh bae',\n",
              " 'Come be my teacher',\n",
              " '네 모든 걸 다 가르쳐줘',\n",
              " 'Your 1 your 2',\n",
              " 'Listen my my baby 나는',\n",
              " '저 하늘을 높이 날고 있어',\n",
              " '그때 니가 내게 줬던 두 날개로',\n",
              " '이제 여긴 너무 높아',\n",
              " '난 내 눈에 널 맞추고 싶어',\n",
              " 'Yeah you makin’ me a boy with luv',\n",
              " 'Oh my my my oh my my my',\n",
              " \"I've waited all my life\",\n",
              " '네 전부를 함께하고 싶어',\n",
              " 'Oh my my my oh my my my',\n",
              " 'Looking for something right',\n",
              " '이제 조금은 나 알겠어',\n",
              " 'I want something stronger',\n",
              " 'Than a moment',\n",
              " 'than a moment love',\n",
              " 'I have waited longer',\n",
              " 'For a boy with',\n",
              " 'For a boy with luv',\n",
              " '널 알게 된 이후 ya',\n",
              " '내 삶은 온통 너 ya',\n",
              " '사소한 게 사소하지 않게',\n",
              " '만들어버린 너라는 별',\n",
              " '하나부터 열까지 모든 게 특별하지',\n",
              " '너의 관심사 걸음걸이 말투와',\n",
              " '사소한 작은 습관들까지',\n",
              " '다 말하지 너무 작던',\n",
              " '내가 영웅이 된 거라고',\n",
              " 'Oh nah',\n",
              " '난 말하지 운명 따윈',\n",
              " '처음부터 내 게 아니었다고',\n",
              " 'Oh nah',\n",
              " '세계의 평화',\n",
              " 'No way',\n",
              " '거대한 질서',\n",
              " 'No way',\n",
              " '그저 널 지킬 거야 난',\n",
              " 'Boy with luv',\n",
              " 'Listen my my baby 나는',\n",
              " '저 하늘을 높이 날고 있어',\n",
              " '그때 니가 내게 줬던 두 날개로',\n",
              " '이제 여긴 너무 높아',\n",
              " '난 내 눈에 널 맞추고 싶어',\n",
              " 'Yeah you makin’ me a boy with luv',\n",
              " 'Oh my my my oh my my my',\n",
              " 'You got me high so fast',\n",
              " '네 전부를 함께하고 싶어',\n",
              " 'Oh my my my oh my my my',\n",
              " 'You got me fly so fast',\n",
              " '이제 조금은 나 알겠어',\n",
              " 'Love is nothing stronger',\n",
              " 'Than a boy with luv',\n",
              " 'Love is nothing stronger',\n",
              " 'Than a boy with luv',\n",
              " '툭 까놓고 말할게',\n",
              " '나도 모르게 힘이 들어가기도 했어',\n",
              " '높아버린 sky',\n",
              " '커져버린 hall',\n",
              " '때론 도망치게 해달라며 기도했어',\n",
              " 'But 너의 상처는 나의 상처',\n",
              " '깨달았을 때 나 다짐했던걸',\n",
              " '니가 준 이카루스의 날개로',\n",
              " '태양이 아닌 너에게로',\n",
              " 'Let me fly',\n",
              " 'Oh my my my oh my my my',\n",
              " \"I've waited all my life\",\n",
              " '네 전부를 함께하고 싶어',\n",
              " 'Oh my my my oh my my my',\n",
              " 'Looking for something right',\n",
              " '이제 조금은 나 알겠어',\n",
              " 'I want something stronger',\n",
              " 'Than a moment',\n",
              " 'than a moment love',\n",
              " 'Love is nothing stronger',\n",
              " 'Than a boy with luv',\n",
              " '']"
            ]
          },
          "metadata": {
            "tags": []
          },
          "execution_count": 207
        }
      ]
    },
    {
      "cell_type": "code",
      "metadata": {
        "id": "9D5PSHiaap9c",
        "colab_type": "code",
        "colab": {}
      },
      "source": [
        "# insert your code here"
      ],
      "execution_count": 0,
      "outputs": []
    },
    {
      "cell_type": "markdown",
      "metadata": {
        "id": "bfMpgqxrZEi2",
        "colab_type": "text"
      },
      "source": [
        "------------------------"
      ]
    },
    {
      "cell_type": "markdown",
      "metadata": {
        "id": "IT8Fmz16ALTK",
        "colab_type": "text"
      },
      "source": [
        "# 클래스 [3, 4]"
      ]
    },
    {
      "cell_type": "code",
      "metadata": {
        "id": "t7Ea0KExANbR",
        "colab_type": "code",
        "colab": {}
      },
      "source": [
        "# 클래스를 하나 만들기 위해 특정 객체의 하위 클래스를 만들 수 있습니다.\n",
        "class Human(object):\n",
        "\n",
        "    # 클래스 속성은 이 클래스의 모든 인스턴스에서 공유합니다.\n",
        "    species = \"H. sapiens\"\n",
        "\n",
        "    # 기본 초기화자\n",
        "    def __init__(self, name):\n",
        "        # 인자를 인스턴스의 name 속성에 할당합니다.\n",
        "        self.name = name\n",
        "\n",
        "    # 모든 인스턴스 메서드에서는 self를 첫 번째 인자로 받습니다.\n",
        "    def say(self, msg):\n",
        "       return \"%s: %s\" % (self.name, msg)\n",
        "\n",
        "    # 클래스 메서드는 모든 인스턴스에서 공유합니다.\n",
        "    # 클래스 메서드는 호출하는 클래스를 첫 번째 인자로 호출됩니다.\n",
        "    @classmethod\n",
        "    def get_species(cls):\n",
        "        return cls.species\n",
        "\n",
        "    # 정적 메서드는 클래스나 인스턴스 참조 없이도 호출할 수 있습니다.\n",
        "    @staticmethod\n",
        "    def grunt():\n",
        "        return \"*grunt*\""
      ],
      "execution_count": 0,
      "outputs": []
    },
    {
      "cell_type": "code",
      "metadata": {
        "id": "7xDG6inNAKsT",
        "colab_type": "code",
        "colab": {
          "base_uri": "https://localhost:8080/",
          "height": 34
        },
        "outputId": "4a85e709-ff94-4978-c752-21957bda1b5d"
      },
      "source": [
        "# 클래스 인스턴스화\n",
        "i = Human(name=\"Ian\")\n",
        "print(i.say(\"hi\"))     "
      ],
      "execution_count": 164,
      "outputs": [
        {
          "output_type": "stream",
          "text": [
            "Ian: hi\n"
          ],
          "name": "stdout"
        }
      ]
    },
    {
      "cell_type": "code",
      "metadata": {
        "id": "gzQy6R8iAQz1",
        "colab_type": "code",
        "colab": {
          "base_uri": "https://localhost:8080/",
          "height": 34
        },
        "outputId": "97c79ea5-295d-44fb-ff41-a86af99628b0"
      },
      "source": [
        "j = Human(\"Joel\")\n",
        "print(j.say(\"hello\"))"
      ],
      "execution_count": 165,
      "outputs": [
        {
          "output_type": "stream",
          "text": [
            "Joel: hello\n"
          ],
          "name": "stdout"
        }
      ]
    },
    {
      "cell_type": "code",
      "metadata": {
        "id": "JXo0-wTPASu4",
        "colab_type": "code",
        "colab": {
          "base_uri": "https://localhost:8080/",
          "height": 34
        },
        "outputId": "af70a1e6-2eac-4164-c4a0-2565d7623fac"
      },
      "source": [
        "# 클래스 메서드를 호출\n",
        "i.get_species() "
      ],
      "execution_count": 166,
      "outputs": [
        {
          "output_type": "execute_result",
          "data": {
            "text/plain": [
              "'H. sapiens'"
            ]
          },
          "metadata": {
            "tags": []
          },
          "execution_count": 166
        }
      ]
    },
    {
      "cell_type": "code",
      "metadata": {
        "id": "7MYoROVsAU8P",
        "colab_type": "code",
        "colab": {
          "base_uri": "https://localhost:8080/",
          "height": 51
        },
        "outputId": "e82662f8-6ea9-405d-8043-9a113066113e"
      },
      "source": [
        "# 공유 속성을 변경\n",
        "Human.species = \"H. neanderthalensis\"\n",
        "print(i.get_species()) \n",
        "print(j.get_species()) "
      ],
      "execution_count": 167,
      "outputs": [
        {
          "output_type": "stream",
          "text": [
            "H. neanderthalensis\n",
            "H. neanderthalensis\n"
          ],
          "name": "stdout"
        }
      ]
    },
    {
      "cell_type": "code",
      "metadata": {
        "id": "YuInX-8cAW11",
        "colab_type": "code",
        "colab": {
          "base_uri": "https://localhost:8080/",
          "height": 34
        },
        "outputId": "597e0bd5-0832-4bb7-a834-8f03357a3254"
      },
      "source": [
        "# 정적 메서드를 호출\n",
        "Human.grunt()"
      ],
      "execution_count": 168,
      "outputs": [
        {
          "output_type": "execute_result",
          "data": {
            "text/plain": [
              "'*grunt*'"
            ]
          },
          "metadata": {
            "tags": []
          },
          "execution_count": 168
        }
      ]
    },
    {
      "cell_type": "code",
      "metadata": {
        "id": "bpGCfyOpAYqq",
        "colab_type": "code",
        "colab": {}
      },
      "source": [
        "class HousePark:\n",
        "    lastname = \"박\"\n",
        "    def __init__(self, name):\n",
        "        self.fullname = self.lastname + name\n",
        "    def travel(self, where):\n",
        "        print(\"%s, %s여행을 가다.\" % (self.fullname, where))\n",
        "    def love(self, other):\n",
        "        print(\"%s, %s 사랑에 빠졌네\" % (self.fullname, other.fullname))\n",
        "    def fight(self, other):\n",
        "        print(\"%s, %s 싸우네\" % (self.fullname, other.fullname))\n",
        "    def __add__(self, other):\n",
        "        print(\"%s, %s 결혼했네\" % (self.fullname, other.fullname))\n",
        "    def __sub__(self, other):\n",
        "        print(\"%s, %s 이혼했네\" % (self.fullname, other.fullname))\n",
        "    def __del__(self):\n",
        "        print(\"%s 죽네\" % self.fullname)\n",
        "\n",
        "class HouseKim(HousePark):\n",
        "    lastname = \"김\"\n",
        "    def travel(self, where, day):\n",
        "        print(\"%s, %s여행 %d일 가네.\" % (self.fullname, where, day))"
      ],
      "execution_count": 0,
      "outputs": []
    },
    {
      "cell_type": "code",
      "metadata": {
        "id": "Qk8BvPM3Aapq",
        "colab_type": "code",
        "colab": {}
      },
      "source": [
        "pey = HousePark(\"응용\")\n",
        "juliet = HouseKim(\"줄리엣\")"
      ],
      "execution_count": 0,
      "outputs": []
    },
    {
      "cell_type": "code",
      "metadata": {
        "id": "cS_oLGaNAcqS",
        "colab_type": "code",
        "colab": {
          "base_uri": "https://localhost:8080/",
          "height": 119
        },
        "outputId": "ffa479fb-f653-4317-f3ce-7f8222422788"
      },
      "source": [
        "pey.travel(\"부산\")\n",
        "juliet.travel(\"부산\", 3)\n",
        "pey.love(juliet)\n",
        "pey + juliet\n",
        "pey.fight(juliet)\n",
        "pey - juliet"
      ],
      "execution_count": 171,
      "outputs": [
        {
          "output_type": "stream",
          "text": [
            "박응용, 부산여행을 가다.\n",
            "김줄리엣, 부산여행 3일 가네.\n",
            "박응용, 김줄리엣 사랑에 빠졌네\n",
            "박응용, 김줄리엣 결혼했네\n",
            "박응용, 김줄리엣 싸우네\n",
            "박응용, 김줄리엣 이혼했네\n"
          ],
          "name": "stdout"
        }
      ]
    },
    {
      "cell_type": "code",
      "metadata": {
        "id": "TvtvOlCrZqKB",
        "colab_type": "code",
        "colab": {
          "base_uri": "https://localhost:8080/",
          "height": 34
        },
        "outputId": "47c19310-4cc9-474a-bcd6-c7b2bd38a7da"
      },
      "source": [
        "pey.__del__()"
      ],
      "execution_count": 172,
      "outputs": [
        {
          "output_type": "stream",
          "text": [
            "박응용 죽네\n"
          ],
          "name": "stdout"
        }
      ]
    },
    {
      "cell_type": "markdown",
      "metadata": {
        "id": "75rtQrW1dwdU",
        "colab_type": "text"
      },
      "source": [
        "--------------------"
      ]
    },
    {
      "cell_type": "markdown",
      "metadata": {
        "id": "Z032QiMAdsgk",
        "colab_type": "text"
      },
      "source": [
        "# 함수형 프로그래밍 [5]"
      ]
    },
    {
      "cell_type": "markdown",
      "metadata": {
        "id": "8hYTMC37dvoM",
        "colab_type": "text"
      },
      "source": [
        "* map\n",
        "* filter\n",
        "* reduce"
      ]
    },
    {
      "cell_type": "markdown",
      "metadata": {
        "id": "4aGmtVD-d0GA",
        "colab_type": "text"
      },
      "source": [
        "## map"
      ]
    },
    {
      "cell_type": "markdown",
      "metadata": {
        "id": "Uu5XFdezd12p",
        "colab_type": "text"
      },
      "source": [
        "map이라는 것은 함수와 시퀀스 자료형(리스트, 터플, 문자열)을 입력으로 받아서 시퀀스 자료형의 각각의 요소가 함수의 입력으로 들어간 다음 나오는 출력값을 묶어서 리스트로 돌려주는 함수이다."
      ]
    },
    {
      "cell_type": "code",
      "metadata": {
        "id": "HVDWO9EGZua3",
        "colab_type": "code",
        "colab": {
          "base_uri": "https://localhost:8080/",
          "height": 0
        },
        "outputId": "c28a6e73-8202-4cea-e4ea-160b7b7acacd"
      },
      "source": [
        "def f(x) :\n",
        "    return x*x\n",
        "\n",
        "x = [1, 2, 3, 4, 5]\n",
        "y = map(f, x)\n",
        "\n",
        "print(x)\n",
        "print(list(y))"
      ],
      "execution_count": 173,
      "outputs": [
        {
          "output_type": "stream",
          "text": [
            "[1, 2, 3, 4, 5]\n",
            "[1, 4, 9, 16, 25]\n"
          ],
          "name": "stdout"
        }
      ]
    },
    {
      "cell_type": "markdown",
      "metadata": {
        "id": "SZydrZNPfeZ6",
        "colab_type": "text"
      },
      "source": [
        "<img src='https://github.com/psygrammer/psypy/blob/master/notebooks/figures/03/01_fig.10.7.png?raw=1'/>"
      ]
    },
    {
      "cell_type": "code",
      "metadata": {
        "id": "Wv1XoY1vgFkz",
        "colab_type": "code",
        "colab": {
          "base_uri": "https://localhost:8080/",
          "height": 0
        },
        "outputId": "01d682a8-c986-4fec-f50b-a1eeb3abceb3"
      },
      "source": [
        "# 위의 코드는 다음과 같다\n",
        "y = []\n",
        "for e in x :\n",
        "    ne = f(e)\n",
        "    y.append(ne)\n",
        "\n",
        "print(x)\n",
        "print(y)"
      ],
      "execution_count": 174,
      "outputs": [
        {
          "output_type": "stream",
          "text": [
            "[1, 2, 3, 4, 5]\n",
            "[1, 4, 9, 16, 25]\n"
          ],
          "name": "stdout"
        }
      ]
    },
    {
      "cell_type": "code",
      "metadata": {
        "id": "jji307aJgJ7z",
        "colab_type": "code",
        "colab": {
          "base_uri": "https://localhost:8080/",
          "height": 0
        },
        "outputId": "341f8300-9dfa-4fc3-ad72-8f702c01938e"
      },
      "source": [
        "# 람다 함수 이용\n",
        "y = map(lambda a:a*a, x)\n",
        "print(x)\n",
        "print(list(y))"
      ],
      "execution_count": 175,
      "outputs": [
        {
          "output_type": "stream",
          "text": [
            "[1, 2, 3, 4, 5]\n",
            "[1, 4, 9, 16, 25]\n"
          ],
          "name": "stdout"
        }
      ]
    },
    {
      "cell_type": "code",
      "metadata": {
        "id": "K8oLp12WgLGe",
        "colab_type": "code",
        "colab": {
          "base_uri": "https://localhost:8080/",
          "height": 0
        },
        "outputId": "638da6c5-c6dd-498c-bfc5-3d4cca00503f"
      },
      "source": [
        "x = range(10)\n",
        "y = map(lambda a: a*a+4*a, x)\n",
        "print(x)\n",
        "print(list(y))"
      ],
      "execution_count": 176,
      "outputs": [
        {
          "output_type": "stream",
          "text": [
            "range(0, 10)\n",
            "[0, 5, 12, 21, 32, 45, 60, 77, 96, 117]\n"
          ],
          "name": "stdout"
        }
      ]
    },
    {
      "cell_type": "code",
      "metadata": {
        "id": "0x7CatOJgNuV",
        "colab_type": "code",
        "colab": {
          "base_uri": "https://localhost:8080/",
          "height": 0
        },
        "outputId": "70705673-63e5-4ebf-c3d9-a485259973c6"
      },
      "source": [
        "# 두 개 이상 입력\n",
        "x = [1,2,3,4,5]\n",
        "y = [6,7,8,9,10]\n",
        "z = map(lambda a, b:a+b, x, y)\n",
        "print(x)\n",
        "print(y)\n",
        "print(list(z))"
      ],
      "execution_count": 177,
      "outputs": [
        {
          "output_type": "stream",
          "text": [
            "[1, 2, 3, 4, 5]\n",
            "[6, 7, 8, 9, 10]\n",
            "[7, 9, 11, 13, 15]\n"
          ],
          "name": "stdout"
        }
      ]
    },
    {
      "cell_type": "markdown",
      "metadata": {
        "id": "Sq5yTSJdgP30",
        "colab_type": "text"
      },
      "source": [
        "<img src='https://github.com/psygrammer/psypy/blob/master/notebooks/figures/03/01_fig.10.8.png?raw=1'/>"
      ]
    },
    {
      "cell_type": "markdown",
      "metadata": {
        "id": "u2gD48McgTg7",
        "colab_type": "text"
      },
      "source": [
        "## filter"
      ]
    },
    {
      "cell_type": "markdown",
      "metadata": {
        "id": "rFUQ3OUmgWNL",
        "colab_type": "text"
      },
      "source": [
        "filter는 함수와 시퀀스 자료형을 입력으로 받아서 자료의 값이 하나씩 함수의 인수로 전달될 때, 참을 반환시키는 값만을 따로 모아서 리스트의 형태로 반환하는 함수이다. filter의 뜻은 무엇인가를 걸러낸다는 뜻이다. 이 의미가 filter 함수에서도 그대로 사용된다."
      ]
    },
    {
      "cell_type": "code",
      "metadata": {
        "id": "g-i1H0BCgXiX",
        "colab_type": "code",
        "colab": {
          "base_uri": "https://localhost:8080/",
          "height": 0
        },
        "outputId": "3eecdfa8-0bef-4060-a474-fef575ac23ad"
      },
      "source": [
        "def positive(x): \n",
        "    return x > 0\n",
        "\n",
        "list(filter(positive, [1,-3,2,0,-5,6]))"
      ],
      "execution_count": 178,
      "outputs": [
        {
          "output_type": "execute_result",
          "data": {
            "text/plain": [
              "[1, 2, 6]"
            ]
          },
          "metadata": {
            "tags": []
          },
          "execution_count": 178
        }
      ]
    },
    {
      "cell_type": "code",
      "metadata": {
        "id": "722c93-GgZIa",
        "colab_type": "code",
        "colab": {
          "base_uri": "https://localhost:8080/",
          "height": 0
        },
        "outputId": "85a61fc2-fe11-4d85-9625-29c220802d11"
      },
      "source": [
        "# 위의 코드는 다음과 같다\n",
        "def positive(l): \n",
        "    result = [] \n",
        "    for i in l: \n",
        "        if i > 0: \n",
        "            result.append(i) \n",
        "    return result\n",
        "\n",
        "positive([1,-3,2,0,-5,6])"
      ],
      "execution_count": 179,
      "outputs": [
        {
          "output_type": "execute_result",
          "data": {
            "text/plain": [
              "[1, 2, 6]"
            ]
          },
          "metadata": {
            "tags": []
          },
          "execution_count": 179
        }
      ]
    },
    {
      "cell_type": "code",
      "metadata": {
        "id": "eJE6krJZgeIs",
        "colab_type": "code",
        "colab": {
          "base_uri": "https://localhost:8080/",
          "height": 0
        },
        "outputId": "f8f52ac0-ffcf-4d4e-def1-faf07837213b"
      },
      "source": [
        "# 람다 함수 사용\n",
        "list(filter(lambda x : x>0, [1,-3,2,0,-5,6]))"
      ],
      "execution_count": 180,
      "outputs": [
        {
          "output_type": "execute_result",
          "data": {
            "text/plain": [
              "[1, 2, 6]"
            ]
          },
          "metadata": {
            "tags": []
          },
          "execution_count": 180
        }
      ]
    },
    {
      "cell_type": "code",
      "metadata": {
        "id": "fhPSQx-rggFA",
        "colab_type": "code",
        "colab": {
          "base_uri": "https://localhost:8080/",
          "height": 0
        },
        "outputId": "ee19b103-bcf6-4f15-960b-b9bdbad077c4"
      },
      "source": [
        "list(filter(lambda x : x%2, [1,2,3,4,5,6]))"
      ],
      "execution_count": 181,
      "outputs": [
        {
          "output_type": "execute_result",
          "data": {
            "text/plain": [
              "[1, 3, 5]"
            ]
          },
          "metadata": {
            "tags": []
          },
          "execution_count": 181
        }
      ]
    },
    {
      "cell_type": "markdown",
      "metadata": {
        "id": "G53j2G-kgh_g",
        "colab_type": "text"
      },
      "source": [
        "<img src='https://github.com/psygrammer/psypy/blob/master/notebooks/figures/03/01_fig.10.11.png?raw=1'/>"
      ]
    },
    {
      "cell_type": "markdown",
      "metadata": {
        "id": "BJL9jufKgl5z",
        "colab_type": "text"
      },
      "source": [
        "## reduce"
      ]
    },
    {
      "cell_type": "markdown",
      "metadata": {
        "id": "9aLPMb-Mgnrk",
        "colab_type": "text"
      },
      "source": [
        "reduce는 첫 인수로 함수를 받는다. 이 함수는 두 개의 인수를 받는다. 두 번째 인자는 시퀀스 자료형이다. 시퀀스의 자료들은 순차적으로 reduce가 받은 함수의 첫 번째 인수, 두 번째 인수로 전달된다. 첫 인수는 함수의 계산 결과가 누적적으로 적용된다. 단, 처음 계산에서는 시퀀스의 두 개의 요소가 함수에 전달된다."
      ]
    },
    {
      "cell_type": "code",
      "metadata": {
        "id": "Op7luekEgpMI",
        "colab_type": "code",
        "colab": {}
      },
      "source": [
        "from functools import reduce"
      ],
      "execution_count": 0,
      "outputs": []
    },
    {
      "cell_type": "code",
      "metadata": {
        "id": "MTqDrFF3grwZ",
        "colab_type": "code",
        "colab": {
          "base_uri": "https://localhost:8080/",
          "height": 0
        },
        "outputId": "2c2d9ad9-4704-41e0-9234-356d1f6c1917"
      },
      "source": [
        "# 1부터 5까지 더하기\n",
        "# 다음 코드는 이 수식과 동일하다. ((((1+2)+3)+4)+5)\n",
        "reduce(lambda x, y : x+y, [1, 2, 3, 4, 5])"
      ],
      "execution_count": 183,
      "outputs": [
        {
          "output_type": "execute_result",
          "data": {
            "text/plain": [
              "15"
            ]
          },
          "metadata": {
            "tags": []
          },
          "execution_count": 183
        }
      ]
    },
    {
      "cell_type": "markdown",
      "metadata": {
        "id": "P6A7SE1agvMT",
        "colab_type": "text"
      },
      "source": [
        "<img src='https://github.com/psygrammer/psypy/blob/master/notebooks/figures/03/01_fig.10.12.png?raw=1'/>"
      ]
    },
    {
      "cell_type": "code",
      "metadata": {
        "id": "zqUAemRdgzDB",
        "colab_type": "code",
        "colab": {
          "base_uri": "https://localhost:8080/",
          "height": 0
        },
        "outputId": "3f7cc435-93f2-44cb-b01e-5cf4fa27be04"
      },
      "source": [
        "# reduce 함수에 세 번째 인수를 부여할 수 있는데, 초기 값으로 사용된다.\n",
        "# 다음 코드는 이 수식과 동일하다. (((((0+1)+2)+3)+4)+5)\n",
        "reduce(lambda x, y : x+y, [1, 2, 3, 4, 5], 0)"
      ],
      "execution_count": 184,
      "outputs": [
        {
          "output_type": "execute_result",
          "data": {
            "text/plain": [
              "15"
            ]
          },
          "metadata": {
            "tags": []
          },
          "execution_count": 184
        }
      ]
    },
    {
      "cell_type": "code",
      "metadata": {
        "id": "gkXTWhp-g-3L",
        "colab_type": "code",
        "colab": {
          "base_uri": "https://localhost:8080/",
          "height": 0
        },
        "outputId": "6095c94d-53a7-4f40-94c2-c0b692b908ac"
      },
      "source": [
        "# 각 원소를 제곱해서 모두 더하기\n",
        "reduce(lambda x, y : x + y*y, range(1,11), 0)"
      ],
      "execution_count": 185,
      "outputs": [
        {
          "output_type": "execute_result",
          "data": {
            "text/plain": [
              "385"
            ]
          },
          "metadata": {
            "tags": []
          },
          "execution_count": 185
        }
      ]
    },
    {
      "cell_type": "code",
      "metadata": {
        "id": "0et-rKCzg1MC",
        "colab_type": "code",
        "colab": {
          "base_uri": "https://localhost:8080/",
          "height": 0
        },
        "outputId": "2e66f34c-b757-481a-9e39-4735250a8c19"
      },
      "source": [
        "# 위의 코드는 다음과 동일하다.\n",
        "x = 0\n",
        "for y in range(1, 11) :\n",
        "    x = x + y*y\n",
        "    \n",
        "x"
      ],
      "execution_count": 186,
      "outputs": [
        {
          "output_type": "execute_result",
          "data": {
            "text/plain": [
              "385"
            ]
          },
          "metadata": {
            "tags": []
          },
          "execution_count": 186
        }
      ]
    },
    {
      "cell_type": "markdown",
      "metadata": {
        "id": "6gXhyURIcEBY",
        "colab_type": "text"
      },
      "source": [
        "-------------------------------"
      ]
    },
    {
      "cell_type": "markdown",
      "metadata": {
        "id": "39_SfR_MbwRc",
        "colab_type": "text"
      },
      "source": [
        "# 참고자료 \n",
        "* [1] 파이썬 라이브러리를 활용한 데이터 분석(2판)\n",
        "    - http://www.hanbit.co.kr/store/books/look.php?p_code=B6417848794\n",
        "* [2] 점프 투 파이썬 : 04장 프로그램의 입력과 출력은 어떻게 해야 할까? - https://wikidocs.net/23\n",
        "* [3] python | learn x in y minutes - https://learnxinyminutes.com/docs/python3/\n",
        "* [4] 점프 투 파이썬 : 클래스 - https://wikidocs.net/28\n",
        "* [5] 점프 투 파이썬 : 내장함수 - https://wikidocs.net/32"
      ]
    }
  ]
}