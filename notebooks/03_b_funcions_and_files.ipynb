{
  "nbformat": 4,
  "nbformat_minor": 0,
  "metadata": {
    "colab": {
      "name": "03_b_funcions_and_files.ipynb",
      "provenance": [],
      "include_colab_link": true
    },
    "kernelspec": {
      "display_name": "Python 3",
      "language": "python",
      "name": "python3"
    },
    "language_info": {
      "codemirror_mode": {
        "name": "ipython",
        "version": 3
      },
      "file_extension": ".py",
      "mimetype": "text/x-python",
      "name": "python",
      "nbconvert_exporter": "python",
      "pygments_lexer": "ipython3",
      "version": "3.6.8"
    }
  },
  "cells": [
    {
      "cell_type": "markdown",
      "metadata": {
        "id": "view-in-github",
        "colab_type": "text"
      },
      "source": [
        "<a href=\"https://colab.research.google.com/github/psygrammer/psypy/blob/master/notebooks/03_b_funcions_and_files.ipynb\" target=\"_parent\"><img src=\"https://colab.research.google.com/assets/colab-badge.svg\" alt=\"Open In Colab\"/></a>"
      ]
    },
    {
      "cell_type": "markdown",
      "metadata": {
        "id": "v-I6Tqd9vArs",
        "colab_type": "text"
      },
      "source": [
        "# 03. 내장 자료구조, 함수, 파일 (2)"
      ]
    },
    {
      "cell_type": "markdown",
      "metadata": {
        "id": "pqoPQ4JLu2YV",
        "colab_type": "text"
      },
      "source": [
        "* 싸이그래머 / PsyPy [1]\n",
        "* 김무성"
      ]
    },
    {
      "cell_type": "code",
      "metadata": {
        "id": "THweB5Tzu2YW",
        "colab_type": "code",
        "outputId": "9439feaf-fddf-4f38-e22f-2afacc21d360",
        "colab": {
          "base_uri": "https://localhost:8080/",
          "height": 35
        }
      },
      "source": [
        "!python -V"
      ],
      "execution_count": 0,
      "outputs": [
        {
          "output_type": "stream",
          "text": [
            "Python 3.6.8\n"
          ],
          "name": "stdout"
        }
      ]
    },
    {
      "cell_type": "markdown",
      "metadata": {
        "id": "OkoN1Swsu2YZ",
        "colab_type": "text"
      },
      "source": [
        "# 차례 \n",
        "* 함수\n",
        "    - 네임스페이스, 스코프, 지역 함수\n",
        "    - 여러 값 반환하기\n",
        "    - 함수도 객체다\n",
        "    - 익명 함수\n",
        "    - 클로저 : 함수를 반환하는 함수\n",
        "    - \\*args와  \\*\\*kwargs를 사용해서 호출 문법 확장하기  \n",
        "    - 커링 : 일부 인자만 취하기\n",
        "    - 제너레이터\n",
        "    - 에러와 예외 다루기\n",
        "* 파일과 운영체제\n",
        "    - 바이트와 유니코드 파일\n",
        "* 클래스\n",
        "* 함수형 프로그래밍\n",
        "  - map\n",
        "  - filter\n",
        "  - reduce"
      ]
    },
    {
      "cell_type": "markdown",
      "metadata": {
        "id": "PQGfnCP8u2Ya",
        "colab_type": "text"
      },
      "source": [
        "------------------------"
      ]
    },
    {
      "cell_type": "markdown",
      "metadata": {
        "id": "KOEuB8XCu2Yb",
        "colab_type": "text"
      },
      "source": [
        "# 함수"
      ]
    },
    {
      "cell_type": "markdown",
      "metadata": {
        "id": "dcV0A_DGu2Yd",
        "colab_type": "text"
      },
      "source": [
        "```python\n",
        "def my_function(x, y, z=1.5) :\n",
        "    if z > 1 :\n",
        "        return z * (x + y)\n",
        "    else :\n",
        "        return z / (x + y)\n",
        "    \n",
        "# return문이 몇 개가 되든 상관없다. \n",
        "# 함수 블록이 끝날 때까지 return문이 없다면 None이 반환된다.   \n",
        "```"
      ]
    },
    {
      "cell_type": "markdown",
      "metadata": {
        "id": "p9yu8JPhu2Ye",
        "colab_type": "text"
      },
      "source": [
        "## 네임스페이스, 스코프, 지역 함수"
      ]
    },
    {
      "cell_type": "markdown",
      "metadata": {
        "id": "IACL_twju2Ye",
        "colab_type": "text"
      },
      "source": [
        "```python\n",
        "# 로컬\n",
        "def func() :\n",
        "    a = []  # <- local\n",
        "    for i in range(5) :\n",
        "        a.append(i)\n",
        "```        "
      ]
    },
    {
      "cell_type": "markdown",
      "metadata": {
        "id": "6HbhKQ-yu2Yf",
        "colab_type": "text"
      },
      "source": [
        "```python\n",
        "# 전역 \n",
        "a = []\n",
        "def func() :\n",
        "    for i in range(5) :\n",
        "        a.append(i)\n",
        "        \n",
        "func()\n",
        "a\n",
        "```"
      ]
    },
    {
      "cell_type": "code",
      "metadata": {
        "id": "rxPyir7eu2Yg",
        "colab_type": "code",
        "outputId": "bbb627ff-c570-4ec0-f12c-658ff519673a",
        "colab": {
          "base_uri": "https://localhost:8080/",
          "height": 35
        }
      },
      "source": [
        "b = None\n",
        "def bind_b_variable() :\n",
        "    b = []\n",
        "    \n",
        "bind_b_variable()    \n",
        "print(b)    "
      ],
      "execution_count": 0,
      "outputs": [
        {
          "output_type": "stream",
          "text": [
            "None\n"
          ],
          "name": "stdout"
        }
      ]
    },
    {
      "cell_type": "code",
      "metadata": {
        "id": "4dxygrahu2Yi",
        "colab_type": "code",
        "outputId": "818b8f10-2392-4bff-b534-b2187b95a9c6",
        "colab": {
          "base_uri": "https://localhost:8080/",
          "height": 35
        }
      },
      "source": [
        "# global 예약어 사용\n",
        "b = None\n",
        "def bind_b_variable() :\n",
        "    global b\n",
        "    b = []\n",
        "\n",
        "bind_b_variable()\n",
        "print(b)"
      ],
      "execution_count": 0,
      "outputs": [
        {
          "output_type": "stream",
          "text": [
            "[]\n"
          ],
          "name": "stdout"
        }
      ]
    },
    {
      "cell_type": "markdown",
      "metadata": {
        "id": "Q-8jHbo4u2Yl",
        "colab_type": "text"
      },
      "source": [
        "```python\n",
        "# 함수 안에서 함수를 선언할 수 있다.\n",
        "def outer_function(x, y, z) :\n",
        "    def inner_function(a, b, c) :\n",
        "        pass\n",
        "    pass\n",
        "```"
      ]
    },
    {
      "cell_type": "markdown",
      "metadata": {
        "id": "VUu8U8W7u2Yl",
        "colab_type": "text"
      },
      "source": [
        "## 여러 값 반환하기"
      ]
    },
    {
      "cell_type": "code",
      "metadata": {
        "id": "k_l0oLbCu2Ym",
        "colab_type": "code",
        "outputId": "a34d864a-bc83-49ce-a221-81ff18bac03b",
        "colab": {
          "base_uri": "https://localhost:8080/",
          "height": 35
        }
      },
      "source": [
        "def f() :\n",
        "    a = 5\n",
        "    b = 6\n",
        "    c = 7\n",
        "    return a, b, c\n",
        "\n",
        "a, b, c = f()\n",
        "print(a, b, c)"
      ],
      "execution_count": 0,
      "outputs": [
        {
          "output_type": "stream",
          "text": [
            "5 6 7\n"
          ],
          "name": "stdout"
        }
      ]
    },
    {
      "cell_type": "code",
      "metadata": {
        "id": "gGncnYipu2Yo",
        "colab_type": "code",
        "outputId": "4ed035b3-6ce4-4a66-aa47-febc85cdaef6",
        "colab": {
          "base_uri": "https://localhost:8080/",
          "height": 35
        }
      },
      "source": [
        "return_value = f()\n",
        "return_value # 여래 개의 값을 하나의 변수에 반환받으면, 그 변수는 튜플 자료형이 된다."
      ],
      "execution_count": 0,
      "outputs": [
        {
          "output_type": "execute_result",
          "data": {
            "text/plain": [
              "(5, 6, 7)"
            ]
          },
          "metadata": {
            "tags": []
          },
          "execution_count": 5
        }
      ]
    },
    {
      "cell_type": "markdown",
      "metadata": {
        "id": "TG7CErDeu2Yr",
        "colab_type": "text"
      },
      "source": [
        "## 함수도 객체다"
      ]
    },
    {
      "cell_type": "code",
      "metadata": {
        "id": "Fag3HE6Ku2Yr",
        "colab_type": "code",
        "colab": {}
      },
      "source": [
        "states = [ '  Alabama ', 'Georgia!', 'Georgia', 'georgia', 'FlOrIda', \n",
        "          'south carolin##', 'West virginaia?']"
      ],
      "execution_count": 0,
      "outputs": []
    },
    {
      "cell_type": "markdown",
      "metadata": {
        "id": "AzfKddqVu2Yu",
        "colab_type": "text"
      },
      "source": [
        "### 문자열을 변형하기 위해 함수를 사용하는 일반적인 패턴"
      ]
    },
    {
      "cell_type": "code",
      "metadata": {
        "id": "wrhEPwb7u2Yu",
        "colab_type": "code",
        "colab": {}
      },
      "source": [
        "import re \n",
        "\n",
        "def clean_strings(strings) :\n",
        "    result = []\n",
        "    for value in strings :\n",
        "        value = value.strip()\n",
        "        value = re.sub('[!#?]', '', value) # 문장 부호 제거\n",
        "        value = value.title()\n",
        "        result.append(value)\n",
        "    return result"
      ],
      "execution_count": 0,
      "outputs": []
    },
    {
      "cell_type": "code",
      "metadata": {
        "id": "fVmHarUuu2Yw",
        "colab_type": "code",
        "outputId": "4d9fbd9f-dc6f-4a2a-f004-5f30cab9c61e",
        "colab": {
          "base_uri": "https://localhost:8080/",
          "height": 143
        }
      },
      "source": [
        "clean_strings(states)"
      ],
      "execution_count": 0,
      "outputs": [
        {
          "output_type": "execute_result",
          "data": {
            "text/plain": [
              "['Alabama',\n",
              " 'Georgia',\n",
              " 'Georgia',\n",
              " 'Georgia',\n",
              " 'Florida',\n",
              " 'South Carolin',\n",
              " 'West Virginaia']"
            ]
          },
          "metadata": {
            "tags": []
          },
          "execution_count": 8
        }
      ]
    },
    {
      "cell_type": "markdown",
      "metadata": {
        "id": "iCKuxqXOu2Y0",
        "colab_type": "text"
      },
      "source": [
        "### 함수를 객체화하고 인자로 넘겨서 좀 더 유연하게 사용하는 패턴"
      ]
    },
    {
      "cell_type": "code",
      "metadata": {
        "id": "oa4ISPflu2Y1",
        "colab_type": "code",
        "colab": {}
      },
      "source": [
        "def remove_punctuation(value) :\n",
        "    return re.sub('[!#?]', '', value)\n",
        "\n",
        "# 함수도 객체. \n",
        "clean_ops = [str.strip, remove_punctuation, str.title]\n",
        "\n",
        "def clean_strings(strings, ops) :\n",
        "    result = []\n",
        "    for value in strings :\n",
        "        for function in ops :\n",
        "            value = function(value) \n",
        "        result.append(value)\n",
        "    return result"
      ],
      "execution_count": 0,
      "outputs": []
    },
    {
      "cell_type": "code",
      "metadata": {
        "id": "jiScde28u2Y3",
        "colab_type": "code",
        "outputId": "2b3e341e-cc16-4766-98ce-b9152f99d128",
        "colab": {
          "base_uri": "https://localhost:8080/",
          "height": 143
        }
      },
      "source": [
        "clean_strings(states, clean_ops)"
      ],
      "execution_count": 0,
      "outputs": [
        {
          "output_type": "execute_result",
          "data": {
            "text/plain": [
              "['Alabama',\n",
              " 'Georgia',\n",
              " 'Georgia',\n",
              " 'Georgia',\n",
              " 'Florida',\n",
              " 'South Carolin',\n",
              " 'West Virginaia']"
            ]
          },
          "metadata": {
            "tags": []
          },
          "execution_count": 10
        }
      ]
    },
    {
      "cell_type": "code",
      "metadata": {
        "id": "ammnqhoWu2Y5",
        "colab_type": "code",
        "outputId": "0ddb8850-40f4-4289-f131-65aa15eb54c2",
        "colab": {
          "base_uri": "https://localhost:8080/",
          "height": 35
        }
      },
      "source": [
        "# map을 이용해본다. 어떤 컬렉션에 대해 함수를 적용하는 함수다. \n",
        "# 이를 이용해서 함수를 인자로 사용할 수 있다.\n",
        "map(remove_punctuation, states)"
      ],
      "execution_count": 0,
      "outputs": [
        {
          "output_type": "execute_result",
          "data": {
            "text/plain": [
              "<map at 0x7f2133a96f60>"
            ]
          },
          "metadata": {
            "tags": []
          },
          "execution_count": 11
        }
      ]
    },
    {
      "cell_type": "code",
      "metadata": {
        "id": "GSssdH-0u2Y7",
        "colab_type": "code",
        "outputId": "9560eae5-eb2f-4b7d-b5c1-564549dd4f99",
        "colab": {
          "base_uri": "https://localhost:8080/",
          "height": 143
        }
      },
      "source": [
        "for e in map(remove_punctuation, states) :\n",
        "    print(e)"
      ],
      "execution_count": 0,
      "outputs": [
        {
          "output_type": "stream",
          "text": [
            "  Alabama \n",
            "Georgia\n",
            "Georgia\n",
            "georgia\n",
            "FlOrIda\n",
            "south carolin\n",
            "West virginaia\n"
          ],
          "name": "stdout"
        }
      ]
    },
    {
      "cell_type": "markdown",
      "metadata": {
        "id": "Dtae_lMHu2Y9",
        "colab_type": "text"
      },
      "source": [
        "## 익명 함수 "
      ]
    },
    {
      "cell_type": "markdown",
      "metadata": {
        "id": "BnOxWSL2u2Y-",
        "colab_type": "text"
      },
      "source": [
        "```python\n",
        "def short_function(x) :\n",
        "    return x * 2\n",
        "\n",
        "# 위의 함수와 동치인 익명 함수(람다 함수)\n",
        "equiv_anon = lambda x: x * 2\n",
        "```"
      ]
    },
    {
      "cell_type": "code",
      "metadata": {
        "id": "4zjf8Mhru2Y-",
        "colab_type": "code",
        "outputId": "d9b9a3f8-0cfa-4373-f14c-c2aaa8c03a46",
        "colab": {
          "base_uri": "https://localhost:8080/",
          "height": 35
        }
      },
      "source": [
        "# 각 문자열에서 다양한 문자가 포함된 순서로 정렬하는 예제\n",
        "strings = ['foo', 'card', 'bar', 'aaaa', 'abab']\n",
        "strings.sort(key=lambda x: len(set(list(x))))\n",
        "strings"
      ],
      "execution_count": 0,
      "outputs": [
        {
          "output_type": "execute_result",
          "data": {
            "text/plain": [
              "['aaaa', 'foo', 'abab', 'bar', 'card']"
            ]
          },
          "metadata": {
            "tags": []
          },
          "execution_count": 13
        }
      ]
    },
    {
      "cell_type": "markdown",
      "metadata": {
        "id": "yC_4yesw-3Ag",
        "colab_type": "text"
      },
      "source": [
        "## 클로저 : 함수를 반환하는 함수"
      ]
    },
    {
      "cell_type": "code",
      "metadata": {
        "id": "UWtGYbsY-6nt",
        "colab_type": "code",
        "colab": {}
      },
      "source": [
        "# 클로저는 다른 함수에서 반환되는, 동적으로 생성된 함수다. \n",
        "# 핵심은 반환되는 함수는 그 함수가 생성된 시점의 \n",
        "# 지역 네임스페이스의 변수에 접근할 수 있다는 점이다."
      ],
      "execution_count": 0,
      "outputs": []
    },
    {
      "cell_type": "code",
      "metadata": {
        "id": "H39kltIu-3-O",
        "colab_type": "code",
        "colab": {}
      },
      "source": [
        "def make_closure(a) :\n",
        "    def closure() :\n",
        "        print(\"I know the secret: %d\", a)\n",
        "    return closure\n",
        "\n",
        "closure = make_closure(5)\n",
        "closure()\n",
        "closure() # 클로저를 생성하는 함수가 끝나더라도 생성된 시점의 네임스페이스에 여전히 접근할 수 있다.\n"
      ],
      "execution_count": 0,
      "outputs": []
    },
    {
      "cell_type": "code",
      "metadata": {
        "id": "g2rk1UDg_C75",
        "colab_type": "code",
        "colab": {}
      },
      "source": [
        "# 클로져가 변경 가능한 객체를 가질 수도 있다.\n",
        "def make_watcher() :\n",
        "    have_seen = {}\n",
        "    \n",
        "    def has_been_seen(x) :\n",
        "        if x in have_seen :\n",
        "            return True\n",
        "        else :\n",
        "            have_seen[x] = True\n",
        "            return False\n",
        "        \n",
        "    return has_been_seen"
      ],
      "execution_count": 0,
      "outputs": []
    },
    {
      "cell_type": "code",
      "metadata": {
        "id": "Gj2zPwmc_Ex9",
        "colab_type": "code",
        "colab": {}
      },
      "source": [
        "watcher = make_watcher()\n",
        "vals = [5, 6, 1, 5, 1, 6, 3, 5]\n",
        "[watcher(x) for x in vals]"
      ],
      "execution_count": 0,
      "outputs": []
    },
    {
      "cell_type": "markdown",
      "metadata": {
        "id": "msl10kGu_GSK",
        "colab_type": "text"
      },
      "source": [
        "## \\*args와  \\*\\*kwargs를 사용해서 호출 문법 확장하기  "
      ]
    },
    {
      "cell_type": "markdown",
      "metadata": {
        "id": "pWffYxVB_K-W",
        "colab_type": "text"
      },
      "source": [
        "```python\n",
        "# 파이썬에서 함수 인자가 동작하는 방식은, \n",
        "# 만약 func(a, b, c, d=some, e= value) 라고 코드를 작성하면\n",
        "# 일반 인자와 키워드 인자는 \n",
        "# 각각 튜플 args와\n",
        "# 사전 kwargs에 저장된다.\n",
        "# 내부적으로 다음과 같은 과정을 거친다\n",
        "a, b, c = args\n",
        "d = kwargs.get('d', d_default_value)\n",
        "e = kwargs.get('e', e_defaulT_value)\n",
        "```"
      ]
    },
    {
      "cell_type": "code",
      "metadata": {
        "id": "Ux2jknJ-_NV7",
        "colab_type": "code",
        "colab": {}
      },
      "source": [
        "# 예제\n",
        "def say_hello_then_call_f(f, *args, **kwargs) :\n",
        "    print('args is', args)\n",
        "    print('kwargs is', kwargs)\n",
        "    print(\"Hello! Now I'm going to call %s\" %(f))\n",
        "    return f(*args, **kwargs)\n",
        "\n",
        "def g(x, y, z=1) :\n",
        "    return (x+y)/z\n",
        "\n",
        "say_hello_then_call_f(g, 1, 2, z=5.)"
      ],
      "execution_count": 0,
      "outputs": []
    },
    {
      "cell_type": "markdown",
      "metadata": {
        "id": "n2WgLUMP_QcX",
        "colab_type": "text"
      },
      "source": [
        "## 커링 : 일부 인자만 취하기"
      ]
    },
    {
      "cell_type": "code",
      "metadata": {
        "id": "0XcNNgKr_RN6",
        "colab_type": "code",
        "colab": {}
      },
      "source": [
        "# 함수에서 일부 인자를 고정해 새로운 함수를 만드는 기법을 커링이라고 한다.\n",
        "\n",
        "def add_numbers(x, y) :\n",
        "    return x + y\n",
        "\n",
        "# 여기서 add_numbers의 두 번째 인자가 '커리되었다'라고 한다.\n",
        "add_five = lambda y: add_numbers(5, y) \n",
        "\n",
        "\n",
        "# 다음 방식으로 더 단순하게 만들 수 있다.\n",
        "from functools import partial\n",
        "add_five = partial(add_numbers, 5)"
      ],
      "execution_count": 0,
      "outputs": []
    },
    {
      "cell_type": "markdown",
      "metadata": {
        "id": "3UWwBgYb_WW_",
        "colab_type": "text"
      },
      "source": [
        "## 제너레이터"
      ]
    },
    {
      "cell_type": "markdown",
      "metadata": {
        "id": "zAu33M9t_ZL_",
        "colab_type": "text"
      },
      "source": [
        "* 이터레이터 프로토콜\n",
        "* 제너레이터\n",
        "* 제너레이터 표현식\n",
        "* itertoos 모듈"
      ]
    },
    {
      "cell_type": "markdown",
      "metadata": {
        "id": "KgRm9Xai_bX-",
        "colab_type": "text"
      },
      "source": [
        "### 이터레이터 프로토콜"
      ]
    },
    {
      "cell_type": "code",
      "metadata": {
        "id": "CuQC5Z58_IT4",
        "colab_type": "code",
        "colab": {}
      },
      "source": [
        "# 파이썬은 리스트 내의 객체나 파일의 각 행 같은 순차적인 자료를 순회하는 일관적인 방법을 제공한다.\n",
        "# 이터레이터 프로토콜을 이용해서 순회가 가능한 객체를 만들 수 있다.\n",
        "\n",
        "some_dict = {'a':1, 'b':2, 'c':3}\n",
        " \n",
        "# for key in some_dict 라고 작성하면 \n",
        "# 파이썬 인터프리터는 some_dict에서 이터레이터를 생성한다.    \n",
        "for key in some_dict :\n",
        "    print(key)"
      ],
      "execution_count": 0,
      "outputs": []
    },
    {
      "cell_type": "code",
      "metadata": {
        "id": "fGCh6tol_w9n",
        "colab_type": "code",
        "colab": {}
      },
      "source": [
        "list(dict_iterator)"
      ],
      "execution_count": 0,
      "outputs": []
    },
    {
      "cell_type": "markdown",
      "metadata": {
        "id": "X4hyDncN_zBp",
        "colab_type": "text"
      },
      "source": [
        "### 제너레이터"
      ]
    },
    {
      "cell_type": "code",
      "metadata": {
        "id": "nKlxPN41_1Lw",
        "colab_type": "code",
        "colab": {}
      },
      "source": [
        "# 제너레이터는 순회가 가능한 객체를 생성하는 간단한 방법이다.\n",
        "# 일반 함수는 실행되면 단일 값을 반환하지만\n",
        "# 제너레이터는 순차적인 값을 매 요청 시마다 하나씩 반환한다.\n",
        "# 제너레이터를 생성하려면 함수에서 return 대신에 yeild 예약어를 사용한다.\n",
        "def squares(n=10) :\n",
        "    print('Generating squares from 1 to %d' %(n ** 2))\n",
        "    for i in range(1, n+1) :\n",
        "        yield i ** 2"
      ],
      "execution_count": 0,
      "outputs": []
    },
    {
      "cell_type": "code",
      "metadata": {
        "id": "jfde6z5c_3T9",
        "colab_type": "code",
        "colab": {}
      },
      "source": [
        "gen = squares()\n",
        "gen"
      ],
      "execution_count": 0,
      "outputs": []
    },
    {
      "cell_type": "code",
      "metadata": {
        "id": "mAL2a9OR_5ik",
        "colab_type": "code",
        "colab": {}
      },
      "source": [
        "for x in gen :\n",
        "    print(x) "
      ],
      "execution_count": 0,
      "outputs": []
    },
    {
      "cell_type": "markdown",
      "metadata": {
        "id": "qoXAFLDh_7qH",
        "colab_type": "text"
      },
      "source": [
        "### 제너레이터 표현식"
      ]
    },
    {
      "cell_type": "code",
      "metadata": {
        "id": "1TIcI9lx_9tH",
        "colab_type": "code",
        "colab": {}
      },
      "source": [
        "# 제너레이터를 만드는 간단한 방법은 제너레이터 표현식을 사용하는 것이다.\n",
        "gen = (x ** 2 for x in range(100))\n",
        "gen"
      ],
      "execution_count": 0,
      "outputs": []
    },
    {
      "cell_type": "code",
      "metadata": {
        "id": "ELK9dWlM__3j",
        "colab_type": "code",
        "colab": {}
      },
      "source": [
        "# 위의 코드는 다음 코드와 동일하다\n",
        "def _make_gen() :\n",
        "    for x in range(100) :\n",
        "        yield x ** 2\n",
        "        \n",
        "gen = _make_gen()\n",
        "gen"
      ],
      "execution_count": 0,
      "outputs": []
    },
    {
      "cell_type": "code",
      "metadata": {
        "id": "kzzaE7_yAB4N",
        "colab_type": "code",
        "colab": {}
      },
      "source": [
        "# 예제\n",
        "max(x ** 2 for x in range(100))"
      ],
      "execution_count": 0,
      "outputs": []
    },
    {
      "cell_type": "code",
      "metadata": {
        "id": "moIEdvF4AD2m",
        "colab_type": "code",
        "colab": {}
      },
      "source": [
        "dict((i, i**2) for i in range(5))"
      ],
      "execution_count": 0,
      "outputs": []
    },
    {
      "cell_type": "markdown",
      "metadata": {
        "id": "zSkzF-O3AHHl",
        "colab_type": "text"
      },
      "source": [
        "### itertools 모듈"
      ]
    },
    {
      "cell_type": "code",
      "metadata": {
        "id": "Gb8IzIKOAF9L",
        "colab_type": "code",
        "colab": {}
      },
      "source": [
        "# 일반 데이터 알고리즘을 위한 제너레이터를 포함\n",
        "import itertools\n",
        "\n",
        "# 예를 들어 groupby는 순차 자료 구조와 함수를 인자로 받아,\n",
        "# 인자로 받은 함수에서 반환하는 값에 따라 그룹을 지어준다.\n",
        "first_letter = lambda x : x[0]\n",
        "\n",
        "names = ['Alan', 'Adam', 'Wes', 'Will', 'Albert', 'Steven']\n",
        "\n",
        "for letter, names in itertools.groupby(names, first_letter) :\n",
        "    print(letter, list(names))\n"
      ],
      "execution_count": 0,
      "outputs": []
    },
    {
      "cell_type": "markdown",
      "metadata": {
        "id": "KPDKPmtLiF-L",
        "colab_type": "text"
      },
      "source": [
        "---------------------------------"
      ]
    },
    {
      "cell_type": "markdown",
      "metadata": {
        "id": "NbABZw3jiIf7",
        "colab_type": "text"
      },
      "source": [
        "# 파일과 운영체제\n",
        "* 파일 읽기\n",
        "* with 문 사용\n",
        "* 파일 쓰기\n",
        "* 바이트와 유니코드"
      ]
    },
    {
      "cell_type": "markdown",
      "metadata": {
        "id": "XwFQLs0_nHqu",
        "colab_type": "text"
      },
      "source": [
        "------------------------------"
      ]
    },
    {
      "cell_type": "markdown",
      "metadata": {
        "id": "bBDIUu-OnKbJ",
        "colab_type": "text"
      },
      "source": [
        "실습할 파일을 준비.(웹에서 가져오기 - urllib 사용)"
      ]
    },
    {
      "cell_type": "code",
      "metadata": {
        "id": "QE7djT7hihh5",
        "colab_type": "code",
        "colab": {}
      },
      "source": [
        "# 우선 파일을 가져와보자.\n",
        "\n",
        "## 1. 디렉토리 만들기\n",
        "import os\n",
        "\n",
        "dir_name = \"examples\"\n",
        "if not os.path.exists(dir_name) :\n",
        "  os.mkdir(dir_name)"
      ],
      "execution_count": 0,
      "outputs": []
    },
    {
      "cell_type": "code",
      "metadata": {
        "id": "_oPCi6KgjI8C",
        "colab_type": "code",
        "colab": {
          "base_uri": "https://localhost:8080/",
          "height": 34
        },
        "outputId": "fb9faf47-c260-4596-86ce-8a532137e885"
      },
      "source": [
        "# example 디렉토리가 생겼다.\n",
        "%ls"
      ],
      "execution_count": 28,
      "outputs": [
        {
          "output_type": "stream",
          "text": [
            "\u001b[0m\u001b[01;34mexamples\u001b[0m/  \u001b[01;34msample_data\u001b[0m/\n"
          ],
          "name": "stdout"
        }
      ]
    },
    {
      "cell_type": "code",
      "metadata": {
        "id": "kh54LecRjckX",
        "colab_type": "code",
        "colab": {}
      },
      "source": [
        "# 지금은 디렉토리 안에 아무 파일도 없다.\n",
        "%ls examples/"
      ],
      "execution_count": 0,
      "outputs": []
    },
    {
      "cell_type": "code",
      "metadata": {
        "id": "tEYHYFlqjM7F",
        "colab_type": "code",
        "colab": {}
      },
      "source": [
        "# 2. 파일 가져오기 - [1]의 예제소스 github의 파일들을 주소로 접근해서 가져온다.\n",
        "\n",
        "import urllib.request\n",
        "\n",
        "url = 'https://raw.githubusercontent.com/wesm/pydata-book/2nd-edition/examples/segismundo.txt'\n",
        "file_name = \"examples/segismundo.txt\" \n",
        "with urllib.request.urlopen(url) as r:\n",
        "  doc = r.read()\n",
        "  with open(file_name, \"wb\") as f:\n",
        "    f.write(doc)"
      ],
      "execution_count": 0,
      "outputs": []
    },
    {
      "cell_type": "code",
      "metadata": {
        "id": "1I9OuDudlfyP",
        "colab_type": "code",
        "colab": {
          "base_uri": "https://localhost:8080/",
          "height": 34
        },
        "outputId": "898f14f2-609d-4b04-8dab-3a05dda71432"
      },
      "source": [
        "# 다운로드 완료. 파일이 생겼다.\n",
        "%ls examples/"
      ],
      "execution_count": 36,
      "outputs": [
        {
          "output_type": "stream",
          "text": [
            "segismundo.txt\n"
          ],
          "name": "stdout"
        }
      ]
    },
    {
      "cell_type": "code",
      "metadata": {
        "id": "7nucMFIhmxEY",
        "colab_type": "code",
        "colab": {
          "base_uri": "https://localhost:8080/",
          "height": 187
        },
        "outputId": "196f0d56-a617-4c31-ea69-69fd00e21afc"
      },
      "source": [
        "# 내용를 한번 살펴보자 \n",
        "!head examples/segismundo.txt"
      ],
      "execution_count": 37,
      "outputs": [
        {
          "output_type": "stream",
          "text": [
            "Sueña el rico en su riqueza,\n",
            "que más cuidados le ofrece;\n",
            "\n",
            "sueña el pobre que padece\n",
            "su miseria y su pobreza;\n",
            "\n",
            "sueña el que a medrar empieza,\n",
            "sueña el que afana y pretende,\n",
            "sueña el que agravia y ofende,\n",
            "\n"
          ],
          "name": "stdout"
        }
      ]
    },
    {
      "cell_type": "markdown",
      "metadata": {
        "id": "HsrpMugXnd5I",
        "colab_type": "text"
      },
      "source": [
        "--------------"
      ]
    },
    {
      "cell_type": "markdown",
      "metadata": {
        "id": "OpC9MxToniFm",
        "colab_type": "text"
      },
      "source": [
        "## 파일 읽기"
      ]
    },
    {
      "cell_type": "code",
      "metadata": {
        "id": "k7T5nn8SiHqe",
        "colab_type": "code",
        "colab": {}
      },
      "source": [
        "파일을 읽고 쓰기 위해서는 내장 함수인 open을 이용해서 파일의 상대 경로나 절대 경로를 넘겨주어야 한다."
      ],
      "execution_count": 0,
      "outputs": []
    },
    {
      "cell_type": "code",
      "metadata": {
        "id": "9_S3Tioxnf-Z",
        "colab_type": "code",
        "colab": {}
      },
      "source": [
        "path = \"examples/segismundo.txt\""
      ],
      "execution_count": 0,
      "outputs": []
    },
    {
      "cell_type": "code",
      "metadata": {
        "id": "EJWUIVaPnqZz",
        "colab_type": "code",
        "colab": {}
      },
      "source": [
        "f = open(path)"
      ],
      "execution_count": 0,
      "outputs": []
    },
    {
      "cell_type": "markdown",
      "metadata": {
        "id": "4HIR5roQoI4M",
        "colab_type": "text"
      },
      "source": [
        "기본적으로 파일은 읽기 전용 모드인 'r'로 열린다. 파일 핸들 f를 리스트로 생각할 수 있으며 파일의 매 줄을 순회할 수 있다."
      ]
    },
    {
      "cell_type": "code",
      "metadata": {
        "id": "S9tvYrDTnv4g",
        "colab_type": "code",
        "colab": {
          "base_uri": "https://localhost:8080/",
          "height": 493
        },
        "outputId": "dd3464bc-5606-4b15-bfaa-fbe3a76eceb9"
      },
      "source": [
        "for line in f:\n",
        "  print(line) # 여기서 줄별로 처리할 코드를 넣으면 된다."
      ],
      "execution_count": 42,
      "outputs": [
        {
          "output_type": "stream",
          "text": [
            "Sueña el rico en su riqueza,\n",
            "\n",
            "que más cuidados le ofrece;\n",
            "\n",
            "\n",
            "\n",
            "sueña el pobre que padece\n",
            "\n",
            "su miseria y su pobreza;\n",
            "\n",
            "\n",
            "\n",
            "sueña el que a medrar empieza,\n",
            "\n",
            "sueña el que afana y pretende,\n",
            "\n",
            "sueña el que agravia y ofende,\n",
            "\n",
            "\n",
            "\n",
            "y en el mundo, en conclusión,\n",
            "\n",
            "todos sueñan lo que son,\n",
            "\n",
            "aunque ninguno lo entiende.\n",
            "\n",
            "\n",
            "\n"
          ],
          "name": "stdout"
        }
      ]
    },
    {
      "cell_type": "markdown",
      "metadata": {
        "id": "AN9CIuX8oFYU",
        "colab_type": "text"
      },
      "source": [
        "파일에서 읽은 줄은 줄끝(end-of-line, EOL) 문자가 그대로 남아 있으므로 파일에서 ㅇ릭은 줄에서 이를 제거하는 다음과 같은 코드를 많이 사용한다.(string의 rstrip() 혹은 strip() 코드를 적용)"
      ]
    },
    {
      "cell_type": "code",
      "metadata": {
        "id": "x06NJ_5Dn5xS",
        "colab_type": "code",
        "colab": {}
      },
      "source": [
        "lines = [x.rstrip() for x in open(path)]"
      ],
      "execution_count": 0,
      "outputs": []
    },
    {
      "cell_type": "code",
      "metadata": {
        "id": "IQyq2H8ioBWH",
        "colab_type": "code",
        "colab": {
          "base_uri": "https://localhost:8080/",
          "height": 255
        },
        "outputId": "d80380d1-0e53-44a7-81ad-a16aa06f85f4"
      },
      "source": [
        "lines"
      ],
      "execution_count": 44,
      "outputs": [
        {
          "output_type": "execute_result",
          "data": {
            "text/plain": [
              "['Sueña el rico en su riqueza,',\n",
              " 'que más cuidados le ofrece;',\n",
              " '',\n",
              " 'sueña el pobre que padece',\n",
              " 'su miseria y su pobreza;',\n",
              " '',\n",
              " 'sueña el que a medrar empieza,',\n",
              " 'sueña el que afana y pretende,',\n",
              " 'sueña el que agravia y ofende,',\n",
              " '',\n",
              " 'y en el mundo, en conclusión,',\n",
              " 'todos sueñan lo que son,',\n",
              " 'aunque ninguno lo entiende.',\n",
              " '']"
            ]
          },
          "metadata": {
            "tags": []
          },
          "execution_count": 44
        }
      ]
    },
    {
      "cell_type": "markdown",
      "metadata": {
        "id": "DqkLAAwnpIN6",
        "colab_type": "text"
      },
      "source": [
        "파일 객체를 생성하기 위해 open을 사용했다면 작업이 끝났을 때 명시적으로 닫아주어야 한다. 파일을 닫으면 해당 자원을 운영체제로 되돌려준다."
      ]
    },
    {
      "cell_type": "code",
      "metadata": {
        "id": "1uCQg7r8pClB",
        "colab_type": "code",
        "colab": {}
      },
      "source": [
        "f.close()"
      ],
      "execution_count": 0,
      "outputs": []
    },
    {
      "cell_type": "code",
      "metadata": {
        "id": "N6QyEexkpVCd",
        "colab_type": "code",
        "colab": {
          "base_uri": "https://localhost:8080/",
          "height": 255
        },
        "outputId": "eed6f63a-1584-46f9-e459-145d9e5b06d1"
      },
      "source": [
        "# 위의 코드들을 한번에 쓰면 다음과 같다. \n",
        "path = \"examples/segismundo.txt\"\n",
        "f = open(path)\n",
        "for line in f:\n",
        "  lines = [x.strip() for x in open(path)] # 오른쪽 끝만 정리하는 rstrip 대신에 줄의 양쪽 끝을 다 정리하는 strip 함수 사용\n",
        "\n",
        "lines"
      ],
      "execution_count": 46,
      "outputs": [
        {
          "output_type": "execute_result",
          "data": {
            "text/plain": [
              "['Sueña el rico en su riqueza,',\n",
              " 'que más cuidados le ofrece;',\n",
              " '',\n",
              " 'sueña el pobre que padece',\n",
              " 'su miseria y su pobreza;',\n",
              " '',\n",
              " 'sueña el que a medrar empieza,',\n",
              " 'sueña el que afana y pretende,',\n",
              " 'sueña el que agravia y ofende,',\n",
              " '',\n",
              " 'y en el mundo, en conclusión,',\n",
              " 'todos sueñan lo que son,',\n",
              " 'aunque ninguno lo entiende.',\n",
              " '']"
            ]
          },
          "metadata": {
            "tags": []
          },
          "execution_count": 46
        }
      ]
    },
    {
      "cell_type": "markdown",
      "metadata": {
        "id": "EAJI2cnRtVAO",
        "colab_type": "text"
      },
      "source": [
        "## With 문 사용"
      ]
    },
    {
      "cell_type": "markdown",
      "metadata": {
        "id": "U9wFdNSjteZ3",
        "colab_type": "text"
      },
      "source": [
        "with 문을 사용하면 파일 작업이 끝날을 때 필요한 작업을 쉽게 처리할 수 있다."
      ]
    },
    {
      "cell_type": "code",
      "metadata": {
        "id": "E_wmCqEap3ck",
        "colab_type": "code",
        "colab": {
          "base_uri": "https://localhost:8080/",
          "height": 255
        },
        "outputId": "5a45f1e8-b05f-4dca-952e-3674c41a6fc9"
      },
      "source": [
        "# 이렇게 하면 with 블록이 끝나는 시점에 파일 핸들 f를 자동으로 닫아준다.  \n",
        "with open(path) as f:\n",
        "  lines = [x.strip() for x in f]\n",
        "\n",
        "lines"
      ],
      "execution_count": 49,
      "outputs": [
        {
          "output_type": "execute_result",
          "data": {
            "text/plain": [
              "['Sueña el rico en su riqueza,',\n",
              " 'que más cuidados le ofrece;',\n",
              " '',\n",
              " 'sueña el pobre que padece',\n",
              " 'su miseria y su pobreza;',\n",
              " '',\n",
              " 'sueña el que a medrar empieza,',\n",
              " 'sueña el que afana y pretende,',\n",
              " 'sueña el que agravia y ofende,',\n",
              " '',\n",
              " 'y en el mundo, en conclusión,',\n",
              " 'todos sueñan lo que son,',\n",
              " 'aunque ninguno lo entiende.',\n",
              " '']"
            ]
          },
          "metadata": {
            "tags": []
          },
          "execution_count": 49
        }
      ]
    },
    {
      "cell_type": "markdown",
      "metadata": {
        "id": "IT8Fmz16ALTK",
        "colab_type": "text"
      },
      "source": [
        "# 클래스 [3]"
      ]
    },
    {
      "cell_type": "code",
      "metadata": {
        "id": "t7Ea0KExANbR",
        "colab_type": "code",
        "colab": {}
      },
      "source": [
        "# 클래스를 하나 만들기 위해 특정 객체의 하위 클래스를 만들 수 있습니다.\n",
        "class Human(object):\n",
        "\n",
        "    # 클래스 속성은 이 클래스의 모든 인스턴스에서 공유합니다.\n",
        "    species = \"H. sapiens\"\n",
        "\n",
        "    # 기본 초기화자\n",
        "    def __init__(self, name):\n",
        "        # 인자를 인스턴스의 name 속성에 할당합니다.\n",
        "        self.name = name\n",
        "\n",
        "    # 모든 인스턴스 메서드에서는 self를 첫 번째 인자로 받습니다.\n",
        "    def say(self, msg):\n",
        "       return \"%s: %s\" % (self.name, msg)\n",
        "\n",
        "    # 클래스 메서드는 모든 인스턴스에서 공유합니다.\n",
        "    # 클래스 메서드는 호출하는 클래스를 첫 번째 인자로 호출됩니다.\n",
        "    @classmethod\n",
        "    def get_species(cls):\n",
        "        return cls.species\n",
        "\n",
        "    # 정적 메서드는 클래스나 인스턴스 참조 없이도 호출할 수 있습니다.\n",
        "    @staticmethod\n",
        "    def grunt():\n",
        "        return \"*grunt*\""
      ],
      "execution_count": 0,
      "outputs": []
    },
    {
      "cell_type": "code",
      "metadata": {
        "id": "7xDG6inNAKsT",
        "colab_type": "code",
        "colab": {
          "base_uri": "https://localhost:8080/",
          "height": 34
        },
        "outputId": "344cc18f-c957-42cb-ea74-417d845efdd6"
      },
      "source": [
        "# 클래스 인스턴스화\n",
        "i = Human(name=\"Ian\")\n",
        "print(i.say(\"hi\"))     "
      ],
      "execution_count": 2,
      "outputs": [
        {
          "output_type": "stream",
          "text": [
            "Ian: hi\n"
          ],
          "name": "stdout"
        }
      ]
    },
    {
      "cell_type": "code",
      "metadata": {
        "id": "gzQy6R8iAQz1",
        "colab_type": "code",
        "colab": {
          "base_uri": "https://localhost:8080/",
          "height": 34
        },
        "outputId": "0b1876f6-8e53-43d9-e514-358d75ab797e"
      },
      "source": [
        "j = Human(\"Joel\")\n",
        "print(j.say(\"hello\"))"
      ],
      "execution_count": 3,
      "outputs": [
        {
          "output_type": "stream",
          "text": [
            "Joel: hello\n"
          ],
          "name": "stdout"
        }
      ]
    },
    {
      "cell_type": "code",
      "metadata": {
        "id": "JXo0-wTPASu4",
        "colab_type": "code",
        "colab": {
          "base_uri": "https://localhost:8080/",
          "height": 34
        },
        "outputId": "16a55f55-b302-4d5e-ac7f-1a47ba8775bc"
      },
      "source": [
        "# 클래스 메서드를 호출\n",
        "i.get_species() "
      ],
      "execution_count": 4,
      "outputs": [
        {
          "output_type": "execute_result",
          "data": {
            "text/plain": [
              "'H. sapiens'"
            ]
          },
          "metadata": {
            "tags": []
          },
          "execution_count": 4
        }
      ]
    },
    {
      "cell_type": "code",
      "metadata": {
        "id": "7MYoROVsAU8P",
        "colab_type": "code",
        "colab": {
          "base_uri": "https://localhost:8080/",
          "height": 51
        },
        "outputId": "0a060050-ad83-41e0-fe5d-90c3898f2164"
      },
      "source": [
        "# 공유 속성을 변경\n",
        "Human.species = \"H. neanderthalensis\"\n",
        "print(i.get_species()) \n",
        "print(j.get_species()) "
      ],
      "execution_count": 5,
      "outputs": [
        {
          "output_type": "stream",
          "text": [
            "H. neanderthalensis\n",
            "H. neanderthalensis\n"
          ],
          "name": "stdout"
        }
      ]
    },
    {
      "cell_type": "code",
      "metadata": {
        "id": "YuInX-8cAW11",
        "colab_type": "code",
        "colab": {
          "base_uri": "https://localhost:8080/",
          "height": 34
        },
        "outputId": "460c03f4-0367-4d35-d7fb-9988e0c24f69"
      },
      "source": [
        "# 정적 메서드를 호출\n",
        "Human.grunt()"
      ],
      "execution_count": 6,
      "outputs": [
        {
          "output_type": "execute_result",
          "data": {
            "text/plain": [
              "'*grunt*'"
            ]
          },
          "metadata": {
            "tags": []
          },
          "execution_count": 6
        }
      ]
    },
    {
      "cell_type": "code",
      "metadata": {
        "id": "bpGCfyOpAYqq",
        "colab_type": "code",
        "colab": {}
      },
      "source": [
        "class HousePark:\n",
        "    lastname = \"박\"\n",
        "    def __init__(self, name):\n",
        "        self.fullname = self.lastname + name\n",
        "    def travel(self, where):\n",
        "        print(\"%s, %s여행을 가다.\" % (self.fullname, where))\n",
        "    def love(self, other):\n",
        "        print(\"%s, %s 사랑에 빠졌네\" % (self.fullname, other.fullname))\n",
        "    def fight(self, other):\n",
        "        print(\"%s, %s 싸우네\" % (self.fullname, other.fullname))\n",
        "    def __add__(self, other):\n",
        "        print(\"%s, %s 결혼했네\" % (self.fullname, other.fullname))\n",
        "    def __sub__(self, other):\n",
        "        print(\"%s, %s 이혼했네\" % (self.fullname, other.fullname))\n",
        "    def __del__(self):\n",
        "        print(\"%s 죽네\" % self.fullname)\n",
        "\n",
        "class HouseKim(HousePark):\n",
        "    lastname = \"김\"\n",
        "    def travel(self, where, day):\n",
        "        print(\"%s, %s여행 %d일 가네.\" % (self.fullname, where, day))"
      ],
      "execution_count": 0,
      "outputs": []
    },
    {
      "cell_type": "code",
      "metadata": {
        "id": "Qk8BvPM3Aapq",
        "colab_type": "code",
        "colab": {}
      },
      "source": [
        "pey = HousePark(\"응용\")\n",
        "juliet = HouseKim(\"줄리엣\")"
      ],
      "execution_count": 0,
      "outputs": []
    },
    {
      "cell_type": "code",
      "metadata": {
        "id": "cS_oLGaNAcqS",
        "colab_type": "code",
        "colab": {
          "base_uri": "https://localhost:8080/",
          "height": 119
        },
        "outputId": "5796e200-2118-4fb1-f755-c8ac49d51f79"
      },
      "source": [
        "pey.travel(\"부산\")\n",
        "juliet.travel(\"부산\", 3)\n",
        "pey.love(juliet)\n",
        "pey + juliet\n",
        "pey.fight(juliet)\n",
        "pey - juliet"
      ],
      "execution_count": 9,
      "outputs": [
        {
          "output_type": "stream",
          "text": [
            "박응용, 부산여행을 가다.\n",
            "김줄리엣, 부산여행 3일 가네.\n",
            "박응용, 김줄리엣 사랑에 빠졌네\n",
            "박응용, 김줄리엣 결혼했네\n",
            "박응용, 김줄리엣 싸우네\n",
            "박응용, 김줄리엣 이혼했네\n"
          ],
          "name": "stdout"
        }
      ]
    },
    {
      "cell_type": "code",
      "metadata": {
        "id": "TvtvOlCrZqKB",
        "colab_type": "code",
        "colab": {
          "base_uri": "https://localhost:8080/",
          "height": 34
        },
        "outputId": "585ed0fb-852c-41dc-e014-74050425cdd4"
      },
      "source": [
        "pey.__del__()"
      ],
      "execution_count": 11,
      "outputs": [
        {
          "output_type": "stream",
          "text": [
            "박응용 죽네\n"
          ],
          "name": "stdout"
        }
      ]
    },
    {
      "cell_type": "markdown",
      "metadata": {
        "id": "75rtQrW1dwdU",
        "colab_type": "text"
      },
      "source": [
        "--------------------"
      ]
    },
    {
      "cell_type": "markdown",
      "metadata": {
        "id": "Z032QiMAdsgk",
        "colab_type": "text"
      },
      "source": [
        "# 함수형 프로그래밍 [4]"
      ]
    },
    {
      "cell_type": "markdown",
      "metadata": {
        "id": "8hYTMC37dvoM",
        "colab_type": "text"
      },
      "source": [
        "* map\n",
        "* filter\n",
        "* reduce"
      ]
    },
    {
      "cell_type": "markdown",
      "metadata": {
        "id": "4aGmtVD-d0GA",
        "colab_type": "text"
      },
      "source": [
        "## map"
      ]
    },
    {
      "cell_type": "markdown",
      "metadata": {
        "id": "Uu5XFdezd12p",
        "colab_type": "text"
      },
      "source": [
        "map이라는 것은 함수와 시퀀스 자료형(리스트, 터플, 문자열)을 입력으로 받아서 시퀀스 자료형의 각각의 요소가 함수의 입력으로 들어간 다음 나오는 출력값을 묶어서 리스트로 돌려주는 함수이다."
      ]
    },
    {
      "cell_type": "code",
      "metadata": {
        "id": "HVDWO9EGZua3",
        "colab_type": "code",
        "colab": {
          "base_uri": "https://localhost:8080/",
          "height": 51
        },
        "outputId": "8b193c27-a744-4a6d-dfe7-6ae2dd84bcde"
      },
      "source": [
        "def f(x) :\n",
        "    return x*x\n",
        "\n",
        "x = [1, 2, 3, 4, 5]\n",
        "y = map(f, x)\n",
        "\n",
        "print(x)\n",
        "print(list(y))"
      ],
      "execution_count": 12,
      "outputs": [
        {
          "output_type": "stream",
          "text": [
            "[1, 2, 3, 4, 5]\n",
            "[1, 4, 9, 16, 25]\n"
          ],
          "name": "stdout"
        }
      ]
    },
    {
      "cell_type": "markdown",
      "metadata": {
        "id": "SZydrZNPfeZ6",
        "colab_type": "text"
      },
      "source": [
        "<img src='https://github.com/psygrammer/psypy/blob/master/notebooks/figures/03/01_fig.10.7.png?raw=1'/>"
      ]
    },
    {
      "cell_type": "code",
      "metadata": {
        "id": "Wv1XoY1vgFkz",
        "colab_type": "code",
        "colab": {
          "base_uri": "https://localhost:8080/",
          "height": 51
        },
        "outputId": "b228eddf-f25e-43bb-cc4d-0c7f9042a660"
      },
      "source": [
        "# 위의 코드는 다음과 같다\n",
        "y = []\n",
        "for e in x :\n",
        "    ne = f(e)\n",
        "    y.append(ne)\n",
        "\n",
        "print(x)\n",
        "print(y)"
      ],
      "execution_count": 13,
      "outputs": [
        {
          "output_type": "stream",
          "text": [
            "[1, 2, 3, 4, 5]\n",
            "[1, 4, 9, 16, 25]\n"
          ],
          "name": "stdout"
        }
      ]
    },
    {
      "cell_type": "code",
      "metadata": {
        "id": "jji307aJgJ7z",
        "colab_type": "code",
        "colab": {
          "base_uri": "https://localhost:8080/",
          "height": 51
        },
        "outputId": "ffd179c3-bdf5-44ca-b553-48b10679722e"
      },
      "source": [
        "# 람다 함수 이용\n",
        "y = map(lambda a:a*a, x)\n",
        "print(x)\n",
        "print(list(y))"
      ],
      "execution_count": 14,
      "outputs": [
        {
          "output_type": "stream",
          "text": [
            "[1, 2, 3, 4, 5]\n",
            "[1, 4, 9, 16, 25]\n"
          ],
          "name": "stdout"
        }
      ]
    },
    {
      "cell_type": "code",
      "metadata": {
        "id": "K8oLp12WgLGe",
        "colab_type": "code",
        "colab": {
          "base_uri": "https://localhost:8080/",
          "height": 51
        },
        "outputId": "b3750ff9-dcbe-4cc5-ad5e-afbfdf161aca"
      },
      "source": [
        "x = range(10)\n",
        "y = map(lambda a: a*a+4*a, x)\n",
        "print(x)\n",
        "print(list(y))"
      ],
      "execution_count": 15,
      "outputs": [
        {
          "output_type": "stream",
          "text": [
            "range(0, 10)\n",
            "[0, 5, 12, 21, 32, 45, 60, 77, 96, 117]\n"
          ],
          "name": "stdout"
        }
      ]
    },
    {
      "cell_type": "code",
      "metadata": {
        "id": "0x7CatOJgNuV",
        "colab_type": "code",
        "colab": {
          "base_uri": "https://localhost:8080/",
          "height": 68
        },
        "outputId": "8fabaeae-d303-4c05-8845-131c0ac8ef48"
      },
      "source": [
        "# 두 개 이상 입력\n",
        "x = [1,2,3,4,5]\n",
        "y = [6,7,8,9,10]\n",
        "z = map(lambda a, b:a+b, x, y)\n",
        "print(x)\n",
        "print(y)\n",
        "print(list(z))"
      ],
      "execution_count": 16,
      "outputs": [
        {
          "output_type": "stream",
          "text": [
            "[1, 2, 3, 4, 5]\n",
            "[6, 7, 8, 9, 10]\n",
            "[7, 9, 11, 13, 15]\n"
          ],
          "name": "stdout"
        }
      ]
    },
    {
      "cell_type": "markdown",
      "metadata": {
        "id": "Sq5yTSJdgP30",
        "colab_type": "text"
      },
      "source": [
        "<img src='https://github.com/psygrammer/psypy/blob/master/notebooks/figures/03/01_fig.10.8.png?raw=1'/>"
      ]
    },
    {
      "cell_type": "markdown",
      "metadata": {
        "id": "u2gD48McgTg7",
        "colab_type": "text"
      },
      "source": [
        "## filter"
      ]
    },
    {
      "cell_type": "markdown",
      "metadata": {
        "id": "rFUQ3OUmgWNL",
        "colab_type": "text"
      },
      "source": [
        "filter는 함수와 시퀀스 자료형을 입력으로 받아서 자료의 값이 하나씩 함수의 인수로 전달될 때, 참을 반환시키는 값만을 따로 모아서 리스트의 형태로 반환하는 함수이다. filter의 뜻은 무엇인가를 걸러낸다는 뜻이다. 이 의미가 filter 함수에서도 그대로 사용된다."
      ]
    },
    {
      "cell_type": "code",
      "metadata": {
        "id": "g-i1H0BCgXiX",
        "colab_type": "code",
        "colab": {
          "base_uri": "https://localhost:8080/",
          "height": 34
        },
        "outputId": "130567be-0f51-449a-e915-7b2af87eb92e"
      },
      "source": [
        "def positive(x): \n",
        "    return x > 0\n",
        "\n",
        "list(filter(positive, [1,-3,2,0,-5,6]))"
      ],
      "execution_count": 17,
      "outputs": [
        {
          "output_type": "execute_result",
          "data": {
            "text/plain": [
              "[1, 2, 6]"
            ]
          },
          "metadata": {
            "tags": []
          },
          "execution_count": 17
        }
      ]
    },
    {
      "cell_type": "code",
      "metadata": {
        "id": "722c93-GgZIa",
        "colab_type": "code",
        "colab": {
          "base_uri": "https://localhost:8080/",
          "height": 34
        },
        "outputId": "9b509708-4e38-4d9f-9cf0-6f1a5e8c21a5"
      },
      "source": [
        "# 위의 코드는 다음과 같다\n",
        "def positive(l): \n",
        "    result = [] \n",
        "    for i in l: \n",
        "        if i > 0: \n",
        "            result.append(i) \n",
        "    return result\n",
        "\n",
        "positive([1,-3,2,0,-5,6])"
      ],
      "execution_count": 18,
      "outputs": [
        {
          "output_type": "execute_result",
          "data": {
            "text/plain": [
              "[1, 2, 6]"
            ]
          },
          "metadata": {
            "tags": []
          },
          "execution_count": 18
        }
      ]
    },
    {
      "cell_type": "code",
      "metadata": {
        "id": "eJE6krJZgeIs",
        "colab_type": "code",
        "colab": {
          "base_uri": "https://localhost:8080/",
          "height": 34
        },
        "outputId": "4ec83ad9-be6a-4e67-b0af-31ac3c1ae5ca"
      },
      "source": [
        "# 람다 함수 사용\n",
        "list(filter(lambda x : x>0, [1,-3,2,0,-5,6]))"
      ],
      "execution_count": 19,
      "outputs": [
        {
          "output_type": "execute_result",
          "data": {
            "text/plain": [
              "[1, 2, 6]"
            ]
          },
          "metadata": {
            "tags": []
          },
          "execution_count": 19
        }
      ]
    },
    {
      "cell_type": "code",
      "metadata": {
        "id": "fhPSQx-rggFA",
        "colab_type": "code",
        "colab": {
          "base_uri": "https://localhost:8080/",
          "height": 34
        },
        "outputId": "4a049154-98bd-4efd-a654-a5bc21fb0bcd"
      },
      "source": [
        "list(filter(lambda x : x%2, [1,2,3,4,5,6]))"
      ],
      "execution_count": 20,
      "outputs": [
        {
          "output_type": "execute_result",
          "data": {
            "text/plain": [
              "[1, 3, 5]"
            ]
          },
          "metadata": {
            "tags": []
          },
          "execution_count": 20
        }
      ]
    },
    {
      "cell_type": "markdown",
      "metadata": {
        "id": "G53j2G-kgh_g",
        "colab_type": "text"
      },
      "source": [
        "<img src='https://github.com/psygrammer/psypy/blob/master/notebooks/figures/03/01_fig.10.11.png?raw=1'/>"
      ]
    },
    {
      "cell_type": "markdown",
      "metadata": {
        "id": "BJL9jufKgl5z",
        "colab_type": "text"
      },
      "source": [
        "## reduce"
      ]
    },
    {
      "cell_type": "markdown",
      "metadata": {
        "id": "9aLPMb-Mgnrk",
        "colab_type": "text"
      },
      "source": [
        "reduce는 첫 인수로 함수를 받는다. 이 함수는 두 개의 인수를 받는다. 두 번째 인자는 시퀀스 자료형이다. 시퀀스의 자료들은 순차적으로 reduce가 받은 함수의 첫 번째 인수, 두 번째 인수로 전달된다. 첫 인수는 함수의 계산 결과가 누적적으로 적용된다. 단, 처음 계산에서는 시퀀스의 두 개의 요소가 함수에 전달된다."
      ]
    },
    {
      "cell_type": "code",
      "metadata": {
        "id": "Op7luekEgpMI",
        "colab_type": "code",
        "colab": {}
      },
      "source": [
        "from functools import reduce"
      ],
      "execution_count": 0,
      "outputs": []
    },
    {
      "cell_type": "code",
      "metadata": {
        "id": "MTqDrFF3grwZ",
        "colab_type": "code",
        "colab": {
          "base_uri": "https://localhost:8080/",
          "height": 34
        },
        "outputId": "60baef0b-2db9-422d-ef4f-9724a78e51ef"
      },
      "source": [
        "# 1부터 5까지 더하기\n",
        "# 다음 코드는 이 수식과 동일하다. ((((1+2)+3)+4)+5)\n",
        "reduce(lambda x, y : x+y, [1, 2, 3, 4, 5])"
      ],
      "execution_count": 22,
      "outputs": [
        {
          "output_type": "execute_result",
          "data": {
            "text/plain": [
              "15"
            ]
          },
          "metadata": {
            "tags": []
          },
          "execution_count": 22
        }
      ]
    },
    {
      "cell_type": "markdown",
      "metadata": {
        "id": "P6A7SE1agvMT",
        "colab_type": "text"
      },
      "source": [
        "<img src='https://github.com/psygrammer/psypy/blob/master/notebooks/figures/03/01_fig.10.12.png?raw=1'/>"
      ]
    },
    {
      "cell_type": "code",
      "metadata": {
        "id": "zqUAemRdgzDB",
        "colab_type": "code",
        "colab": {
          "base_uri": "https://localhost:8080/",
          "height": 34
        },
        "outputId": "0c5a680b-bec7-49ee-fa82-745a0e22ad53"
      },
      "source": [
        "# reduce 함수에 세 번째 인수를 부여할 수 있는데, 초기 값으로 사용된다.\n",
        "# 다음 코드는 이 수식과 동일하다. (((((0+1)+2)+3)+4)+5)\n",
        "reduce(lambda x, y : x+y, [1, 2, 3, 4, 5], 0)"
      ],
      "execution_count": 25,
      "outputs": [
        {
          "output_type": "execute_result",
          "data": {
            "text/plain": [
              "15"
            ]
          },
          "metadata": {
            "tags": []
          },
          "execution_count": 25
        }
      ]
    },
    {
      "cell_type": "code",
      "metadata": {
        "id": "gkXTWhp-g-3L",
        "colab_type": "code",
        "colab": {
          "base_uri": "https://localhost:8080/",
          "height": 34
        },
        "outputId": "7b9be4c5-0c48-4621-d093-86c6d36da898"
      },
      "source": [
        "# 각 원소를 제곱해서 모두 더하기\n",
        "reduce(lambda x, y : x + y*y, range(1,11), 0)"
      ],
      "execution_count": 26,
      "outputs": [
        {
          "output_type": "execute_result",
          "data": {
            "text/plain": [
              "385"
            ]
          },
          "metadata": {
            "tags": []
          },
          "execution_count": 26
        }
      ]
    },
    {
      "cell_type": "code",
      "metadata": {
        "id": "0et-rKCzg1MC",
        "colab_type": "code",
        "colab": {
          "base_uri": "https://localhost:8080/",
          "height": 34
        },
        "outputId": "b5aa27b2-f34d-4d7a-9602-7abecf1ee4e5"
      },
      "source": [
        "# 위의 코드는 다음과 동일하다.\n",
        "x = 0\n",
        "for y in range(1, 11) :\n",
        "    x = x + y*y\n",
        "    \n",
        "x"
      ],
      "execution_count": 24,
      "outputs": [
        {
          "output_type": "execute_result",
          "data": {
            "text/plain": [
              "385"
            ]
          },
          "metadata": {
            "tags": []
          },
          "execution_count": 24
        }
      ]
    },
    {
      "cell_type": "markdown",
      "metadata": {
        "id": "6gXhyURIcEBY",
        "colab_type": "text"
      },
      "source": [
        "-------------------------------"
      ]
    },
    {
      "cell_type": "markdown",
      "metadata": {
        "id": "39_SfR_MbwRc",
        "colab_type": "text"
      },
      "source": [
        "# 참고자료 \n",
        "* [1] 파이썬 라이브러리를 활용한 데이터 분석(2판)\n",
        "    - http://www.hanbit.co.kr/store/books/look.php?p_code=B6417848794\n",
        "* [2] 점프 투 파이썬 : 04장 프로그램의 입력과 출력은 어떻게 해야 할까? - https://wikidocs.net/23\n",
        "* [3] 점프 투 파이썬 : 클래스 - https://wikidocs.net/28\n",
        "* [4] 점프 투 파이썬 : 내장함수 - https://wikidocs.net/32"
      ]
    },
    {
      "cell_type": "code",
      "metadata": {
        "id": "m3VXFBkRhR6d",
        "colab_type": "code",
        "colab": {}
      },
      "source": [
        ""
      ],
      "execution_count": 0,
      "outputs": []
    }
  ]
}