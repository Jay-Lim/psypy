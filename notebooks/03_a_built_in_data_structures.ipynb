{
  "nbformat": 4,
  "nbformat_minor": 0,
  "metadata": {
    "colab": {
      "name": "03_a_built-in_data_structures.ipynb",
      "provenance": [],
      "include_colab_link": true
    },
    "kernelspec": {
      "name": "python3",
      "display_name": "Python 3"
    }
  },
  "cells": [
    {
      "cell_type": "markdown",
      "metadata": {
        "id": "view-in-github",
        "colab_type": "text"
      },
      "source": [
        "<a href=\"https://colab.research.google.com/github/psygrammer/psypy/blob/master/notebooks/03_a_built_in_data_structures.ipynb\" target=\"_parent\"><img src=\"https://colab.research.google.com/assets/colab-badge.svg\" alt=\"Open In Colab\"/></a>"
      ]
    },
    {
      "cell_type": "markdown",
      "metadata": {
        "id": "qE59SKICQ902",
        "colab_type": "text"
      },
      "source": [
        "#03. 내장 자료구조, 함수, 파일 (1)"
      ]
    },
    {
      "cell_type": "markdown",
      "metadata": {
        "id": "2YWyeEuGUB3M",
        "colab_type": "text"
      },
      "source": [
        "* 싸이그래머 / PsyPy [1]\n",
        "* 김무성"
      ]
    },
    {
      "cell_type": "code",
      "metadata": {
        "id": "Y89lZNUaUFPu",
        "colab_type": "code",
        "colab": {
          "base_uri": "https://localhost:8080/",
          "height": 35
        },
        "outputId": "6b3f2970-caff-49cd-a79f-138736d98d69"
      },
      "source": [
        "!python -V"
      ],
      "execution_count": 1,
      "outputs": [
        {
          "output_type": "stream",
          "text": [
            "Python 3.6.8\n"
          ],
          "name": "stdout"
        }
      ]
    },
    {
      "cell_type": "markdown",
      "metadata": {
        "id": "l5KbKZjdUZkE",
        "colab_type": "text"
      },
      "source": [
        "# 차례\n",
        "* 자료 구조와 순차 자료형\n",
        "  - 튜플\n",
        "  - 리스트\n",
        "  - 내장 순차 자료형 함수\n",
        "  - 사전\n",
        "  - 세트(집합)\n",
        "  - 리스트 내포, 사전 내포, 세트(집합) 내포"
      ]
    },
    {
      "cell_type": "markdown",
      "metadata": {
        "id": "rWPa02WvU3fb",
        "colab_type": "text"
      },
      "source": [
        "## 튜플"
      ]
    },
    {
      "cell_type": "markdown",
      "metadata": {
        "id": "vsS_ICmJU_gZ",
        "colab_type": "text"
      },
      "source": [
        "1차원, 고정된 크기를 가지는 변경 불가능한 순차 자료형. ,로 구분되는 개별 원소의 열 혹은 괄호 ()나 tup 함수로 생성.\n"
      ]
    },
    {
      "cell_type": "markdown",
      "metadata": {
        "id": "yFE8HPJ6VAmH",
        "colab_type": "text"
      },
      "source": [
        "* 튜플 기초\n",
        "* 튜플에서 값 분리하기\n",
        "* 튜플 메서드"
      ]
    },
    {
      "cell_type": "markdown",
      "metadata": {
        "id": "iJA9rfl7VDei",
        "colab_type": "text"
      },
      "source": [
        "### 튜플 기초 "
      ]
    },
    {
      "cell_type": "code",
      "metadata": {
        "id": "De2ZCXNsVC3x",
        "colab_type": "code",
        "colab": {
          "base_uri": "https://localhost:8080/",
          "height": 35
        },
        "outputId": "38348cec-6d61-475d-c3d7-96fc4ec27c93"
      },
      "source": [
        "tup = 4, 5, 6  # 혹은 tup = (4, 5, 6)\n",
        "tup"
      ],
      "execution_count": 2,
      "outputs": [
        {
          "output_type": "execute_result",
          "data": {
            "text/plain": [
              "(4, 5, 6)"
            ]
          },
          "metadata": {
            "tags": []
          },
          "execution_count": 2
        }
      ]
    }
  ]
}